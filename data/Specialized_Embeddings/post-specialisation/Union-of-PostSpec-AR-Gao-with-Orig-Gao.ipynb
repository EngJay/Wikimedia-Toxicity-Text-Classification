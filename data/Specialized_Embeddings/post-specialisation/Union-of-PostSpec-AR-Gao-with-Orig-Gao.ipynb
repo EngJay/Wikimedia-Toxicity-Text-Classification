{
 "cells": [
  {
   "cell_type": "markdown",
   "metadata": {},
   "source": [
    "# Determine Intersection of PostSpec Gao Vocab (SGNS) With Gao Vocab "
   ]
  },
  {
   "cell_type": "code",
   "execution_count": 46,
   "metadata": {},
   "outputs": [],
   "source": [
    "# Import packages.\n",
    "from matplotlib import pyplot as plt\n",
    "from matplotlib_venn import venn2, venn2_circles\n",
    "from io import BytesIO\n",
    "from tensorflow.python.lib.io import file_io\n",
    "import msgpack\n",
    "import numpy as np\n",
    "import pandas as pd"
   ]
  },
  {
   "cell_type": "code",
   "execution_count": 2,
   "metadata": {},
   "outputs": [
    {
     "name": "stdout",
     "output_type": "stream",
     "text": [
      "post_spec_AR_vocab size: 183870\n"
     ]
    },
    {
     "data": {
      "text/html": [
       "<div>\n",
       "<style scoped>\n",
       "    .dataframe tbody tr th:only-of-type {\n",
       "        vertical-align: middle;\n",
       "    }\n",
       "\n",
       "    .dataframe tbody tr th {\n",
       "        vertical-align: top;\n",
       "    }\n",
       "\n",
       "    .dataframe thead th {\n",
       "        text-align: right;\n",
       "    }\n",
       "</style>\n",
       "<table border=\"1\" class=\"dataframe\">\n",
       "  <thead>\n",
       "    <tr style=\"text-align: right;\">\n",
       "      <th></th>\n",
       "      <th>0</th>\n",
       "      <th>1</th>\n",
       "      <th>2</th>\n",
       "      <th>3</th>\n",
       "      <th>4</th>\n",
       "      <th>5</th>\n",
       "      <th>6</th>\n",
       "      <th>7</th>\n",
       "      <th>8</th>\n",
       "      <th>9</th>\n",
       "      <th>...</th>\n",
       "      <th>291</th>\n",
       "      <th>292</th>\n",
       "      <th>293</th>\n",
       "      <th>294</th>\n",
       "      <th>295</th>\n",
       "      <th>296</th>\n",
       "      <th>297</th>\n",
       "      <th>298</th>\n",
       "      <th>299</th>\n",
       "      <th>300</th>\n",
       "    </tr>\n",
       "  </thead>\n",
       "  <tbody>\n",
       "    <tr>\n",
       "      <th>0</th>\n",
       "      <td>biennials</td>\n",
       "      <td>-0.007001</td>\n",
       "      <td>0.034904</td>\n",
       "      <td>-0.006476</td>\n",
       "      <td>-0.022211</td>\n",
       "      <td>0.023702</td>\n",
       "      <td>0.005626</td>\n",
       "      <td>-0.062335</td>\n",
       "      <td>0.130678</td>\n",
       "      <td>0.079644</td>\n",
       "      <td>...</td>\n",
       "      <td>0.009290</td>\n",
       "      <td>-0.101324</td>\n",
       "      <td>0.002901</td>\n",
       "      <td>0.048940</td>\n",
       "      <td>-0.155127</td>\n",
       "      <td>-0.017552</td>\n",
       "      <td>-0.005853</td>\n",
       "      <td>-0.029875</td>\n",
       "      <td>-0.009073</td>\n",
       "      <td>-0.106691</td>\n",
       "    </tr>\n",
       "    <tr>\n",
       "      <th>1</th>\n",
       "      <td>tripolitan</td>\n",
       "      <td>-0.056535</td>\n",
       "      <td>0.000427</td>\n",
       "      <td>-0.022930</td>\n",
       "      <td>-0.024883</td>\n",
       "      <td>0.030431</td>\n",
       "      <td>-0.022631</td>\n",
       "      <td>0.040052</td>\n",
       "      <td>-0.053980</td>\n",
       "      <td>-0.042047</td>\n",
       "      <td>...</td>\n",
       "      <td>0.046784</td>\n",
       "      <td>-0.070465</td>\n",
       "      <td>-0.019298</td>\n",
       "      <td>-0.000591</td>\n",
       "      <td>-0.030715</td>\n",
       "      <td>-0.017091</td>\n",
       "      <td>-0.005564</td>\n",
       "      <td>-0.032029</td>\n",
       "      <td>-0.005450</td>\n",
       "      <td>0.031682</td>\n",
       "    </tr>\n",
       "    <tr>\n",
       "      <th>2</th>\n",
       "      <td>tsukino</td>\n",
       "      <td>0.006473</td>\n",
       "      <td>0.004586</td>\n",
       "      <td>-0.033621</td>\n",
       "      <td>-0.029989</td>\n",
       "      <td>0.071586</td>\n",
       "      <td>-0.014516</td>\n",
       "      <td>-0.032025</td>\n",
       "      <td>-0.009592</td>\n",
       "      <td>0.003382</td>\n",
       "      <td>...</td>\n",
       "      <td>-0.035731</td>\n",
       "      <td>-0.069168</td>\n",
       "      <td>0.051958</td>\n",
       "      <td>0.049571</td>\n",
       "      <td>-0.112113</td>\n",
       "      <td>-0.071534</td>\n",
       "      <td>-0.030837</td>\n",
       "      <td>-0.058374</td>\n",
       "      <td>0.050012</td>\n",
       "      <td>0.014310</td>\n",
       "    </tr>\n",
       "    <tr>\n",
       "      <th>3</th>\n",
       "      <td>nunnery</td>\n",
       "      <td>0.127087</td>\n",
       "      <td>0.017128</td>\n",
       "      <td>0.023523</td>\n",
       "      <td>-0.006482</td>\n",
       "      <td>-0.078610</td>\n",
       "      <td>0.004704</td>\n",
       "      <td>0.022335</td>\n",
       "      <td>0.054162</td>\n",
       "      <td>0.068886</td>\n",
       "      <td>...</td>\n",
       "      <td>-0.018985</td>\n",
       "      <td>-0.123621</td>\n",
       "      <td>0.053752</td>\n",
       "      <td>-0.004124</td>\n",
       "      <td>-0.126023</td>\n",
       "      <td>0.081543</td>\n",
       "      <td>0.011255</td>\n",
       "      <td>-0.046931</td>\n",
       "      <td>0.041655</td>\n",
       "      <td>-0.016432</td>\n",
       "    </tr>\n",
       "    <tr>\n",
       "      <th>4</th>\n",
       "      <td>schwarzburg-rudolstadt</td>\n",
       "      <td>0.074724</td>\n",
       "      <td>-0.015410</td>\n",
       "      <td>-0.000056</td>\n",
       "      <td>-0.032053</td>\n",
       "      <td>-0.008711</td>\n",
       "      <td>-0.030050</td>\n",
       "      <td>-0.035028</td>\n",
       "      <td>0.007226</td>\n",
       "      <td>0.111881</td>\n",
       "      <td>...</td>\n",
       "      <td>-0.033774</td>\n",
       "      <td>-0.038186</td>\n",
       "      <td>0.021029</td>\n",
       "      <td>0.038031</td>\n",
       "      <td>-0.067227</td>\n",
       "      <td>-0.019451</td>\n",
       "      <td>0.002031</td>\n",
       "      <td>-0.070298</td>\n",
       "      <td>0.037921</td>\n",
       "      <td>-0.001279</td>\n",
       "    </tr>\n",
       "  </tbody>\n",
       "</table>\n",
       "<p>5 rows × 301 columns</p>\n",
       "</div>"
      ],
      "text/plain": [
       "                      0         1         2         3         4         5    \\\n",
       "0               biennials -0.007001  0.034904 -0.006476 -0.022211  0.023702   \n",
       "1              tripolitan -0.056535  0.000427 -0.022930 -0.024883  0.030431   \n",
       "2                 tsukino  0.006473  0.004586 -0.033621 -0.029989  0.071586   \n",
       "3                 nunnery  0.127087  0.017128  0.023523 -0.006482 -0.078610   \n",
       "4  schwarzburg-rudolstadt  0.074724 -0.015410 -0.000056 -0.032053 -0.008711   \n",
       "\n",
       "        6         7         8         9      ...          291       292  \\\n",
       "0  0.005626 -0.062335  0.130678  0.079644    ...     0.009290 -0.101324   \n",
       "1 -0.022631  0.040052 -0.053980 -0.042047    ...     0.046784 -0.070465   \n",
       "2 -0.014516 -0.032025 -0.009592  0.003382    ...    -0.035731 -0.069168   \n",
       "3  0.004704  0.022335  0.054162  0.068886    ...    -0.018985 -0.123621   \n",
       "4 -0.030050 -0.035028  0.007226  0.111881    ...    -0.033774 -0.038186   \n",
       "\n",
       "        293       294       295       296       297       298       299  \\\n",
       "0  0.002901  0.048940 -0.155127 -0.017552 -0.005853 -0.029875 -0.009073   \n",
       "1 -0.019298 -0.000591 -0.030715 -0.017091 -0.005564 -0.032029 -0.005450   \n",
       "2  0.051958  0.049571 -0.112113 -0.071534 -0.030837 -0.058374  0.050012   \n",
       "3  0.053752 -0.004124 -0.126023  0.081543  0.011255 -0.046931  0.041655   \n",
       "4  0.021029  0.038031 -0.067227 -0.019451  0.002031 -0.070298  0.037921   \n",
       "\n",
       "        300  \n",
       "0 -0.106691  \n",
       "1  0.031682  \n",
       "2  0.014310  \n",
       "3 -0.016432  \n",
       "4 -0.001279  \n",
       "\n",
       "[5 rows x 301 columns]"
      ]
     },
     "execution_count": 2,
     "metadata": {},
     "output_type": "execute_result"
    }
   ],
   "source": [
    "# Read in the results of Post-Spec AR.\n",
    "post_spec_AR_vocab = pd.read_csv('wikimedia-PA-Gao-AR-PPDB-300-post-specialized.txt', sep=\" \", header=None)\n",
    "\n",
    "# Check the length of the vocab.\n",
    "print('post_spec_AR_vocab size:', len(post_spec_AR_vocab))\n",
    "post_spec_AR_vocab.head()"
   ]
  },
  {
   "cell_type": "code",
   "execution_count": 24,
   "metadata": {},
   "outputs": [],
   "source": [
    "# Get list of words in postspec vocab.\n",
    "post_spec_AR_vocab_list = post_spec_AR_vocab[0].values.tolist()"
   ]
  },
  {
   "cell_type": "code",
   "execution_count": 17,
   "metadata": {},
   "outputs": [
    {
     "name": "stdout",
     "output_type": "stream",
     "text": [
      ".\n",
      "the\n",
      "to\n",
      "and\n",
      "of\n"
     ]
    }
   ],
   "source": [
    "# Read in original Gao dictionary.\n",
    "f = BytesIO(file_io.read_file_to_string('Gao-PA-300-id2word.bin',\n",
    "                                        binary_mode=True))\n",
    "id2word = msgpack.unpack(f, raw=False)\n",
    "for i in range(1, 6):\n",
    "    print(id2word[i])"
   ]
  },
  {
   "cell_type": "code",
   "execution_count": 48,
   "metadata": {},
   "outputs": [
    {
     "data": {
      "text/plain": [
       "36993"
      ]
     },
     "execution_count": 48,
     "metadata": {},
     "output_type": "execute_result"
    }
   ],
   "source": [
    "# Get list of words in original gao vocab.\n",
    "gao_vocab_list = list(id2word.values())\n",
    "len(gao_vocab_list)"
   ]
  },
  {
   "cell_type": "code",
   "execution_count": 41,
   "metadata": {},
   "outputs": [],
   "source": [
    "# Define function to find interection of the two lists.\n",
    "def intersection(lst1, lst2): \n",
    "    common = [value for value in lst1 if value in lst2]\n",
    "    not_in_lst2 = [value for value in lst1 if value not in lst2]\n",
    "    not_in_lst1 = [value for value in lst2 if value not in lst1]\n",
    "    return (common, not_in_lst2, not_in_lst1)"
   ]
  },
  {
   "cell_type": "code",
   "execution_count": 43,
   "metadata": {},
   "outputs": [
    {
     "ename": "TypeError",
     "evalue": "'list' object is not callable",
     "traceback": [
      "\u001b[0;31m---------------------------------------------------------------------------\u001b[0m",
      "\u001b[0;31mTypeError\u001b[0m                                 Traceback (most recent call last)",
      "\u001b[0;32m<ipython-input-43-780641f6a9e3>\u001b[0m in \u001b[0;36m<module>\u001b[0;34m\u001b[0m\n\u001b[1;32m      1\u001b[0m \u001b[0;31m# Get intersection of the vocabs.\u001b[0m\u001b[0;34m\u001b[0m\u001b[0;34m\u001b[0m\u001b[0;34m\u001b[0m\u001b[0m\n\u001b[0;32m----> 2\u001b[0;31m \u001b[0mintersection\u001b[0m\u001b[0;34m,\u001b[0m \u001b[0mnot_in_gao\u001b[0m\u001b[0;34m,\u001b[0m \u001b[0mnot_in_ar_postspec\u001b[0m \u001b[0;34m=\u001b[0m \u001b[0mintersection\u001b[0m\u001b[0;34m(\u001b[0m\u001b[0mpost_spec_AR_vocab_list\u001b[0m\u001b[0;34m,\u001b[0m \u001b[0mgao_vocab_list\u001b[0m\u001b[0;34m)\u001b[0m\u001b[0;34m\u001b[0m\u001b[0;34m\u001b[0m\u001b[0m\n\u001b[0m",
      "\u001b[0;31mTypeError\u001b[0m: 'list' object is not callable"
     ],
     "output_type": "error"
    }
   ],
   "source": [
    "# Get intersection of the vocabs.\n",
    "intersection, not_in_gao, not_in_ar_postspec = intersection(post_spec_AR_vocab_list, gao_vocab_list)"
   ]
  },
  {
   "cell_type": "code",
   "execution_count": 44,
   "metadata": {},
   "outputs": [
    {
     "name": "stdout",
     "output_type": "stream",
     "text": [
      "Number of words in PostSpec AR (SGNS) also in Gao:  33252\n",
      "Number of words in PostSpec AR (SGNS) not in Gao:  150618\n",
      "Number of words in Gao not in PostSpec AR (SGNS):  3741\n"
     ]
    }
   ],
   "source": [
    "# Check length of intersection.\n",
    "print('Number of words in PostSpec AR (SGNS) also in Gao: ', len(intersection))\n",
    "print('Number of words in PostSpec AR (SGNS) not in Gao: ', len(not_in_gao))\n",
    "print('Number of words in Gao not in PostSpec AR (SGNS): ', len(not_in_ar_postspec))"
   ]
  },
  {
   "cell_type": "code",
   "execution_count": 47,
   "metadata": {},
   "outputs": [
    {
     "data": {
      "image/png": "[encoded data removed]",
      "text/plain": [
       "<Figure size 432x288 with 1 Axes>"
      ]
     },
     "metadata": {},
     "output_type": "display_data"
    }
   ],
   "source": [
    "set1 = set(post_spec_AR_vocab_list)\n",
    "set2 = set(gao_vocab_list)\n",
    "\n",
    "venn2([set1, set2], ('AR PostSpec (SGNS)', 'Gao'))\n",
    "plt.show()"
   ]
  },
  {
   "cell_type": "code",
   "execution_count": null,
   "metadata": {},
   "outputs": [],
   "source": []
  }
 ],
 "metadata": {
  "kernelspec": {
   "display_name": "Python 3",
   "language": "python",
   "name": "python3"
  },
  "language_info": {
   "codemirror_mode": {
    "name": "ipython",
    "version": 3
   },
   "file_extension": ".py",
   "mimetype": "text/x-python",
   "name": "python",
   "nbconvert_exporter": "python",
   "pygments_lexer": "ipython3",
   "version": "3.6.8"
  }
 },
 "nbformat": 4,
 "nbformat_minor": 2
}
