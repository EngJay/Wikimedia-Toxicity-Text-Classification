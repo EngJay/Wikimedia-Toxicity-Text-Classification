{
 "cells": [
  {
   "cell_type": "code",
   "execution_count": 2,
   "metadata": {},
   "outputs": [],
   "source": [
    "# Import packages.\n",
    "from io import BytesIO\n",
    "from tensorflow.python.lib.io import file_io\n",
    "import msgpack\n",
    "import numpy as np\n",
    "import pandas as pd"
   ]
  },
  {
   "cell_type": "code",
   "execution_count": 3,
   "metadata": {},
   "outputs": [],
   "source": [
    "# Read in features and labels.\n",
    "f = BytesIO(file_io.read_file_to_string('WM-PA-Binary-Data-min-6-votes.bin', binary_mode=True))\n",
    "data = msgpack.unpack(f, raw=False)"
   ]
  },
  {
   "cell_type": "code",
   "execution_count": 4,
   "metadata": {},
   "outputs": [
    {
     "name": "stdout",
     "output_type": "stream",
     "text": [
      "115841\n"
     ]
    }
   ],
   "source": [
    "num_examples = len(data)\n",
    "print(num_examples)"
   ]
  },
  {
   "cell_type": "code",
   "execution_count": 5,
   "metadata": {},
   "outputs": [],
   "source": [
    "df = pd.DataFrame(data)"
   ]
  },
  {
   "cell_type": "code",
   "execution_count": 6,
   "metadata": {},
   "outputs": [],
   "source": [
    "transposed_df = df.T"
   ]
  },
  {
   "cell_type": "code",
   "execution_count": 7,
   "metadata": {},
   "outputs": [
    {
     "data": {
      "text/html": [
       "<div>\n",
       "<style scoped>\n",
       "    .dataframe tbody tr th:only-of-type {\n",
       "        vertical-align: middle;\n",
       "    }\n",
       "\n",
       "    .dataframe tbody tr th {\n",
       "        vertical-align: top;\n",
       "    }\n",
       "\n",
       "    .dataframe thead th {\n",
       "        text-align: right;\n",
       "    }\n",
       "</style>\n",
       "<table border=\"1\" class=\"dataframe\">\n",
       "  <thead>\n",
       "    <tr style=\"text-align: right;\">\n",
       "      <th></th>\n",
       "      <th>label</th>\n",
       "      <th>text</th>\n",
       "      <th>idx</th>\n",
       "      <th>rev_id</th>\n",
       "    </tr>\n",
       "  </thead>\n",
       "  <tbody>\n",
       "    <tr>\n",
       "      <td>0</td>\n",
       "      <td>0</td>\n",
       "      <td>[[this, is, not, creative, .], [those, are, th...</td>\n",
       "      <td>[[14, 9, 16, 3450, 1], [139, 21, 2, 2165, 2892...</td>\n",
       "      <td>37675</td>\n",
       "    </tr>\n",
       "    <tr>\n",
       "      <td>1</td>\n",
       "      <td>0</td>\n",
       "      <td>[[the, term, standard, model, is, itself, less...</td>\n",
       "      <td>[[2, 373, 846, 2004, 9, 558, 452, 635, 97, 8, ...</td>\n",
       "      <td>44816</td>\n",
       "    </tr>\n",
       "    <tr>\n",
       "      <td>2</td>\n",
       "      <td>0</td>\n",
       "      <td>[[true, or, false, the, situation, as, of, mar...</td>\n",
       "      <td>[[350, 28, 505, 2, 903, 20, 5, 1073, 2331, 25,...</td>\n",
       "      <td>49851</td>\n",
       "    </tr>\n",
       "    <tr>\n",
       "      <td>3</td>\n",
       "      <td>0</td>\n",
       "      <td>[[next, maybe, you, could, work, on, being, le...</td>\n",
       "      <td>[[512, 360, 7, 108, 153, 18, 93, 452, 5839, 24...</td>\n",
       "      <td>89320</td>\n",
       "    </tr>\n",
       "    <tr>\n",
       "      <td>4</td>\n",
       "      <td>0</td>\n",
       "      <td>[[this, page, will, need, disambiguation, .]]</td>\n",
       "      <td>[[14, 34, 46, 128, 1732, 1]]</td>\n",
       "      <td>93890</td>\n",
       "    </tr>\n",
       "  </tbody>\n",
       "</table>\n",
       "</div>"
      ],
      "text/plain": [
       "  label                                               text  \\\n",
       "0     0  [[this, is, not, creative, .], [those, are, th...   \n",
       "1     0  [[the, term, standard, model, is, itself, less...   \n",
       "2     0  [[true, or, false, the, situation, as, of, mar...   \n",
       "3     0  [[next, maybe, you, could, work, on, being, le...   \n",
       "4     0      [[this, page, will, need, disambiguation, .]]   \n",
       "\n",
       "                                                 idx rev_id  \n",
       "0  [[14, 9, 16, 3450, 1], [139, 21, 2, 2165, 2892...  37675  \n",
       "1  [[2, 373, 846, 2004, 9, 558, 452, 635, 97, 8, ...  44816  \n",
       "2  [[350, 28, 505, 2, 903, 20, 5, 1073, 2331, 25,...  49851  \n",
       "3  [[512, 360, 7, 108, 153, 18, 93, 452, 5839, 24...  89320  \n",
       "4                       [[14, 34, 46, 128, 1732, 1]]  93890  "
      ]
     },
     "execution_count": 7,
     "metadata": {},
     "output_type": "execute_result"
    }
   ],
   "source": [
    "transposed_df.head()"
   ]
  },
  {
   "cell_type": "code",
   "execution_count": 8,
   "metadata": {},
   "outputs": [
    {
     "name": "stdout",
     "output_type": "stream",
     "text": [
      "Num of examples: 115841\n",
      "Num of attacks: 14205\n",
      "Num of non-attacks: 101636\n",
      "Label balance: 13.976346963674288\n"
     ]
    }
   ],
   "source": [
    "num_attacks = len(transposed_df[transposed_df['label'] == '1'])\n",
    "num_non_attacks = len(transposed_df[transposed_df['label'] == '0'])\n",
    "print('Num of examples:', num_examples)\n",
    "print('Num of attacks:', num_attacks)\n",
    "print('Num of non-attacks:', num_non_attacks)\n",
    "print('Label balance:', num_attacks/num_non_attacks * 100)"
   ]
  },
  {
   "cell_type": "code",
   "execution_count": 9,
   "metadata": {},
   "outputs": [],
   "source": [
    "# TODO:\n",
    "#\n",
    "# Length of comments min, max, median, mean, distributions., total and per class.\n"
   ]
  },
  {
   "cell_type": "code",
   "execution_count": null,
   "metadata": {},
   "outputs": [],
   "source": []
  }
 ],
 "metadata": {
  "kernelspec": {
   "display_name": "Python 3",
   "language": "python",
   "name": "python3"
  },
  "language_info": {
   "codemirror_mode": {
    "name": "ipython",
    "version": 3
   },
   "file_extension": ".py",
   "mimetype": "text/x-python",
   "name": "python",
   "nbconvert_exporter": "python",
   "pygments_lexer": "ipython3",
   "version": "3.6.8"
  }
 },
 "nbformat": 4,
 "nbformat_minor": 2
}
