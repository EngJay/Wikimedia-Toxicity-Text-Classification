{
 "cells": [
  {
   "cell_type": "code",
   "execution_count": 9,
   "metadata": {},
   "outputs": [],
   "source": [
    "from tensorflow.python.lib.io import file_io\n",
    "from tensorflow.python.keras.preprocessing import sequence\n",
    "import numpy as np\n",
    "import msgpack\n",
    "from io import BytesIO"
   ]
  },
  {
   "cell_type": "code",
   "execution_count": 10,
   "metadata": {},
   "outputs": [],
   "source": [
    "id2word_path = 'id2word.bin'\n",
    "\n",
    "# Load features and labels.\n",
    "f = BytesIO(file_io.read_file_to_string(id2word_path, binary_mode=True))\n",
    "id2word = msgpack.unpack(f, raw=False)"
   ]
  },
  {
   "cell_type": "code",
   "execution_count": 11,
   "metadata": {},
   "outputs": [
    {
     "name": "stdout",
     "output_type": "stream",
     "text": [
      "0 None\n",
      "1 .\n",
      "2 the\n",
      "3 to\n",
      "4 and\n",
      "5 of\n",
      "6 a\n",
      "7 you\n",
      "8 i\n",
      "9 is\n"
     ]
    }
   ],
   "source": [
    "# id2word\n",
    "\n",
    "def index_to_text(indexes):\n",
    "    return ' '.join([id2word.get(i) for i in indexes])\n",
    "\n",
    "for i in range(0, 10):\n",
    "  print(i, id2word.get(i))"
   ]
  },
  {
   "cell_type": "code",
   "execution_count": 12,
   "metadata": {},
   "outputs": [],
   "source": [
    "# Switch keys/values and store word2id dictionary.\n",
    "# Needed to encode examples.\n",
    "word2id_dict = {y: x for x, y in id2word.items()}"
   ]
  },
  {
   "cell_type": "code",
   "execution_count": 13,
   "metadata": {},
   "outputs": [],
   "source": [
    "# Write to disk.\n",
    "word2id_path = 'word2id.bin'\n",
    "with open(word2id_path, 'wb') as f:\n",
    "    msgpack.pack(word2id_dict, f)"
   ]
  },
  {
   "cell_type": "code",
   "execution_count": null,
   "metadata": {},
   "outputs": [],
   "source": []
  }
 ],
 "metadata": {
  "kernelspec": {
   "display_name": "Python 3",
   "language": "python",
   "name": "python3"
  },
  "language_info": {
   "codemirror_mode": {
    "name": "ipython",
    "version": 3
   },
   "file_extension": ".py",
   "mimetype": "text/x-python",
   "name": "python",
   "nbconvert_exporter": "python",
   "pygments_lexer": "ipython3",
   "version": "3.6.8"
  }
 },
 "nbformat": 4,
 "nbformat_minor": 2
}
