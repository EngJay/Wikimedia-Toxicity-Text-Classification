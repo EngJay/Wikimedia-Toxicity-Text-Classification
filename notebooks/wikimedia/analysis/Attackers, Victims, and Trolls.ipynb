{
 "cells": [
  {
   "cell_type": "markdown",
   "metadata": {},
   "source": [
    "## Loading Packages and Data"
   ]
  },
  {
   "cell_type": "code",
   "execution_count": 1,
   "metadata": {
    "collapsed": false
   },
   "outputs": [],
   "source": [
    "%load_ext autoreload\n",
    "%autoreload 2\n",
    "%matplotlib inline\n",
    "import warnings\n",
    "warnings.filterwarnings('ignore')\n",
    "\n",
    "import matplotlib.pyplot as plt\n",
    "import seaborn as sns\n",
    "import numpy as np\n",
    "import pandas as pd\n",
    "from matplotlib_venn import venn2\n",
    "from load_utils import *\n",
    "from analysis_utils import *"
   ]
  },
  {
   "cell_type": "markdown",
   "metadata": {},
   "source": [
    "After loading the algorithmically scored data, we choose a threshold of the score at which point we will consider a revision an attack. Here, we choose a threshold of 0.7 in order to avoid having too many false positives. We then group the revisions by both the user writing the revision (df_a) and the recipient of the revision (df_v)"
   ]
  },
  {
   "cell_type": "code",
   "execution_count": 2,
   "metadata": {
    "collapsed": true
   },
   "outputs": [],
   "source": [
    "d = load_diffs()\n",
    "df_events, df_blocked_user_text = load_block_events_and_users()"
   ]
  },
  {
   "cell_type": "code",
   "execution_count": 6,
   "metadata": {
    "collapsed": false
   },
   "outputs": [],
   "source": [
    "d['2015']['pred_recipient'] = (d['2015']['pred_recipient_score'] > 0.7)"
   ]
  },
  {
   "cell_type": "code",
   "execution_count": 7,
   "metadata": {
    "collapsed": false
   },
   "outputs": [],
   "source": [
    "df_a = d['2015'].groupby('user_text', as_index = False).agg({'pred_recipient': ['count','sum'], \n",
    "                                                             'user_id': 'first', 'author_anon': 'first'})\n",
    "df_v = d['2015'].query('ns == \"user\"').groupby('page_title', as_index = False).agg({'pred_recipient': ['count','sum'], \n",
    "                                                                                    'recipient_anon': 'first'})"
   ]
  },
  {
   "cell_type": "code",
   "execution_count": 8,
   "metadata": {
    "collapsed": true
   },
   "outputs": [],
   "source": [
    "df_a.columns = ['user_text', 'author_anon', 'total', 'attacks', 'user_id']\n",
    "df_v.columns = ['user_text', 'recipient_anon', 'total_rec', 'attacks_rec']"
   ]
  },
  {
   "cell_type": "code",
   "execution_count": 9,
   "metadata": {
    "collapsed": true
   },
   "outputs": [],
   "source": [
    "df_av = pd.merge(df_a, df_v, on = 'user_text', how = 'inner')"
   ]
  },
  {
   "cell_type": "markdown",
   "metadata": {},
   "source": [
    "## The Attack Fraction\n",
    "\n",
    "We compute the fraction of each user's revisions that are classified as attacks"
   ]
  },
  {
   "cell_type": "code",
   "execution_count": 10,
   "metadata": {
    "collapsed": true
   },
   "outputs": [],
   "source": [
    "df_a['frac_attacks'] = df_a['attacks']/df_a['total']"
   ]
  },
  {
   "cell_type": "markdown",
   "metadata": {},
   "source": [
    "We plot the histogram of attack fractions below."
   ]
  },
  {
   "cell_type": "code",
   "execution_count": 11,
   "metadata": {
    "collapsed": false,
    "scrolled": false
   },
   "outputs": [
    {
     "data": {
      "text/plain": [
       "<matplotlib.text.Text at 0x1275b7d90>"
      ]
     },
     "execution_count": 11,
     "metadata": {},
     "output_type": "execute_result"
    },
    {
     "data": {
      "image/png": "[encoded data removed]",
      "text/plain": [
       "<matplotlib.figure.Figure at 0x13062ed10>"
      ]
     },
     "metadata": {},
     "output_type": "display_data"
    }
   ],
   "source": [
    "hist = df_a.query('attacks > 0')['frac_attacks'].hist(bins = 50)\n",
    "hist.set_title('Histogram of Attack Fractions')\n",
    "hist.set_xlabel('Attack Fraction')\n",
    "hist.set_ylabel('Number of Users')"
   ]
  },
  {
   "cell_type": "code",
   "execution_count": 12,
   "metadata": {
    "collapsed": false
   },
   "outputs": [
    {
     "data": {
      "text/html": [
       "<div>\n",
       "<table border=\"1\" class=\"dataframe\">\n",
       "  <thead>\n",
       "    <tr>\n",
       "      <th></th>\n",
       "      <th>author_anon</th>\n",
       "      <th colspan=\"2\" halign=\"left\">frac_attacks</th>\n",
       "    </tr>\n",
       "    <tr>\n",
       "      <th></th>\n",
       "      <th></th>\n",
       "      <th>mean</th>\n",
       "      <th>std</th>\n",
       "    </tr>\n",
       "  </thead>\n",
       "  <tbody>\n",
       "    <tr>\n",
       "      <th>0</th>\n",
       "      <td>False</td>\n",
       "      <td>0.004368</td>\n",
       "      <td>0.060506</td>\n",
       "    </tr>\n",
       "    <tr>\n",
       "      <th>1</th>\n",
       "      <td>True</td>\n",
       "      <td>0.008599</td>\n",
       "      <td>0.087084</td>\n",
       "    </tr>\n",
       "  </tbody>\n",
       "</table>\n",
       "</div>"
      ],
      "text/plain": [
       "  author_anon frac_attacks          \n",
       "                      mean       std\n",
       "0       False     0.004368  0.060506\n",
       "1        True     0.008599  0.087084"
      ]
     },
     "execution_count": 12,
     "metadata": {},
     "output_type": "execute_result"
    }
   ],
   "source": [
    "df_a.groupby('author_anon', as_index = False).agg({'frac_attacks': ['mean', 'std']})"
   ]
  },
  {
   "cell_type": "markdown",
   "metadata": {},
   "source": [
    "## Studying Trolls\n",
    "\n",
    "We define a troll to be an editor whose comments are at least 50% attacks. "
   ]
  },
  {
   "cell_type": "code",
   "execution_count": 13,
   "metadata": {
    "collapsed": true
   },
   "outputs": [],
   "source": [
    "troll_threshold = 0.5"
   ]
  },
  {
   "cell_type": "code",
   "execution_count": 14,
   "metadata": {
    "collapsed": true
   },
   "outputs": [],
   "source": [
    "df_a['is_troll'] = df_a['frac_attacks'] > troll_threshold"
   ]
  },
  {
   "cell_type": "markdown",
   "metadata": {},
   "source": [
    "By this definition, half of all attacks that occured in 2015 were made by trolls."
   ]
  },
  {
   "cell_type": "code",
   "execution_count": 15,
   "metadata": {
    "collapsed": false
   },
   "outputs": [
    {
     "data": {
      "text/html": [
       "<div>\n",
       "<table border=\"1\" class=\"dataframe\">\n",
       "  <thead>\n",
       "    <tr style=\"text-align: right;\">\n",
       "      <th></th>\n",
       "      <th>attacks</th>\n",
       "      <th>total</th>\n",
       "    </tr>\n",
       "    <tr>\n",
       "      <th>is_troll</th>\n",
       "      <th></th>\n",
       "      <th></th>\n",
       "    </tr>\n",
       "  </thead>\n",
       "  <tbody>\n",
       "    <tr>\n",
       "      <th>False</th>\n",
       "      <td>1483</td>\n",
       "      <td>8.947543</td>\n",
       "    </tr>\n",
       "    <tr>\n",
       "      <th>True</th>\n",
       "      <td>1525</td>\n",
       "      <td>1.404310</td>\n",
       "    </tr>\n",
       "  </tbody>\n",
       "</table>\n",
       "</div>"
      ],
      "text/plain": [
       "          attacks     total\n",
       "is_troll                   \n",
       "False        1483  8.947543\n",
       "True         1525  1.404310"
      ]
     },
     "execution_count": 15,
     "metadata": {},
     "output_type": "execute_result"
    }
   ],
   "source": [
    "troll_agg = df_a.groupby('is_troll').agg({'attacks':'sum', 'total': 'mean'})\n",
    "troll_agg"
   ]
  },
  {
   "cell_type": "markdown",
   "metadata": {},
   "source": [
    "We also plot a cumulative histogram of users by attack fraction."
   ]
  },
  {
   "cell_type": "code",
   "execution_count": 16,
   "metadata": {
    "collapsed": false
   },
   "outputs": [],
   "source": [
    "values, base = np.histogram(df_a[['frac_attacks']], bins = 10000)"
   ]
  },
  {
   "cell_type": "code",
   "execution_count": 17,
   "metadata": {
    "collapsed": false
   },
   "outputs": [],
   "source": [
    "cumulative = 100.0*np.cumsum(values)/np.sum(values)"
   ]
  },
  {
   "cell_type": "code",
   "execution_count": 18,
   "metadata": {
    "collapsed": false
   },
   "outputs": [
    {
     "data": {
      "text/plain": [
       "<matplotlib.text.Text at 0x14fa5f9d0>"
      ]
     },
     "execution_count": 18,
     "metadata": {},
     "output_type": "execute_result"
    },
    {
     "data": {
      "image/png": "[encoded data removed]",
      "text/plain": [
       "<matplotlib.figure.Figure at 0x125a93c10>"
      ]
     },
     "metadata": {},
     "output_type": "display_data"
    }
   ],
   "source": [
    "plt.plot(base[:-1], cumulative, c='blue')\n",
    "\n",
    "plt.xlabel('Attack Fraction')\n",
    "plt.ylabel('Cumulative Percentage of Users')\n",
    "plt.title('Cumulative Percentage of Users by Attack Fraction')"
   ]
  },
  {
   "cell_type": "markdown",
   "metadata": {},
   "source": [
    "From this histogram we see, for example, that:\n",
    "- 0.65% of users have a 100% fraction of attacks (45% of attacking users).\n",
    "- 98.5% of users have 0 attacks."
   ]
  },
  {
   "cell_type": "markdown",
   "metadata": {},
   "source": [
    "We also plot a cumulative histogram of the total number of attacks by user's attack fraction. That is, this histogram plots the percentage of the total number of attacks that are caused by users with an attack fraction at most 'x'."
   ]
  },
  {
   "cell_type": "code",
   "execution_count": 19,
   "metadata": {
    "collapsed": true
   },
   "outputs": [],
   "source": [
    "values, base = np.histogram(df_a[['frac_attacks']], weights = df_a[['attacks']], bins = 10000)"
   ]
  },
  {
   "cell_type": "code",
   "execution_count": 20,
   "metadata": {
    "collapsed": true
   },
   "outputs": [],
   "source": [
    "cumulative = 100.0*np.cumsum(values)/np.sum(values)"
   ]
  },
  {
   "cell_type": "code",
   "execution_count": 21,
   "metadata": {
    "collapsed": false
   },
   "outputs": [
    {
     "data": {
      "text/plain": [
       "<matplotlib.text.Text at 0x16d194790>"
      ]
     },
     "execution_count": 21,
     "metadata": {},
     "output_type": "execute_result"
    },
    {
     "data": {
      "image/png": "[encoded data removed]",
      "text/plain": [
       "<matplotlib.figure.Figure at 0x16d4d0f50>"
      ]
     },
     "metadata": {},
     "output_type": "display_data"
    }
   ],
   "source": [
    "plt.plot(base[:-1], cumulative, c='blue')\n",
    "\n",
    "plt.xlabel('Attack Fraction')\n",
    "plt.ylabel('Cumulative Percentage of Attacks')\n",
    "plt.title('Cumulative Percentage of Attacks by Attack Fraction')"
   ]
  },
  {
   "cell_type": "markdown",
   "metadata": {},
   "source": [
    "From this histogram, we see that around 38% of attacks come from people who are \"complete trolls\" (100% of their comments are attacks)."
   ]
  },
  {
   "cell_type": "markdown",
   "metadata": {},
   "source": [
    "## Low Activity Users"
   ]
  },
  {
   "cell_type": "markdown",
   "metadata": {},
   "source": [
    "We analyze the number of attacks by accounts with few total posts. These could represent sockpuppet accounts. Below we plot the cumulative percentage of attacks covered by users with a certain number of total revisions."
   ]
  },
  {
   "cell_type": "code",
   "execution_count": 37,
   "metadata": {
    "collapsed": true
   },
   "outputs": [],
   "source": [
    "values, base = np.histogram(df_a[['total']], weights = df_a[['attacks']], bins = 10000)"
   ]
  },
  {
   "cell_type": "code",
   "execution_count": 38,
   "metadata": {
    "collapsed": true
   },
   "outputs": [],
   "source": [
    "cumulative = 100.0*np.cumsum(values)"
   ]
  },
  {
   "cell_type": "code",
   "execution_count": 39,
   "metadata": {
    "collapsed": false
   },
   "outputs": [
    {
     "data": {
      "text/plain": [
       "<matplotlib.text.Text at 0x127136a90>"
      ]
     },
     "execution_count": 39,
     "metadata": {},
     "output_type": "execute_result"
    },
    {
     "data": {
      "image/png": "[encoded data removed]",
      "text/plain": [
       "<matplotlib.figure.Figure at 0x12557c2d0>"
      ]
     },
     "metadata": {},
     "output_type": "display_data"
    }
   ],
   "source": [
    "plt.plot(base[:-1], cumulative, c='blue')\n",
    "plt.xlabel('Number of Revisions')\n",
    "plt.ylabel('Cumulative Percentage of Attacks')\n",
    "plt.title('Cumulative Percentage of Attacks by Number of Revisions')"
   ]
  },
  {
   "cell_type": "markdown",
   "metadata": {},
   "source": [
    "From this histogram we see that:\n",
    "- 26.69% of all attacks come from users that have only made 1 revision\n",
    "- This jumps goes to 38.7%, 46.0%, 50.6% for 2, 3, 4 total revisions\n",
    "- The big jump we see is the result of one big troll"
   ]
  },
  {
   "cell_type": "code",
   "execution_count": 40,
   "metadata": {
    "collapsed": false
   },
   "outputs": [
    {
     "data": {
      "text/html": [
       "<div>\n",
       "<table border=\"1\" class=\"dataframe\">\n",
       "  <thead>\n",
       "    <tr style=\"text-align: right;\">\n",
       "      <th></th>\n",
       "      <th>user_text</th>\n",
       "      <th>author_anon</th>\n",
       "      <th>total</th>\n",
       "      <th>attacks</th>\n",
       "      <th>user_id</th>\n",
       "      <th>frac_attacks</th>\n",
       "      <th>is_troll</th>\n",
       "    </tr>\n",
       "  </thead>\n",
       "  <tbody>\n",
       "    <tr>\n",
       "      <th>174542</th>\n",
       "      <td>Missionedit</td>\n",
       "      <td>False</td>\n",
       "      <td>707</td>\n",
       "      <td>3</td>\n",
       "      <td>17863160</td>\n",
       "      <td>0.004243</td>\n",
       "      <td>False</td>\n",
       "    </tr>\n",
       "  </tbody>\n",
       "</table>\n",
       "</div>"
      ],
      "text/plain": [
       "          user_text author_anon  total  attacks   user_id  frac_attacks  \\\n",
       "174542  Missionedit       False    707        3  17863160      0.004243   \n",
       "\n",
       "       is_troll  \n",
       "174542    False  "
      ]
     },
     "execution_count": 40,
     "metadata": {},
     "output_type": "execute_result"
    }
   ],
   "source": [
    "df_a.query('total <= 707').query('total >= 706')"
   ]
  },
  {
   "cell_type": "markdown",
   "metadata": {},
   "source": [
    "... want to analyze the small accounts by anonymity.."
   ]
  },
  {
   "cell_type": "code",
   "execution_count": 41,
   "metadata": {
    "collapsed": false
   },
   "outputs": [
    {
     "data": {
      "text/plain": [
       "<matplotlib.text.Text at 0x1275f8650>"
      ]
     },
     "execution_count": 41,
     "metadata": {},
     "output_type": "execute_result"
    },
    {
     "data": {
      "image/png": "[encoded data removed]",
      "text/plain": [
       "<matplotlib.figure.Figure at 0x13244ca90>"
      ]
     },
     "metadata": {},
     "output_type": "display_data"
    }
   ],
   "source": [
    "df = df_a.query('author_anon == True')\n",
    "values, base = np.histogram(df[['total']], weights = df[['attacks']], bins = 1000)\n",
    "cumulative = 100.0*np.cumsum(values)\n",
    "plt.plot(base[:-1], cumulative, c='blue')\n",
    "plt.xlabel('Number of Revisions')\n",
    "plt.ylabel('Cumulative Percentage of Attacks')\n",
    "plt.title('Cumulative Percentage of Attacks by Number of Revisions')"
   ]
  },
  {
   "cell_type": "code",
   "execution_count": 42,
   "metadata": {
    "collapsed": false
   },
   "outputs": [
    {
     "data": {
      "text/plain": [
       "array([  98300.,  114500.,  123900.,  131500.,  136800.,  140100.,\n",
       "        142000.,  142900.,  143800.,  143900.])"
      ]
     },
     "execution_count": 42,
     "metadata": {},
     "output_type": "execute_result"
    }
   ],
   "source": [
    "cumulative[0:10]"
   ]
  },
  {
   "cell_type": "code",
   "execution_count": 43,
   "metadata": {
    "collapsed": false
   },
   "outputs": [
    {
     "data": {
      "text/plain": [
       "array([  1.   ,   3.239,   5.478,   7.717,   9.956,  12.195,  14.434,\n",
       "        16.673,  18.912,  21.151])"
      ]
     },
     "execution_count": 43,
     "metadata": {},
     "output_type": "execute_result"
    }
   ],
   "source": [
    "base[0:10]"
   ]
  },
  {
   "cell_type": "code",
   "execution_count": 44,
   "metadata": {
    "collapsed": false
   },
   "outputs": [
    {
     "data": {
      "text/plain": [
       "<matplotlib.text.Text at 0x1295e6790>"
      ]
     },
     "execution_count": 44,
     "metadata": {},
     "output_type": "execute_result"
    },
    {
     "data": {
      "image/png": "[encoded data removed]",
      "text/plain": [
       "<matplotlib.figure.Figure at 0x1273289d0>"
      ]
     },
     "metadata": {},
     "output_type": "display_data"
    }
   ],
   "source": [
    "df = df_a.query('author_anon == False')\n",
    "values, base = np.histogram(df[['total']], weights = df[['attacks']], bins = 10000)\n",
    "cumulative = 100.0*np.cumsum(values)\n",
    "plt.plot(base[:-1], cumulative, c='blue')\n",
    "plt.xlabel('Number of Revisions')\n",
    "plt.ylabel('Cumulative Percentage of Attacks')\n",
    "plt.title('Cumulative Percentage of Attacks by Number of Revisions')"
   ]
  },
  {
   "cell_type": "code",
   "execution_count": 52,
   "metadata": {
    "collapsed": false
   },
   "outputs": [
    {
     "data": {
      "text/plain": [
       "array([ 115100.,  115200.,  115200.,  115300.,  115600.,  115800.,\n",
       "        115900.,  115900.,  116100.,  116400.,  116500.,  116800.,\n",
       "        116900.,  116900.,  117100.,  117200.,  117400.,  117400.,\n",
       "        117800.,  117800.,  117800.,  118600.,  118600.,  118600.,\n",
       "        118700.,  118700.,  119000.,  119300.,  119400.,  119400.,\n",
       "        119500.,  119500.,  119600.,  119600.,  119900.,  120000.,\n",
       "        120000.,  120000.,  120100.,  120300.,  120300.,  120300.,\n",
       "        120300.,  120300.,  120300.,  120300.,  120300.,  120400.,\n",
       "        120400.,  120400.])"
      ]
     },
     "execution_count": 52,
     "metadata": {},
     "output_type": "execute_result"
    }
   ],
   "source": [
    "cumulative[50:100]"
   ]
  },
  {
   "cell_type": "code",
   "execution_count": 53,
   "metadata": {
    "collapsed": false
   },
   "outputs": [
    {
     "data": {
      "text/plain": [
       "array([ 42.375 ,  43.2025,  44.03  ,  44.8575,  45.685 ,  46.5125,\n",
       "        47.34  ,  48.1675,  48.995 ,  49.8225,  50.65  ,  51.4775,\n",
       "        52.305 ,  53.1325,  53.96  ,  54.7875,  55.615 ,  56.4425,\n",
       "        57.27  ,  58.0975,  58.925 ,  59.7525,  60.58  ,  61.4075,\n",
       "        62.235 ,  63.0625,  63.89  ,  64.7175,  65.545 ,  66.3725,\n",
       "        67.2   ,  68.0275,  68.855 ,  69.6825,  70.51  ,  71.3375,\n",
       "        72.165 ,  72.9925,  73.82  ,  74.6475,  75.475 ,  76.3025,\n",
       "        77.13  ,  77.9575,  78.785 ,  79.6125,  80.44  ,  81.2675,\n",
       "        82.095 ,  82.9225])"
      ]
     },
     "execution_count": 53,
     "metadata": {},
     "output_type": "execute_result"
    }
   ],
   "source": [
    "base[50:100]"
   ]
  },
  {
   "cell_type": "code",
   "execution_count": 63,
   "metadata": {
    "collapsed": true
   },
   "outputs": [],
   "source": [
    "values, base = np.histogram(df_a[['total']], weights = df_a[['attacks']], bins = [0,5,10,25,50,100,200,500,1000,2000,10000])\n"
   ]
  },
  {
   "cell_type": "code",
   "execution_count": 66,
   "metadata": {
    "collapsed": false
   },
   "outputs": [
    {
     "data": {
      "text/plain": [
       "array([    0,     5,    10,    25,    50,   100,   200,   500,  1000,\n",
       "        2000, 10000])"
      ]
     },
     "execution_count": 66,
     "metadata": {},
     "output_type": "execute_result"
    }
   ],
   "source": [
    "base"
   ]
  },
  {
   "cell_type": "code",
   "execution_count": 67,
   "metadata": {
    "collapsed": false
   },
   "outputs": [
    {
     "data": {
      "text/plain": [
       "array([ 1840.,   438.,   267.,    65.,    60.,    58.,    70.,    77.,\n",
       "          65.,    68.])"
      ]
     },
     "execution_count": 67,
     "metadata": {},
     "output_type": "execute_result"
    }
   ],
   "source": [
    "values"
   ]
  },
  {
   "cell_type": "code",
   "execution_count": 68,
   "metadata": {
    "collapsed": true
   },
   "outputs": [],
   "source": [
    "x = range(len(values))"
   ]
  },
  {
   "cell_type": "code",
   "execution_count": 69,
   "metadata": {
    "collapsed": true
   },
   "outputs": [],
   "source": [
    "width = 1/1.5"
   ]
  },
  {
   "cell_type": "code",
   "execution_count": 70,
   "metadata": {
    "collapsed": false
   },
   "outputs": [
    {
     "data": {
      "text/plain": [
       "<Container object of 10 artists>"
      ]
     },
     "execution_count": 70,
     "metadata": {},
     "output_type": "execute_result"
    },
    {
     "data": {
      "image/png": "[encoded data removed]",
      "text/plain": [
       "<matplotlib.figure.Figure at 0x1271d9290>"
      ]
     },
     "metadata": {},
     "output_type": "display_data"
    }
   ],
   "source": [
    "plt.bar(x, values, width, color=\"blue\")"
   ]
  },
  {
   "cell_type": "code",
   "execution_count": null,
   "metadata": {
    "collapsed": true
   },
   "outputs": [],
   "source": []
  },
  {
   "cell_type": "markdown",
   "metadata": {},
   "source": [
    "## What proportion of troll accounts have ever been blocked"
   ]
  },
  {
   "cell_type": "markdown",
   "metadata": {},
   "source": [
    "Here we look at the intersection of blocked users and trolls"
   ]
  },
  {
   "cell_type": "code",
   "execution_count": 22,
   "metadata": {
    "collapsed": false
   },
   "outputs": [],
   "source": [
    "Blocked = set(df_events['user_text'])\n",
    "Blocked_2015 = set(df_events.query('year == 2015')['user_text'])\n",
    "Trolls = set(df_a.query('frac_attacks > 0.5')['user_text'])"
   ]
  },
  {
   "cell_type": "code",
   "execution_count": 23,
   "metadata": {
    "collapsed": false
   },
   "outputs": [
    {
     "name": "stdout",
     "output_type": "stream",
     "text": [
      "# Blocked Users: 23668\n",
      "# Blocked Users (2015): 1250\n",
      "# Trolls: 1623\n",
      "# Trolls that were Blocked: 101\n",
      "# Trolls that were Blocked in 2015: 98\n"
     ]
    }
   ],
   "source": [
    "print '# Blocked Users: %s' % len(Blocked)\n",
    "print '# Blocked Users (2015): %s' % len(Blocked_2015)\n",
    "print '# Trolls: %s' % len(Trolls)\n",
    "print '# Trolls that were Blocked: %s' % len(Blocked.intersection(Trolls))\n",
    "print '# Trolls that were Blocked in 2015: %s' % len(Blocked_2015.intersection(Trolls))"
   ]
  },
  {
   "cell_type": "code",
   "execution_count": 52,
   "metadata": {
    "collapsed": false
   },
   "outputs": [
    {
     "data": {
      "text/plain": [
       "<matplotlib_venn._common.VennDiagram instance at 0x122de4b48>"
      ]
     },
     "execution_count": 52,
     "metadata": {},
     "output_type": "execute_result"
    },
    {
     "data": {
      "image/png": "[encoded data removed]",
      "text/plain": [
       "<matplotlib.figure.Figure at 0x11e79b590>"
      ]
     },
     "metadata": {},
     "output_type": "display_data"
    }
   ],
   "source": [
    "only_blocked_users = len(Blocked_2015) - len(Blocked_2015.intersection(Trolls))\n",
    "only_trolls = len(Trolls) - len(Blocked_2015.intersection(Trolls))\n",
    "blocked_and_trolls = len(Blocked_2015.intersection(Trolls))\n",
    "venn2(subsets = (only_blocked_users, only_trolls, blocked_and_trolls), \n",
    "      set_labels = ('Blocked Users', 'Trolls'))"
   ]
  },
  {
   "cell_type": "markdown",
   "metadata": {},
   "source": [
    "We could also analyze how many blocked users are considered attacking by our algorithm. Below we see that 287 out of the 1250 blocked users are detected by attacking by our algorithm. It is worth exploring why the other users were blocked."
   ]
  },
  {
   "cell_type": "code",
   "execution_count": 24,
   "metadata": {
    "collapsed": false
   },
   "outputs": [
    {
     "name": "stdout",
     "output_type": "stream",
     "text": [
      "287\n"
     ]
    }
   ],
   "source": [
    "print len(Blocked_2015.intersection(df_a.query('attacks > 0')['user_text']))"
   ]
  },
  {
   "cell_type": "code",
   "execution_count": 25,
   "metadata": {
    "collapsed": false
   },
   "outputs": [
    {
     "data": {
      "text/plain": [
       "3398"
      ]
     },
     "execution_count": 25,
     "metadata": {},
     "output_type": "execute_result"
    }
   ],
   "source": [
    "len(df_a.query('attacks > 0')['user_text'])"
   ]
  },
  {
   "cell_type": "markdown",
   "metadata": {},
   "source": [
    "## The Attacks Received Fraction"
   ]
  },
  {
   "cell_type": "markdown",
   "metadata": {
    "collapsed": false
   },
   "source": [
    "Analgously to the attack fraction, we also analyze victims by the fraction of the revisions on their talk pages that were attacks. **IMPORTANT CAVEAT**: This does not capture the total number of attacks on a user as many (often most) attacks would happen on other talk pages."
   ]
  },
  {
   "cell_type": "code",
   "execution_count": 26,
   "metadata": {
    "collapsed": false
   },
   "outputs": [],
   "source": [
    "df_v.columns = ['user_text', 'recipient_anon', 'total_rec', 'attacks_rec']"
   ]
  },
  {
   "cell_type": "markdown",
   "metadata": {},
   "source": [
    "We plot the histogram below."
   ]
  },
  {
   "cell_type": "code",
   "execution_count": 27,
   "metadata": {
    "collapsed": false,
    "scrolled": true
   },
   "outputs": [
    {
     "data": {
      "text/plain": [
       "<matplotlib.text.Text at 0x1507af090>"
      ]
     },
     "execution_count": 27,
     "metadata": {},
     "output_type": "execute_result"
    },
    {
     "data": {
      "image/png": "[encoded data removed]",
      "text/plain": [
       "<matplotlib.figure.Figure at 0x178092750>"
      ]
     },
     "metadata": {},
     "output_type": "display_data"
    }
   ],
   "source": [
    "df_v['frac_attacks_rec'] = df_v['attacks_rec']/df_v['total_rec']\n",
    "hist = df_v.query('attacks_rec > 0')['frac_attacks_rec'].hist(bins = 50)\n",
    "hist.set_title('Histogram of Attacks Received Fractions')\n",
    "hist.set_xlabel('Attacks Received Fraction')\n",
    "hist.set_ylabel('Number of Users')"
   ]
  },
  {
   "cell_type": "markdown",
   "metadata": {},
   "source": [
    "## Low Activity User Talk Pages"
   ]
  },
  {
   "cell_type": "markdown",
   "metadata": {},
   "source": [
    "We analyze the number of attacks received by talk pages with few total posts. Below we plot the cumulative percentage of attacks received by user talk pages with a certain number of total revisions received."
   ]
  },
  {
   "cell_type": "code",
   "execution_count": 39,
   "metadata": {
    "collapsed": false
   },
   "outputs": [],
   "source": [
    "values, base = np.histogram(df_v[['total_rec']], weights = df_v[['attacks_rec']], bins = 10000)"
   ]
  },
  {
   "cell_type": "code",
   "execution_count": 40,
   "metadata": {
    "collapsed": true
   },
   "outputs": [],
   "source": [
    "cumulative = 100.0*np.cumsum(values)/np.sum(values)"
   ]
  },
  {
   "cell_type": "code",
   "execution_count": 50,
   "metadata": {
    "collapsed": false
   },
   "outputs": [
    {
     "name": "stdout",
     "output_type": "stream",
     "text": [
      "Total number of attacks received on user talk pages: 4218\n"
     ]
    }
   ],
   "source": [
    "print 'Total number of attacks received on user talk pages: %s' % np.sum(values)"
   ]
  },
  {
   "cell_type": "code",
   "execution_count": 41,
   "metadata": {
    "collapsed": false
   },
   "outputs": [
    {
     "data": {
      "text/plain": [
       "<matplotlib.text.Text at 0x138296590>"
      ]
     },
     "execution_count": 41,
     "metadata": {},
     "output_type": "execute_result"
    },
    {
     "data": {
      "image/png": "[encoded data removed]",
      "text/plain": [
       "<matplotlib.figure.Figure at 0x137667810>"
      ]
     },
     "metadata": {},
     "output_type": "display_data"
    }
   ],
   "source": [
    "plt.plot(base[:-1], cumulative, c='blue')\n",
    "plt.xlabel('Number of Revisions Received')\n",
    "plt.ylabel('Cumulative Percentage of Attacks Received')\n",
    "plt.title('Cumulative Percentage of Attacks Received by Number of Revisions Received')"
   ]
  },
  {
   "cell_type": "markdown",
   "metadata": {},
   "source": [
    "## Gender Analysis\n",
    "\n",
    "We also compute the average attack fraction and attack received fraction by gender."
   ]
  },
  {
   "cell_type": "code",
   "execution_count": 28,
   "metadata": {
    "collapsed": false,
    "scrolled": true
   },
   "outputs": [],
   "source": [
    "df_a = get_author_genders(df_a)"
   ]
  },
  {
   "cell_type": "code",
   "execution_count": 29,
   "metadata": {
    "collapsed": false
   },
   "outputs": [
    {
     "data": {
      "text/html": [
       "<div>\n",
       "<table border=\"1\" class=\"dataframe\">\n",
       "  <thead>\n",
       "    <tr>\n",
       "      <th></th>\n",
       "      <th>author_gender</th>\n",
       "      <th colspan=\"2\" halign=\"left\">frac_attacks</th>\n",
       "    </tr>\n",
       "    <tr>\n",
       "      <th></th>\n",
       "      <th></th>\n",
       "      <th>mean</th>\n",
       "      <th>std</th>\n",
       "    </tr>\n",
       "  </thead>\n",
       "  <tbody>\n",
       "    <tr>\n",
       "      <th>0</th>\n",
       "      <td>female</td>\n",
       "      <td>0.002469</td>\n",
       "      <td>0.043714</td>\n",
       "    </tr>\n",
       "    <tr>\n",
       "      <th>1</th>\n",
       "      <td>male</td>\n",
       "      <td>0.001246</td>\n",
       "      <td>0.029004</td>\n",
       "    </tr>\n",
       "    <tr>\n",
       "      <th>2</th>\n",
       "      <td>unknown: registered</td>\n",
       "      <td>0.006851</td>\n",
       "      <td>0.075850</td>\n",
       "    </tr>\n",
       "    <tr>\n",
       "      <th>3</th>\n",
       "      <td>unknown:anon</td>\n",
       "      <td>0.012019</td>\n",
       "      <td>0.102701</td>\n",
       "    </tr>\n",
       "  </tbody>\n",
       "</table>\n",
       "</div>"
      ],
      "text/plain": [
       "         author_gender frac_attacks          \n",
       "                               mean       std\n",
       "0               female     0.002469  0.043714\n",
       "1                 male     0.001246  0.029004\n",
       "2  unknown: registered     0.006851  0.075850\n",
       "3         unknown:anon     0.012019  0.102701"
      ]
     },
     "execution_count": 29,
     "metadata": {},
     "output_type": "execute_result"
    }
   ],
   "source": [
    "df_a.groupby('author_gender', as_index = False).agg({'frac_attacks': ['mean', 'std']})"
   ]
  },
  {
   "cell_type": "code",
   "execution_count": 30,
   "metadata": {
    "collapsed": false
   },
   "outputs": [],
   "source": [
    "df_v['page_title'] = df_v['user_text']"
   ]
  },
  {
   "cell_type": "code",
   "execution_count": 31,
   "metadata": {
    "collapsed": false
   },
   "outputs": [],
   "source": [
    "df_v = get_recipient_genders(df_v)"
   ]
  },
  {
   "cell_type": "code",
   "execution_count": 32,
   "metadata": {
    "collapsed": false
   },
   "outputs": [
    {
     "data": {
      "text/html": [
       "<div>\n",
       "<table border=\"1\" class=\"dataframe\">\n",
       "  <thead>\n",
       "    <tr>\n",
       "      <th></th>\n",
       "      <th>recipient_gender</th>\n",
       "      <th colspan=\"2\" halign=\"left\">frac_attacks_rec</th>\n",
       "    </tr>\n",
       "    <tr>\n",
       "      <th></th>\n",
       "      <th></th>\n",
       "      <th>mean</th>\n",
       "      <th>std</th>\n",
       "    </tr>\n",
       "  </thead>\n",
       "  <tbody>\n",
       "    <tr>\n",
       "      <th>0</th>\n",
       "      <td>female</td>\n",
       "      <td>0.009331</td>\n",
       "      <td>0.084713</td>\n",
       "    </tr>\n",
       "    <tr>\n",
       "      <th>1</th>\n",
       "      <td>male</td>\n",
       "      <td>0.005241</td>\n",
       "      <td>0.056950</td>\n",
       "    </tr>\n",
       "    <tr>\n",
       "      <th>2</th>\n",
       "      <td>unknown: registered</td>\n",
       "      <td>0.005379</td>\n",
       "      <td>0.066119</td>\n",
       "    </tr>\n",
       "    <tr>\n",
       "      <th>3</th>\n",
       "      <td>unknown:anon</td>\n",
       "      <td>0.012286</td>\n",
       "      <td>0.103478</td>\n",
       "    </tr>\n",
       "  </tbody>\n",
       "</table>\n",
       "</div>"
      ],
      "text/plain": [
       "      recipient_gender frac_attacks_rec          \n",
       "                                   mean       std\n",
       "0               female         0.009331  0.084713\n",
       "1                 male         0.005241  0.056950\n",
       "2  unknown: registered         0.005379  0.066119\n",
       "3         unknown:anon         0.012286  0.103478"
      ]
     },
     "execution_count": 32,
     "metadata": {},
     "output_type": "execute_result"
    }
   ],
   "source": [
    "df_v.groupby('recipient_gender', as_index = False).agg({'frac_attacks_rec': ['mean', 'std']})"
   ]
  },
  {
   "cell_type": "markdown",
   "metadata": {
    "collapsed": true
   },
   "source": [
    "We see that both the attack fraction and attacks received fraction are higher for females than males. These numbers should be correlated as attacks usually occur on a single talk page, rather than back and forth between the attacker and the recipient. These high numbers might be best explained by the fact that female editors are attacked and defend themselves via attacking comments."
   ]
  },
  {
   "cell_type": "markdown",
   "metadata": {},
   "source": [
    "## Joint Analysis of Victims and Attackers"
   ]
  },
  {
   "cell_type": "markdown",
   "metadata": {},
   "source": [
    "We first compute the overlap between attackers and victims. We discover that a third of attackers are also victims and almost a half of victims are attackers."
   ]
  },
  {
   "cell_type": "code",
   "execution_count": 33,
   "metadata": {
    "collapsed": false
   },
   "outputs": [],
   "source": [
    "Attackers = set(df_a.query('attacks > 0')['user_text'])\n",
    "Victims = set(df_v.query('attacks_rec > 0')['user_text'])"
   ]
  },
  {
   "cell_type": "code",
   "execution_count": 34,
   "metadata": {
    "collapsed": false,
    "scrolled": false
   },
   "outputs": [
    {
     "name": "stdout",
     "output_type": "stream",
     "text": [
      "# Attackers: 3398\n",
      "# Victims: 2667\n",
      "# Both: 1222\n"
     ]
    }
   ],
   "source": [
    "print '# Attackers: %s' % len(Attackers)\n",
    "print '# Victims: %s' % len(Victims)\n",
    "print '# Both: %s' % len(Attackers.intersection(Victims))"
   ]
  },
  {
   "cell_type": "code",
   "execution_count": 35,
   "metadata": {
    "collapsed": false
   },
   "outputs": [
    {
     "data": {
      "text/plain": [
       "<matplotlib_venn._common.VennDiagram instance at 0x138795368>"
      ]
     },
     "execution_count": 35,
     "metadata": {},
     "output_type": "execute_result"
    },
    {
     "data": {
      "image/png": "[encoded data removed]",
      "text/plain": [
       "<matplotlib.figure.Figure at 0x15337d3d0>"
      ]
     },
     "metadata": {},
     "output_type": "display_data"
    }
   ],
   "source": [
    "only_attackers = len(Attackers) - len(Attackers.intersection(Victims))\n",
    "only_victims = len(Victims) - len(Attackers.intersection(Victims))\n",
    "attackers_and_victims = len(Attackers.intersection(Victims))\n",
    "venn2(subsets = (only_attackers, only_victims, attackers_and_victims), \n",
    "      set_labels = ('Attackers', 'Victims'))"
   ]
  },
  {
   "cell_type": "markdown",
   "metadata": {},
   "source": [
    "We define a user to be a saint if they have received more attacks than they have made. Again, it is important to remember that we can only count attacks received on a user's own talk page. This does not capture a large proportion of attacks a user might receive."
   ]
  },
  {
   "cell_type": "code",
   "execution_count": 36,
   "metadata": {
    "collapsed": true
   },
   "outputs": [],
   "source": [
    "df_av['is_saint'] = ((df_av['attacks_rec'] - df_av['attacks']) > 0)"
   ]
  },
  {
   "cell_type": "markdown",
   "metadata": {},
   "source": [
    "We show below that there are very few users that are saints. Again, this analysis is misleading due to the caveat above."
   ]
  },
  {
   "cell_type": "code",
   "execution_count": 37,
   "metadata": {
    "collapsed": false
   },
   "outputs": [
    {
     "data": {
      "text/html": [
       "<div>\n",
       "<table border=\"1\" class=\"dataframe\">\n",
       "  <thead>\n",
       "    <tr style=\"text-align: right;\">\n",
       "      <th></th>\n",
       "      <th>is_saint</th>\n",
       "      <th>user_text</th>\n",
       "    </tr>\n",
       "  </thead>\n",
       "  <tbody>\n",
       "    <tr>\n",
       "      <th>0</th>\n",
       "      <td>False</td>\n",
       "      <td>77717</td>\n",
       "    </tr>\n",
       "    <tr>\n",
       "      <th>1</th>\n",
       "      <td>True</td>\n",
       "      <td>1120</td>\n",
       "    </tr>\n",
       "  </tbody>\n",
       "</table>\n",
       "</div>"
      ],
      "text/plain": [
       "  is_saint  user_text\n",
       "0    False      77717\n",
       "1     True       1120"
      ]
     },
     "execution_count": 37,
     "metadata": {},
     "output_type": "execute_result"
    }
   ],
   "source": [
    "df_av.groupby('is_saint', as_index = False).agg({'user_text': 'count'})"
   ]
  }
 ],
 "metadata": {
  "kernelspec": {
   "display_name": "Python 2",
   "language": "python",
   "name": "python2"
  },
  "language_info": {
   "codemirror_mode": {
    "name": "ipython",
    "version": 2
   },
   "file_extension": ".py",
   "mimetype": "text/x-python",
   "name": "python",
   "nbconvert_exporter": "python",
   "pygments_lexer": "ipython2",
   "version": "2.7.12"
  }
 },
 "nbformat": 4,
 "nbformat_minor": 0
}
