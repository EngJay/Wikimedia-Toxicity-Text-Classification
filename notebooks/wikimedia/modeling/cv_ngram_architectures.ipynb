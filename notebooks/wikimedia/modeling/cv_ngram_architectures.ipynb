{
 "cells": [
  {
   "cell_type": "code",
   "execution_count": 1,
   "metadata": {
    "collapsed": false
   },
   "outputs": [
    {
     "name": "stderr",
     "output_type": "stream",
     "text": [
      "Using TensorFlow backend.\n"
     ]
    }
   ],
   "source": [
    "%load_ext autoreload\n",
    "%autoreload 2\n",
    "%matplotlib inline\n",
    "%load_ext autotime\n",
    "\n",
    "from ngram import tune, roc_scorer,spearman_scorer\n",
    "from baselines import load_comments_and_labels, assemble_data, one_hot\n",
    "from deep_learning import make_mlp, DenseTransformer\n",
    "from deep_learning import make_lstm, make_conv_lstm, SequenceTransformer\n",
    "\n",
    "\n",
    "from sklearn.pipeline import Pipeline\n",
    "from sklearn.grid_search import RandomizedSearchCV\n",
    "from sklearn.linear_model import LinearRegression\n",
    "from sklearn.linear_model import LogisticRegression\n",
    "from sklearn.feature_extraction.text import CountVectorizer\n",
    "from sklearn.feature_extraction.text import TfidfTransformer\n",
    "from sklearn.decomposition import TruncatedSVD\n",
    "from keras.wrappers.scikit_learn import KerasClassifier\n",
    "from serialization import save_pipeline, load_pipeline\n",
    "import joblib\n",
    "import copy\n",
    "import pandas as pd"
   ]
  },
  {
   "cell_type": "code",
   "execution_count": 2,
   "metadata": {
    "collapsed": false
   },
   "outputs": [
    {
     "data": {
      "text/plain": [
       "'1.1.0'"
      ]
     },
     "execution_count": 2,
     "metadata": {},
     "output_type": "execute_result"
    },
    {
     "name": "stdout",
     "output_type": "stream",
     "text": [
      "time: 4.28 ms\n"
     ]
    }
   ],
   "source": [
    "import keras\n",
    "keras.__version__"
   ]
  },
  {
   "cell_type": "markdown",
   "metadata": {},
   "source": [
    "### Helpers"
   ]
  },
  {
   "cell_type": "code",
   "execution_count": 3,
   "metadata": {
    "collapsed": false
   },
   "outputs": [
    {
     "name": "stdout",
     "output_type": "stream",
     "text": [
      "time: 3.25 ms\n"
     ]
    }
   ],
   "source": [
    "def get_best_estimator(cv):\n",
    "    params = cv.best_params_\n",
    "    model = cv.estimator\n",
    "    model = model.set_params(**params)\n",
    "    return model\n",
    "    \n",
    "def save_best_estimator(cv, directory, name):\n",
    "    model = get_best_estimator(cv)\n",
    "    save_pipeline(model, directory, name)"
   ]
  },
  {
   "cell_type": "markdown",
   "metadata": {},
   "source": [
    "### Load Annotated Data"
   ]
  },
  {
   "cell_type": "code",
   "execution_count": 4,
   "metadata": {
    "collapsed": false
   },
   "outputs": [
    {
     "name": "stdout",
     "output_type": "stream",
     "text": [
      "time: 2min 8s\n"
     ]
    }
   ],
   "source": [
    "task = 'attack'\n",
    "data = load_comments_and_labels(task)"
   ]
  },
  {
   "cell_type": "markdown",
   "metadata": {},
   "source": [
    "### Params"
   ]
  },
  {
   "cell_type": "code",
   "execution_count": 5,
   "metadata": {
    "collapsed": false
   },
   "outputs": [
    {
     "name": "stdout",
     "output_type": "stream",
     "text": [
      "time: 1.13 ms\n"
     ]
    }
   ],
   "source": [
    "path = '../../models/cv/'\n",
    "n_max = 10000000\n",
    "n_iter = 15"
   ]
  },
  {
   "cell_type": "markdown",
   "metadata": {},
   "source": [
    "### Prep Data"
   ]
  },
  {
   "cell_type": "code",
   "execution_count": 6,
   "metadata": {
    "collapsed": false
   },
   "outputs": [
    {
     "name": "stdout",
     "output_type": "stream",
     "text": [
      "time: 69.6 ms\n"
     ]
    }
   ],
   "source": [
    "X_train, y_train_ohv = assemble_data(data, 'comments', 'plurality', splits = ['train'])\n",
    "X_dev, y_dev_ohv = assemble_data(data,  'comments', 'plurality', splits = ['dev'])\n",
    "\n",
    "_, y_train_ed = assemble_data(data, 'comments', 'empirical_dist', splits = ['train'])\n",
    "_, y_dev_ed = assemble_data(data,  'comments', 'empirical_dist', splits = ['dev'])\n",
    "\n",
    "y_train_ohm = one_hot(y_train_ed)\n",
    "y_dev_ohm = one_hot(y_dev_ed)\n",
    "\n",
    "X_train = X_train[:n_max]\n",
    "X_dev = X_dev[:n_max]\n",
    "\n",
    "y_train_ohv = y_train_ohv[:n_max]\n",
    "y_dev_ohv = y_dev_ohv[:n_max]\n",
    "\n",
    "y_train_ed = y_train_ed[:n_max]\n",
    "y_dev_ed = y_dev_ed[:n_max]\n",
    "\n",
    "y_train_ohm = y_train_ohm[:n_max]\n",
    "y_dev_ohm = y_dev_ohm[:n_max]"
   ]
  },
  {
   "cell_type": "code",
   "execution_count": 7,
   "metadata": {
    "collapsed": false
   },
   "outputs": [
    {
     "name": "stdout",
     "output_type": "stream",
     "text": [
      "time: 1.02 ms\n"
     ]
    }
   ],
   "source": [
    "results_list = []"
   ]
  },
  {
   "cell_type": "markdown",
   "metadata": {},
   "source": [
    "# Sklearn Experiments\n",
    "\n",
    "Lets run some quick experiments in sklearn, so that we have baselines for the following models built in keras. We will only be building logistic regressions with one-hot labels. This will also help us see if we should use tfidf weighting and normalization."
   ]
  },
  {
   "cell_type": "code",
   "execution_count": 8,
   "metadata": {
    "collapsed": false
   },
   "outputs": [
    {
     "name": "stdout",
     "output_type": "stream",
     "text": [
      "time: 1.17 ms\n"
     ]
    }
   ],
   "source": [
    "max_features = (5000, 10000, 50000, 100000)\n",
    "C = (0.0001, 0.001, 0.01, 0.1, 1, 10)"
   ]
  },
  {
   "cell_type": "markdown",
   "metadata": {},
   "source": [
    "### No tfidf"
   ]
  },
  {
   "cell_type": "code",
   "execution_count": 9,
   "metadata": {
    "collapsed": false
   },
   "outputs": [
    {
     "name": "stdout",
     "output_type": "stream",
     "text": [
      "time: 2.5 ms\n"
     ]
    }
   ],
   "source": [
    "alg = Pipeline([\n",
    "    ('vect', CountVectorizer()),\n",
    "    ('clf', LogisticRegression()),\n",
    "])"
   ]
  },
  {
   "cell_type": "code",
   "execution_count": 10,
   "metadata": {
    "collapsed": false
   },
   "outputs": [
    {
     "name": "stdout",
     "output_type": "stream",
     "text": [
      "\n",
      "Best parameters set found:\n",
      "{'clf__C': 10, 'vect__analyzer': 'char', 'vect__max_features': 100000, 'vect__ngram_range': (1, 5)} 0.916608436706\n",
      "\n",
      "\n",
      "Grid scores:\n",
      "0.90034 (+/-0.00000) for {'clf__C': 0.1, 'vect__analyzer': 'char', 'vect__max_features': 5000, 'vect__ngram_range': (1, 5)}\n",
      "0.91030 (+/-0.00000) for {'clf__C': 0.1, 'vect__analyzer': 'char', 'vect__max_features': 100000, 'vect__ngram_range': (1, 5)}\n",
      "0.89931 (+/-0.00000) for {'clf__C': 10, 'vect__analyzer': 'char', 'vect__max_features': 10000, 'vect__ngram_range': (1, 5)}\n",
      "0.87261 (+/-0.00000) for {'clf__C': 0.0001, 'vect__analyzer': 'char', 'vect__max_features': 5000, 'vect__ngram_range': (1, 5)}\n",
      "0.88324 (+/-0.00000) for {'clf__C': 0.0001, 'vect__analyzer': 'char', 'vect__max_features': 100000, 'vect__ngram_range': (1, 5)}\n",
      "0.91456 (+/-0.00000) for {'clf__C': 0.001, 'vect__analyzer': 'char', 'vect__max_features': 100000, 'vect__ngram_range': (1, 5)}\n",
      "0.90246 (+/-0.00000) for {'clf__C': 0.01, 'vect__analyzer': 'char', 'vect__max_features': 10000, 'vect__ngram_range': (1, 5)}\n",
      "0.90847 (+/-0.00000) for {'clf__C': 1, 'vect__analyzer': 'char', 'vect__max_features': 100000, 'vect__ngram_range': (1, 5)}\n",
      "0.90211 (+/-0.00000) for {'clf__C': 1, 'vect__analyzer': 'char', 'vect__max_features': 50000, 'vect__ngram_range': (1, 5)}\n",
      "0.89497 (+/-0.00000) for {'clf__C': 0.001, 'vect__analyzer': 'char', 'vect__max_features': 5000, 'vect__ngram_range': (1, 5)}\n",
      "0.91661 (+/-0.00000) for {'clf__C': 10, 'vect__analyzer': 'char', 'vect__max_features': 100000, 'vect__ngram_range': (1, 5)}\n",
      "0.90302 (+/-0.00000) for {'clf__C': 0.001, 'vect__analyzer': 'char', 'vect__max_features': 50000, 'vect__ngram_range': (1, 5)}\n",
      "0.87837 (+/-0.00000) for {'clf__C': 0.0001, 'vect__analyzer': 'char', 'vect__max_features': 10000, 'vect__ngram_range': (1, 5)}\n",
      "0.90950 (+/-0.00000) for {'clf__C': 0.1, 'vect__analyzer': 'char', 'vect__max_features': 50000, 'vect__ngram_range': (1, 5)}\n",
      "0.90478 (+/-0.00000) for {'clf__C': 1, 'vect__analyzer': 'char', 'vect__max_features': 10000, 'vect__ngram_range': (1, 5)}\n",
      "time: 42min 52s\n"
     ]
    }
   ],
   "source": [
    "# linear char-gram, no tfidf\n",
    "\n",
    "param_grid = {\n",
    "    'vect__max_features': max_features, \n",
    "    'vect__ngram_range': ((1,5),),  \n",
    "    'vect__analyzer' : ('char',),\n",
    "    'clf__C' : C,\n",
    "}\n",
    "\n",
    "m = tune (X_train, y_train_ohv, X_dev, y_dev_ohv, alg, param_grid, n_iter, roc_scorer, n_jobs = 6, verbose = True)"
   ]
  },
  {
   "cell_type": "code",
   "execution_count": 11,
   "metadata": {
    "collapsed": false
   },
   "outputs": [
    {
     "name": "stdout",
     "output_type": "stream",
     "text": [
      "\n",
      "Best parameters set found:\n",
      "{'clf__C': 1, 'vect__analyzer': 'word', 'vect__max_features': 50000, 'vect__ngram_range': (1, 2)} 0.94125639939\n",
      "\n",
      "\n",
      "Grid scores:\n",
      "0.93139 (+/-0.00000) for {'clf__C': 0.1, 'vect__analyzer': 'word', 'vect__max_features': 5000, 'vect__ngram_range': (1, 2)}\n",
      "0.93967 (+/-0.00000) for {'clf__C': 0.1, 'vect__analyzer': 'word', 'vect__max_features': 100000, 'vect__ngram_range': (1, 2)}\n",
      "0.93643 (+/-0.00000) for {'clf__C': 10, 'vect__analyzer': 'word', 'vect__max_features': 10000, 'vect__ngram_range': (1, 2)}\n",
      "0.80624 (+/-0.00000) for {'clf__C': 0.0001, 'vect__analyzer': 'word', 'vect__max_features': 5000, 'vect__ngram_range': (1, 2)}\n",
      "0.80694 (+/-0.00000) for {'clf__C': 0.0001, 'vect__analyzer': 'word', 'vect__max_features': 100000, 'vect__ngram_range': (1, 2)}\n",
      "0.89202 (+/-0.00000) for {'clf__C': 0.001, 'vect__analyzer': 'word', 'vect__max_features': 100000, 'vect__ngram_range': (1, 2)}\n",
      "0.92744 (+/-0.00000) for {'clf__C': 0.01, 'vect__analyzer': 'word', 'vect__max_features': 10000, 'vect__ngram_range': (1, 2)}\n",
      "0.93908 (+/-0.00000) for {'clf__C': 1, 'vect__analyzer': 'word', 'vect__max_features': 100000, 'vect__ngram_range': (1, 2)}\n",
      "0.94126 (+/-0.00000) for {'clf__C': 1, 'vect__analyzer': 'word', 'vect__max_features': 50000, 'vect__ngram_range': (1, 2)}\n",
      "0.88930 (+/-0.00000) for {'clf__C': 0.001, 'vect__analyzer': 'word', 'vect__max_features': 5000, 'vect__ngram_range': (1, 2)}\n",
      "0.94067 (+/-0.00000) for {'clf__C': 10, 'vect__analyzer': 'word', 'vect__max_features': 100000, 'vect__ngram_range': (1, 2)}\n",
      "0.89186 (+/-0.00000) for {'clf__C': 0.001, 'vect__analyzer': 'word', 'vect__max_features': 50000, 'vect__ngram_range': (1, 2)}\n",
      "0.80648 (+/-0.00000) for {'clf__C': 0.0001, 'vect__analyzer': 'word', 'vect__max_features': 10000, 'vect__ngram_range': (1, 2)}\n",
      "0.93988 (+/-0.00000) for {'clf__C': 0.1, 'vect__analyzer': 'word', 'vect__max_features': 50000, 'vect__ngram_range': (1, 2)}\n",
      "0.93672 (+/-0.00000) for {'clf__C': 1, 'vect__analyzer': 'word', 'vect__max_features': 10000, 'vect__ngram_range': (1, 2)}\n",
      "time: 6min 29s\n"
     ]
    }
   ],
   "source": [
    "# linear word-gram, no tfidf\n",
    "\n",
    "param_grid = {\n",
    "    'vect__max_features': max_features, \n",
    "    'vect__ngram_range': ((1,2),),  \n",
    "    'vect__analyzer' : ('word',),\n",
    "    'clf__C' : C,\n",
    "}\n",
    "\n",
    "m = tune (X_train, y_train_ohv, X_dev, y_dev_ohv, alg, param_grid, n_iter, roc_scorer, n_jobs = 6, verbose = True)"
   ]
  },
  {
   "cell_type": "markdown",
   "metadata": {},
   "source": [
    "# With tfidf"
   ]
  },
  {
   "cell_type": "code",
   "execution_count": 12,
   "metadata": {
    "collapsed": false
   },
   "outputs": [
    {
     "name": "stdout",
     "output_type": "stream",
     "text": [
      "time: 5.76 ms\n"
     ]
    }
   ],
   "source": [
    "alg = Pipeline([\n",
    "    ('vect', CountVectorizer()),\n",
    "    ('tfidf', TfidfTransformer()),\n",
    "    ('clf', LogisticRegression()),\n",
    "])"
   ]
  },
  {
   "cell_type": "code",
   "execution_count": 13,
   "metadata": {
    "collapsed": false
   },
   "outputs": [
    {
     "name": "stdout",
     "output_type": "stream",
     "text": [
      "\n",
      "Best parameters set found:\n",
      "{'vect__analyzer': 'char', 'vect__max_features': 5000, 'tfidf__sublinear_tf': True, 'tfidf__norm': 'l2', 'clf__C': 10, 'vect__ngram_range': (1, 5)} 0.956730432607\n",
      "\n",
      "\n",
      "Grid scores:\n",
      "0.88271 (+/-0.00000) for {'vect__analyzer': 'char', 'vect__max_features': 5000, 'tfidf__sublinear_tf': False, 'tfidf__norm': 'l2', 'clf__C': 0.01, 'vect__ngram_range': (1, 5)}\n",
      "0.86882 (+/-0.00000) for {'vect__analyzer': 'char', 'vect__max_features': 100000, 'tfidf__sublinear_tf': False, 'tfidf__norm': 'l2', 'clf__C': 0.01, 'vect__ngram_range': (1, 5)}\n",
      "0.93314 (+/-0.00000) for {'vect__analyzer': 'char', 'vect__max_features': 5000, 'tfidf__sublinear_tf': True, 'tfidf__norm': None, 'clf__C': 1, 'vect__ngram_range': (1, 5)}\n",
      "0.94676 (+/-0.00000) for {'vect__analyzer': 'char', 'vect__max_features': 100000, 'tfidf__sublinear_tf': True, 'tfidf__norm': None, 'clf__C': 1, 'vect__ngram_range': (1, 5)}\n",
      "0.73052 (+/-0.00000) for {'vect__analyzer': 'char', 'vect__max_features': 10000, 'tfidf__sublinear_tf': True, 'tfidf__norm': 'l2', 'clf__C': 0.0001, 'vect__ngram_range': (1, 5)}\n",
      "0.94619 (+/-0.00000) for {'vect__analyzer': 'char', 'vect__max_features': 100000, 'tfidf__sublinear_tf': True, 'tfidf__norm': None, 'clf__C': 10, 'vect__ngram_range': (1, 5)}\n",
      "0.88859 (+/-0.00000) for {'vect__analyzer': 'char', 'vect__max_features': 10000, 'tfidf__sublinear_tf': False, 'tfidf__norm': None, 'clf__C': 0.001, 'vect__ngram_range': (1, 5)}\n",
      "0.87204 (+/-0.00000) for {'vect__analyzer': 'char', 'vect__max_features': 5000, 'tfidf__sublinear_tf': False, 'tfidf__norm': None, 'clf__C': 0.01, 'vect__ngram_range': (1, 5)}\n",
      "0.90099 (+/-0.00000) for {'vect__analyzer': 'char', 'vect__max_features': 100000, 'tfidf__sublinear_tf': False, 'tfidf__norm': None, 'clf__C': 10, 'vect__ngram_range': (1, 5)}\n",
      "0.87905 (+/-0.00000) for {'vect__analyzer': 'char', 'vect__max_features': 50000, 'tfidf__sublinear_tf': False, 'tfidf__norm': None, 'clf__C': 1, 'vect__ngram_range': (1, 5)}\n",
      "0.95673 (+/-0.00000) for {'vect__analyzer': 'char', 'vect__max_features': 5000, 'tfidf__sublinear_tf': True, 'tfidf__norm': 'l2', 'clf__C': 10, 'vect__ngram_range': (1, 5)}\n",
      "0.69424 (+/-0.00000) for {'vect__analyzer': 'char', 'vect__max_features': 5000, 'tfidf__sublinear_tf': False, 'tfidf__norm': 'l2', 'clf__C': 0.0001, 'vect__ngram_range': (1, 5)}\n",
      "0.94925 (+/-0.00000) for {'vect__analyzer': 'char', 'vect__max_features': 50000, 'tfidf__sublinear_tf': True, 'tfidf__norm': 'l2', 'clf__C': 0.1, 'vect__ngram_range': (1, 5)}\n",
      "0.93904 (+/-0.00000) for {'vect__analyzer': 'char', 'vect__max_features': 10000, 'tfidf__sublinear_tf': True, 'tfidf__norm': None, 'clf__C': 1, 'vect__ngram_range': (1, 5)}\n",
      "0.89593 (+/-0.00000) for {'vect__analyzer': 'char', 'vect__max_features': 100000, 'tfidf__sublinear_tf': False, 'tfidf__norm': None, 'clf__C': 0.01, 'vect__ngram_range': (1, 5)}\n",
      "time: 41min 50s\n"
     ]
    }
   ],
   "source": [
    "# linear char-gram, tfidf\n",
    "\n",
    "param_grid = {\n",
    "    'vect__max_features': max_features, \n",
    "    'vect__ngram_range': ((1,5),),  \n",
    "    'vect__analyzer' : ('char',),\n",
    "    'tfidf__sublinear_tf' : (True, False),\n",
    "    'tfidf__norm' : (None, 'l2'),\n",
    "    'clf__C' : C,\n",
    "}\n",
    "\n",
    "m = tune (X_train, y_train_ohv, X_dev, y_dev_ohv, alg, param_grid, n_iter, roc_scorer, n_jobs = 6, verbose = True)"
   ]
  },
  {
   "cell_type": "code",
   "execution_count": 14,
   "metadata": {
    "collapsed": false
   },
   "outputs": [
    {
     "name": "stdout",
     "output_type": "stream",
     "text": [
      "\n",
      "Best parameters set found:\n",
      "{'vect__analyzer': 'word', 'vect__max_features': 5000, 'tfidf__sublinear_tf': True, 'tfidf__norm': 'l2', 'clf__C': 10, 'vect__ngram_range': (1, 2)} 0.944995533538\n",
      "\n",
      "\n",
      "Grid scores:\n",
      "0.90258 (+/-0.00000) for {'vect__analyzer': 'word', 'vect__max_features': 5000, 'tfidf__sublinear_tf': False, 'tfidf__norm': 'l2', 'clf__C': 0.01, 'vect__ngram_range': (1, 2)}\n",
      "0.89977 (+/-0.00000) for {'vect__analyzer': 'word', 'vect__max_features': 100000, 'tfidf__sublinear_tf': False, 'tfidf__norm': 'l2', 'clf__C': 0.01, 'vect__ngram_range': (1, 2)}\n",
      "0.90995 (+/-0.00000) for {'vect__analyzer': 'word', 'vect__max_features': 5000, 'tfidf__sublinear_tf': True, 'tfidf__norm': None, 'clf__C': 1, 'vect__ngram_range': (1, 2)}\n",
      "0.93980 (+/-0.00000) for {'vect__analyzer': 'word', 'vect__max_features': 100000, 'tfidf__sublinear_tf': True, 'tfidf__norm': None, 'clf__C': 1, 'vect__ngram_range': (1, 2)}\n",
      "0.75391 (+/-0.00000) for {'vect__analyzer': 'word', 'vect__max_features': 10000, 'tfidf__sublinear_tf': True, 'tfidf__norm': 'l2', 'clf__C': 0.0001, 'vect__ngram_range': (1, 2)}\n",
      "0.93997 (+/-0.00000) for {'vect__analyzer': 'word', 'vect__max_features': 100000, 'tfidf__sublinear_tf': True, 'tfidf__norm': None, 'clf__C': 10, 'vect__ngram_range': (1, 2)}\n",
      "0.93204 (+/-0.00000) for {'vect__analyzer': 'word', 'vect__max_features': 10000, 'tfidf__sublinear_tf': False, 'tfidf__norm': None, 'clf__C': 0.001, 'vect__ngram_range': (1, 2)}\n",
      "0.92917 (+/-0.00000) for {'vect__analyzer': 'word', 'vect__max_features': 5000, 'tfidf__sublinear_tf': False, 'tfidf__norm': None, 'clf__C': 0.01, 'vect__ngram_range': (1, 2)}\n",
      "0.94239 (+/-0.00000) for {'vect__analyzer': 'word', 'vect__max_features': 100000, 'tfidf__sublinear_tf': False, 'tfidf__norm': None, 'clf__C': 10, 'vect__ngram_range': (1, 2)}\n",
      "0.93923 (+/-0.00000) for {'vect__analyzer': 'word', 'vect__max_features': 50000, 'tfidf__sublinear_tf': False, 'tfidf__norm': None, 'clf__C': 1, 'vect__ngram_range': (1, 2)}\n",
      "0.94500 (+/-0.00000) for {'vect__analyzer': 'word', 'vect__max_features': 5000, 'tfidf__sublinear_tf': True, 'tfidf__norm': 'l2', 'clf__C': 10, 'vect__ngram_range': (1, 2)}\n",
      "0.74456 (+/-0.00000) for {'vect__analyzer': 'word', 'vect__max_features': 5000, 'tfidf__sublinear_tf': False, 'tfidf__norm': 'l2', 'clf__C': 0.0001, 'vect__ngram_range': (1, 2)}\n",
      "0.94012 (+/-0.00000) for {'vect__analyzer': 'word', 'vect__max_features': 50000, 'tfidf__sublinear_tf': True, 'tfidf__norm': 'l2', 'clf__C': 0.1, 'vect__ngram_range': (1, 2)}\n",
      "0.92714 (+/-0.00000) for {'vect__analyzer': 'word', 'vect__max_features': 10000, 'tfidf__sublinear_tf': True, 'tfidf__norm': None, 'clf__C': 1, 'vect__ngram_range': (1, 2)}\n",
      "0.94411 (+/-0.00000) for {'vect__analyzer': 'word', 'vect__max_features': 100000, 'tfidf__sublinear_tf': False, 'tfidf__norm': None, 'clf__C': 0.01, 'vect__ngram_range': (1, 2)}\n",
      "time: 3min 9s\n"
     ]
    }
   ],
   "source": [
    "# linear word-gram, tfidf\n",
    "\n",
    "param_grid = {\n",
    "    'vect__max_features': max_features, \n",
    "    'vect__ngram_range': ((1,2),),  \n",
    "    'vect__analyzer' : ('word',),\n",
    "    'tfidf__sublinear_tf' : (True, False),\n",
    "    'tfidf__norm' : (None, 'l2'),\n",
    "    'clf__C' : C,\n",
    "}\n",
    "\n",
    "m = tune (X_train, y_train_ohv, X_dev, y_dev_ohv, alg, param_grid, n_iter, roc_scorer, n_jobs = 6, verbose = True)"
   ]
  },
  {
   "cell_type": "markdown",
   "metadata": {},
   "source": [
    "TFIDF improves the ROC score for both types of ngram models although it gives a bigger boost for the char-ngram models."
   ]
  },
  {
   "cell_type": "markdown",
   "metadata": {},
   "source": [
    "# Tensorflow/Keras"
   ]
  },
  {
   "cell_type": "markdown",
   "metadata": {},
   "source": [
    "Now we will cross-validate over model architectures (linear, mlp, lstm), ngram type (word, char), and label type (one hot or empirical distribution)"
   ]
  },
  {
   "cell_type": "markdown",
   "metadata": {},
   "source": [
    "### Linear and MLP\n",
    "The mlp model class actually includes linear models (just set hidden layers to be empty)"
   ]
  },
  {
   "cell_type": "code",
   "execution_count": 9,
   "metadata": {
    "collapsed": false
   },
   "outputs": [
    {
     "name": "stdout",
     "output_type": "stream",
     "text": [
      "time: 2.57 ms\n"
     ]
    }
   ],
   "source": [
    "alg = Pipeline([\n",
    "    ('vect', CountVectorizer()),\n",
    "    ('tfidf', TfidfTransformer()),\n",
    "    ('to_dense', DenseTransformer()), \n",
    "    ('clf', KerasClassifier(build_fn=make_mlp, output_dim = 2, verbose=False)),\n",
    "])\n",
    "\n",
    "dependencies = [( 'vect__max_features', 'clf__input_dim')]"
   ]
  },
  {
   "cell_type": "code",
   "execution_count": 10,
   "metadata": {
    "collapsed": false
   },
   "outputs": [
    {
     "name": "stdout",
     "output_type": "stream",
     "text": [
      "time: 6.66 ms\n"
     ]
    }
   ],
   "source": [
    "\n",
    "char_vec_params = {\n",
    "    'vect__max_features': (5000, 10000, 30000), \n",
    "    'vect__ngram_range': ((1,5),),  \n",
    "    'vect__analyzer' : ('char',)\n",
    "    }\n",
    "\n",
    "word_vect_params = {\n",
    "    'vect__max_features': (5000, 10000, 30000), \n",
    "    'vect__ngram_range': ((1,2),),  \n",
    "    'vect__analyzer' : ('word',)\n",
    "    }\n",
    "\n",
    "tfidf_params = {\n",
    "    'tfidf__sublinear_tf' : (True, False),\n",
    "    'tfidf__norm' : ('l2',),\n",
    "    }\n",
    "\n",
    "linear_clf_params = {\n",
    "    'clf__alpha' : (0.000000001, 0.0000001, 0.00001, 0.001, 0.01),\n",
    "    'clf__hidden_layer_sizes' : ((),),\n",
    "    'clf__nb_epoch' : (2,4,8,16),\n",
    "    'clf__batch_size': (200,)\n",
    "    }\n",
    "\n",
    "mlp_clf_params = {\n",
    "    'clf__alpha' : (0.000000001, 0.0000001, 0.00001, 0.001, 0.01),\n",
    "    'clf__hidden_layer_sizes' : ((50,), (50, 50), (50, 50, 50)),\n",
    "    'clf__nb_epoch' : (2,4,8,16),\n",
    "    'clf__batch_size': (200,)\n",
    "    }\n"
   ]
  },
  {
   "cell_type": "code",
   "execution_count": 11,
   "metadata": {
    "collapsed": false,
    "scrolled": true
   },
   "outputs": [
    {
     "name": "stdout",
     "output_type": "stream",
     "text": [
      "\n",
      "\n",
      "\n",
      " linear word oh\n",
      "\n",
      "Best parameters set found:\n",
      "{'tfidf__sublinear_tf': True, 'clf__alpha': 1e-05, 'vect__max_features': 10000, 'clf__input_dim': 10000, 'clf__batch_size': 200, 'vect__ngram_range': (1, 2), 'vect__analyzer': 'word', 'tfidf__norm': 'l2', 'clf__hidden_layer_sizes': (), 'clf__nb_epoch': 16} 0.949772916442\n",
      "\n",
      "\n",
      "Grid scores:\n",
      "0.94906 (+/-0.00000) for {'tfidf__sublinear_tf': True, 'clf__alpha': 1e-07, 'vect__max_features': 30000, 'clf__input_dim': 30000, 'clf__batch_size': 200, 'vect__ngram_range': (1, 2), 'vect__analyzer': 'word', 'tfidf__norm': 'l2', 'clf__hidden_layer_sizes': (), 'clf__nb_epoch': 16}\n",
      "0.94941 (+/-0.00000) for {'tfidf__sublinear_tf': False, 'clf__alpha': 1e-07, 'vect__max_features': 30000, 'clf__input_dim': 30000, 'clf__batch_size': 200, 'vect__ngram_range': (1, 2), 'vect__analyzer': 'word', 'tfidf__norm': 'l2', 'clf__hidden_layer_sizes': (), 'clf__nb_epoch': 16}\n",
      "0.88773 (+/-0.00000) for {'tfidf__sublinear_tf': False, 'clf__alpha': 0.01, 'vect__max_features': 5000, 'clf__input_dim': 5000, 'clf__batch_size': 200, 'vect__ngram_range': (1, 2), 'vect__analyzer': 'word', 'tfidf__norm': 'l2', 'clf__hidden_layer_sizes': (), 'clf__nb_epoch': 16}\n",
      "0.93372 (+/-0.00000) for {'tfidf__sublinear_tf': False, 'clf__alpha': 1e-05, 'vect__max_features': 10000, 'clf__input_dim': 10000, 'clf__batch_size': 200, 'vect__ngram_range': (1, 2), 'vect__analyzer': 'word', 'tfidf__norm': 'l2', 'clf__hidden_layer_sizes': (), 'clf__nb_epoch': 8}\n",
      "0.94977 (+/-0.00000) for {'tfidf__sublinear_tf': True, 'clf__alpha': 1e-05, 'vect__max_features': 10000, 'clf__input_dim': 10000, 'clf__batch_size': 200, 'vect__ngram_range': (1, 2), 'vect__analyzer': 'word', 'tfidf__norm': 'l2', 'clf__hidden_layer_sizes': (), 'clf__nb_epoch': 16}\n",
      "0.84950 (+/-0.00000) for {'tfidf__sublinear_tf': True, 'clf__alpha': 0.01, 'vect__max_features': 10000, 'clf__input_dim': 10000, 'clf__batch_size': 200, 'vect__ngram_range': (1, 2), 'vect__analyzer': 'word', 'tfidf__norm': 'l2', 'clf__hidden_layer_sizes': (), 'clf__nb_epoch': 4}\n",
      "0.90339 (+/-0.00000) for {'tfidf__sublinear_tf': False, 'clf__alpha': 1e-09, 'vect__max_features': 5000, 'clf__input_dim': 5000, 'clf__batch_size': 200, 'vect__ngram_range': (1, 2), 'vect__analyzer': 'word', 'tfidf__norm': 'l2', 'clf__hidden_layer_sizes': (), 'clf__nb_epoch': 4}\n",
      "0.87127 (+/-0.00000) for {'tfidf__sublinear_tf': False, 'clf__alpha': 0.001, 'vect__max_features': 30000, 'clf__input_dim': 30000, 'clf__batch_size': 200, 'vect__ngram_range': (1, 2), 'vect__analyzer': 'word', 'tfidf__norm': 'l2', 'clf__hidden_layer_sizes': (), 'clf__nb_epoch': 4}\n",
      "0.94447 (+/-0.00000) for {'tfidf__sublinear_tf': False, 'clf__alpha': 1e-09, 'vect__max_features': 5000, 'clf__input_dim': 5000, 'clf__batch_size': 200, 'vect__ngram_range': (1, 2), 'vect__analyzer': 'word', 'tfidf__norm': 'l2', 'clf__hidden_layer_sizes': (), 'clf__nb_epoch': 16}\n",
      "0.90389 (+/-0.00000) for {'tfidf__sublinear_tf': True, 'clf__alpha': 0.01, 'vect__max_features': 5000, 'clf__input_dim': 5000, 'clf__batch_size': 200, 'vect__ngram_range': (1, 2), 'vect__analyzer': 'word', 'tfidf__norm': 'l2', 'clf__hidden_layer_sizes': (), 'clf__nb_epoch': 16}\n",
      "0.93003 (+/-0.00000) for {'tfidf__sublinear_tf': True, 'clf__alpha': 1e-07, 'vect__max_features': 5000, 'clf__input_dim': 5000, 'clf__batch_size': 200, 'vect__ngram_range': (1, 2), 'vect__analyzer': 'word', 'tfidf__norm': 'l2', 'clf__hidden_layer_sizes': (), 'clf__nb_epoch': 8}\n",
      "0.90433 (+/-0.00000) for {'tfidf__sublinear_tf': False, 'clf__alpha': 0.001, 'vect__max_features': 5000, 'clf__input_dim': 5000, 'clf__batch_size': 200, 'vect__ngram_range': (1, 2), 'vect__analyzer': 'word', 'tfidf__norm': 'l2', 'clf__hidden_layer_sizes': (), 'clf__nb_epoch': 8}\n",
      "0.94901 (+/-0.00000) for {'tfidf__sublinear_tf': False, 'clf__alpha': 1e-05, 'vect__max_features': 10000, 'clf__input_dim': 10000, 'clf__batch_size': 200, 'vect__ngram_range': (1, 2), 'vect__analyzer': 'word', 'tfidf__norm': 'l2', 'clf__hidden_layer_sizes': (), 'clf__nb_epoch': 16}\n",
      "0.90490 (+/-0.00000) for {'tfidf__sublinear_tf': False, 'clf__alpha': 0.001, 'vect__max_features': 10000, 'clf__input_dim': 10000, 'clf__batch_size': 200, 'vect__ngram_range': (1, 2), 'vect__analyzer': 'word', 'tfidf__norm': 'l2', 'clf__hidden_layer_sizes': (), 'clf__nb_epoch': 8}\n",
      "0.92965 (+/-0.00000) for {'tfidf__sublinear_tf': True, 'clf__alpha': 1e-09, 'vect__max_features': 5000, 'clf__input_dim': 5000, 'clf__batch_size': 200, 'vect__ngram_range': (1, 2), 'vect__analyzer': 'word', 'tfidf__norm': 'l2', 'clf__hidden_layer_sizes': (), 'clf__nb_epoch': 8}\n",
      "\n",
      " best spearman:  55.5507647987\n",
      "\n",
      " best roc:  94.9772916442\n",
      "\n",
      "\n",
      "\n",
      " linear word ed\n",
      "\n",
      "Best parameters set found:\n",
      "{'tfidf__sublinear_tf': True, 'clf__alpha': 1e-07, 'vect__max_features': 30000, 'clf__input_dim': 30000, 'clf__batch_size': 200, 'vect__ngram_range': (1, 2), 'vect__analyzer': 'word', 'tfidf__norm': 'l2', 'clf__hidden_layer_sizes': (), 'clf__nb_epoch': 16} 0.957567473524\n",
      "\n",
      "\n",
      "Grid scores:\n",
      "0.95757 (+/-0.00000) for {'tfidf__sublinear_tf': True, 'clf__alpha': 1e-07, 'vect__max_features': 30000, 'clf__input_dim': 30000, 'clf__batch_size': 200, 'vect__ngram_range': (1, 2), 'vect__analyzer': 'word', 'tfidf__norm': 'l2', 'clf__hidden_layer_sizes': (), 'clf__nb_epoch': 16}\n",
      "0.95700 (+/-0.00000) for {'tfidf__sublinear_tf': False, 'clf__alpha': 1e-07, 'vect__max_features': 30000, 'clf__input_dim': 30000, 'clf__batch_size': 200, 'vect__ngram_range': (1, 2), 'vect__analyzer': 'word', 'tfidf__norm': 'l2', 'clf__hidden_layer_sizes': (), 'clf__nb_epoch': 16}\n",
      "0.88955 (+/-0.00000) for {'tfidf__sublinear_tf': False, 'clf__alpha': 0.01, 'vect__max_features': 5000, 'clf__input_dim': 5000, 'clf__batch_size': 200, 'vect__ngram_range': (1, 2), 'vect__analyzer': 'word', 'tfidf__norm': 'l2', 'clf__hidden_layer_sizes': (), 'clf__nb_epoch': 16}\n",
      "0.94717 (+/-0.00000) for {'tfidf__sublinear_tf': False, 'clf__alpha': 1e-05, 'vect__max_features': 10000, 'clf__input_dim': 10000, 'clf__batch_size': 200, 'vect__ngram_range': (1, 2), 'vect__analyzer': 'word', 'tfidf__norm': 'l2', 'clf__hidden_layer_sizes': (), 'clf__nb_epoch': 8}\n",
      "0.95446 (+/-0.00000) for {'tfidf__sublinear_tf': True, 'clf__alpha': 1e-05, 'vect__max_features': 10000, 'clf__input_dim': 10000, 'clf__batch_size': 200, 'vect__ngram_range': (1, 2), 'vect__analyzer': 'word', 'tfidf__norm': 'l2', 'clf__hidden_layer_sizes': (), 'clf__nb_epoch': 16}\n",
      "0.89384 (+/-0.00000) for {'tfidf__sublinear_tf': True, 'clf__alpha': 0.01, 'vect__max_features': 10000, 'clf__input_dim': 10000, 'clf__batch_size': 200, 'vect__ngram_range': (1, 2), 'vect__analyzer': 'word', 'tfidf__norm': 'l2', 'clf__hidden_layer_sizes': (), 'clf__nb_epoch': 4}\n",
      "0.92867 (+/-0.00000) for {'tfidf__sublinear_tf': False, 'clf__alpha': 1e-09, 'vect__max_features': 5000, 'clf__input_dim': 5000, 'clf__batch_size': 200, 'vect__ngram_range': (1, 2), 'vect__analyzer': 'word', 'tfidf__norm': 'l2', 'clf__hidden_layer_sizes': (), 'clf__nb_epoch': 4}\n",
      "0.90537 (+/-0.00000) for {'tfidf__sublinear_tf': False, 'clf__alpha': 0.001, 'vect__max_features': 30000, 'clf__input_dim': 30000, 'clf__batch_size': 200, 'vect__ngram_range': (1, 2), 'vect__analyzer': 'word', 'tfidf__norm': 'l2', 'clf__hidden_layer_sizes': (), 'clf__nb_epoch': 4}\n",
      "0.94883 (+/-0.00000) for {'tfidf__sublinear_tf': False, 'clf__alpha': 1e-09, 'vect__max_features': 5000, 'clf__input_dim': 5000, 'clf__batch_size': 200, 'vect__ngram_range': (1, 2), 'vect__analyzer': 'word', 'tfidf__norm': 'l2', 'clf__hidden_layer_sizes': (), 'clf__nb_epoch': 16}\n",
      "0.90742 (+/-0.00000) for {'tfidf__sublinear_tf': True, 'clf__alpha': 0.01, 'vect__max_features': 5000, 'clf__input_dim': 5000, 'clf__batch_size': 200, 'vect__ngram_range': (1, 2), 'vect__analyzer': 'word', 'tfidf__norm': 'l2', 'clf__hidden_layer_sizes': (), 'clf__nb_epoch': 16}\n",
      "0.94291 (+/-0.00000) for {'tfidf__sublinear_tf': True, 'clf__alpha': 1e-07, 'vect__max_features': 5000, 'clf__input_dim': 5000, 'clf__batch_size': 200, 'vect__ngram_range': (1, 2), 'vect__analyzer': 'word', 'tfidf__norm': 'l2', 'clf__hidden_layer_sizes': (), 'clf__nb_epoch': 8}\n",
      "0.91432 (+/-0.00000) for {'tfidf__sublinear_tf': False, 'clf__alpha': 0.001, 'vect__max_features': 5000, 'clf__input_dim': 5000, 'clf__batch_size': 200, 'vect__ngram_range': (1, 2), 'vect__analyzer': 'word', 'tfidf__norm': 'l2', 'clf__hidden_layer_sizes': (), 'clf__nb_epoch': 8}\n",
      "0.95414 (+/-0.00000) for {'tfidf__sublinear_tf': False, 'clf__alpha': 1e-05, 'vect__max_features': 10000, 'clf__input_dim': 10000, 'clf__batch_size': 200, 'vect__ngram_range': (1, 2), 'vect__analyzer': 'word', 'tfidf__norm': 'l2', 'clf__hidden_layer_sizes': (), 'clf__nb_epoch': 16}\n",
      "0.91373 (+/-0.00000) for {'tfidf__sublinear_tf': False, 'clf__alpha': 0.001, 'vect__max_features': 10000, 'clf__input_dim': 10000, 'clf__batch_size': 200, 'vect__ngram_range': (1, 2), 'vect__analyzer': 'word', 'tfidf__norm': 'l2', 'clf__hidden_layer_sizes': (), 'clf__nb_epoch': 8}\n",
      "0.94316 (+/-0.00000) for {'tfidf__sublinear_tf': True, 'clf__alpha': 1e-09, 'vect__max_features': 5000, 'clf__input_dim': 5000, 'clf__batch_size': 200, 'vect__ngram_range': (1, 2), 'vect__analyzer': 'word', 'tfidf__norm': 'l2', 'clf__hidden_layer_sizes': (), 'clf__nb_epoch': 8}\n",
      "\n",
      " best spearman:  65.3323951301\n",
      "\n",
      " best roc:  95.7567473524\n",
      "\n",
      "\n",
      "\n",
      " linear char oh\n",
      "\n",
      "Best parameters set found:\n",
      "{'tfidf__sublinear_tf': True, 'clf__alpha': 1e-07, 'vect__max_features': 30000, 'clf__input_dim': 30000, 'clf__batch_size': 200, 'vect__ngram_range': (1, 5), 'vect__analyzer': 'char', 'tfidf__norm': 'l2', 'clf__hidden_layer_sizes': (), 'clf__nb_epoch': 16} 0.963551611824\n",
      "\n",
      "\n",
      "Grid scores:\n",
      "0.96355 (+/-0.00000) for {'tfidf__sublinear_tf': True, 'clf__alpha': 1e-07, 'vect__max_features': 30000, 'clf__input_dim': 30000, 'clf__batch_size': 200, 'vect__ngram_range': (1, 5), 'vect__analyzer': 'char', 'tfidf__norm': 'l2', 'clf__hidden_layer_sizes': (), 'clf__nb_epoch': 16}\n",
      "0.96151 (+/-0.00000) for {'tfidf__sublinear_tf': False, 'clf__alpha': 1e-07, 'vect__max_features': 30000, 'clf__input_dim': 30000, 'clf__batch_size': 200, 'vect__ngram_range': (1, 5), 'vect__analyzer': 'char', 'tfidf__norm': 'l2', 'clf__hidden_layer_sizes': (), 'clf__nb_epoch': 16}\n",
      "0.84921 (+/-0.00000) for {'tfidf__sublinear_tf': False, 'clf__alpha': 0.01, 'vect__max_features': 5000, 'clf__input_dim': 5000, 'clf__batch_size': 200, 'vect__ngram_range': (1, 5), 'vect__analyzer': 'char', 'tfidf__norm': 'l2', 'clf__hidden_layer_sizes': (), 'clf__nb_epoch': 16}\n",
      "0.94230 (+/-0.00000) for {'tfidf__sublinear_tf': False, 'clf__alpha': 1e-05, 'vect__max_features': 10000, 'clf__input_dim': 10000, 'clf__batch_size': 200, 'vect__ngram_range': (1, 5), 'vect__analyzer': 'char', 'tfidf__norm': 'l2', 'clf__hidden_layer_sizes': (), 'clf__nb_epoch': 8}\n",
      "0.95804 (+/-0.00000) for {'tfidf__sublinear_tf': True, 'clf__alpha': 1e-05, 'vect__max_features': 10000, 'clf__input_dim': 10000, 'clf__batch_size': 200, 'vect__ngram_range': (1, 5), 'vect__analyzer': 'char', 'tfidf__norm': 'l2', 'clf__hidden_layer_sizes': (), 'clf__nb_epoch': 16}\n",
      "0.85020 (+/-0.00000) for {'tfidf__sublinear_tf': True, 'clf__alpha': 0.01, 'vect__max_features': 10000, 'clf__input_dim': 10000, 'clf__batch_size': 200, 'vect__ngram_range': (1, 5), 'vect__analyzer': 'char', 'tfidf__norm': 'l2', 'clf__hidden_layer_sizes': (), 'clf__nb_epoch': 4}\n",
      "0.91893 (+/-0.00000) for {'tfidf__sublinear_tf': False, 'clf__alpha': 1e-09, 'vect__max_features': 5000, 'clf__input_dim': 5000, 'clf__batch_size': 200, 'vect__ngram_range': (1, 5), 'vect__analyzer': 'char', 'tfidf__norm': 'l2', 'clf__hidden_layer_sizes': (), 'clf__nb_epoch': 4}\n",
      "0.86915 (+/-0.00000) for {'tfidf__sublinear_tf': False, 'clf__alpha': 0.001, 'vect__max_features': 30000, 'clf__input_dim': 30000, 'clf__batch_size': 200, 'vect__ngram_range': (1, 5), 'vect__analyzer': 'char', 'tfidf__norm': 'l2', 'clf__hidden_layer_sizes': (), 'clf__nb_epoch': 4}\n",
      "0.94787 (+/-0.00000) for {'tfidf__sublinear_tf': False, 'clf__alpha': 1e-09, 'vect__max_features': 5000, 'clf__input_dim': 5000, 'clf__batch_size': 200, 'vect__ngram_range': (1, 5), 'vect__analyzer': 'char', 'tfidf__norm': 'l2', 'clf__hidden_layer_sizes': (), 'clf__nb_epoch': 16}\n",
      "0.88766 (+/-0.00000) for {'tfidf__sublinear_tf': True, 'clf__alpha': 0.01, 'vect__max_features': 5000, 'clf__input_dim': 5000, 'clf__batch_size': 200, 'vect__ngram_range': (1, 5), 'vect__analyzer': 'char', 'tfidf__norm': 'l2', 'clf__hidden_layer_sizes': (), 'clf__nb_epoch': 16}\n",
      "0.94499 (+/-0.00000) for {'tfidf__sublinear_tf': True, 'clf__alpha': 1e-07, 'vect__max_features': 5000, 'clf__input_dim': 5000, 'clf__batch_size': 200, 'vect__ngram_range': (1, 5), 'vect__analyzer': 'char', 'tfidf__norm': 'l2', 'clf__hidden_layer_sizes': (), 'clf__nb_epoch': 8}\n",
      "0.88992 (+/-0.00000) for {'tfidf__sublinear_tf': False, 'clf__alpha': 0.001, 'vect__max_features': 5000, 'clf__input_dim': 5000, 'clf__batch_size': 200, 'vect__ngram_range': (1, 5), 'vect__analyzer': 'char', 'tfidf__norm': 'l2', 'clf__hidden_layer_sizes': (), 'clf__nb_epoch': 8}\n",
      "0.95420 (+/-0.00000) for {'tfidf__sublinear_tf': False, 'clf__alpha': 1e-05, 'vect__max_features': 10000, 'clf__input_dim': 10000, 'clf__batch_size': 200, 'vect__ngram_range': (1, 5), 'vect__analyzer': 'char', 'tfidf__norm': 'l2', 'clf__hidden_layer_sizes': (), 'clf__nb_epoch': 16}\n",
      "0.89227 (+/-0.00000) for {'tfidf__sublinear_tf': False, 'clf__alpha': 0.001, 'vect__max_features': 10000, 'clf__input_dim': 10000, 'clf__batch_size': 200, 'vect__ngram_range': (1, 5), 'vect__analyzer': 'char', 'tfidf__norm': 'l2', 'clf__hidden_layer_sizes': (), 'clf__nb_epoch': 8}\n",
      "0.94489 (+/-0.00000) for {'tfidf__sublinear_tf': True, 'clf__alpha': 1e-09, 'vect__max_features': 5000, 'clf__input_dim': 5000, 'clf__batch_size': 200, 'vect__ngram_range': (1, 5), 'vect__analyzer': 'char', 'tfidf__norm': 'l2', 'clf__hidden_layer_sizes': (), 'clf__nb_epoch': 8}\n",
      "\n",
      " best spearman:  60.0834022181\n",
      "\n",
      " best roc:  96.3551611824\n",
      "\n",
      "\n",
      "\n",
      " linear char ed\n",
      "\n",
      "Best parameters set found:\n",
      "{'tfidf__sublinear_tf': True, 'clf__alpha': 1e-07, 'vect__max_features': 30000, 'clf__input_dim': 30000, 'clf__batch_size': 200, 'vect__ngram_range': (1, 5), 'vect__analyzer': 'char', 'tfidf__norm': 'l2', 'clf__hidden_layer_sizes': (), 'clf__nb_epoch': 16} 0.964292927646\n",
      "\n",
      "\n",
      "Grid scores:\n",
      "0.96429 (+/-0.00000) for {'tfidf__sublinear_tf': True, 'clf__alpha': 1e-07, 'vect__max_features': 30000, 'clf__input_dim': 30000, 'clf__batch_size': 200, 'vect__ngram_range': (1, 5), 'vect__analyzer': 'char', 'tfidf__norm': 'l2', 'clf__hidden_layer_sizes': (), 'clf__nb_epoch': 16}\n",
      "0.96371 (+/-0.00000) for {'tfidf__sublinear_tf': False, 'clf__alpha': 1e-07, 'vect__max_features': 30000, 'clf__input_dim': 30000, 'clf__batch_size': 200, 'vect__ngram_range': (1, 5), 'vect__analyzer': 'char', 'tfidf__norm': 'l2', 'clf__hidden_layer_sizes': (), 'clf__nb_epoch': 16}\n",
      "0.86595 (+/-0.00000) for {'tfidf__sublinear_tf': False, 'clf__alpha': 0.01, 'vect__max_features': 5000, 'clf__input_dim': 5000, 'clf__batch_size': 200, 'vect__ngram_range': (1, 5), 'vect__analyzer': 'char', 'tfidf__norm': 'l2', 'clf__hidden_layer_sizes': (), 'clf__nb_epoch': 16}\n",
      "0.95135 (+/-0.00000) for {'tfidf__sublinear_tf': False, 'clf__alpha': 1e-05, 'vect__max_features': 10000, 'clf__input_dim': 10000, 'clf__batch_size': 200, 'vect__ngram_range': (1, 5), 'vect__analyzer': 'char', 'tfidf__norm': 'l2', 'clf__hidden_layer_sizes': (), 'clf__nb_epoch': 8}\n",
      "0.95840 (+/-0.00000) for {'tfidf__sublinear_tf': True, 'clf__alpha': 1e-05, 'vect__max_features': 10000, 'clf__input_dim': 10000, 'clf__batch_size': 200, 'vect__ngram_range': (1, 5), 'vect__analyzer': 'char', 'tfidf__norm': 'l2', 'clf__hidden_layer_sizes': (), 'clf__nb_epoch': 16}\n",
      "0.87355 (+/-0.00000) for {'tfidf__sublinear_tf': True, 'clf__alpha': 0.01, 'vect__max_features': 10000, 'clf__input_dim': 10000, 'clf__batch_size': 200, 'vect__ngram_range': (1, 5), 'vect__analyzer': 'char', 'tfidf__norm': 'l2', 'clf__hidden_layer_sizes': (), 'clf__nb_epoch': 4}\n",
      "0.93123 (+/-0.00000) for {'tfidf__sublinear_tf': False, 'clf__alpha': 1e-09, 'vect__max_features': 5000, 'clf__input_dim': 5000, 'clf__batch_size': 200, 'vect__ngram_range': (1, 5), 'vect__analyzer': 'char', 'tfidf__norm': 'l2', 'clf__hidden_layer_sizes': (), 'clf__nb_epoch': 4}\n",
      "0.89752 (+/-0.00000) for {'tfidf__sublinear_tf': False, 'clf__alpha': 0.001, 'vect__max_features': 30000, 'clf__input_dim': 30000, 'clf__batch_size': 200, 'vect__ngram_range': (1, 5), 'vect__analyzer': 'char', 'tfidf__norm': 'l2', 'clf__hidden_layer_sizes': (), 'clf__nb_epoch': 4}\n",
      "0.95124 (+/-0.00000) for {'tfidf__sublinear_tf': False, 'clf__alpha': 1e-09, 'vect__max_features': 5000, 'clf__input_dim': 5000, 'clf__batch_size': 200, 'vect__ngram_range': (1, 5), 'vect__analyzer': 'char', 'tfidf__norm': 'l2', 'clf__hidden_layer_sizes': (), 'clf__nb_epoch': 16}\n",
      "0.89797 (+/-0.00000) for {'tfidf__sublinear_tf': True, 'clf__alpha': 0.01, 'vect__max_features': 5000, 'clf__input_dim': 5000, 'clf__batch_size': 200, 'vect__ngram_range': (1, 5), 'vect__analyzer': 'char', 'tfidf__norm': 'l2', 'clf__hidden_layer_sizes': (), 'clf__nb_epoch': 16}\n",
      "0.94826 (+/-0.00000) for {'tfidf__sublinear_tf': True, 'clf__alpha': 1e-07, 'vect__max_features': 5000, 'clf__input_dim': 5000, 'clf__batch_size': 200, 'vect__ngram_range': (1, 5), 'vect__analyzer': 'char', 'tfidf__norm': 'l2', 'clf__hidden_layer_sizes': (), 'clf__nb_epoch': 8}\n",
      "0.90485 (+/-0.00000) for {'tfidf__sublinear_tf': False, 'clf__alpha': 0.001, 'vect__max_features': 5000, 'clf__input_dim': 5000, 'clf__batch_size': 200, 'vect__ngram_range': (1, 5), 'vect__analyzer': 'char', 'tfidf__norm': 'l2', 'clf__hidden_layer_sizes': (), 'clf__nb_epoch': 8}\n",
      "0.95652 (+/-0.00000) for {'tfidf__sublinear_tf': False, 'clf__alpha': 1e-05, 'vect__max_features': 10000, 'clf__input_dim': 10000, 'clf__batch_size': 200, 'vect__ngram_range': (1, 5), 'vect__analyzer': 'char', 'tfidf__norm': 'l2', 'clf__hidden_layer_sizes': (), 'clf__nb_epoch': 16}\n",
      "0.90776 (+/-0.00000) for {'tfidf__sublinear_tf': False, 'clf__alpha': 0.001, 'vect__max_features': 10000, 'clf__input_dim': 10000, 'clf__batch_size': 200, 'vect__ngram_range': (1, 5), 'vect__analyzer': 'char', 'tfidf__norm': 'l2', 'clf__hidden_layer_sizes': (), 'clf__nb_epoch': 8}\n",
      "0.94815 (+/-0.00000) for {'tfidf__sublinear_tf': True, 'clf__alpha': 1e-09, 'vect__max_features': 5000, 'clf__input_dim': 5000, 'clf__batch_size': 200, 'vect__ngram_range': (1, 5), 'vect__analyzer': 'char', 'tfidf__norm': 'l2', 'clf__hidden_layer_sizes': (), 'clf__nb_epoch': 8}\n",
      "\n",
      " best spearman:  67.5765309648\n",
      "\n",
      " best roc:  96.4292927646\n",
      "\n",
      "\n",
      "\n",
      " mlp word oh\n",
      "\n",
      "Best parameters set found:\n",
      "{'tfidf__sublinear_tf': True, 'clf__alpha': 0.001, 'vect__max_features': 10000, 'clf__input_dim': 10000, 'clf__batch_size': 200, 'vect__ngram_range': (1, 2), 'vect__analyzer': 'word', 'tfidf__norm': 'l2', 'clf__hidden_layer_sizes': (50, 50, 50), 'clf__nb_epoch': 8} 0.953107110233\n",
      "\n",
      "\n",
      "Grid scores:\n",
      "0.94675 (+/-0.00000) for {'tfidf__sublinear_tf': False, 'clf__alpha': 1e-05, 'vect__max_features': 10000, 'clf__input_dim': 10000, 'clf__batch_size': 200, 'vect__ngram_range': (1, 2), 'vect__analyzer': 'word', 'tfidf__norm': 'l2', 'clf__hidden_layer_sizes': (50, 50), 'clf__nb_epoch': 2}\n",
      "0.92688 (+/-0.00000) for {'tfidf__sublinear_tf': False, 'clf__alpha': 1e-09, 'vect__max_features': 30000, 'clf__input_dim': 30000, 'clf__batch_size': 200, 'vect__ngram_range': (1, 2), 'vect__analyzer': 'word', 'tfidf__norm': 'l2', 'clf__hidden_layer_sizes': (50, 50), 'clf__nb_epoch': 16}\n",
      "0.92134 (+/-0.00000) for {'tfidf__sublinear_tf': False, 'clf__alpha': 1e-07, 'vect__max_features': 5000, 'clf__input_dim': 5000, 'clf__batch_size': 200, 'vect__ngram_range': (1, 2), 'vect__analyzer': 'word', 'tfidf__norm': 'l2', 'clf__hidden_layer_sizes': (50, 50), 'clf__nb_epoch': 16}\n",
      "0.94391 (+/-0.00000) for {'tfidf__sublinear_tf': True, 'clf__alpha': 1e-05, 'vect__max_features': 5000, 'clf__input_dim': 5000, 'clf__batch_size': 200, 'vect__ngram_range': (1, 2), 'vect__analyzer': 'word', 'tfidf__norm': 'l2', 'clf__hidden_layer_sizes': (50, 50, 50), 'clf__nb_epoch': 2}\n",
      "0.88535 (+/-0.00000) for {'tfidf__sublinear_tf': False, 'clf__alpha': 0.01, 'vect__max_features': 30000, 'clf__input_dim': 30000, 'clf__batch_size': 200, 'vect__ngram_range': (1, 2), 'vect__analyzer': 'word', 'tfidf__norm': 'l2', 'clf__hidden_layer_sizes': (50, 50), 'clf__nb_epoch': 4}\n",
      "0.95130 (+/-0.00000) for {'tfidf__sublinear_tf': False, 'clf__alpha': 0.001, 'vect__max_features': 30000, 'clf__input_dim': 30000, 'clf__batch_size': 200, 'vect__ngram_range': (1, 2), 'vect__analyzer': 'word', 'tfidf__norm': 'l2', 'clf__hidden_layer_sizes': (50, 50), 'clf__nb_epoch': 4}\n",
      "0.94359 (+/-0.00000) for {'tfidf__sublinear_tf': False, 'clf__alpha': 1e-05, 'vect__max_features': 5000, 'clf__input_dim': 5000, 'clf__batch_size': 200, 'vect__ngram_range': (1, 2), 'vect__analyzer': 'word', 'tfidf__norm': 'l2', 'clf__hidden_layer_sizes': (50, 50, 50), 'clf__nb_epoch': 2}\n",
      "0.50000 (+/-0.00000) for {'tfidf__sublinear_tf': False, 'clf__alpha': 0.01, 'vect__max_features': 30000, 'clf__input_dim': 30000, 'clf__batch_size': 200, 'vect__ngram_range': (1, 2), 'vect__analyzer': 'word', 'tfidf__norm': 'l2', 'clf__hidden_layer_sizes': (50, 50, 50), 'clf__nb_epoch': 16}\n",
      "0.94446 (+/-0.00000) for {'tfidf__sublinear_tf': False, 'clf__alpha': 1e-09, 'vect__max_features': 5000, 'clf__input_dim': 5000, 'clf__batch_size': 200, 'vect__ngram_range': (1, 2), 'vect__analyzer': 'word', 'tfidf__norm': 'l2', 'clf__hidden_layer_sizes': (50,), 'clf__nb_epoch': 4}\n",
      "0.93153 (+/-0.00000) for {'tfidf__sublinear_tf': True, 'clf__alpha': 1e-05, 'vect__max_features': 10000, 'clf__input_dim': 10000, 'clf__batch_size': 200, 'vect__ngram_range': (1, 2), 'vect__analyzer': 'word', 'tfidf__norm': 'l2', 'clf__hidden_layer_sizes': (50, 50, 50), 'clf__nb_epoch': 16}\n",
      "0.95311 (+/-0.00000) for {'tfidf__sublinear_tf': True, 'clf__alpha': 0.001, 'vect__max_features': 10000, 'clf__input_dim': 10000, 'clf__batch_size': 200, 'vect__ngram_range': (1, 2), 'vect__analyzer': 'word', 'tfidf__norm': 'l2', 'clf__hidden_layer_sizes': (50, 50, 50), 'clf__nb_epoch': 8}\n",
      "0.95075 (+/-0.00000) for {'tfidf__sublinear_tf': True, 'clf__alpha': 0.001, 'vect__max_features': 30000, 'clf__input_dim': 30000, 'clf__batch_size': 200, 'vect__ngram_range': (1, 2), 'vect__analyzer': 'word', 'tfidf__norm': 'l2', 'clf__hidden_layer_sizes': (50, 50), 'clf__nb_epoch': 2}\n",
      "0.88224 (+/-0.00000) for {'tfidf__sublinear_tf': False, 'clf__alpha': 0.01, 'vect__max_features': 10000, 'clf__input_dim': 10000, 'clf__batch_size': 200, 'vect__ngram_range': (1, 2), 'vect__analyzer': 'word', 'tfidf__norm': 'l2', 'clf__hidden_layer_sizes': (50,), 'clf__nb_epoch': 2}\n",
      "0.93853 (+/-0.00000) for {'tfidf__sublinear_tf': False, 'clf__alpha': 1e-07, 'vect__max_features': 5000, 'clf__input_dim': 5000, 'clf__batch_size': 200, 'vect__ngram_range': (1, 2), 'vect__analyzer': 'word', 'tfidf__norm': 'l2', 'clf__hidden_layer_sizes': (50,), 'clf__nb_epoch': 8}\n",
      "0.92049 (+/-0.00000) for {'tfidf__sublinear_tf': False, 'clf__alpha': 1e-09, 'vect__max_features': 10000, 'clf__input_dim': 10000, 'clf__batch_size': 200, 'vect__ngram_range': (1, 2), 'vect__analyzer': 'word', 'tfidf__norm': 'l2', 'clf__hidden_layer_sizes': (50, 50, 50), 'clf__nb_epoch': 16}\n",
      "\n",
      " best spearman:  57.0471278323\n",
      "\n",
      " best roc:  95.3107110233\n",
      "\n",
      "\n",
      "\n",
      " mlp word ed\n",
      "\n",
      "Best parameters set found:\n",
      "{'tfidf__sublinear_tf': True, 'clf__alpha': 0.001, 'vect__max_features': 10000, 'clf__input_dim': 10000, 'clf__batch_size': 200, 'vect__ngram_range': (1, 2), 'vect__analyzer': 'word', 'tfidf__norm': 'l2', 'clf__hidden_layer_sizes': (50, 50, 50), 'clf__nb_epoch': 8} 0.953535689532\n",
      "\n",
      "\n",
      "Grid scores:\n",
      "0.95325 (+/-0.00000) for {'tfidf__sublinear_tf': False, 'clf__alpha': 1e-05, 'vect__max_features': 10000, 'clf__input_dim': 10000, 'clf__batch_size': 200, 'vect__ngram_range': (1, 2), 'vect__analyzer': 'word', 'tfidf__norm': 'l2', 'clf__hidden_layer_sizes': (50, 50), 'clf__nb_epoch': 2}\n",
      "0.94452 (+/-0.00000) for {'tfidf__sublinear_tf': False, 'clf__alpha': 1e-09, 'vect__max_features': 30000, 'clf__input_dim': 30000, 'clf__batch_size': 200, 'vect__ngram_range': (1, 2), 'vect__analyzer': 'word', 'tfidf__norm': 'l2', 'clf__hidden_layer_sizes': (50, 50), 'clf__nb_epoch': 16}\n",
      "0.92940 (+/-0.00000) for {'tfidf__sublinear_tf': False, 'clf__alpha': 1e-07, 'vect__max_features': 5000, 'clf__input_dim': 5000, 'clf__batch_size': 200, 'vect__ngram_range': (1, 2), 'vect__analyzer': 'word', 'tfidf__norm': 'l2', 'clf__hidden_layer_sizes': (50, 50), 'clf__nb_epoch': 16}\n",
      "0.94888 (+/-0.00000) for {'tfidf__sublinear_tf': True, 'clf__alpha': 1e-05, 'vect__max_features': 5000, 'clf__input_dim': 5000, 'clf__batch_size': 200, 'vect__ngram_range': (1, 2), 'vect__analyzer': 'word', 'tfidf__norm': 'l2', 'clf__hidden_layer_sizes': (50, 50, 50), 'clf__nb_epoch': 2}\n",
      "0.88775 (+/-0.00000) for {'tfidf__sublinear_tf': False, 'clf__alpha': 0.01, 'vect__max_features': 30000, 'clf__input_dim': 30000, 'clf__batch_size': 200, 'vect__ngram_range': (1, 2), 'vect__analyzer': 'word', 'tfidf__norm': 'l2', 'clf__hidden_layer_sizes': (50, 50), 'clf__nb_epoch': 4}\n",
      "0.95112 (+/-0.00000) for {'tfidf__sublinear_tf': False, 'clf__alpha': 0.001, 'vect__max_features': 30000, 'clf__input_dim': 30000, 'clf__batch_size': 200, 'vect__ngram_range': (1, 2), 'vect__analyzer': 'word', 'tfidf__norm': 'l2', 'clf__hidden_layer_sizes': (50, 50), 'clf__nb_epoch': 4}\n",
      "0.94792 (+/-0.00000) for {'tfidf__sublinear_tf': False, 'clf__alpha': 1e-05, 'vect__max_features': 5000, 'clf__input_dim': 5000, 'clf__batch_size': 200, 'vect__ngram_range': (1, 2), 'vect__analyzer': 'word', 'tfidf__norm': 'l2', 'clf__hidden_layer_sizes': (50, 50, 50), 'clf__nb_epoch': 2}\n",
      "0.50000 (+/-0.00000) for {'tfidf__sublinear_tf': False, 'clf__alpha': 0.01, 'vect__max_features': 30000, 'clf__input_dim': 30000, 'clf__batch_size': 200, 'vect__ngram_range': (1, 2), 'vect__analyzer': 'word', 'tfidf__norm': 'l2', 'clf__hidden_layer_sizes': (50, 50, 50), 'clf__nb_epoch': 16}\n",
      "0.95071 (+/-0.00000) for {'tfidf__sublinear_tf': False, 'clf__alpha': 1e-09, 'vect__max_features': 5000, 'clf__input_dim': 5000, 'clf__batch_size': 200, 'vect__ngram_range': (1, 2), 'vect__analyzer': 'word', 'tfidf__norm': 'l2', 'clf__hidden_layer_sizes': (50,), 'clf__nb_epoch': 4}\n",
      "0.93566 (+/-0.00000) for {'tfidf__sublinear_tf': True, 'clf__alpha': 1e-05, 'vect__max_features': 10000, 'clf__input_dim': 10000, 'clf__batch_size': 200, 'vect__ngram_range': (1, 2), 'vect__analyzer': 'word', 'tfidf__norm': 'l2', 'clf__hidden_layer_sizes': (50, 50, 50), 'clf__nb_epoch': 16}\n",
      "0.95354 (+/-0.00000) for {'tfidf__sublinear_tf': True, 'clf__alpha': 0.001, 'vect__max_features': 10000, 'clf__input_dim': 10000, 'clf__batch_size': 200, 'vect__ngram_range': (1, 2), 'vect__analyzer': 'word', 'tfidf__norm': 'l2', 'clf__hidden_layer_sizes': (50, 50, 50), 'clf__nb_epoch': 8}\n",
      "0.95058 (+/-0.00000) for {'tfidf__sublinear_tf': True, 'clf__alpha': 0.001, 'vect__max_features': 30000, 'clf__input_dim': 30000, 'clf__batch_size': 200, 'vect__ngram_range': (1, 2), 'vect__analyzer': 'word', 'tfidf__norm': 'l2', 'clf__hidden_layer_sizes': (50, 50), 'clf__nb_epoch': 2}\n",
      "0.88806 (+/-0.00000) for {'tfidf__sublinear_tf': False, 'clf__alpha': 0.01, 'vect__max_features': 10000, 'clf__input_dim': 10000, 'clf__batch_size': 200, 'vect__ngram_range': (1, 2), 'vect__analyzer': 'word', 'tfidf__norm': 'l2', 'clf__hidden_layer_sizes': (50,), 'clf__nb_epoch': 2}\n",
      "0.94923 (+/-0.00000) for {'tfidf__sublinear_tf': False, 'clf__alpha': 1e-07, 'vect__max_features': 5000, 'clf__input_dim': 5000, 'clf__batch_size': 200, 'vect__ngram_range': (1, 2), 'vect__analyzer': 'word', 'tfidf__norm': 'l2', 'clf__hidden_layer_sizes': (50,), 'clf__nb_epoch': 8}\n",
      "0.93740 (+/-0.00000) for {'tfidf__sublinear_tf': False, 'clf__alpha': 1e-09, 'vect__max_features': 10000, 'clf__input_dim': 10000, 'clf__batch_size': 200, 'vect__ngram_range': (1, 2), 'vect__analyzer': 'word', 'tfidf__norm': 'l2', 'clf__hidden_layer_sizes': (50, 50, 50), 'clf__nb_epoch': 16}\n",
      "\n",
      " best spearman:  65.2198677035\n",
      "\n",
      " best roc:  95.3535689532\n",
      "\n",
      "\n",
      "\n",
      " mlp char oh\n",
      "\n",
      "Best parameters set found:\n",
      "{'tfidf__sublinear_tf': True, 'clf__alpha': 0.001, 'vect__max_features': 10000, 'clf__input_dim': 10000, 'clf__batch_size': 200, 'vect__ngram_range': (1, 5), 'vect__analyzer': 'char', 'tfidf__norm': 'l2', 'clf__hidden_layer_sizes': (50, 50, 50), 'clf__nb_epoch': 8} 0.95946687607\n",
      "\n",
      "\n",
      "Grid scores:\n",
      "0.95880 (+/-0.00000) for {'tfidf__sublinear_tf': False, 'clf__alpha': 1e-05, 'vect__max_features': 10000, 'clf__input_dim': 10000, 'clf__batch_size': 200, 'vect__ngram_range': (1, 5), 'vect__analyzer': 'char', 'tfidf__norm': 'l2', 'clf__hidden_layer_sizes': (50, 50), 'clf__nb_epoch': 2}\n",
      "0.94531 (+/-0.00000) for {'tfidf__sublinear_tf': False, 'clf__alpha': 1e-09, 'vect__max_features': 30000, 'clf__input_dim': 30000, 'clf__batch_size': 200, 'vect__ngram_range': (1, 5), 'vect__analyzer': 'char', 'tfidf__norm': 'l2', 'clf__hidden_layer_sizes': (50, 50), 'clf__nb_epoch': 16}\n",
      "0.93016 (+/-0.00000) for {'tfidf__sublinear_tf': False, 'clf__alpha': 1e-07, 'vect__max_features': 5000, 'clf__input_dim': 5000, 'clf__batch_size': 200, 'vect__ngram_range': (1, 5), 'vect__analyzer': 'char', 'tfidf__norm': 'l2', 'clf__hidden_layer_sizes': (50, 50), 'clf__nb_epoch': 16}\n",
      "0.95433 (+/-0.00000) for {'tfidf__sublinear_tf': True, 'clf__alpha': 1e-05, 'vect__max_features': 5000, 'clf__input_dim': 5000, 'clf__batch_size': 200, 'vect__ngram_range': (1, 5), 'vect__analyzer': 'char', 'tfidf__norm': 'l2', 'clf__hidden_layer_sizes': (50, 50, 50), 'clf__nb_epoch': 2}\n",
      "0.85381 (+/-0.00000) for {'tfidf__sublinear_tf': False, 'clf__alpha': 0.01, 'vect__max_features': 30000, 'clf__input_dim': 30000, 'clf__batch_size': 200, 'vect__ngram_range': (1, 5), 'vect__analyzer': 'char', 'tfidf__norm': 'l2', 'clf__hidden_layer_sizes': (50, 50), 'clf__nb_epoch': 4}\n",
      "0.95221 (+/-0.00000) for {'tfidf__sublinear_tf': False, 'clf__alpha': 0.001, 'vect__max_features': 30000, 'clf__input_dim': 30000, 'clf__batch_size': 200, 'vect__ngram_range': (1, 5), 'vect__analyzer': 'char', 'tfidf__norm': 'l2', 'clf__hidden_layer_sizes': (50, 50), 'clf__nb_epoch': 4}\n",
      "0.95372 (+/-0.00000) for {'tfidf__sublinear_tf': False, 'clf__alpha': 1e-05, 'vect__max_features': 5000, 'clf__input_dim': 5000, 'clf__batch_size': 200, 'vect__ngram_range': (1, 5), 'vect__analyzer': 'char', 'tfidf__norm': 'l2', 'clf__hidden_layer_sizes': (50, 50, 50), 'clf__nb_epoch': 2}\n",
      "0.50000 (+/-0.00000) for {'tfidf__sublinear_tf': False, 'clf__alpha': 0.01, 'vect__max_features': 30000, 'clf__input_dim': 30000, 'clf__batch_size': 200, 'vect__ngram_range': (1, 5), 'vect__analyzer': 'char', 'tfidf__norm': 'l2', 'clf__hidden_layer_sizes': (50, 50, 50), 'clf__nb_epoch': 16}\n",
      "0.95358 (+/-0.00000) for {'tfidf__sublinear_tf': False, 'clf__alpha': 1e-09, 'vect__max_features': 5000, 'clf__input_dim': 5000, 'clf__batch_size': 200, 'vect__ngram_range': (1, 5), 'vect__analyzer': 'char', 'tfidf__norm': 'l2', 'clf__hidden_layer_sizes': (50,), 'clf__nb_epoch': 4}\n",
      "0.93902 (+/-0.00000) for {'tfidf__sublinear_tf': True, 'clf__alpha': 1e-05, 'vect__max_features': 10000, 'clf__input_dim': 10000, 'clf__batch_size': 200, 'vect__ngram_range': (1, 5), 'vect__analyzer': 'char', 'tfidf__norm': 'l2', 'clf__hidden_layer_sizes': (50, 50, 50), 'clf__nb_epoch': 16}\n",
      "0.95947 (+/-0.00000) for {'tfidf__sublinear_tf': True, 'clf__alpha': 0.001, 'vect__max_features': 10000, 'clf__input_dim': 10000, 'clf__batch_size': 200, 'vect__ngram_range': (1, 5), 'vect__analyzer': 'char', 'tfidf__norm': 'l2', 'clf__hidden_layer_sizes': (50, 50, 50), 'clf__nb_epoch': 8}\n",
      "0.95322 (+/-0.00000) for {'tfidf__sublinear_tf': True, 'clf__alpha': 0.001, 'vect__max_features': 30000, 'clf__input_dim': 30000, 'clf__batch_size': 200, 'vect__ngram_range': (1, 5), 'vect__analyzer': 'char', 'tfidf__norm': 'l2', 'clf__hidden_layer_sizes': (50, 50), 'clf__nb_epoch': 2}\n",
      "0.83712 (+/-0.00000) for {'tfidf__sublinear_tf': False, 'clf__alpha': 0.01, 'vect__max_features': 10000, 'clf__input_dim': 10000, 'clf__batch_size': 200, 'vect__ngram_range': (1, 5), 'vect__analyzer': 'char', 'tfidf__norm': 'l2', 'clf__hidden_layer_sizes': (50,), 'clf__nb_epoch': 2}\n",
      "0.95291 (+/-0.00000) for {'tfidf__sublinear_tf': False, 'clf__alpha': 1e-07, 'vect__max_features': 5000, 'clf__input_dim': 5000, 'clf__batch_size': 200, 'vect__ngram_range': (1, 5), 'vect__analyzer': 'char', 'tfidf__norm': 'l2', 'clf__hidden_layer_sizes': (50,), 'clf__nb_epoch': 8}\n",
      "0.92803 (+/-0.00000) for {'tfidf__sublinear_tf': False, 'clf__alpha': 1e-09, 'vect__max_features': 10000, 'clf__input_dim': 10000, 'clf__batch_size': 200, 'vect__ngram_range': (1, 5), 'vect__analyzer': 'char', 'tfidf__norm': 'l2', 'clf__hidden_layer_sizes': (50, 50, 50), 'clf__nb_epoch': 16}\n",
      "\n",
      " best spearman:  60.6151311614\n",
      "\n",
      " best roc:  95.946687607\n",
      "\n",
      "\n",
      "\n",
      " mlp char ed\n",
      "\n",
      "Best parameters set found:\n",
      "{'tfidf__sublinear_tf': False, 'clf__alpha': 1e-05, 'vect__max_features': 10000, 'clf__input_dim': 10000, 'clf__batch_size': 200, 'vect__ngram_range': (1, 5), 'vect__analyzer': 'char', 'tfidf__norm': 'l2', 'clf__hidden_layer_sizes': (50, 50), 'clf__nb_epoch': 2} 0.959822788986\n",
      "\n",
      "\n",
      "Grid scores:\n",
      "0.95982 (+/-0.00000) for {'tfidf__sublinear_tf': False, 'clf__alpha': 1e-05, 'vect__max_features': 10000, 'clf__input_dim': 10000, 'clf__batch_size': 200, 'vect__ngram_range': (1, 5), 'vect__analyzer': 'char', 'tfidf__norm': 'l2', 'clf__hidden_layer_sizes': (50, 50), 'clf__nb_epoch': 2}\n",
      "0.95249 (+/-0.00000) for {'tfidf__sublinear_tf': False, 'clf__alpha': 1e-09, 'vect__max_features': 30000, 'clf__input_dim': 30000, 'clf__batch_size': 200, 'vect__ngram_range': (1, 5), 'vect__analyzer': 'char', 'tfidf__norm': 'l2', 'clf__hidden_layer_sizes': (50, 50), 'clf__nb_epoch': 16}\n",
      "0.94099 (+/-0.00000) for {'tfidf__sublinear_tf': False, 'clf__alpha': 1e-07, 'vect__max_features': 5000, 'clf__input_dim': 5000, 'clf__batch_size': 200, 'vect__ngram_range': (1, 5), 'vect__analyzer': 'char', 'tfidf__norm': 'l2', 'clf__hidden_layer_sizes': (50, 50), 'clf__nb_epoch': 16}\n",
      "0.95550 (+/-0.00000) for {'tfidf__sublinear_tf': True, 'clf__alpha': 1e-05, 'vect__max_features': 5000, 'clf__input_dim': 5000, 'clf__batch_size': 200, 'vect__ngram_range': (1, 5), 'vect__analyzer': 'char', 'tfidf__norm': 'l2', 'clf__hidden_layer_sizes': (50, 50, 50), 'clf__nb_epoch': 2}\n",
      "0.84392 (+/-0.00000) for {'tfidf__sublinear_tf': False, 'clf__alpha': 0.01, 'vect__max_features': 30000, 'clf__input_dim': 30000, 'clf__batch_size': 200, 'vect__ngram_range': (1, 5), 'vect__analyzer': 'char', 'tfidf__norm': 'l2', 'clf__hidden_layer_sizes': (50, 50), 'clf__nb_epoch': 4}\n",
      "0.95328 (+/-0.00000) for {'tfidf__sublinear_tf': False, 'clf__alpha': 0.001, 'vect__max_features': 30000, 'clf__input_dim': 30000, 'clf__batch_size': 200, 'vect__ngram_range': (1, 5), 'vect__analyzer': 'char', 'tfidf__norm': 'l2', 'clf__hidden_layer_sizes': (50, 50), 'clf__nb_epoch': 4}\n",
      "0.95445 (+/-0.00000) for {'tfidf__sublinear_tf': False, 'clf__alpha': 1e-05, 'vect__max_features': 5000, 'clf__input_dim': 5000, 'clf__batch_size': 200, 'vect__ngram_range': (1, 5), 'vect__analyzer': 'char', 'tfidf__norm': 'l2', 'clf__hidden_layer_sizes': (50, 50, 50), 'clf__nb_epoch': 2}\n",
      "0.50000 (+/-0.00000) for {'tfidf__sublinear_tf': False, 'clf__alpha': 0.01, 'vect__max_features': 30000, 'clf__input_dim': 30000, 'clf__batch_size': 200, 'vect__ngram_range': (1, 5), 'vect__analyzer': 'char', 'tfidf__norm': 'l2', 'clf__hidden_layer_sizes': (50, 50, 50), 'clf__nb_epoch': 16}\n",
      "0.95571 (+/-0.00000) for {'tfidf__sublinear_tf': False, 'clf__alpha': 1e-09, 'vect__max_features': 5000, 'clf__input_dim': 5000, 'clf__batch_size': 200, 'vect__ngram_range': (1, 5), 'vect__analyzer': 'char', 'tfidf__norm': 'l2', 'clf__hidden_layer_sizes': (50,), 'clf__nb_epoch': 4}\n",
      "0.94547 (+/-0.00000) for {'tfidf__sublinear_tf': True, 'clf__alpha': 1e-05, 'vect__max_features': 10000, 'clf__input_dim': 10000, 'clf__batch_size': 200, 'vect__ngram_range': (1, 5), 'vect__analyzer': 'char', 'tfidf__norm': 'l2', 'clf__hidden_layer_sizes': (50, 50, 50), 'clf__nb_epoch': 16}\n",
      "0.95692 (+/-0.00000) for {'tfidf__sublinear_tf': True, 'clf__alpha': 0.001, 'vect__max_features': 10000, 'clf__input_dim': 10000, 'clf__batch_size': 200, 'vect__ngram_range': (1, 5), 'vect__analyzer': 'char', 'tfidf__norm': 'l2', 'clf__hidden_layer_sizes': (50, 50, 50), 'clf__nb_epoch': 8}\n",
      "0.95184 (+/-0.00000) for {'tfidf__sublinear_tf': True, 'clf__alpha': 0.001, 'vect__max_features': 30000, 'clf__input_dim': 30000, 'clf__batch_size': 200, 'vect__ngram_range': (1, 5), 'vect__analyzer': 'char', 'tfidf__norm': 'l2', 'clf__hidden_layer_sizes': (50, 50), 'clf__nb_epoch': 2}\n",
      "0.86378 (+/-0.00000) for {'tfidf__sublinear_tf': False, 'clf__alpha': 0.01, 'vect__max_features': 10000, 'clf__input_dim': 10000, 'clf__batch_size': 200, 'vect__ngram_range': (1, 5), 'vect__analyzer': 'char', 'tfidf__norm': 'l2', 'clf__hidden_layer_sizes': (50,), 'clf__nb_epoch': 2}\n",
      "0.95827 (+/-0.00000) for {'tfidf__sublinear_tf': False, 'clf__alpha': 1e-07, 'vect__max_features': 5000, 'clf__input_dim': 5000, 'clf__batch_size': 200, 'vect__ngram_range': (1, 5), 'vect__analyzer': 'char', 'tfidf__norm': 'l2', 'clf__hidden_layer_sizes': (50,), 'clf__nb_epoch': 8}\n",
      "0.94134 (+/-0.00000) for {'tfidf__sublinear_tf': False, 'clf__alpha': 1e-09, 'vect__max_features': 10000, 'clf__input_dim': 10000, 'clf__batch_size': 200, 'vect__ngram_range': (1, 5), 'vect__analyzer': 'char', 'tfidf__norm': 'l2', 'clf__hidden_layer_sizes': (50, 50, 50), 'clf__nb_epoch': 16}\n",
      "\n",
      " best spearman:  67.1037518194\n",
      "\n",
      " best roc:  95.9822788986\n",
      "time: 8h 27min 22s\n"
     ]
    }
   ],
   "source": [
    "for model in ['linear', 'mlp']:\n",
    "    for gram in ['word', 'char']:\n",
    "        for label in ['oh', 'ed']:\n",
    "            params = {}\n",
    "            \n",
    "            if model == 'linear':\n",
    "                params.update(linear_clf_params)\n",
    "            else:\n",
    "                params.update(mlp_clf_params)\n",
    "                \n",
    "            params.update(tfidf_params)\n",
    "                \n",
    "            if gram == 'char':\n",
    "                params.update(char_vec_params)\n",
    "            else:\n",
    "                params.update(word_vect_params)\n",
    "                \n",
    "            if label == 'oh':\n",
    "                y_train = y_train_ohm\n",
    "                y_dev = y_dev_ohm\n",
    "            else:\n",
    "                y_train = y_train_ed\n",
    "                y_dev = y_dev_ed\n",
    "            \n",
    "            print('\\n\\n\\n %s %s %s' % (model, gram, label))\n",
    "            cv = tune (X_train, y_train, X_dev, y_dev,\n",
    "                      alg, params,\n",
    "                      n_iter,\n",
    "                      roc_scorer,\n",
    "                      n_jobs = 1,\n",
    "                      verbose = True,\n",
    "                      dependencies = dependencies)\n",
    "            \n",
    "            save_best_estimator(cv, path, '%s_%s_%s' % (model, gram, label))\n",
    "            est = get_best_estimator(cv)\n",
    "            est.fit(X_train, y_train)\n",
    "            \n",
    "            best_spearman = spearman_scorer(est, X_dev, y_dev_ed) * 100\n",
    "            print (\"\\n best spearman: \", best_spearman)\n",
    "            best_roc = max(cv.grid_scores_, key=lambda x: x[1])[1] * 100\n",
    "            print (\"\\n best roc: \", best_roc)\n",
    "            \n",
    "            results_list.append({'model_type': model,\n",
    "                                 'ngram_type': gram,\n",
    "                                 'label_type' : label,\n",
    "                                 'cv': cv.grid_scores_,\n",
    "                                 'best_roc': round(best_roc, 3),\n",
    "                                 'best_spearman': round(best_spearman, 3)\n",
    "                                })"
   ]
  },
  {
   "cell_type": "code",
   "execution_count": 20,
   "metadata": {
    "collapsed": false
   },
   "outputs": [
    {
     "name": "stdout",
     "output_type": "stream",
     "text": [
      "time: 2.6 ms\n"
     ]
    }
   ],
   "source": [
    "results_df = pd.DataFrame(results_list)"
   ]
  },
  {
   "cell_type": "code",
   "execution_count": 21,
   "metadata": {
    "collapsed": false
   },
   "outputs": [
    {
     "data": {
      "text/html": [
       "<div>\n",
       "<table border=\"1\" class=\"dataframe\">\n",
       "  <thead>\n",
       "    <tr style=\"text-align: right;\">\n",
       "      <th></th>\n",
       "      <th>best_roc</th>\n",
       "      <th>best_spearman</th>\n",
       "      <th>cv</th>\n",
       "      <th>label_type</th>\n",
       "      <th>model_type</th>\n",
       "      <th>ngram_type</th>\n",
       "    </tr>\n",
       "  </thead>\n",
       "  <tbody>\n",
       "    <tr>\n",
       "      <th>0</th>\n",
       "      <td>94.977</td>\n",
       "      <td>55.551</td>\n",
       "      <td>[({'tfidf__sublinear_tf': True, 'clf__alpha': ...</td>\n",
       "      <td>oh</td>\n",
       "      <td>linear</td>\n",
       "      <td>word</td>\n",
       "    </tr>\n",
       "    <tr>\n",
       "      <th>1</th>\n",
       "      <td>95.757</td>\n",
       "      <td>65.332</td>\n",
       "      <td>[({'tfidf__sublinear_tf': True, 'clf__alpha': ...</td>\n",
       "      <td>ed</td>\n",
       "      <td>linear</td>\n",
       "      <td>word</td>\n",
       "    </tr>\n",
       "    <tr>\n",
       "      <th>2</th>\n",
       "      <td>96.355</td>\n",
       "      <td>60.083</td>\n",
       "      <td>[({'tfidf__sublinear_tf': True, 'clf__alpha': ...</td>\n",
       "      <td>oh</td>\n",
       "      <td>linear</td>\n",
       "      <td>char</td>\n",
       "    </tr>\n",
       "    <tr>\n",
       "      <th>3</th>\n",
       "      <td>96.429</td>\n",
       "      <td>67.577</td>\n",
       "      <td>[({'tfidf__sublinear_tf': True, 'clf__alpha': ...</td>\n",
       "      <td>ed</td>\n",
       "      <td>linear</td>\n",
       "      <td>char</td>\n",
       "    </tr>\n",
       "    <tr>\n",
       "      <th>4</th>\n",
       "      <td>95.311</td>\n",
       "      <td>57.047</td>\n",
       "      <td>[({'tfidf__sublinear_tf': False, 'clf__alpha':...</td>\n",
       "      <td>oh</td>\n",
       "      <td>mlp</td>\n",
       "      <td>word</td>\n",
       "    </tr>\n",
       "    <tr>\n",
       "      <th>5</th>\n",
       "      <td>95.354</td>\n",
       "      <td>65.220</td>\n",
       "      <td>[({'tfidf__sublinear_tf': False, 'clf__alpha':...</td>\n",
       "      <td>ed</td>\n",
       "      <td>mlp</td>\n",
       "      <td>word</td>\n",
       "    </tr>\n",
       "    <tr>\n",
       "      <th>6</th>\n",
       "      <td>95.947</td>\n",
       "      <td>60.615</td>\n",
       "      <td>[({'tfidf__sublinear_tf': False, 'clf__alpha':...</td>\n",
       "      <td>oh</td>\n",
       "      <td>mlp</td>\n",
       "      <td>char</td>\n",
       "    </tr>\n",
       "    <tr>\n",
       "      <th>7</th>\n",
       "      <td>95.982</td>\n",
       "      <td>67.104</td>\n",
       "      <td>[({'tfidf__sublinear_tf': False, 'clf__alpha':...</td>\n",
       "      <td>ed</td>\n",
       "      <td>mlp</td>\n",
       "      <td>char</td>\n",
       "    </tr>\n",
       "  </tbody>\n",
       "</table>\n",
       "</div>"
      ],
      "text/plain": [
       "   best_roc  best_spearman                                                 cv  \\\n",
       "0    94.977         55.551  [({'tfidf__sublinear_tf': True, 'clf__alpha': ...   \n",
       "1    95.757         65.332  [({'tfidf__sublinear_tf': True, 'clf__alpha': ...   \n",
       "2    96.355         60.083  [({'tfidf__sublinear_tf': True, 'clf__alpha': ...   \n",
       "3    96.429         67.577  [({'tfidf__sublinear_tf': True, 'clf__alpha': ...   \n",
       "4    95.311         57.047  [({'tfidf__sublinear_tf': False, 'clf__alpha':...   \n",
       "5    95.354         65.220  [({'tfidf__sublinear_tf': False, 'clf__alpha':...   \n",
       "6    95.947         60.615  [({'tfidf__sublinear_tf': False, 'clf__alpha':...   \n",
       "7    95.982         67.104  [({'tfidf__sublinear_tf': False, 'clf__alpha':...   \n",
       "\n",
       "  label_type model_type ngram_type  \n",
       "0         oh     linear       word  \n",
       "1         ed     linear       word  \n",
       "2         oh     linear       char  \n",
       "3         ed     linear       char  \n",
       "4         oh        mlp       word  \n",
       "5         ed        mlp       word  \n",
       "6         oh        mlp       char  \n",
       "7         ed        mlp       char  "
      ]
     },
     "execution_count": 21,
     "metadata": {},
     "output_type": "execute_result"
    },
    {
     "name": "stdout",
     "output_type": "stream",
     "text": [
      "time: 98.5 ms\n"
     ]
    }
   ],
   "source": [
    "results_df"
   ]
  },
  {
   "cell_type": "code",
   "execution_count": 30,
   "metadata": {
    "collapsed": false
   },
   "outputs": [
    {
     "data": {
      "text/plain": [
       "0.94905679423161959"
      ]
     },
     "execution_count": 30,
     "metadata": {},
     "output_type": "execute_result"
    },
    {
     "name": "stdout",
     "output_type": "stream",
     "text": [
      "time: 2.29 ms\n"
     ]
    }
   ],
   "source": [
    "grid_scores[0].mean_validation_score"
   ]
  },
  {
   "cell_type": "code",
   "execution_count": 32,
   "metadata": {
    "collapsed": false
   },
   "outputs": [
    {
     "data": {
      "text/plain": [
       "{'clf__alpha': 1e-05,\n",
       " 'clf__batch_size': 200,\n",
       " 'clf__hidden_layer_sizes': (),\n",
       " 'clf__input_dim': 10000,\n",
       " 'clf__nb_epoch': 16,\n",
       " 'tfidf__norm': 'l2',\n",
       " 'tfidf__sublinear_tf': True,\n",
       " 'vect__analyzer': 'word',\n",
       " 'vect__max_features': 10000,\n",
       " 'vect__ngram_range': (1, 2)}"
      ]
     },
     "execution_count": 32,
     "metadata": {},
     "output_type": "execute_result"
    },
    {
     "name": "stdout",
     "output_type": "stream",
     "text": [
      "time: 3.34 ms\n"
     ]
    }
   ],
   "source": [
    "grid_scores = results_df['cv'][0]\n",
    "max(grid_scores, key = lambda x: x.mean_validation_score).parameters"
   ]
  },
  {
   "cell_type": "code",
   "execution_count": 33,
   "metadata": {
    "collapsed": false
   },
   "outputs": [
    {
     "name": "stdout",
     "output_type": "stream",
     "text": [
      "time: 6.74 ms\n"
     ]
    }
   ],
   "source": [
    "import json\n",
    "\n",
    "def get_best_params(grid_scores):\n",
    "    return json.dumps(max(grid_scores, key = lambda x: x.mean_validation_score).parameters)\n",
    "\n",
    "results_df['best_params'] = results_df['cv'].apply(get_best_params)"
   ]
  },
  {
   "cell_type": "code",
   "execution_count": 34,
   "metadata": {
    "collapsed": false
   },
   "outputs": [
    {
     "name": "stdout",
     "output_type": "stream",
     "text": [
      "time: 6.51 ms\n"
     ]
    }
   ],
   "source": [
    "results_df.to_csv('cv_results.csv')"
   ]
  },
  {
   "cell_type": "markdown",
   "metadata": {
    "collapsed": true
   },
   "source": [
    "## LSTM"
   ]
  },
  {
   "cell_type": "code",
   "execution_count": 86,
   "metadata": {
    "collapsed": false
   },
   "outputs": [
    {
     "name": "stdout",
     "output_type": "stream",
     "text": [
      "time: 138 ms\n"
     ]
    }
   ],
   "source": [
    "alg = Pipeline([\n",
    "    ('seq', SequenceTransformer()),\n",
    "    ('clf', KerasClassifier(build_fn=make_lstm, output_dim = 2, verbose=True)),\n",
    "])\n",
    "\n",
    "dependencies = [( 'seq__max_features', 'clf__max_features'),\n",
    "                ( 'seq__max_len', 'clf__max_len')]"
   ]
  },
  {
   "cell_type": "code",
   "execution_count": 87,
   "metadata": {
    "collapsed": false
   },
   "outputs": [
    {
     "name": "stdout",
     "output_type": "stream",
     "text": [
      "time: 104 ms\n"
     ]
    }
   ],
   "source": [
    "word_seq_params = {\n",
    "    'seq__max_features' : (5000, 10000, 30000),\n",
    "    'seq__max_len' : (100, 200, 500),\n",
    "    'seq__analyzer' : ('word',)\n",
    "}\n",
    "\n",
    "char_seq_params = {\n",
    "    'seq__max_features' : (100,),\n",
    "    'seq__max_len' : (200, 500, 1000),\n",
    "    'seq__analyzer' : ('char',)\n",
    "}\n",
    "\n",
    "clf_params = {\n",
    "    'clf__dropout' : (0.1, 0.2, 0.4),\n",
    "    'clf__embedding_size' : (64, 128),\n",
    "    'clf__lstm_output_size': (64, 128),\n",
    "    'clf__nb_epoch' : (2,3,4),\n",
    "    'clf__batch_size': (200,)\n",
    "}"
   ]
  },
  {
   "cell_type": "code",
   "execution_count": 88,
   "metadata": {
    "collapsed": false
   },
   "outputs": [
    {
     "name": "stdout",
     "output_type": "stream",
     "text": [
      "time: 27.7 ms\n"
     ]
    }
   ],
   "source": [
    "from pprint import pprint"
   ]
  },
  {
   "cell_type": "code",
   "execution_count": 89,
   "metadata": {
    "collapsed": false
   },
   "outputs": [
    {
     "name": "stdout",
     "output_type": "stream",
     "text": [
      "{'clf__batch_size': (200,),\n",
      " 'clf__dropout': (0.1, 0.2, 0.4),\n",
      " 'clf__embedding_size': (64, 128),\n",
      " 'clf__lstm_output_size': (64, 128),\n",
      " 'clf__nb_epoch': (2, 3, 4),\n",
      " 'seq__analyzer': ('word',),\n",
      " 'seq__max_features': (5000, 10000, 30000),\n",
      " 'seq__max_len': (100, 200, 500)}\n",
      "\n",
      "\n",
      "\n",
      " lstm word oh\n",
      "Epoch 1/2\n",
      "69490/69490 [==============================] - 260s - loss: 0.2296 - mean_squared_error: 0.0650   \n",
      "Epoch 2/2\n",
      "69490/69490 [==============================] - 283s - loss: 0.1254 - mean_squared_error: 0.0349   \n",
      "23170/23170 [==============================] - 42s    \n",
      "Epoch 1/2\n",
      "69490/69490 [==============================] - 1269s - loss: 0.2400 - mean_squared_error: 0.0680  \n",
      "Epoch 2/2\n",
      "69490/69490 [==============================] - 1281s - loss: 0.1510 - mean_squared_error: 0.0417  \n",
      "23170/23170 [==============================] - 156s   \n",
      "Epoch 1/2\n",
      "69490/69490 [==============================] - 276s - loss: 0.3232 - mean_squared_error: 0.0938   \n",
      "Epoch 2/2\n",
      "69490/69490 [==============================] - 312s - loss: 0.1747 - mean_squared_error: 0.0479   \n",
      "23170/23170 [==============================] - 57s    \n",
      "Epoch 1/2\n",
      "69490/69490 [==============================] - 689s - loss: 0.2768 - mean_squared_error: 0.0797   \n",
      "Epoch 2/2\n",
      "69490/69490 [==============================] - 677s - loss: 0.1569 - mean_squared_error: 0.0429   \n",
      "23170/23170 [==============================] - 94s    \n",
      "Epoch 1/3\n",
      "69490/69490 [==============================] - 939s - loss: 0.3656 - mean_squared_error: 0.1090   \n",
      "Epoch 2/3\n",
      "69490/69490 [==============================] - 958s - loss: 0.2330 - mean_squared_error: 0.0646   \n",
      "Epoch 3/3\n",
      "69490/69490 [==============================] - 926s - loss: 0.2011 - mean_squared_error: 0.0554   \n",
      "23170/23170 [==============================] - 143s   \n",
      "Epoch 1/4\n",
      "69490/69490 [==============================] - 547s - loss: 0.2377 - mean_squared_error: 0.0673   \n",
      "Epoch 2/4\n",
      "69490/69490 [==============================] - 521s - loss: 0.1353 - mean_squared_error: 0.0377   \n",
      "Epoch 3/4\n",
      "69490/69490 [==============================] - 580s - loss: 0.1069 - mean_squared_error: 0.0301   \n",
      "Epoch 4/4\n",
      "69490/69490 [==============================] - 583s - loss: 0.0984 - mean_squared_error: 0.0276   \n",
      "23170/23170 [==============================] - 108s   \n",
      "Epoch 1/2\n",
      "69490/69490 [==============================] - 1480s - loss: 0.2406 - mean_squared_error: 0.0683  \n",
      "Epoch 2/2\n",
      "69490/69490 [==============================] - 1462s - loss: 0.1438 - mean_squared_error: 0.0396  \n",
      "23170/23170 [==============================] - 247s   \n",
      "Epoch 1/4\n",
      "69490/69490 [==============================] - 332s - loss: 0.2591 - mean_squared_error: 0.0735   \n",
      "Epoch 2/4\n",
      "69490/69490 [==============================] - 322s - loss: 0.1521 - mean_squared_error: 0.0421   \n",
      "Epoch 3/4\n",
      "69490/69490 [==============================] - 284s - loss: 0.1375 - mean_squared_error: 0.0381   \n",
      "Epoch 4/4\n",
      "69490/69490 [==============================] - 281s - loss: 0.1379 - mean_squared_error: 0.0383   \n",
      "23170/23170 [==============================] - 89s    \n",
      "Epoch 1/2\n",
      "69490/69490 [==============================] - 402s - loss: 0.2273 - mean_squared_error: 0.0643   \n",
      "Epoch 2/2\n",
      "69490/69490 [==============================] - 396s - loss: 0.1297 - mean_squared_error: 0.0361   \n",
      "23170/23170 [==============================] - 100s   \n",
      "Epoch 1/4\n",
      "69490/69490 [==============================] - 168s - loss: 0.3410 - mean_squared_error: 0.0995   \n",
      "Epoch 2/4\n",
      "69490/69490 [==============================] - 163s - loss: 0.1804 - mean_squared_error: 0.0491   \n",
      "Epoch 3/4\n",
      "69490/69490 [==============================] - 178s - loss: 0.1427 - mean_squared_error: 0.0387   \n",
      "Epoch 4/4\n",
      "69490/69490 [==============================] - 187s - loss: 0.1247 - mean_squared_error: 0.0345   \n",
      "23170/23170 [==============================] - 72s    \n",
      "Epoch 1/4\n",
      "69490/69490 [==============================] - 490s - loss: 0.2478 - mean_squared_error: 0.0703   \n",
      "Epoch 2/4\n",
      "69490/69490 [==============================] - 444s - loss: 0.1485 - mean_squared_error: 0.0413   \n",
      "Epoch 3/4\n",
      "69490/69490 [==============================] - 435s - loss: 0.1376 - mean_squared_error: 0.0381   \n",
      "Epoch 4/4\n",
      "69490/69490 [==============================] - 431s - loss: 0.1302 - mean_squared_error: 0.0366   \n",
      "23170/23170 [==============================] - 104s   \n",
      "Epoch 1/4\n",
      "69490/69490 [==============================] - 485s - loss: 0.2291 - mean_squared_error: 0.0648   \n",
      "Epoch 2/4\n",
      "69490/69490 [==============================] - 436s - loss: 0.1344 - mean_squared_error: 0.0376   \n",
      "Epoch 3/4\n",
      "69490/69490 [==============================] - 434s - loss: 0.1165 - mean_squared_error: 0.0327   \n",
      "Epoch 4/4\n",
      "69490/69490 [==============================] - 432s - loss: 0.1114 - mean_squared_error: 0.0317   \n",
      "23170/23170 [==============================] - 113s   \n",
      "Epoch 1/2\n",
      "69490/69490 [==============================] - 1172s - loss: 0.4676 - mean_squared_error: 0.1481  \n",
      "Epoch 2/2\n",
      "69490/69490 [==============================] - 1097s - loss: 0.3693 - mean_squared_error: 0.1072  \n",
      "23170/23170 [==============================] - 200s   \n",
      "Epoch 1/4\n",
      "69490/69490 [==============================] - 1180s - loss: 0.4272 - mean_squared_error: 0.1312  \n",
      "Epoch 2/4\n",
      "69490/69490 [==============================] - 1094s - loss: 0.3459 - mean_squared_error: 0.0996  \n",
      "Epoch 3/4\n",
      "69490/69490 [==============================] - 1088s - loss: 0.3266 - mean_squared_error: 0.0940  \n",
      "Epoch 4/4\n",
      "69490/69490 [==============================] - 1085s - loss: 0.3106 - mean_squared_error: 0.0887  \n",
      "23170/23170 [==============================] - 227s   \n",
      "Epoch 1/3\n",
      "69490/69490 [==============================] - 327s - loss: 0.2177 - mean_squared_error: 0.0614   \n",
      "Epoch 2/3\n",
      "69490/69490 [==============================] - 251s - loss: 0.1318 - mean_squared_error: 0.0369   \n",
      "Epoch 3/3\n",
      "69490/69490 [==============================] - 251s - loss: 0.1192 - mean_squared_error: 0.0334   \n",
      "23170/23170 [==============================] - 112s   \n",
      "\n",
      "Best parameters set found:\n",
      "{'clf__lstm_output_size': 128, 'seq__max_len': 100, 'seq__max_features': 30000, 'clf__embedding_size': 64, 'clf__dropout': 0.1, 'clf__nb_epoch': 2, 'clf__batch_size': 200, 'clf__max_len': 100, 'seq__analyzer': 'word', 'clf__max_features': 30000} 0.956421659086\n",
      "\n",
      "\n",
      "Grid scores:\n",
      "0.95642 (+/-0.00000) for {'clf__lstm_output_size': 128, 'seq__max_len': 100, 'seq__max_features': 30000, 'clf__embedding_size': 64, 'clf__dropout': 0.1, 'clf__nb_epoch': 2, 'clf__batch_size': 200, 'clf__max_len': 100, 'seq__analyzer': 'word', 'clf__max_features': 30000}\n",
      "0.94997 (+/-0.00000) for {'clf__lstm_output_size': 128, 'seq__max_len': 500, 'seq__max_features': 5000, 'clf__embedding_size': 64, 'clf__dropout': 0.1, 'clf__nb_epoch': 2, 'clf__batch_size': 200, 'clf__max_len': 500, 'seq__analyzer': 'word', 'clf__max_features': 5000}\n",
      "0.93990 (+/-0.00000) for {'clf__lstm_output_size': 128, 'seq__max_len': 100, 'seq__max_features': 10000, 'clf__embedding_size': 64, 'clf__dropout': 0.4, 'clf__nb_epoch': 2, 'clf__batch_size': 200, 'clf__max_len': 100, 'seq__analyzer': 'word', 'clf__max_features': 10000}\n",
      "0.95136 (+/-0.00000) for {'clf__lstm_output_size': 64, 'seq__max_len': 500, 'seq__max_features': 5000, 'clf__embedding_size': 64, 'clf__dropout': 0.2, 'clf__nb_epoch': 2, 'clf__batch_size': 200, 'clf__max_len': 500, 'seq__analyzer': 'word', 'clf__max_features': 5000}\n",
      "0.91441 (+/-0.00000) for {'clf__lstm_output_size': 64, 'seq__max_len': 500, 'seq__max_features': 5000, 'clf__embedding_size': 128, 'clf__dropout': 0.4, 'clf__nb_epoch': 3, 'clf__batch_size': 200, 'clf__max_len': 500, 'seq__analyzer': 'word', 'clf__max_features': 5000}\n",
      "0.95298 (+/-0.00000) for {'clf__lstm_output_size': 128, 'seq__max_len': 200, 'seq__max_features': 30000, 'clf__embedding_size': 128, 'clf__dropout': 0.2, 'clf__nb_epoch': 4, 'clf__batch_size': 200, 'clf__max_len': 200, 'seq__analyzer': 'word', 'clf__max_features': 30000}\n",
      "0.95329 (+/-0.00000) for {'clf__lstm_output_size': 128, 'seq__max_len': 500, 'seq__max_features': 5000, 'clf__embedding_size': 128, 'clf__dropout': 0.2, 'clf__nb_epoch': 2, 'clf__batch_size': 200, 'clf__max_len': 500, 'seq__analyzer': 'word', 'clf__max_features': 5000}\n",
      "0.94681 (+/-0.00000) for {'clf__lstm_output_size': 64, 'seq__max_len': 200, 'seq__max_features': 5000, 'clf__embedding_size': 64, 'clf__dropout': 0.2, 'clf__nb_epoch': 4, 'clf__batch_size': 200, 'clf__max_len': 200, 'seq__analyzer': 'word', 'clf__max_features': 5000}\n",
      "0.95531 (+/-0.00000) for {'clf__lstm_output_size': 64, 'seq__max_len': 200, 'seq__max_features': 30000, 'clf__embedding_size': 128, 'clf__dropout': 0.1, 'clf__nb_epoch': 2, 'clf__batch_size': 200, 'clf__max_len': 200, 'seq__analyzer': 'word', 'clf__max_features': 30000}\n",
      "0.94428 (+/-0.00000) for {'clf__lstm_output_size': 64, 'seq__max_len': 100, 'seq__max_features': 30000, 'clf__embedding_size': 64, 'clf__dropout': 0.4, 'clf__nb_epoch': 4, 'clf__batch_size': 200, 'clf__max_len': 100, 'seq__analyzer': 'word', 'clf__max_features': 30000}\n",
      "0.94213 (+/-0.00000) for {'clf__lstm_output_size': 128, 'seq__max_len': 200, 'seq__max_features': 5000, 'clf__embedding_size': 64, 'clf__dropout': 0.2, 'clf__nb_epoch': 4, 'clf__batch_size': 200, 'clf__max_len': 200, 'seq__analyzer': 'word', 'clf__max_features': 5000}\n",
      "0.94981 (+/-0.00000) for {'clf__lstm_output_size': 128, 'seq__max_len': 200, 'seq__max_features': 10000, 'clf__embedding_size': 64, 'clf__dropout': 0.1, 'clf__nb_epoch': 4, 'clf__batch_size': 200, 'clf__max_len': 200, 'seq__analyzer': 'word', 'clf__max_features': 10000}\n",
      "0.83035 (+/-0.00000) for {'clf__lstm_output_size': 128, 'seq__max_len': 500, 'seq__max_features': 30000, 'clf__embedding_size': 64, 'clf__dropout': 0.4, 'clf__nb_epoch': 2, 'clf__batch_size': 200, 'clf__max_len': 500, 'seq__analyzer': 'word', 'clf__max_features': 30000}\n",
      "0.82588 (+/-0.00000) for {'clf__lstm_output_size': 128, 'seq__max_len': 500, 'seq__max_features': 10000, 'clf__embedding_size': 64, 'clf__dropout': 0.4, 'clf__nb_epoch': 4, 'clf__batch_size': 200, 'clf__max_len': 500, 'seq__analyzer': 'word', 'clf__max_features': 10000}\n",
      "0.95061 (+/-0.00000) for {'clf__lstm_output_size': 128, 'seq__max_len': 100, 'seq__max_features': 10000, 'clf__embedding_size': 128, 'clf__dropout': 0.1, 'clf__nb_epoch': 3, 'clf__batch_size': 200, 'clf__max_len': 100, 'seq__analyzer': 'word', 'clf__max_features': 10000}\n",
      "Epoch 1/2\n",
      "69490/69490 [==============================] - 299s - loss: 0.2313 - mean_squared_error: 0.0653   \n",
      "Epoch 2/2\n",
      "69490/69490 [==============================] - 218s - loss: 0.1268 - mean_squared_error: 0.0353   \n",
      "23170/23170 [==============================] - 111s   \n",
      "\n",
      "spearman:  0.535233011975\n",
      "{'clf__batch_size': (200,),\n",
      " 'clf__dropout': (0.1, 0.2, 0.4),\n",
      " 'clf__embedding_size': (64, 128),\n",
      " 'clf__lstm_output_size': (64, 128),\n",
      " 'clf__nb_epoch': (2, 3, 4),\n",
      " 'seq__analyzer': ('word',),\n",
      " 'seq__max_features': (5000, 10000, 30000),\n",
      " 'seq__max_len': (100, 200, 500)}\n",
      "\n",
      "\n",
      "\n",
      " lstm word ed\n",
      "Epoch 1/2\n",
      "69490/69490 [==============================] - 396s - loss: 0.2366 - mean_squared_error: 0.0730   \n",
      "Epoch 2/2\n",
      "69490/69490 [==============================] - 345s - loss: 0.1355 - mean_squared_error: 0.0352   \n",
      "23170/23170 [==============================] - 165s   \n"
     ]
    },
    {
     "ename": "KeyboardInterrupt",
     "evalue": "",
     "output_type": "error",
     "traceback": [
      "\u001b[0;31m---------------------------------------------------------------------------\u001b[0m",
      "\u001b[0;31mKeyboardInterrupt\u001b[0m                         Traceback (most recent call last)",
      "\u001b[0;32m<ipython-input-89-83a6487fbafc>\u001b[0m in \u001b[0;36m<module>\u001b[0;34m()\u001b[0m\n\u001b[1;32m     26\u001b[0m                   \u001b[0mn_jobs\u001b[0m \u001b[0;34m=\u001b[0m \u001b[0;36m1\u001b[0m\u001b[0;34m,\u001b[0m\u001b[0;34m\u001b[0m\u001b[0m\n\u001b[1;32m     27\u001b[0m                   \u001b[0mverbose\u001b[0m \u001b[0;34m=\u001b[0m \u001b[0;32mTrue\u001b[0m\u001b[0;34m,\u001b[0m\u001b[0;34m\u001b[0m\u001b[0m\n\u001b[0;32m---> 28\u001b[0;31m                   dependencies = dependencies)\n\u001b[0m\u001b[1;32m     29\u001b[0m \u001b[0;34m\u001b[0m\u001b[0m\n\u001b[1;32m     30\u001b[0m         \u001b[0msave_best_estimator\u001b[0m\u001b[0;34m(\u001b[0m\u001b[0mcv\u001b[0m\u001b[0;34m,\u001b[0m \u001b[0mpath\u001b[0m\u001b[0;34m,\u001b[0m \u001b[0;34m'%s_%s_%s'\u001b[0m \u001b[0;34m%\u001b[0m \u001b[0;34m(\u001b[0m\u001b[0mmodel\u001b[0m\u001b[0;34m,\u001b[0m \u001b[0mgram\u001b[0m\u001b[0;34m,\u001b[0m \u001b[0mlabel\u001b[0m\u001b[0;34m)\u001b[0m\u001b[0;34m)\u001b[0m\u001b[0;34m\u001b[0m\u001b[0m\n",
      "\u001b[0;32m/Users/ellerywulczyn/detox/src/modeling/ngram.py\u001b[0m in \u001b[0;36mtune\u001b[0;34m(X_train, y_train, X_dev, y_dev, alg, param_grid, n_iter, scoring, n_jobs, verbose, dependencies)\u001b[0m\n\u001b[1;32m     78\u001b[0m                                 \u001b[0mrefit\u001b[0m\u001b[0;34m=\u001b[0m\u001b[0;32mFalse\u001b[0m\u001b[0;34m,\u001b[0m\u001b[0;34m\u001b[0m\u001b[0m\n\u001b[1;32m     79\u001b[0m                                 dependencies=dependencies)\n\u001b[0;32m---> 80\u001b[0;31m     \u001b[0mmodel\u001b[0m\u001b[0;34m.\u001b[0m\u001b[0mfit\u001b[0m\u001b[0;34m(\u001b[0m\u001b[0mX\u001b[0m\u001b[0;34m,\u001b[0m \u001b[0my\u001b[0m\u001b[0;34m)\u001b[0m\u001b[0;34m\u001b[0m\u001b[0m\n\u001b[0m\u001b[1;32m     81\u001b[0m     \u001b[0;32mif\u001b[0m \u001b[0mverbose\u001b[0m\u001b[0;34m:\u001b[0m\u001b[0;34m\u001b[0m\u001b[0m\n\u001b[1;32m     82\u001b[0m         \u001b[0mprint\u001b[0m\u001b[0;34m(\u001b[0m\u001b[0;34m\"\\nBest parameters set found:\"\u001b[0m\u001b[0;34m)\u001b[0m\u001b[0;34m\u001b[0m\u001b[0m\n",
      "\u001b[0;32m/Users/ellerywulczyn/detox/src/modeling/ngram.py\u001b[0m in \u001b[0;36mfit\u001b[0;34m(self, X, y)\u001b[0m\n\u001b[1;32m     44\u001b[0m \u001b[0;34m\u001b[0m\u001b[0m\n\u001b[1;32m     45\u001b[0m \u001b[0;34m\u001b[0m\u001b[0m\n\u001b[0;32m---> 46\u001b[0;31m         \u001b[0;32mreturn\u001b[0m \u001b[0mself\u001b[0m\u001b[0;34m.\u001b[0m\u001b[0m_fit\u001b[0m\u001b[0;34m(\u001b[0m\u001b[0mX\u001b[0m\u001b[0;34m,\u001b[0m \u001b[0my\u001b[0m\u001b[0;34m,\u001b[0m \u001b[0msampled_params\u001b[0m\u001b[0;34m)\u001b[0m\u001b[0;34m\u001b[0m\u001b[0m\n\u001b[0m\u001b[1;32m     47\u001b[0m \u001b[0;34m\u001b[0m\u001b[0m\n\u001b[1;32m     48\u001b[0m \u001b[0;34m\u001b[0m\u001b[0m\n",
      "\u001b[0;32m/Users/ellerywulczyn/miniconda3/lib/python3.5/site-packages/sklearn/grid_search.py\u001b[0m in \u001b[0;36m_fit\u001b[0;34m(self, X, y, parameter_iterable)\u001b[0m\n\u001b[1;32m    551\u001b[0m                                     \u001b[0mself\u001b[0m\u001b[0;34m.\u001b[0m\u001b[0mfit_params\u001b[0m\u001b[0;34m,\u001b[0m \u001b[0mreturn_parameters\u001b[0m\u001b[0;34m=\u001b[0m\u001b[0;32mTrue\u001b[0m\u001b[0;34m,\u001b[0m\u001b[0;34m\u001b[0m\u001b[0m\n\u001b[1;32m    552\u001b[0m                                     error_score=self.error_score)\n\u001b[0;32m--> 553\u001b[0;31m                 \u001b[0;32mfor\u001b[0m \u001b[0mparameters\u001b[0m \u001b[0;32min\u001b[0m \u001b[0mparameter_iterable\u001b[0m\u001b[0;34m\u001b[0m\u001b[0m\n\u001b[0m\u001b[1;32m    554\u001b[0m                 for train, test in cv)\n\u001b[1;32m    555\u001b[0m \u001b[0;34m\u001b[0m\u001b[0m\n",
      "\u001b[0;32m/Users/ellerywulczyn/miniconda3/lib/python3.5/site-packages/sklearn/externals/joblib/parallel.py\u001b[0m in \u001b[0;36m__call__\u001b[0;34m(self, iterable)\u001b[0m\n\u001b[1;32m    798\u001b[0m             \u001b[0;31m# was dispatched. In particular this covers the edge\u001b[0m\u001b[0;34m\u001b[0m\u001b[0;34m\u001b[0m\u001b[0m\n\u001b[1;32m    799\u001b[0m             \u001b[0;31m# case of Parallel used with an exhausted iterator.\u001b[0m\u001b[0;34m\u001b[0m\u001b[0;34m\u001b[0m\u001b[0m\n\u001b[0;32m--> 800\u001b[0;31m             \u001b[0;32mwhile\u001b[0m \u001b[0mself\u001b[0m\u001b[0;34m.\u001b[0m\u001b[0mdispatch_one_batch\u001b[0m\u001b[0;34m(\u001b[0m\u001b[0miterator\u001b[0m\u001b[0;34m)\u001b[0m\u001b[0;34m:\u001b[0m\u001b[0;34m\u001b[0m\u001b[0m\n\u001b[0m\u001b[1;32m    801\u001b[0m                 \u001b[0mself\u001b[0m\u001b[0;34m.\u001b[0m\u001b[0m_iterating\u001b[0m \u001b[0;34m=\u001b[0m \u001b[0;32mTrue\u001b[0m\u001b[0;34m\u001b[0m\u001b[0m\n\u001b[1;32m    802\u001b[0m             \u001b[0;32melse\u001b[0m\u001b[0;34m:\u001b[0m\u001b[0;34m\u001b[0m\u001b[0m\n",
      "\u001b[0;32m/Users/ellerywulczyn/miniconda3/lib/python3.5/site-packages/sklearn/externals/joblib/parallel.py\u001b[0m in \u001b[0;36mdispatch_one_batch\u001b[0;34m(self, iterator)\u001b[0m\n\u001b[1;32m    656\u001b[0m                 \u001b[0;32mreturn\u001b[0m \u001b[0;32mFalse\u001b[0m\u001b[0;34m\u001b[0m\u001b[0m\n\u001b[1;32m    657\u001b[0m             \u001b[0;32melse\u001b[0m\u001b[0;34m:\u001b[0m\u001b[0;34m\u001b[0m\u001b[0m\n\u001b[0;32m--> 658\u001b[0;31m                 \u001b[0mself\u001b[0m\u001b[0;34m.\u001b[0m\u001b[0m_dispatch\u001b[0m\u001b[0;34m(\u001b[0m\u001b[0mtasks\u001b[0m\u001b[0;34m)\u001b[0m\u001b[0;34m\u001b[0m\u001b[0m\n\u001b[0m\u001b[1;32m    659\u001b[0m                 \u001b[0;32mreturn\u001b[0m \u001b[0;32mTrue\u001b[0m\u001b[0;34m\u001b[0m\u001b[0m\n\u001b[1;32m    660\u001b[0m \u001b[0;34m\u001b[0m\u001b[0m\n",
      "\u001b[0;32m/Users/ellerywulczyn/miniconda3/lib/python3.5/site-packages/sklearn/externals/joblib/parallel.py\u001b[0m in \u001b[0;36m_dispatch\u001b[0;34m(self, batch)\u001b[0m\n\u001b[1;32m    564\u001b[0m \u001b[0;34m\u001b[0m\u001b[0m\n\u001b[1;32m    565\u001b[0m         \u001b[0;32mif\u001b[0m \u001b[0mself\u001b[0m\u001b[0;34m.\u001b[0m\u001b[0m_pool\u001b[0m \u001b[0;32mis\u001b[0m \u001b[0;32mNone\u001b[0m\u001b[0;34m:\u001b[0m\u001b[0;34m\u001b[0m\u001b[0m\n\u001b[0;32m--> 566\u001b[0;31m             \u001b[0mjob\u001b[0m \u001b[0;34m=\u001b[0m \u001b[0mImmediateComputeBatch\u001b[0m\u001b[0;34m(\u001b[0m\u001b[0mbatch\u001b[0m\u001b[0;34m)\u001b[0m\u001b[0;34m\u001b[0m\u001b[0m\n\u001b[0m\u001b[1;32m    567\u001b[0m             \u001b[0mself\u001b[0m\u001b[0;34m.\u001b[0m\u001b[0m_jobs\u001b[0m\u001b[0;34m.\u001b[0m\u001b[0mappend\u001b[0m\u001b[0;34m(\u001b[0m\u001b[0mjob\u001b[0m\u001b[0;34m)\u001b[0m\u001b[0;34m\u001b[0m\u001b[0m\n\u001b[1;32m    568\u001b[0m             \u001b[0mself\u001b[0m\u001b[0;34m.\u001b[0m\u001b[0mn_dispatched_batches\u001b[0m \u001b[0;34m+=\u001b[0m \u001b[0;36m1\u001b[0m\u001b[0;34m\u001b[0m\u001b[0m\n",
      "\u001b[0;32m/Users/ellerywulczyn/miniconda3/lib/python3.5/site-packages/sklearn/externals/joblib/parallel.py\u001b[0m in \u001b[0;36m__init__\u001b[0;34m(self, batch)\u001b[0m\n\u001b[1;32m    178\u001b[0m         \u001b[0;31m# Don't delay the application, to avoid keeping the input\u001b[0m\u001b[0;34m\u001b[0m\u001b[0;34m\u001b[0m\u001b[0m\n\u001b[1;32m    179\u001b[0m         \u001b[0;31m# arguments in memory\u001b[0m\u001b[0;34m\u001b[0m\u001b[0;34m\u001b[0m\u001b[0m\n\u001b[0;32m--> 180\u001b[0;31m         \u001b[0mself\u001b[0m\u001b[0;34m.\u001b[0m\u001b[0mresults\u001b[0m \u001b[0;34m=\u001b[0m \u001b[0mbatch\u001b[0m\u001b[0;34m(\u001b[0m\u001b[0;34m)\u001b[0m\u001b[0;34m\u001b[0m\u001b[0m\n\u001b[0m\u001b[1;32m    181\u001b[0m \u001b[0;34m\u001b[0m\u001b[0m\n\u001b[1;32m    182\u001b[0m     \u001b[0;32mdef\u001b[0m \u001b[0mget\u001b[0m\u001b[0;34m(\u001b[0m\u001b[0mself\u001b[0m\u001b[0;34m)\u001b[0m\u001b[0;34m:\u001b[0m\u001b[0;34m\u001b[0m\u001b[0m\n",
      "\u001b[0;32m/Users/ellerywulczyn/miniconda3/lib/python3.5/site-packages/sklearn/externals/joblib/parallel.py\u001b[0m in \u001b[0;36m__call__\u001b[0;34m(self)\u001b[0m\n\u001b[1;32m     70\u001b[0m \u001b[0;34m\u001b[0m\u001b[0m\n\u001b[1;32m     71\u001b[0m     \u001b[0;32mdef\u001b[0m \u001b[0m__call__\u001b[0m\u001b[0;34m(\u001b[0m\u001b[0mself\u001b[0m\u001b[0;34m)\u001b[0m\u001b[0;34m:\u001b[0m\u001b[0;34m\u001b[0m\u001b[0m\n\u001b[0;32m---> 72\u001b[0;31m         \u001b[0;32mreturn\u001b[0m \u001b[0;34m[\u001b[0m\u001b[0mfunc\u001b[0m\u001b[0;34m(\u001b[0m\u001b[0;34m*\u001b[0m\u001b[0margs\u001b[0m\u001b[0;34m,\u001b[0m \u001b[0;34m**\u001b[0m\u001b[0mkwargs\u001b[0m\u001b[0;34m)\u001b[0m \u001b[0;32mfor\u001b[0m \u001b[0mfunc\u001b[0m\u001b[0;34m,\u001b[0m \u001b[0margs\u001b[0m\u001b[0;34m,\u001b[0m \u001b[0mkwargs\u001b[0m \u001b[0;32min\u001b[0m \u001b[0mself\u001b[0m\u001b[0;34m.\u001b[0m\u001b[0mitems\u001b[0m\u001b[0;34m]\u001b[0m\u001b[0;34m\u001b[0m\u001b[0m\n\u001b[0m\u001b[1;32m     73\u001b[0m \u001b[0;34m\u001b[0m\u001b[0m\n\u001b[1;32m     74\u001b[0m     \u001b[0;32mdef\u001b[0m \u001b[0m__len__\u001b[0m\u001b[0;34m(\u001b[0m\u001b[0mself\u001b[0m\u001b[0;34m)\u001b[0m\u001b[0;34m:\u001b[0m\u001b[0;34m\u001b[0m\u001b[0m\n",
      "\u001b[0;32m/Users/ellerywulczyn/miniconda3/lib/python3.5/site-packages/sklearn/externals/joblib/parallel.py\u001b[0m in \u001b[0;36m<listcomp>\u001b[0;34m(.0)\u001b[0m\n\u001b[1;32m     70\u001b[0m \u001b[0;34m\u001b[0m\u001b[0m\n\u001b[1;32m     71\u001b[0m     \u001b[0;32mdef\u001b[0m \u001b[0m__call__\u001b[0m\u001b[0;34m(\u001b[0m\u001b[0mself\u001b[0m\u001b[0;34m)\u001b[0m\u001b[0;34m:\u001b[0m\u001b[0;34m\u001b[0m\u001b[0m\n\u001b[0;32m---> 72\u001b[0;31m         \u001b[0;32mreturn\u001b[0m \u001b[0;34m[\u001b[0m\u001b[0mfunc\u001b[0m\u001b[0;34m(\u001b[0m\u001b[0;34m*\u001b[0m\u001b[0margs\u001b[0m\u001b[0;34m,\u001b[0m \u001b[0;34m**\u001b[0m\u001b[0mkwargs\u001b[0m\u001b[0;34m)\u001b[0m \u001b[0;32mfor\u001b[0m \u001b[0mfunc\u001b[0m\u001b[0;34m,\u001b[0m \u001b[0margs\u001b[0m\u001b[0;34m,\u001b[0m \u001b[0mkwargs\u001b[0m \u001b[0;32min\u001b[0m \u001b[0mself\u001b[0m\u001b[0;34m.\u001b[0m\u001b[0mitems\u001b[0m\u001b[0;34m]\u001b[0m\u001b[0;34m\u001b[0m\u001b[0m\n\u001b[0m\u001b[1;32m     73\u001b[0m \u001b[0;34m\u001b[0m\u001b[0m\n\u001b[1;32m     74\u001b[0m     \u001b[0;32mdef\u001b[0m \u001b[0m__len__\u001b[0m\u001b[0;34m(\u001b[0m\u001b[0mself\u001b[0m\u001b[0;34m)\u001b[0m\u001b[0;34m:\u001b[0m\u001b[0;34m\u001b[0m\u001b[0m\n",
      "\u001b[0;32m/Users/ellerywulczyn/miniconda3/lib/python3.5/site-packages/sklearn/cross_validation.py\u001b[0m in \u001b[0;36m_fit_and_score\u001b[0;34m(estimator, X, y, scorer, train, test, verbose, parameters, fit_params, return_train_score, return_parameters, error_score)\u001b[0m\n\u001b[1;32m   1529\u001b[0m             \u001b[0mestimator\u001b[0m\u001b[0;34m.\u001b[0m\u001b[0mfit\u001b[0m\u001b[0;34m(\u001b[0m\u001b[0mX_train\u001b[0m\u001b[0;34m,\u001b[0m \u001b[0;34m**\u001b[0m\u001b[0mfit_params\u001b[0m\u001b[0;34m)\u001b[0m\u001b[0;34m\u001b[0m\u001b[0m\n\u001b[1;32m   1530\u001b[0m         \u001b[0;32melse\u001b[0m\u001b[0;34m:\u001b[0m\u001b[0;34m\u001b[0m\u001b[0m\n\u001b[0;32m-> 1531\u001b[0;31m             \u001b[0mestimator\u001b[0m\u001b[0;34m.\u001b[0m\u001b[0mfit\u001b[0m\u001b[0;34m(\u001b[0m\u001b[0mX_train\u001b[0m\u001b[0;34m,\u001b[0m \u001b[0my_train\u001b[0m\u001b[0;34m,\u001b[0m \u001b[0;34m**\u001b[0m\u001b[0mfit_params\u001b[0m\u001b[0;34m)\u001b[0m\u001b[0;34m\u001b[0m\u001b[0m\n\u001b[0m\u001b[1;32m   1532\u001b[0m \u001b[0;34m\u001b[0m\u001b[0m\n\u001b[1;32m   1533\u001b[0m     \u001b[0;32mexcept\u001b[0m \u001b[0mException\u001b[0m \u001b[0;32mas\u001b[0m \u001b[0me\u001b[0m\u001b[0;34m:\u001b[0m\u001b[0;34m\u001b[0m\u001b[0m\n",
      "\u001b[0;32m/Users/ellerywulczyn/miniconda3/lib/python3.5/site-packages/sklearn/pipeline.py\u001b[0m in \u001b[0;36mfit\u001b[0;34m(self, X, y, **fit_params)\u001b[0m\n\u001b[1;32m    163\u001b[0m         \"\"\"\n\u001b[1;32m    164\u001b[0m         \u001b[0mXt\u001b[0m\u001b[0;34m,\u001b[0m \u001b[0mfit_params\u001b[0m \u001b[0;34m=\u001b[0m \u001b[0mself\u001b[0m\u001b[0;34m.\u001b[0m\u001b[0m_pre_transform\u001b[0m\u001b[0;34m(\u001b[0m\u001b[0mX\u001b[0m\u001b[0;34m,\u001b[0m \u001b[0my\u001b[0m\u001b[0;34m,\u001b[0m \u001b[0;34m**\u001b[0m\u001b[0mfit_params\u001b[0m\u001b[0;34m)\u001b[0m\u001b[0;34m\u001b[0m\u001b[0m\n\u001b[0;32m--> 165\u001b[0;31m         \u001b[0mself\u001b[0m\u001b[0;34m.\u001b[0m\u001b[0msteps\u001b[0m\u001b[0;34m[\u001b[0m\u001b[0;34m-\u001b[0m\u001b[0;36m1\u001b[0m\u001b[0;34m]\u001b[0m\u001b[0;34m[\u001b[0m\u001b[0;34m-\u001b[0m\u001b[0;36m1\u001b[0m\u001b[0;34m]\u001b[0m\u001b[0;34m.\u001b[0m\u001b[0mfit\u001b[0m\u001b[0;34m(\u001b[0m\u001b[0mXt\u001b[0m\u001b[0;34m,\u001b[0m \u001b[0my\u001b[0m\u001b[0;34m,\u001b[0m \u001b[0;34m**\u001b[0m\u001b[0mfit_params\u001b[0m\u001b[0;34m)\u001b[0m\u001b[0;34m\u001b[0m\u001b[0m\n\u001b[0m\u001b[1;32m    166\u001b[0m         \u001b[0;32mreturn\u001b[0m \u001b[0mself\u001b[0m\u001b[0;34m\u001b[0m\u001b[0m\n\u001b[1;32m    167\u001b[0m \u001b[0;34m\u001b[0m\u001b[0m\n",
      "\u001b[0;32m/Users/ellerywulczyn/miniconda3/lib/python3.5/site-packages/keras/wrappers/scikit_learn.py\u001b[0m in \u001b[0;36mfit\u001b[0;34m(self, X, y, **kwargs)\u001b[0m\n\u001b[1;32m    135\u001b[0m                 **self.filter_sk_params(self.build_fn.__call__))\n\u001b[1;32m    136\u001b[0m         \u001b[0;32melse\u001b[0m\u001b[0;34m:\u001b[0m\u001b[0;34m\u001b[0m\u001b[0m\n\u001b[0;32m--> 137\u001b[0;31m             \u001b[0mself\u001b[0m\u001b[0;34m.\u001b[0m\u001b[0mmodel\u001b[0m \u001b[0;34m=\u001b[0m \u001b[0mself\u001b[0m\u001b[0;34m.\u001b[0m\u001b[0mbuild_fn\u001b[0m\u001b[0;34m(\u001b[0m\u001b[0;34m**\u001b[0m\u001b[0mself\u001b[0m\u001b[0;34m.\u001b[0m\u001b[0mfilter_sk_params\u001b[0m\u001b[0;34m(\u001b[0m\u001b[0mself\u001b[0m\u001b[0;34m.\u001b[0m\u001b[0mbuild_fn\u001b[0m\u001b[0;34m)\u001b[0m\u001b[0;34m)\u001b[0m\u001b[0;34m\u001b[0m\u001b[0m\n\u001b[0m\u001b[1;32m    138\u001b[0m \u001b[0;34m\u001b[0m\u001b[0m\n\u001b[1;32m    139\u001b[0m         \u001b[0mloss_name\u001b[0m \u001b[0;34m=\u001b[0m \u001b[0mself\u001b[0m\u001b[0;34m.\u001b[0m\u001b[0mmodel\u001b[0m\u001b[0;34m.\u001b[0m\u001b[0mloss\u001b[0m\u001b[0;34m\u001b[0m\u001b[0m\n",
      "\u001b[0;32m/Users/ellerywulczyn/detox/src/modeling/deep_learning.py\u001b[0m in \u001b[0;36mmake_lstm\u001b[0;34m(max_features, output_dim, max_len, embedding_size, lstm_output_size, dropout)\u001b[0m\n\u001b[1;32m     74\u001b[0m     model.compile(loss='kullback_leibler_divergence',\n\u001b[1;32m     75\u001b[0m                   \u001b[0moptimizer\u001b[0m\u001b[0;34m=\u001b[0m\u001b[0;34m'adam'\u001b[0m\u001b[0;34m,\u001b[0m\u001b[0;34m\u001b[0m\u001b[0m\n\u001b[0;32m---> 76\u001b[0;31m                   metrics=['mse'])\n\u001b[0m\u001b[1;32m     77\u001b[0m     \u001b[0;32mreturn\u001b[0m \u001b[0mmodel\u001b[0m\u001b[0;34m\u001b[0m\u001b[0m\n\u001b[1;32m     78\u001b[0m \u001b[0;34m\u001b[0m\u001b[0m\n",
      "\u001b[0;32m/Users/ellerywulczyn/miniconda3/lib/python3.5/site-packages/keras/models.py\u001b[0m in \u001b[0;36mcompile\u001b[0;34m(self, optimizer, loss, metrics, sample_weight_mode, **kwargs)\u001b[0m\n\u001b[1;32m    522\u001b[0m                 \u001b[0;34m\"None\"\u001b[0m \u001b[0mdefaults\u001b[0m \u001b[0mto\u001b[0m \u001b[0msample\u001b[0m\u001b[0;34m-\u001b[0m\u001b[0mwise\u001b[0m \u001b[0mweights\u001b[0m \u001b[0;34m(\u001b[0m\u001b[0;36m1\u001b[0m\u001b[0mD\u001b[0m\u001b[0;34m)\u001b[0m\u001b[0;34m.\u001b[0m\u001b[0;34m\u001b[0m\u001b[0m\n\u001b[1;32m    523\u001b[0m             \u001b[0mkwargs\u001b[0m\u001b[0;34m:\u001b[0m \u001b[0;32mfor\u001b[0m \u001b[0mTheano\u001b[0m \u001b[0mbackend\u001b[0m\u001b[0;34m,\u001b[0m \u001b[0mthese\u001b[0m \u001b[0mare\u001b[0m \u001b[0mpassed\u001b[0m \u001b[0minto\u001b[0m \u001b[0mK\u001b[0m\u001b[0;34m.\u001b[0m\u001b[0mfunction\u001b[0m\u001b[0;34m.\u001b[0m\u001b[0;34m\u001b[0m\u001b[0m\n\u001b[0;32m--> 524\u001b[0;31m                 \u001b[0mIgnored\u001b[0m \u001b[0;32mfor\u001b[0m \u001b[0mTensorflow\u001b[0m \u001b[0mbackend\u001b[0m\u001b[0;34m.\u001b[0m\u001b[0;34m\u001b[0m\u001b[0m\n\u001b[0m\u001b[1;32m    525\u001b[0m \u001b[0;34m\u001b[0m\u001b[0m\n\u001b[1;32m    526\u001b[0m         \u001b[0;31m# Example\u001b[0m\u001b[0;34m\u001b[0m\u001b[0;34m\u001b[0m\u001b[0m\n",
      "\u001b[0;32m/Users/ellerywulczyn/miniconda3/lib/python3.5/site-packages/keras/engine/training.py\u001b[0m in \u001b[0;36mcompile\u001b[0;34m(self, optimizer, loss, metrics, loss_weights, sample_weight_mode, **kwargs)\u001b[0m\n\u001b[1;32m    485\u001b[0m         \u001b[0mself\u001b[0m\u001b[0;34m.\u001b[0m\u001b[0msample_weight_mode\u001b[0m \u001b[0;34m=\u001b[0m \u001b[0msample_weight_mode\u001b[0m\u001b[0;34m\u001b[0m\u001b[0m\n\u001b[1;32m    486\u001b[0m         \u001b[0mself\u001b[0m\u001b[0;34m.\u001b[0m\u001b[0mloss\u001b[0m \u001b[0;34m=\u001b[0m \u001b[0mloss\u001b[0m\u001b[0;34m\u001b[0m\u001b[0m\n\u001b[0;32m--> 487\u001b[0;31m         \u001b[0mself\u001b[0m\u001b[0;34m.\u001b[0m\u001b[0mloss_weights\u001b[0m \u001b[0;34m=\u001b[0m \u001b[0mloss_weights\u001b[0m\u001b[0;34m\u001b[0m\u001b[0m\n\u001b[0m\u001b[1;32m    488\u001b[0m \u001b[0;34m\u001b[0m\u001b[0m\n\u001b[1;32m    489\u001b[0m         \u001b[0;31m# prepare loss weights\u001b[0m\u001b[0;34m\u001b[0m\u001b[0;34m\u001b[0m\u001b[0m\n",
      "\u001b[0;32m/Users/ellerywulczyn/miniconda3/lib/python3.5/site-packages/keras/optimizers.py\u001b[0m in \u001b[0;36mget\u001b[0;34m(identifier, kwargs)\u001b[0m\n\u001b[1;32m    531\u001b[0m         \u001b[0mms\u001b[0m \u001b[0;34m=\u001b[0m \u001b[0;34m[\u001b[0m\u001b[0mK\u001b[0m\u001b[0;34m.\u001b[0m\u001b[0mzeros\u001b[0m\u001b[0;34m(\u001b[0m\u001b[0mshape\u001b[0m\u001b[0;34m)\u001b[0m \u001b[0;32mfor\u001b[0m \u001b[0mshape\u001b[0m \u001b[0;32min\u001b[0m \u001b[0mshapes\u001b[0m\u001b[0;34m]\u001b[0m\u001b[0;34m\u001b[0m\u001b[0m\n\u001b[1;32m    532\u001b[0m         \u001b[0mvs\u001b[0m \u001b[0;34m=\u001b[0m \u001b[0;34m[\u001b[0m\u001b[0mK\u001b[0m\u001b[0;34m.\u001b[0m\u001b[0mzeros\u001b[0m\u001b[0;34m(\u001b[0m\u001b[0mshape\u001b[0m\u001b[0;34m)\u001b[0m \u001b[0;32mfor\u001b[0m \u001b[0mshape\u001b[0m \u001b[0;32min\u001b[0m \u001b[0mshapes\u001b[0m\u001b[0;34m]\u001b[0m\u001b[0;34m\u001b[0m\u001b[0m\n\u001b[0;32m--> 533\u001b[0;31m \u001b[0;34m\u001b[0m\u001b[0m\n\u001b[0m\u001b[1;32m    534\u001b[0m         \u001b[0mself\u001b[0m\u001b[0;34m.\u001b[0m\u001b[0mweights\u001b[0m \u001b[0;34m=\u001b[0m \u001b[0;34m[\u001b[0m\u001b[0mself\u001b[0m\u001b[0;34m.\u001b[0m\u001b[0miterations\u001b[0m\u001b[0;34m]\u001b[0m \u001b[0;34m+\u001b[0m \u001b[0mms\u001b[0m \u001b[0;34m+\u001b[0m \u001b[0mvs\u001b[0m\u001b[0;34m\u001b[0m\u001b[0m\n\u001b[1;32m    535\u001b[0m \u001b[0;34m\u001b[0m\u001b[0m\n",
      "\u001b[0;32m/Users/ellerywulczyn/miniconda3/lib/python3.5/site-packages/keras/utils/generic_utils.py\u001b[0m in \u001b[0;36mget_from_module\u001b[0;34m(identifier, module_params, module_name, instantiate, kwargs)\u001b[0m\n\u001b[1;32m     14\u001b[0m         \u001b[0;32mif\u001b[0m \u001b[0;32mnot\u001b[0m \u001b[0mres\u001b[0m\u001b[0;34m:\u001b[0m\u001b[0;34m\u001b[0m\u001b[0m\n\u001b[1;32m     15\u001b[0m             raise Exception('Invalid ' + str(module_name) + ': ' +\n\u001b[0;32m---> 16\u001b[0;31m                             str(identifier))\n\u001b[0m\u001b[1;32m     17\u001b[0m         \u001b[0;32mif\u001b[0m \u001b[0minstantiate\u001b[0m \u001b[0;32mand\u001b[0m \u001b[0;32mnot\u001b[0m \u001b[0mkwargs\u001b[0m\u001b[0;34m:\u001b[0m\u001b[0;34m\u001b[0m\u001b[0m\n\u001b[1;32m     18\u001b[0m             \u001b[0;32mreturn\u001b[0m \u001b[0mres\u001b[0m\u001b[0;34m(\u001b[0m\u001b[0;34m)\u001b[0m\u001b[0;34m\u001b[0m\u001b[0m\n",
      "\u001b[0;32m/Users/ellerywulczyn/miniconda3/lib/python3.5/site-packages/keras/optimizers.py\u001b[0m in \u001b[0;36m__init__\u001b[0;34m(self, lr, beta_1, beta_2, epsilon, **kwargs)\u001b[0m\n\u001b[1;32m    335\u001b[0m             \u001b[0;31m# apply constraints\u001b[0m\u001b[0;34m\u001b[0m\u001b[0;34m\u001b[0m\u001b[0m\n\u001b[1;32m    336\u001b[0m             \u001b[0;32mif\u001b[0m \u001b[0mp\u001b[0m \u001b[0;32min\u001b[0m \u001b[0mconstraints\u001b[0m\u001b[0;34m:\u001b[0m\u001b[0;34m\u001b[0m\u001b[0m\n\u001b[0;32m--> 337\u001b[0;31m                 \u001b[0mc\u001b[0m \u001b[0;34m=\u001b[0m \u001b[0mconstraints\u001b[0m\u001b[0;34m[\u001b[0m\u001b[0mp\u001b[0m\u001b[0;34m]\u001b[0m\u001b[0;34m\u001b[0m\u001b[0m\n\u001b[0m\u001b[1;32m    338\u001b[0m                 \u001b[0mnew_p\u001b[0m \u001b[0;34m=\u001b[0m \u001b[0mc\u001b[0m\u001b[0;34m(\u001b[0m\u001b[0mnew_p\u001b[0m\u001b[0;34m)\u001b[0m\u001b[0;34m\u001b[0m\u001b[0m\n\u001b[1;32m    339\u001b[0m             \u001b[0mself\u001b[0m\u001b[0;34m.\u001b[0m\u001b[0mupdates\u001b[0m\u001b[0;34m.\u001b[0m\u001b[0mappend\u001b[0m\u001b[0;34m(\u001b[0m\u001b[0mK\u001b[0m\u001b[0;34m.\u001b[0m\u001b[0mupdate\u001b[0m\u001b[0;34m(\u001b[0m\u001b[0mp\u001b[0m\u001b[0;34m,\u001b[0m \u001b[0mnew_p\u001b[0m\u001b[0;34m)\u001b[0m\u001b[0;34m)\u001b[0m\u001b[0;34m\u001b[0m\u001b[0m\n",
      "\u001b[0;32m/Users/ellerywulczyn/miniconda3/lib/python3.5/site-packages/keras/backend/tensorflow_backend.py\u001b[0m in \u001b[0;36mvariable\u001b[0;34m(value, dtype, name)\u001b[0m\n\u001b[1;32m    130\u001b[0m \u001b[0;34m\u001b[0m\u001b[0m\n\u001b[1;32m    131\u001b[0m \u001b[0;34m\u001b[0m\u001b[0m\n\u001b[0;32m--> 132\u001b[0;31m \u001b[0;32mdef\u001b[0m \u001b[0mvariable\u001b[0m\u001b[0;34m(\u001b[0m\u001b[0mvalue\u001b[0m\u001b[0;34m,\u001b[0m \u001b[0mdtype\u001b[0m\u001b[0;34m=\u001b[0m\u001b[0m_FLOATX\u001b[0m\u001b[0;34m,\u001b[0m \u001b[0mname\u001b[0m\u001b[0;34m=\u001b[0m\u001b[0;32mNone\u001b[0m\u001b[0;34m)\u001b[0m\u001b[0;34m:\u001b[0m\u001b[0;34m\u001b[0m\u001b[0m\n\u001b[0m\u001b[1;32m    133\u001b[0m     '''Instantiates a tensor.\n\u001b[1;32m    134\u001b[0m \u001b[0;34m\u001b[0m\u001b[0m\n",
      "\u001b[0;32m/Users/ellerywulczyn/miniconda3/lib/python3.5/site-packages/tensorflow/python/client/session.py\u001b[0m in \u001b[0;36mrun\u001b[0;34m(self, fetches, feed_dict, options, run_metadata)\u001b[0m\n\u001b[1;32m    380\u001b[0m     \u001b[0;32mtry\u001b[0m\u001b[0;34m:\u001b[0m\u001b[0;34m\u001b[0m\u001b[0m\n\u001b[1;32m    381\u001b[0m       result = self._run(None, fetches, feed_dict, options_ptr,\n\u001b[0;32m--> 382\u001b[0;31m                          run_metadata_ptr)\n\u001b[0m\u001b[1;32m    383\u001b[0m       \u001b[0;32mif\u001b[0m \u001b[0mrun_metadata\u001b[0m\u001b[0;34m:\u001b[0m\u001b[0;34m\u001b[0m\u001b[0m\n\u001b[1;32m    384\u001b[0m         \u001b[0mproto_data\u001b[0m \u001b[0;34m=\u001b[0m \u001b[0mtf_session\u001b[0m\u001b[0;34m.\u001b[0m\u001b[0mTF_GetBuffer\u001b[0m\u001b[0;34m(\u001b[0m\u001b[0mrun_metadata_ptr\u001b[0m\u001b[0;34m)\u001b[0m\u001b[0;34m\u001b[0m\u001b[0m\n",
      "\u001b[0;32m/Users/ellerywulczyn/miniconda3/lib/python3.5/site-packages/tensorflow/python/client/session.py\u001b[0m in \u001b[0;36m_run\u001b[0;34m(self, handle, fetches, feed_dict, options, run_metadata)\u001b[0m\n\u001b[1;32m    653\u001b[0m     \u001b[0mmovers\u001b[0m \u001b[0;34m=\u001b[0m \u001b[0mself\u001b[0m\u001b[0;34m.\u001b[0m\u001b[0m_update_with_movers\u001b[0m\u001b[0;34m(\u001b[0m\u001b[0mfeed_dict_string\u001b[0m\u001b[0;34m,\u001b[0m \u001b[0mfeed_map\u001b[0m\u001b[0;34m)\u001b[0m\u001b[0;34m\u001b[0m\u001b[0m\n\u001b[1;32m    654\u001b[0m     results = self._do_run(handle, target_list, unique_fetches,\n\u001b[0;32m--> 655\u001b[0;31m                            feed_dict_string, options, run_metadata)\n\u001b[0m\u001b[1;32m    656\u001b[0m \u001b[0;34m\u001b[0m\u001b[0m\n\u001b[1;32m    657\u001b[0m     \u001b[0;31m# User may have fetched the same tensor multiple times, but we\u001b[0m\u001b[0;34m\u001b[0m\u001b[0;34m\u001b[0m\u001b[0m\n",
      "\u001b[0;32m/Users/ellerywulczyn/miniconda3/lib/python3.5/site-packages/tensorflow/python/client/session.py\u001b[0m in \u001b[0;36m_do_run\u001b[0;34m(self, handle, target_list, fetch_list, feed_dict, options, run_metadata)\u001b[0m\n\u001b[1;32m    721\u001b[0m     \u001b[0;32mif\u001b[0m \u001b[0mhandle\u001b[0m \u001b[0;32mis\u001b[0m \u001b[0;32mNone\u001b[0m\u001b[0;34m:\u001b[0m\u001b[0;34m\u001b[0m\u001b[0m\n\u001b[1;32m    722\u001b[0m       return self._do_call(_run_fn, self._session, feed_dict, fetch_list,\n\u001b[0;32m--> 723\u001b[0;31m                            target_list, options, run_metadata)\n\u001b[0m\u001b[1;32m    724\u001b[0m     \u001b[0;32melse\u001b[0m\u001b[0;34m:\u001b[0m\u001b[0;34m\u001b[0m\u001b[0m\n\u001b[1;32m    725\u001b[0m       return self._do_call(_prun_fn, self._session, handle, feed_dict,\n",
      "\u001b[0;32m/Users/ellerywulczyn/miniconda3/lib/python3.5/site-packages/tensorflow/python/client/session.py\u001b[0m in \u001b[0;36m_do_call\u001b[0;34m(self, fn, *args)\u001b[0m\n\u001b[1;32m    728\u001b[0m   \u001b[0;32mdef\u001b[0m \u001b[0m_do_call\u001b[0m\u001b[0;34m(\u001b[0m\u001b[0mself\u001b[0m\u001b[0;34m,\u001b[0m \u001b[0mfn\u001b[0m\u001b[0;34m,\u001b[0m \u001b[0;34m*\u001b[0m\u001b[0margs\u001b[0m\u001b[0;34m)\u001b[0m\u001b[0;34m:\u001b[0m\u001b[0;34m\u001b[0m\u001b[0m\n\u001b[1;32m    729\u001b[0m     \u001b[0;32mtry\u001b[0m\u001b[0;34m:\u001b[0m\u001b[0;34m\u001b[0m\u001b[0m\n\u001b[0;32m--> 730\u001b[0;31m       \u001b[0;32mreturn\u001b[0m \u001b[0mfn\u001b[0m\u001b[0;34m(\u001b[0m\u001b[0;34m*\u001b[0m\u001b[0margs\u001b[0m\u001b[0;34m)\u001b[0m\u001b[0;34m\u001b[0m\u001b[0m\n\u001b[0m\u001b[1;32m    731\u001b[0m     \u001b[0;32mexcept\u001b[0m \u001b[0merrors\u001b[0m\u001b[0;34m.\u001b[0m\u001b[0mOpError\u001b[0m \u001b[0;32mas\u001b[0m \u001b[0me\u001b[0m\u001b[0;34m:\u001b[0m\u001b[0;34m\u001b[0m\u001b[0m\n\u001b[1;32m    732\u001b[0m       \u001b[0mmessage\u001b[0m \u001b[0;34m=\u001b[0m \u001b[0mcompat\u001b[0m\u001b[0;34m.\u001b[0m\u001b[0mas_text\u001b[0m\u001b[0;34m(\u001b[0m\u001b[0me\u001b[0m\u001b[0;34m.\u001b[0m\u001b[0mmessage\u001b[0m\u001b[0;34m)\u001b[0m\u001b[0;34m\u001b[0m\u001b[0m\n",
      "\u001b[0;32m/Users/ellerywulczyn/miniconda3/lib/python3.5/site-packages/tensorflow/python/client/session.py\u001b[0m in \u001b[0;36m_run_fn\u001b[0;34m(session, feed_dict, fetch_list, target_list, options, run_metadata)\u001b[0m\n\u001b[1;32m    710\u001b[0m         return tf_session.TF_Run(session, options,\n\u001b[1;32m    711\u001b[0m                                  \u001b[0mfeed_dict\u001b[0m\u001b[0;34m,\u001b[0m \u001b[0mfetch_list\u001b[0m\u001b[0;34m,\u001b[0m \u001b[0mtarget_list\u001b[0m\u001b[0;34m,\u001b[0m\u001b[0;34m\u001b[0m\u001b[0m\n\u001b[0;32m--> 712\u001b[0;31m                                  status, run_metadata)\n\u001b[0m\u001b[1;32m    713\u001b[0m \u001b[0;34m\u001b[0m\u001b[0m\n\u001b[1;32m    714\u001b[0m     \u001b[0;32mdef\u001b[0m \u001b[0m_prun_fn\u001b[0m\u001b[0;34m(\u001b[0m\u001b[0msession\u001b[0m\u001b[0;34m,\u001b[0m \u001b[0mhandle\u001b[0m\u001b[0;34m,\u001b[0m \u001b[0mfeed_dict\u001b[0m\u001b[0;34m,\u001b[0m \u001b[0mfetch_list\u001b[0m\u001b[0;34m)\u001b[0m\u001b[0;34m:\u001b[0m\u001b[0;34m\u001b[0m\u001b[0m\n",
      "\u001b[0;31mKeyboardInterrupt\u001b[0m: "
     ]
    },
    {
     "name": "stdout",
     "output_type": "stream",
     "text": [
      "time: 19h 51min 17s\n"
     ]
    }
   ],
   "source": [
    "model = 'lstm'\n",
    "for gram in ['word', 'char']:\n",
    "    for label in ['oh', 'ed']:\n",
    "        params = {}\n",
    "        params.update(clf_params)\n",
    "\n",
    "        if gram == 'char':\n",
    "            params.update(char_seq_params)\n",
    "        else:\n",
    "            params.update(word_seq_params)\n",
    "\n",
    "        if label == 'oh':\n",
    "            y_train = y_train_ohm\n",
    "            y_dev = y_dev_ohm\n",
    "        else:\n",
    "            y_train = y_train_ed\n",
    "            y_dev = y_dev_ed\n",
    "            \n",
    "        pprint(params)\n",
    "\n",
    "        print('\\n\\n\\n %s %s %s' % (model, gram, label))\n",
    "        cv = tune (X_train, y_train, X_dev, y_dev,\n",
    "                  alg, params,\n",
    "                  n_iter,\n",
    "                  roc_scorer,\n",
    "                  n_jobs = 1,\n",
    "                  verbose = True,\n",
    "                  dependencies = dependencies)\n",
    "\n",
    "        save_best_estimator(cv, path, '%s_%s_%s' % (model, gram, label))\n",
    "        est = get_best_estimator(cv)\n",
    "        est.fit(X_train, y_train)\n",
    "        \n",
    "        best_spearman = spearman_scorer(est, X_dev, y_dev_ed) * 100\n",
    "        print (\"\\n best spearman: \", best_spearman)\n",
    "        best_roc = max(cv.grid_scores_, key=lambda x: x[1])[1] * 100\n",
    "        print (\"\\n best roc: \", best_roc)\n",
    "\n",
    "        results_list.append({'model_type': model,\n",
    "                             'ngram_type': gram,\n",
    "                             'label_type' : label,\n",
    "                             'cv': cv.grid_scores_,\n",
    "                             'best_roc': round(best_roc, 3),\n",
    "                             'best_spearman': round(best_spearman, 3)\n",
    "                            })"
   ]
  },
  {
   "cell_type": "markdown",
   "metadata": {},
   "source": [
    "# Conv LSTM"
   ]
  },
  {
   "cell_type": "code",
   "execution_count": 81,
   "metadata": {
    "collapsed": false
   },
   "outputs": [
    {
     "name": "stdout",
     "output_type": "stream",
     "text": [
      "time: 2.3 ms\n"
     ]
    }
   ],
   "source": [
    "alg = Pipeline([\n",
    "    ('seq', SequenceTransformer()),\n",
    "    ('clf', KerasClassifier(build_fn=make_conv_lstm, output_dim = 2, verbose=True)),\n",
    "])\n",
    "\n",
    "dependencies = [( 'seq__max_features', 'clf__max_features'),\n",
    "                ( 'seq__max_len', 'clf__max_len')]"
   ]
  },
  {
   "cell_type": "code",
   "execution_count": 84,
   "metadata": {
    "collapsed": false
   },
   "outputs": [
    {
     "name": "stdout",
     "output_type": "stream",
     "text": [
      "time: 6.62 ms\n"
     ]
    }
   ],
   "source": [
    "word_seq_params = {\n",
    "    'seq__max_features' : (5000, 10000, 30000),\n",
    "    'seq__max_len' : (100, 200, 500),\n",
    "    'seq__analyzer' : ('word',),\n",
    "    'clf__filter_length': (2, 4, 6),\n",
    "    'clf__pool_length' : (2, 4, 6)\n",
    "}\n",
    "\n",
    "char_seq_params = {\n",
    "    'seq__max_features' : (100,),\n",
    "    'seq__max_len' : (200, 500, 1000),\n",
    "    'seq__analyzer' : ('char',),\n",
    "    'clf__filter_length': (5, 10, 15),\n",
    "    'clf__pool_length' : (5, 10, 15)\n",
    "}\n",
    "\n",
    "clf_params = {\n",
    "    'clf__dropout' : (0.1, 0.2, 0.4),\n",
    "    'clf__embedding_size' : (64, 128),\n",
    "    'clf__lstm_output_size': (64, 128),\n",
    "    'clf__nb_epoch' : (2,3,4),\n",
    "    'clf__batch_size': (200,),\n",
    "    'clf__nb_filter' : (64, 128),\n",
    "    \n",
    "}"
   ]
  },
  {
   "cell_type": "code",
   "execution_count": 85,
   "metadata": {
    "collapsed": false
   },
   "outputs": [
    {
     "name": "stdout",
     "output_type": "stream",
     "text": [
      "{'clf__batch_size': (200,),\n",
      " 'clf__dropout': (0.1, 0.2, 0.4),\n",
      " 'clf__embedding_size': (64, 128),\n",
      " 'clf__filter_length': (5, 10, 15),\n",
      " 'clf__lstm_output_size': (64, 128),\n",
      " 'clf__nb_epoch': (2, 3, 4),\n",
      " 'clf__nb_filter': (64, 128),\n",
      " 'clf__pool_length': (5, 10, 15),\n",
      " 'seq__analyzer': ('char',),\n",
      " 'seq__max_features': (100,),\n",
      " 'seq__max_len': (500,)}\n",
      "\n",
      "\n",
      "\n",
      " conv_lstm char oh\n",
      "Epoch 1/2\n",
      " 7800/69490 [==>...........................] - ETA: 535s - loss: 0.3815 - acc: 0.8628"
     ]
    },
    {
     "ename": "KeyboardInterrupt",
     "evalue": "",
     "output_type": "error",
     "traceback": [
      "\u001b[0;31m---------------------------------------------------------------------------\u001b[0m",
      "\u001b[0;31mKeyboardInterrupt\u001b[0m                         Traceback (most recent call last)",
      "\u001b[0;32m<ipython-input-85-63c913bdd03c>\u001b[0m in \u001b[0;36m<module>\u001b[0;34m()\u001b[0m\n\u001b[1;32m     28\u001b[0m                   \u001b[0mn_jobs\u001b[0m \u001b[0;34m=\u001b[0m \u001b[0;36m1\u001b[0m\u001b[0;34m,\u001b[0m\u001b[0;34m\u001b[0m\u001b[0m\n\u001b[1;32m     29\u001b[0m                   \u001b[0mverbose\u001b[0m \u001b[0;34m=\u001b[0m \u001b[0;32mTrue\u001b[0m\u001b[0;34m,\u001b[0m\u001b[0;34m\u001b[0m\u001b[0m\n\u001b[0;32m---> 30\u001b[0;31m                   dependencies = dependencies)\n\u001b[0m\u001b[1;32m     31\u001b[0m \u001b[0;34m\u001b[0m\u001b[0m\n\u001b[1;32m     32\u001b[0m         \u001b[0msave_best_estimator\u001b[0m\u001b[0;34m(\u001b[0m\u001b[0mcv\u001b[0m\u001b[0;34m,\u001b[0m \u001b[0mpath\u001b[0m\u001b[0;34m,\u001b[0m \u001b[0;34m'%s_%s_%s'\u001b[0m \u001b[0;34m%\u001b[0m \u001b[0;34m(\u001b[0m\u001b[0mmodel\u001b[0m\u001b[0;34m,\u001b[0m \u001b[0mgram\u001b[0m\u001b[0;34m,\u001b[0m \u001b[0mlabel\u001b[0m\u001b[0;34m)\u001b[0m\u001b[0;34m)\u001b[0m\u001b[0;34m\u001b[0m\u001b[0m\n",
      "\u001b[0;32m/Users/ellerywulczyn/detox/src/modeling/ngram.py\u001b[0m in \u001b[0;36mtune\u001b[0;34m(X_train, y_train, X_dev, y_dev, alg, param_grid, n_iter, scoring, n_jobs, verbose, dependencies)\u001b[0m\n\u001b[1;32m     78\u001b[0m                                 \u001b[0mrefit\u001b[0m\u001b[0;34m=\u001b[0m\u001b[0;32mFalse\u001b[0m\u001b[0;34m,\u001b[0m\u001b[0;34m\u001b[0m\u001b[0m\n\u001b[1;32m     79\u001b[0m                                 dependencies=dependencies)\n\u001b[0;32m---> 80\u001b[0;31m     \u001b[0mmodel\u001b[0m\u001b[0;34m.\u001b[0m\u001b[0mfit\u001b[0m\u001b[0;34m(\u001b[0m\u001b[0mX\u001b[0m\u001b[0;34m,\u001b[0m \u001b[0my\u001b[0m\u001b[0;34m)\u001b[0m\u001b[0;34m\u001b[0m\u001b[0m\n\u001b[0m\u001b[1;32m     81\u001b[0m     \u001b[0;32mif\u001b[0m \u001b[0mverbose\u001b[0m\u001b[0;34m:\u001b[0m\u001b[0;34m\u001b[0m\u001b[0m\n\u001b[1;32m     82\u001b[0m         \u001b[0mprint\u001b[0m\u001b[0;34m(\u001b[0m\u001b[0;34m\"\\nBest parameters set found:\"\u001b[0m\u001b[0;34m)\u001b[0m\u001b[0;34m\u001b[0m\u001b[0m\n",
      "\u001b[0;32m/Users/ellerywulczyn/detox/src/modeling/ngram.py\u001b[0m in \u001b[0;36mfit\u001b[0;34m(self, X, y)\u001b[0m\n\u001b[1;32m     44\u001b[0m \u001b[0;34m\u001b[0m\u001b[0m\n\u001b[1;32m     45\u001b[0m \u001b[0;34m\u001b[0m\u001b[0m\n\u001b[0;32m---> 46\u001b[0;31m         \u001b[0;32mreturn\u001b[0m \u001b[0mself\u001b[0m\u001b[0;34m.\u001b[0m\u001b[0m_fit\u001b[0m\u001b[0;34m(\u001b[0m\u001b[0mX\u001b[0m\u001b[0;34m,\u001b[0m \u001b[0my\u001b[0m\u001b[0;34m,\u001b[0m \u001b[0msampled_params\u001b[0m\u001b[0;34m)\u001b[0m\u001b[0;34m\u001b[0m\u001b[0m\n\u001b[0m\u001b[1;32m     47\u001b[0m \u001b[0;34m\u001b[0m\u001b[0m\n\u001b[1;32m     48\u001b[0m \u001b[0;34m\u001b[0m\u001b[0m\n",
      "\u001b[0;32m/Users/ellerywulczyn/miniconda3/lib/python3.5/site-packages/sklearn/grid_search.py\u001b[0m in \u001b[0;36m_fit\u001b[0;34m(self, X, y, parameter_iterable)\u001b[0m\n\u001b[1;32m    551\u001b[0m                                     \u001b[0mself\u001b[0m\u001b[0;34m.\u001b[0m\u001b[0mfit_params\u001b[0m\u001b[0;34m,\u001b[0m \u001b[0mreturn_parameters\u001b[0m\u001b[0;34m=\u001b[0m\u001b[0;32mTrue\u001b[0m\u001b[0;34m,\u001b[0m\u001b[0;34m\u001b[0m\u001b[0m\n\u001b[1;32m    552\u001b[0m                                     error_score=self.error_score)\n\u001b[0;32m--> 553\u001b[0;31m                 \u001b[0;32mfor\u001b[0m \u001b[0mparameters\u001b[0m \u001b[0;32min\u001b[0m \u001b[0mparameter_iterable\u001b[0m\u001b[0;34m\u001b[0m\u001b[0m\n\u001b[0m\u001b[1;32m    554\u001b[0m                 for train, test in cv)\n\u001b[1;32m    555\u001b[0m \u001b[0;34m\u001b[0m\u001b[0m\n",
      "\u001b[0;32m/Users/ellerywulczyn/miniconda3/lib/python3.5/site-packages/sklearn/externals/joblib/parallel.py\u001b[0m in \u001b[0;36m__call__\u001b[0;34m(self, iterable)\u001b[0m\n\u001b[1;32m    798\u001b[0m             \u001b[0;31m# was dispatched. In particular this covers the edge\u001b[0m\u001b[0;34m\u001b[0m\u001b[0;34m\u001b[0m\u001b[0m\n\u001b[1;32m    799\u001b[0m             \u001b[0;31m# case of Parallel used with an exhausted iterator.\u001b[0m\u001b[0;34m\u001b[0m\u001b[0;34m\u001b[0m\u001b[0m\n\u001b[0;32m--> 800\u001b[0;31m             \u001b[0;32mwhile\u001b[0m \u001b[0mself\u001b[0m\u001b[0;34m.\u001b[0m\u001b[0mdispatch_one_batch\u001b[0m\u001b[0;34m(\u001b[0m\u001b[0miterator\u001b[0m\u001b[0;34m)\u001b[0m\u001b[0;34m:\u001b[0m\u001b[0;34m\u001b[0m\u001b[0m\n\u001b[0m\u001b[1;32m    801\u001b[0m                 \u001b[0mself\u001b[0m\u001b[0;34m.\u001b[0m\u001b[0m_iterating\u001b[0m \u001b[0;34m=\u001b[0m \u001b[0;32mTrue\u001b[0m\u001b[0;34m\u001b[0m\u001b[0m\n\u001b[1;32m    802\u001b[0m             \u001b[0;32melse\u001b[0m\u001b[0;34m:\u001b[0m\u001b[0;34m\u001b[0m\u001b[0m\n",
      "\u001b[0;32m/Users/ellerywulczyn/miniconda3/lib/python3.5/site-packages/sklearn/externals/joblib/parallel.py\u001b[0m in \u001b[0;36mdispatch_one_batch\u001b[0;34m(self, iterator)\u001b[0m\n\u001b[1;32m    656\u001b[0m                 \u001b[0;32mreturn\u001b[0m \u001b[0;32mFalse\u001b[0m\u001b[0;34m\u001b[0m\u001b[0m\n\u001b[1;32m    657\u001b[0m             \u001b[0;32melse\u001b[0m\u001b[0;34m:\u001b[0m\u001b[0;34m\u001b[0m\u001b[0m\n\u001b[0;32m--> 658\u001b[0;31m                 \u001b[0mself\u001b[0m\u001b[0;34m.\u001b[0m\u001b[0m_dispatch\u001b[0m\u001b[0;34m(\u001b[0m\u001b[0mtasks\u001b[0m\u001b[0;34m)\u001b[0m\u001b[0;34m\u001b[0m\u001b[0m\n\u001b[0m\u001b[1;32m    659\u001b[0m                 \u001b[0;32mreturn\u001b[0m \u001b[0;32mTrue\u001b[0m\u001b[0;34m\u001b[0m\u001b[0m\n\u001b[1;32m    660\u001b[0m \u001b[0;34m\u001b[0m\u001b[0m\n",
      "\u001b[0;32m/Users/ellerywulczyn/miniconda3/lib/python3.5/site-packages/sklearn/externals/joblib/parallel.py\u001b[0m in \u001b[0;36m_dispatch\u001b[0;34m(self, batch)\u001b[0m\n\u001b[1;32m    564\u001b[0m \u001b[0;34m\u001b[0m\u001b[0m\n\u001b[1;32m    565\u001b[0m         \u001b[0;32mif\u001b[0m \u001b[0mself\u001b[0m\u001b[0;34m.\u001b[0m\u001b[0m_pool\u001b[0m \u001b[0;32mis\u001b[0m \u001b[0;32mNone\u001b[0m\u001b[0;34m:\u001b[0m\u001b[0;34m\u001b[0m\u001b[0m\n\u001b[0;32m--> 566\u001b[0;31m             \u001b[0mjob\u001b[0m \u001b[0;34m=\u001b[0m \u001b[0mImmediateComputeBatch\u001b[0m\u001b[0;34m(\u001b[0m\u001b[0mbatch\u001b[0m\u001b[0;34m)\u001b[0m\u001b[0;34m\u001b[0m\u001b[0m\n\u001b[0m\u001b[1;32m    567\u001b[0m             \u001b[0mself\u001b[0m\u001b[0;34m.\u001b[0m\u001b[0m_jobs\u001b[0m\u001b[0;34m.\u001b[0m\u001b[0mappend\u001b[0m\u001b[0;34m(\u001b[0m\u001b[0mjob\u001b[0m\u001b[0;34m)\u001b[0m\u001b[0;34m\u001b[0m\u001b[0m\n\u001b[1;32m    568\u001b[0m             \u001b[0mself\u001b[0m\u001b[0;34m.\u001b[0m\u001b[0mn_dispatched_batches\u001b[0m \u001b[0;34m+=\u001b[0m \u001b[0;36m1\u001b[0m\u001b[0;34m\u001b[0m\u001b[0m\n",
      "\u001b[0;32m/Users/ellerywulczyn/miniconda3/lib/python3.5/site-packages/sklearn/externals/joblib/parallel.py\u001b[0m in \u001b[0;36m__init__\u001b[0;34m(self, batch)\u001b[0m\n\u001b[1;32m    178\u001b[0m         \u001b[0;31m# Don't delay the application, to avoid keeping the input\u001b[0m\u001b[0;34m\u001b[0m\u001b[0;34m\u001b[0m\u001b[0m\n\u001b[1;32m    179\u001b[0m         \u001b[0;31m# arguments in memory\u001b[0m\u001b[0;34m\u001b[0m\u001b[0;34m\u001b[0m\u001b[0m\n\u001b[0;32m--> 180\u001b[0;31m         \u001b[0mself\u001b[0m\u001b[0;34m.\u001b[0m\u001b[0mresults\u001b[0m \u001b[0;34m=\u001b[0m \u001b[0mbatch\u001b[0m\u001b[0;34m(\u001b[0m\u001b[0;34m)\u001b[0m\u001b[0;34m\u001b[0m\u001b[0m\n\u001b[0m\u001b[1;32m    181\u001b[0m \u001b[0;34m\u001b[0m\u001b[0m\n\u001b[1;32m    182\u001b[0m     \u001b[0;32mdef\u001b[0m \u001b[0mget\u001b[0m\u001b[0;34m(\u001b[0m\u001b[0mself\u001b[0m\u001b[0;34m)\u001b[0m\u001b[0;34m:\u001b[0m\u001b[0;34m\u001b[0m\u001b[0m\n",
      "\u001b[0;32m/Users/ellerywulczyn/miniconda3/lib/python3.5/site-packages/sklearn/externals/joblib/parallel.py\u001b[0m in \u001b[0;36m__call__\u001b[0;34m(self)\u001b[0m\n\u001b[1;32m     70\u001b[0m \u001b[0;34m\u001b[0m\u001b[0m\n\u001b[1;32m     71\u001b[0m     \u001b[0;32mdef\u001b[0m \u001b[0m__call__\u001b[0m\u001b[0;34m(\u001b[0m\u001b[0mself\u001b[0m\u001b[0;34m)\u001b[0m\u001b[0;34m:\u001b[0m\u001b[0;34m\u001b[0m\u001b[0m\n\u001b[0;32m---> 72\u001b[0;31m         \u001b[0;32mreturn\u001b[0m \u001b[0;34m[\u001b[0m\u001b[0mfunc\u001b[0m\u001b[0;34m(\u001b[0m\u001b[0;34m*\u001b[0m\u001b[0margs\u001b[0m\u001b[0;34m,\u001b[0m \u001b[0;34m**\u001b[0m\u001b[0mkwargs\u001b[0m\u001b[0;34m)\u001b[0m \u001b[0;32mfor\u001b[0m \u001b[0mfunc\u001b[0m\u001b[0;34m,\u001b[0m \u001b[0margs\u001b[0m\u001b[0;34m,\u001b[0m \u001b[0mkwargs\u001b[0m \u001b[0;32min\u001b[0m \u001b[0mself\u001b[0m\u001b[0;34m.\u001b[0m\u001b[0mitems\u001b[0m\u001b[0;34m]\u001b[0m\u001b[0;34m\u001b[0m\u001b[0m\n\u001b[0m\u001b[1;32m     73\u001b[0m \u001b[0;34m\u001b[0m\u001b[0m\n\u001b[1;32m     74\u001b[0m     \u001b[0;32mdef\u001b[0m \u001b[0m__len__\u001b[0m\u001b[0;34m(\u001b[0m\u001b[0mself\u001b[0m\u001b[0;34m)\u001b[0m\u001b[0;34m:\u001b[0m\u001b[0;34m\u001b[0m\u001b[0m\n",
      "\u001b[0;32m/Users/ellerywulczyn/miniconda3/lib/python3.5/site-packages/sklearn/externals/joblib/parallel.py\u001b[0m in \u001b[0;36m<listcomp>\u001b[0;34m(.0)\u001b[0m\n\u001b[1;32m     70\u001b[0m \u001b[0;34m\u001b[0m\u001b[0m\n\u001b[1;32m     71\u001b[0m     \u001b[0;32mdef\u001b[0m \u001b[0m__call__\u001b[0m\u001b[0;34m(\u001b[0m\u001b[0mself\u001b[0m\u001b[0;34m)\u001b[0m\u001b[0;34m:\u001b[0m\u001b[0;34m\u001b[0m\u001b[0m\n\u001b[0;32m---> 72\u001b[0;31m         \u001b[0;32mreturn\u001b[0m \u001b[0;34m[\u001b[0m\u001b[0mfunc\u001b[0m\u001b[0;34m(\u001b[0m\u001b[0;34m*\u001b[0m\u001b[0margs\u001b[0m\u001b[0;34m,\u001b[0m \u001b[0;34m**\u001b[0m\u001b[0mkwargs\u001b[0m\u001b[0;34m)\u001b[0m \u001b[0;32mfor\u001b[0m \u001b[0mfunc\u001b[0m\u001b[0;34m,\u001b[0m \u001b[0margs\u001b[0m\u001b[0;34m,\u001b[0m \u001b[0mkwargs\u001b[0m \u001b[0;32min\u001b[0m \u001b[0mself\u001b[0m\u001b[0;34m.\u001b[0m\u001b[0mitems\u001b[0m\u001b[0;34m]\u001b[0m\u001b[0;34m\u001b[0m\u001b[0m\n\u001b[0m\u001b[1;32m     73\u001b[0m \u001b[0;34m\u001b[0m\u001b[0m\n\u001b[1;32m     74\u001b[0m     \u001b[0;32mdef\u001b[0m \u001b[0m__len__\u001b[0m\u001b[0;34m(\u001b[0m\u001b[0mself\u001b[0m\u001b[0;34m)\u001b[0m\u001b[0;34m:\u001b[0m\u001b[0;34m\u001b[0m\u001b[0m\n",
      "\u001b[0;32m/Users/ellerywulczyn/miniconda3/lib/python3.5/site-packages/sklearn/cross_validation.py\u001b[0m in \u001b[0;36m_fit_and_score\u001b[0;34m(estimator, X, y, scorer, train, test, verbose, parameters, fit_params, return_train_score, return_parameters, error_score)\u001b[0m\n\u001b[1;32m   1529\u001b[0m             \u001b[0mestimator\u001b[0m\u001b[0;34m.\u001b[0m\u001b[0mfit\u001b[0m\u001b[0;34m(\u001b[0m\u001b[0mX_train\u001b[0m\u001b[0;34m,\u001b[0m \u001b[0;34m**\u001b[0m\u001b[0mfit_params\u001b[0m\u001b[0;34m)\u001b[0m\u001b[0;34m\u001b[0m\u001b[0m\n\u001b[1;32m   1530\u001b[0m         \u001b[0;32melse\u001b[0m\u001b[0;34m:\u001b[0m\u001b[0;34m\u001b[0m\u001b[0m\n\u001b[0;32m-> 1531\u001b[0;31m             \u001b[0mestimator\u001b[0m\u001b[0;34m.\u001b[0m\u001b[0mfit\u001b[0m\u001b[0;34m(\u001b[0m\u001b[0mX_train\u001b[0m\u001b[0;34m,\u001b[0m \u001b[0my_train\u001b[0m\u001b[0;34m,\u001b[0m \u001b[0;34m**\u001b[0m\u001b[0mfit_params\u001b[0m\u001b[0;34m)\u001b[0m\u001b[0;34m\u001b[0m\u001b[0m\n\u001b[0m\u001b[1;32m   1532\u001b[0m \u001b[0;34m\u001b[0m\u001b[0m\n\u001b[1;32m   1533\u001b[0m     \u001b[0;32mexcept\u001b[0m \u001b[0mException\u001b[0m \u001b[0;32mas\u001b[0m \u001b[0me\u001b[0m\u001b[0;34m:\u001b[0m\u001b[0;34m\u001b[0m\u001b[0m\n",
      "\u001b[0;32m/Users/ellerywulczyn/miniconda3/lib/python3.5/site-packages/sklearn/pipeline.py\u001b[0m in \u001b[0;36mfit\u001b[0;34m(self, X, y, **fit_params)\u001b[0m\n\u001b[1;32m    163\u001b[0m         \"\"\"\n\u001b[1;32m    164\u001b[0m         \u001b[0mXt\u001b[0m\u001b[0;34m,\u001b[0m \u001b[0mfit_params\u001b[0m \u001b[0;34m=\u001b[0m \u001b[0mself\u001b[0m\u001b[0;34m.\u001b[0m\u001b[0m_pre_transform\u001b[0m\u001b[0;34m(\u001b[0m\u001b[0mX\u001b[0m\u001b[0;34m,\u001b[0m \u001b[0my\u001b[0m\u001b[0;34m,\u001b[0m \u001b[0;34m**\u001b[0m\u001b[0mfit_params\u001b[0m\u001b[0;34m)\u001b[0m\u001b[0;34m\u001b[0m\u001b[0m\n\u001b[0;32m--> 165\u001b[0;31m         \u001b[0mself\u001b[0m\u001b[0;34m.\u001b[0m\u001b[0msteps\u001b[0m\u001b[0;34m[\u001b[0m\u001b[0;34m-\u001b[0m\u001b[0;36m1\u001b[0m\u001b[0;34m]\u001b[0m\u001b[0;34m[\u001b[0m\u001b[0;34m-\u001b[0m\u001b[0;36m1\u001b[0m\u001b[0;34m]\u001b[0m\u001b[0;34m.\u001b[0m\u001b[0mfit\u001b[0m\u001b[0;34m(\u001b[0m\u001b[0mXt\u001b[0m\u001b[0;34m,\u001b[0m \u001b[0my\u001b[0m\u001b[0;34m,\u001b[0m \u001b[0;34m**\u001b[0m\u001b[0mfit_params\u001b[0m\u001b[0;34m)\u001b[0m\u001b[0;34m\u001b[0m\u001b[0m\n\u001b[0m\u001b[1;32m    166\u001b[0m         \u001b[0;32mreturn\u001b[0m \u001b[0mself\u001b[0m\u001b[0;34m\u001b[0m\u001b[0m\n\u001b[1;32m    167\u001b[0m \u001b[0;34m\u001b[0m\u001b[0m\n",
      "\u001b[0;32m/Users/ellerywulczyn/miniconda3/lib/python3.5/site-packages/keras/wrappers/scikit_learn.py\u001b[0m in \u001b[0;36mfit\u001b[0;34m(self, X, y, **kwargs)\u001b[0m\n\u001b[1;32m    146\u001b[0m         \u001b[0mfit_args\u001b[0m\u001b[0;34m.\u001b[0m\u001b[0mupdate\u001b[0m\u001b[0;34m(\u001b[0m\u001b[0mkwargs\u001b[0m\u001b[0;34m)\u001b[0m\u001b[0;34m\u001b[0m\u001b[0m\n\u001b[1;32m    147\u001b[0m \u001b[0;34m\u001b[0m\u001b[0m\n\u001b[0;32m--> 148\u001b[0;31m         \u001b[0mhistory\u001b[0m \u001b[0;34m=\u001b[0m \u001b[0mself\u001b[0m\u001b[0;34m.\u001b[0m\u001b[0mmodel\u001b[0m\u001b[0;34m.\u001b[0m\u001b[0mfit\u001b[0m\u001b[0;34m(\u001b[0m\u001b[0mX\u001b[0m\u001b[0;34m,\u001b[0m \u001b[0my\u001b[0m\u001b[0;34m,\u001b[0m \u001b[0;34m**\u001b[0m\u001b[0mfit_args\u001b[0m\u001b[0;34m)\u001b[0m\u001b[0;34m\u001b[0m\u001b[0m\n\u001b[0m\u001b[1;32m    149\u001b[0m \u001b[0;34m\u001b[0m\u001b[0m\n\u001b[1;32m    150\u001b[0m         \u001b[0;32mreturn\u001b[0m \u001b[0mhistory\u001b[0m\u001b[0;34m\u001b[0m\u001b[0m\n",
      "\u001b[0;32m/Users/ellerywulczyn/miniconda3/lib/python3.5/site-packages/keras/models.py\u001b[0m in \u001b[0;36mfit\u001b[0;34m(self, x, y, batch_size, nb_epoch, verbose, callbacks, validation_split, validation_data, shuffle, class_weight, sample_weight, **kwargs)\u001b[0m\n\u001b[1;32m    595\u001b[0m                               \u001b[0mshuffle\u001b[0m\u001b[0;34m=\u001b[0m\u001b[0mshuffle\u001b[0m\u001b[0;34m,\u001b[0m\u001b[0;34m\u001b[0m\u001b[0m\n\u001b[1;32m    596\u001b[0m                               \u001b[0mclass_weight\u001b[0m\u001b[0;34m=\u001b[0m\u001b[0mclass_weight\u001b[0m\u001b[0;34m,\u001b[0m\u001b[0;34m\u001b[0m\u001b[0m\n\u001b[0;32m--> 597\u001b[0;31m                               sample_weight=sample_weight)\n\u001b[0m\u001b[1;32m    598\u001b[0m \u001b[0;34m\u001b[0m\u001b[0m\n\u001b[1;32m    599\u001b[0m     def evaluate(self, x, y, batch_size=32, verbose=1,\n",
      "\u001b[0;32m/Users/ellerywulczyn/miniconda3/lib/python3.5/site-packages/keras/engine/training.py\u001b[0m in \u001b[0;36mfit\u001b[0;34m(self, x, y, batch_size, nb_epoch, verbose, callbacks, validation_split, validation_data, shuffle, class_weight, sample_weight)\u001b[0m\n\u001b[1;32m   1105\u001b[0m                               \u001b[0mverbose\u001b[0m\u001b[0;34m=\u001b[0m\u001b[0mverbose\u001b[0m\u001b[0;34m,\u001b[0m \u001b[0mcallbacks\u001b[0m\u001b[0;34m=\u001b[0m\u001b[0mcallbacks\u001b[0m\u001b[0;34m,\u001b[0m\u001b[0;34m\u001b[0m\u001b[0m\n\u001b[1;32m   1106\u001b[0m                               \u001b[0mval_f\u001b[0m\u001b[0;34m=\u001b[0m\u001b[0mval_f\u001b[0m\u001b[0;34m,\u001b[0m \u001b[0mval_ins\u001b[0m\u001b[0;34m=\u001b[0m\u001b[0mval_ins\u001b[0m\u001b[0;34m,\u001b[0m \u001b[0mshuffle\u001b[0m\u001b[0;34m=\u001b[0m\u001b[0mshuffle\u001b[0m\u001b[0;34m,\u001b[0m\u001b[0;34m\u001b[0m\u001b[0m\n\u001b[0;32m-> 1107\u001b[0;31m                               callback_metrics=callback_metrics)\n\u001b[0m\u001b[1;32m   1108\u001b[0m \u001b[0;34m\u001b[0m\u001b[0m\n\u001b[1;32m   1109\u001b[0m     \u001b[0;32mdef\u001b[0m \u001b[0mevaluate\u001b[0m\u001b[0;34m(\u001b[0m\u001b[0mself\u001b[0m\u001b[0;34m,\u001b[0m \u001b[0mx\u001b[0m\u001b[0;34m,\u001b[0m \u001b[0my\u001b[0m\u001b[0;34m,\u001b[0m \u001b[0mbatch_size\u001b[0m\u001b[0;34m=\u001b[0m\u001b[0;36m32\u001b[0m\u001b[0;34m,\u001b[0m \u001b[0mverbose\u001b[0m\u001b[0;34m=\u001b[0m\u001b[0;36m1\u001b[0m\u001b[0;34m,\u001b[0m \u001b[0msample_weight\u001b[0m\u001b[0;34m=\u001b[0m\u001b[0;32mNone\u001b[0m\u001b[0;34m)\u001b[0m\u001b[0;34m:\u001b[0m\u001b[0;34m\u001b[0m\u001b[0m\n",
      "\u001b[0;32m/Users/ellerywulczyn/miniconda3/lib/python3.5/site-packages/keras/engine/training.py\u001b[0m in \u001b[0;36m_fit_loop\u001b[0;34m(self, f, ins, out_labels, batch_size, nb_epoch, verbose, callbacks, val_f, val_ins, shuffle, callback_metrics)\u001b[0m\n\u001b[1;32m    823\u001b[0m                 \u001b[0mbatch_logs\u001b[0m\u001b[0;34m[\u001b[0m\u001b[0;34m'size'\u001b[0m\u001b[0;34m]\u001b[0m \u001b[0;34m=\u001b[0m \u001b[0mlen\u001b[0m\u001b[0;34m(\u001b[0m\u001b[0mbatch_ids\u001b[0m\u001b[0;34m)\u001b[0m\u001b[0;34m\u001b[0m\u001b[0m\n\u001b[1;32m    824\u001b[0m                 \u001b[0mcallbacks\u001b[0m\u001b[0;34m.\u001b[0m\u001b[0mon_batch_begin\u001b[0m\u001b[0;34m(\u001b[0m\u001b[0mbatch_index\u001b[0m\u001b[0;34m,\u001b[0m \u001b[0mbatch_logs\u001b[0m\u001b[0;34m)\u001b[0m\u001b[0;34m\u001b[0m\u001b[0m\n\u001b[0;32m--> 825\u001b[0;31m                 \u001b[0mouts\u001b[0m \u001b[0;34m=\u001b[0m \u001b[0mf\u001b[0m\u001b[0;34m(\u001b[0m\u001b[0mins_batch\u001b[0m\u001b[0;34m)\u001b[0m\u001b[0;34m\u001b[0m\u001b[0m\n\u001b[0m\u001b[1;32m    826\u001b[0m                 \u001b[0;32mif\u001b[0m \u001b[0mtype\u001b[0m\u001b[0;34m(\u001b[0m\u001b[0mouts\u001b[0m\u001b[0;34m)\u001b[0m \u001b[0;34m!=\u001b[0m \u001b[0mlist\u001b[0m\u001b[0;34m:\u001b[0m\u001b[0;34m\u001b[0m\u001b[0m\n\u001b[1;32m    827\u001b[0m                     \u001b[0mouts\u001b[0m \u001b[0;34m=\u001b[0m \u001b[0;34m[\u001b[0m\u001b[0mouts\u001b[0m\u001b[0;34m]\u001b[0m\u001b[0;34m\u001b[0m\u001b[0m\n",
      "\u001b[0;32m/Users/ellerywulczyn/miniconda3/lib/python3.5/site-packages/keras/backend/tensorflow_backend.py\u001b[0m in \u001b[0;36m__call__\u001b[0;34m(self, inputs)\u001b[0m\n\u001b[1;32m    932\u001b[0m         \u001b[0mfeed_dict\u001b[0m \u001b[0;34m=\u001b[0m \u001b[0mdict\u001b[0m\u001b[0;34m(\u001b[0m\u001b[0mzip\u001b[0m\u001b[0;34m(\u001b[0m\u001b[0mnames\u001b[0m\u001b[0;34m,\u001b[0m \u001b[0minputs\u001b[0m\u001b[0;34m)\u001b[0m\u001b[0;34m)\u001b[0m\u001b[0;34m\u001b[0m\u001b[0m\n\u001b[1;32m    933\u001b[0m         \u001b[0msession\u001b[0m \u001b[0;34m=\u001b[0m \u001b[0mget_session\u001b[0m\u001b[0;34m(\u001b[0m\u001b[0;34m)\u001b[0m\u001b[0;34m\u001b[0m\u001b[0m\n\u001b[0;32m--> 934\u001b[0;31m         \u001b[0mupdated\u001b[0m \u001b[0;34m=\u001b[0m \u001b[0msession\u001b[0m\u001b[0;34m.\u001b[0m\u001b[0mrun\u001b[0m\u001b[0;34m(\u001b[0m\u001b[0mself\u001b[0m\u001b[0;34m.\u001b[0m\u001b[0moutputs\u001b[0m \u001b[0;34m+\u001b[0m \u001b[0;34m[\u001b[0m\u001b[0mself\u001b[0m\u001b[0;34m.\u001b[0m\u001b[0mupdates_op\u001b[0m\u001b[0;34m]\u001b[0m\u001b[0;34m,\u001b[0m \u001b[0mfeed_dict\u001b[0m\u001b[0;34m=\u001b[0m\u001b[0mfeed_dict\u001b[0m\u001b[0;34m)\u001b[0m\u001b[0;34m\u001b[0m\u001b[0m\n\u001b[0m\u001b[1;32m    935\u001b[0m         \u001b[0;32mreturn\u001b[0m \u001b[0mupdated\u001b[0m\u001b[0;34m[\u001b[0m\u001b[0;34m:\u001b[0m\u001b[0mlen\u001b[0m\u001b[0;34m(\u001b[0m\u001b[0mself\u001b[0m\u001b[0;34m.\u001b[0m\u001b[0moutputs\u001b[0m\u001b[0;34m)\u001b[0m\u001b[0;34m]\u001b[0m\u001b[0;34m\u001b[0m\u001b[0m\n\u001b[1;32m    936\u001b[0m \u001b[0;34m\u001b[0m\u001b[0m\n",
      "\u001b[0;32m/Users/ellerywulczyn/miniconda3/lib/python3.5/site-packages/tensorflow/python/client/session.py\u001b[0m in \u001b[0;36mrun\u001b[0;34m(self, fetches, feed_dict, options, run_metadata)\u001b[0m\n\u001b[1;32m    380\u001b[0m     \u001b[0;32mtry\u001b[0m\u001b[0;34m:\u001b[0m\u001b[0;34m\u001b[0m\u001b[0m\n\u001b[1;32m    381\u001b[0m       result = self._run(None, fetches, feed_dict, options_ptr,\n\u001b[0;32m--> 382\u001b[0;31m                          run_metadata_ptr)\n\u001b[0m\u001b[1;32m    383\u001b[0m       \u001b[0;32mif\u001b[0m \u001b[0mrun_metadata\u001b[0m\u001b[0;34m:\u001b[0m\u001b[0;34m\u001b[0m\u001b[0m\n\u001b[1;32m    384\u001b[0m         \u001b[0mproto_data\u001b[0m \u001b[0;34m=\u001b[0m \u001b[0mtf_session\u001b[0m\u001b[0;34m.\u001b[0m\u001b[0mTF_GetBuffer\u001b[0m\u001b[0;34m(\u001b[0m\u001b[0mrun_metadata_ptr\u001b[0m\u001b[0;34m)\u001b[0m\u001b[0;34m\u001b[0m\u001b[0m\n",
      "\u001b[0;32m/Users/ellerywulczyn/miniconda3/lib/python3.5/site-packages/tensorflow/python/client/session.py\u001b[0m in \u001b[0;36m_run\u001b[0;34m(self, handle, fetches, feed_dict, options, run_metadata)\u001b[0m\n\u001b[1;32m    653\u001b[0m     \u001b[0mmovers\u001b[0m \u001b[0;34m=\u001b[0m \u001b[0mself\u001b[0m\u001b[0;34m.\u001b[0m\u001b[0m_update_with_movers\u001b[0m\u001b[0;34m(\u001b[0m\u001b[0mfeed_dict_string\u001b[0m\u001b[0;34m,\u001b[0m \u001b[0mfeed_map\u001b[0m\u001b[0;34m)\u001b[0m\u001b[0;34m\u001b[0m\u001b[0m\n\u001b[1;32m    654\u001b[0m     results = self._do_run(handle, target_list, unique_fetches,\n\u001b[0;32m--> 655\u001b[0;31m                            feed_dict_string, options, run_metadata)\n\u001b[0m\u001b[1;32m    656\u001b[0m \u001b[0;34m\u001b[0m\u001b[0m\n\u001b[1;32m    657\u001b[0m     \u001b[0;31m# User may have fetched the same tensor multiple times, but we\u001b[0m\u001b[0;34m\u001b[0m\u001b[0;34m\u001b[0m\u001b[0m\n",
      "\u001b[0;32m/Users/ellerywulczyn/miniconda3/lib/python3.5/site-packages/tensorflow/python/client/session.py\u001b[0m in \u001b[0;36m_do_run\u001b[0;34m(self, handle, target_list, fetch_list, feed_dict, options, run_metadata)\u001b[0m\n\u001b[1;32m    721\u001b[0m     \u001b[0;32mif\u001b[0m \u001b[0mhandle\u001b[0m \u001b[0;32mis\u001b[0m \u001b[0;32mNone\u001b[0m\u001b[0;34m:\u001b[0m\u001b[0;34m\u001b[0m\u001b[0m\n\u001b[1;32m    722\u001b[0m       return self._do_call(_run_fn, self._session, feed_dict, fetch_list,\n\u001b[0;32m--> 723\u001b[0;31m                            target_list, options, run_metadata)\n\u001b[0m\u001b[1;32m    724\u001b[0m     \u001b[0;32melse\u001b[0m\u001b[0;34m:\u001b[0m\u001b[0;34m\u001b[0m\u001b[0m\n\u001b[1;32m    725\u001b[0m       return self._do_call(_prun_fn, self._session, handle, feed_dict,\n",
      "\u001b[0;32m/Users/ellerywulczyn/miniconda3/lib/python3.5/site-packages/tensorflow/python/client/session.py\u001b[0m in \u001b[0;36m_do_call\u001b[0;34m(self, fn, *args)\u001b[0m\n\u001b[1;32m    728\u001b[0m   \u001b[0;32mdef\u001b[0m \u001b[0m_do_call\u001b[0m\u001b[0;34m(\u001b[0m\u001b[0mself\u001b[0m\u001b[0;34m,\u001b[0m \u001b[0mfn\u001b[0m\u001b[0;34m,\u001b[0m \u001b[0;34m*\u001b[0m\u001b[0margs\u001b[0m\u001b[0;34m)\u001b[0m\u001b[0;34m:\u001b[0m\u001b[0;34m\u001b[0m\u001b[0m\n\u001b[1;32m    729\u001b[0m     \u001b[0;32mtry\u001b[0m\u001b[0;34m:\u001b[0m\u001b[0;34m\u001b[0m\u001b[0m\n\u001b[0;32m--> 730\u001b[0;31m       \u001b[0;32mreturn\u001b[0m \u001b[0mfn\u001b[0m\u001b[0;34m(\u001b[0m\u001b[0;34m*\u001b[0m\u001b[0margs\u001b[0m\u001b[0;34m)\u001b[0m\u001b[0;34m\u001b[0m\u001b[0m\n\u001b[0m\u001b[1;32m    731\u001b[0m     \u001b[0;32mexcept\u001b[0m \u001b[0merrors\u001b[0m\u001b[0;34m.\u001b[0m\u001b[0mOpError\u001b[0m \u001b[0;32mas\u001b[0m \u001b[0me\u001b[0m\u001b[0;34m:\u001b[0m\u001b[0;34m\u001b[0m\u001b[0m\n\u001b[1;32m    732\u001b[0m       \u001b[0mmessage\u001b[0m \u001b[0;34m=\u001b[0m \u001b[0mcompat\u001b[0m\u001b[0;34m.\u001b[0m\u001b[0mas_text\u001b[0m\u001b[0;34m(\u001b[0m\u001b[0me\u001b[0m\u001b[0;34m.\u001b[0m\u001b[0mmessage\u001b[0m\u001b[0;34m)\u001b[0m\u001b[0;34m\u001b[0m\u001b[0m\n",
      "\u001b[0;32m/Users/ellerywulczyn/miniconda3/lib/python3.5/site-packages/tensorflow/python/client/session.py\u001b[0m in \u001b[0;36m_run_fn\u001b[0;34m(session, feed_dict, fetch_list, target_list, options, run_metadata)\u001b[0m\n\u001b[1;32m    710\u001b[0m         return tf_session.TF_Run(session, options,\n\u001b[1;32m    711\u001b[0m                                  \u001b[0mfeed_dict\u001b[0m\u001b[0;34m,\u001b[0m \u001b[0mfetch_list\u001b[0m\u001b[0;34m,\u001b[0m \u001b[0mtarget_list\u001b[0m\u001b[0;34m,\u001b[0m\u001b[0;34m\u001b[0m\u001b[0m\n\u001b[0;32m--> 712\u001b[0;31m                                  status, run_metadata)\n\u001b[0m\u001b[1;32m    713\u001b[0m \u001b[0;34m\u001b[0m\u001b[0m\n\u001b[1;32m    714\u001b[0m     \u001b[0;32mdef\u001b[0m \u001b[0m_prun_fn\u001b[0m\u001b[0;34m(\u001b[0m\u001b[0msession\u001b[0m\u001b[0;34m,\u001b[0m \u001b[0mhandle\u001b[0m\u001b[0;34m,\u001b[0m \u001b[0mfeed_dict\u001b[0m\u001b[0;34m,\u001b[0m \u001b[0mfetch_list\u001b[0m\u001b[0;34m)\u001b[0m\u001b[0;34m:\u001b[0m\u001b[0;34m\u001b[0m\u001b[0m\n",
      "\u001b[0;31mKeyboardInterrupt\u001b[0m: "
     ]
    },
    {
     "name": "stdout",
     "output_type": "stream",
     "text": [
      "time: 13min 37s\n"
     ]
    }
   ],
   "source": [
    "model = 'conv_lstm'\n",
    "for gram in ['word', 'char']:\n",
    "    for label in ['oh', 'ed']:\n",
    "        params = {}\n",
    "        params.update(clf_params)\n",
    "\n",
    "        if gram == 'char':\n",
    "            params.update(char_seq_params)\n",
    "        else:\n",
    "            params.update(word_seq_params)\n",
    "\n",
    "        if label == 'oh':\n",
    "            y_train = y_train_ohm\n",
    "            y_dev = y_dev_ohm\n",
    "        else:\n",
    "            y_train = y_train_ed\n",
    "            y_dev = y_dev_ed\n",
    "            \n",
    "        pprint(params)\n",
    "\n",
    "        print('\\n\\n\\n %s %s %s' % (model, gram, label))\n",
    "        cv = tune (X_train, y_train, X_dev, y_dev,\n",
    "                  alg, params,\n",
    "                  n_iter,\n",
    "                  roc_scorer,\n",
    "                  n_jobs = 1,\n",
    "                  verbose = True,\n",
    "                  dependencies = dependencies)\n",
    "\n",
    "        save_best_estimator(cv, path, '%s_%s_%s' % (model, gram, label))\n",
    "        est = get_best_estimator(cv)\n",
    "        est.fit(X_train, y_train)\n",
    "        \n",
    "        best_spearman = spearman_scorer(est, X_dev, y_dev_ed) * 100\n",
    "        print (\"\\n best spearman: \", best_spearman)\n",
    "        best_roc = max(cv.grid_scores_, key=lambda x: x[1])[1] * 100\n",
    "        print (\"\\n best roc: \", best_roc)\n",
    "\n",
    "        results_list.append({'model_type': model,\n",
    "                             'ngram_type': gram,\n",
    "                             'label_type' : label,\n",
    "                             'cv': cv.grid_scores_,\n",
    "                             'best_roc': round(best_roc, 3),\n",
    "                             'best_spearman': round(best_spearman, 3)\n",
    "                            })"
   ]
  },
  {
   "cell_type": "code",
   "execution_count": null,
   "metadata": {
    "collapsed": true
   },
   "outputs": [],
   "source": []
  }
 ],
 "metadata": {
  "anaconda-cloud": {},
  "kernelspec": {
   "display_name": "Python [default]",
   "language": "python",
   "name": "python3"
  },
  "language_info": {
   "codemirror_mode": {
    "name": "ipython",
    "version": 3
   },
   "file_extension": ".py",
   "mimetype": "text/x-python",
   "name": "python",
   "nbconvert_exporter": "python",
   "pygments_lexer": "ipython3",
   "version": "3.5.1"
  }
 },
 "nbformat": 4,
 "nbformat_minor": 0
}
