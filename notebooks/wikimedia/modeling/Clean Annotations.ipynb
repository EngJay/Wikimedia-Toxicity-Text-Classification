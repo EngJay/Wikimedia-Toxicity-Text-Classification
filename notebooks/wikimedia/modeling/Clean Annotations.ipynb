{
 "cells": [
  {
   "cell_type": "code",
   "execution_count": 1,
   "metadata": {
    "collapsed": false
   },
   "outputs": [],
   "source": [
    "%load_ext autoreload\n",
    "%autoreload 2\n",
    "%matplotlib inline\n",
    "%load_ext autotime"
   ]
  },
  {
   "cell_type": "code",
   "execution_count": 2,
   "metadata": {
    "collapsed": false
   },
   "outputs": [
    {
     "name": "stdout",
     "output_type": "stream",
     "text": [
      "time: 1.03 s\n"
     ]
    }
   ],
   "source": [
    "from baselines import remove_na, tidy_labels, map_aggression_score_to_2class\n",
    "import pandas as pd"
   ]
  },
  {
   "cell_type": "markdown",
   "metadata": {},
   "source": [
    "#  Clean Raw Annotations"
   ]
  },
  {
   "cell_type": "markdown",
   "metadata": {},
   "source": [
    "### Load raw  annotations"
   ]
  },
  {
   "cell_type": "code",
   "execution_count": 3,
   "metadata": {
    "collapsed": false
   },
   "outputs": [
    {
     "name": "stdout",
     "output_type": "stream",
     "text": [
      "# annotations:  1524236\n",
      "time: 23.1 s\n"
     ]
    }
   ],
   "source": [
    "\"\"\"\n",
    "# v4_annotated\n",
    "user_blocked = [\n",
    "                'annotated_onion_layer_5_rows_0_to_5000_raters_20',     \n",
    "                'annotated_onion_layer_5_rows_0_to_10000',             \n",
    "                'annotated_onion_layer_5_rows_0_to_10000_raters_3',          \n",
    "                'annotated_onion_layer_5_rows_10000_to_50526_raters_10',\n",
    "                'annotated_onion_layer_10_rows_0_to_1000',              \n",
    "                'annotated_onion_layer_20_rows_0_to_1000',              \n",
    "                'annotated_onion_layer_30_rows_0_to_1000',              \n",
    "]\n",
    "\n",
    "user_random = [\n",
    "            'annotated_random_data_rows_0_to_5000_raters_20',\n",
    "            'annotated_random_data_rows_5000_to_10000',\n",
    "            'annotated_random_data_rows_5000_to_10000_raters_3',\n",
    "            'annotated_random_data_rows_10000_to_20000_raters_10',\n",
    "]\n",
    "\n",
    "article_blocked = ['article_onion_layer_5_all_rows_raters_10',]\n",
    "article_random = ['article_random_data_all_rows_raters_10',]\n",
    "\"\"\"\n",
    "\n",
    "user_blocked = [\n",
    "            'user_blocked',\n",
    "            'user_blocked_2',\n",
    "            'user_blocked_3',\n",
    "            'user_blocked_4',\n",
    "            'user_blocked_layer_10',\n",
    "            'user_blocked_layer_20',\n",
    "            'user_blocked_layer_30',\n",
    "]\n",
    "\n",
    "user_random = [\n",
    "            'user_random',\n",
    "            'user_random_2',\n",
    "            'user_random_3',\n",
    "            'user_random_4',\n",
    "            'user_random_extra_baselines',\n",
    "\n",
    "]\n",
    "\n",
    "article_blocked = [ 'article_blocked',\n",
    "                    'article_blocked_layer_5_extra_baselines' ]\n",
    "\n",
    "\n",
    "article_random = ['article_random',\n",
    "                  'article_random_extra_baselines']\n",
    "\n",
    "\n",
    "\n",
    "files = {\n",
    "    'user': {'blocked': user_blocked, 'random': user_random},\n",
    "    'article': {'blocked': article_blocked, 'random': article_random}\n",
    "}\n",
    "\n",
    "\n",
    "dfs = []\n",
    "\n",
    "for ns, d in files.items():\n",
    "    for sample, files in  d.items():\n",
    "        for f in files:\n",
    "            df = pd.read_csv('../../data/annotations/raw/%s/%s.csv' % (ns,f))\n",
    "            df['src'] = f\n",
    "            df['ns'] = ns\n",
    "            df['sample'] = sample\n",
    "            dfs.append(df)\n",
    "df = pd.concat(dfs)\n",
    "print('# annotations: ', df.shape[0])"
   ]
  },
  {
   "cell_type": "markdown",
   "metadata": {},
   "source": [
    "### Make random and blocked samples disjoint"
   ]
  },
  {
   "cell_type": "code",
   "execution_count": 4,
   "metadata": {
    "collapsed": false
   },
   "outputs": [
    {
     "data": {
      "text/plain": [
       "1    124631\n",
       "2        93\n",
       "Name: rev_id, dtype: int64"
      ]
     },
     "execution_count": 4,
     "metadata": {},
     "output_type": "execute_result"
    },
    {
     "name": "stdout",
     "output_type": "stream",
     "text": [
      "time: 1.52 s\n"
     ]
    }
   ],
   "source": [
    "df.drop_duplicates(subset=['rev_id', 'sample'])['rev_id'].value_counts().value_counts()"
   ]
  },
  {
   "cell_type": "code",
   "execution_count": 5,
   "metadata": {
    "collapsed": false
   },
   "outputs": [
    {
     "name": "stdout",
     "output_type": "stream",
     "text": [
      "time: 251 ms\n"
     ]
    }
   ],
   "source": [
    "df.index = df.rev_id\n",
    "df.sample_count = df.drop_duplicates(subset=['rev_id', 'sample'])['rev_id'].value_counts()"
   ]
  },
  {
   "cell_type": "code",
   "execution_count": 6,
   "metadata": {
    "collapsed": false
   },
   "outputs": [
    {
     "data": {
      "text/plain": [
       "1    124631\n",
       "2        93\n",
       "Name: rev_id, dtype: int64"
      ]
     },
     "execution_count": 6,
     "metadata": {},
     "output_type": "execute_result"
    },
    {
     "name": "stdout",
     "output_type": "stream",
     "text": [
      "time: 3.94 ms\n"
     ]
    }
   ],
   "source": [
    "df.sample_count.value_counts()"
   ]
  },
  {
   "cell_type": "code",
   "execution_count": 7,
   "metadata": {
    "collapsed": false
   },
   "outputs": [
    {
     "name": "stdout",
     "output_type": "stream",
     "text": [
      "time: 107 ms\n"
     ]
    },
    {
     "name": "stderr",
     "output_type": "stream",
     "text": [
      "/Users/ellerywulczyn/miniconda3/lib/python3.5/site-packages/ipykernel/__main__.py:2: SettingWithCopyWarning: \n",
      "A value is trying to be set on a copy of a slice from a DataFrame\n",
      "\n",
      "See the caveats in the documentation: http://pandas.pydata.org/pandas-docs/stable/indexing.html#indexing-view-versus-copy\n",
      "  from ipykernel import kernelapp as app\n"
     ]
    }
   ],
   "source": [
    "# just set them all to random\n",
    "df['sample'][df.sample_count == 2] = 'random'"
   ]
  },
  {
   "cell_type": "code",
   "execution_count": 8,
   "metadata": {
    "collapsed": false
   },
   "outputs": [
    {
     "data": {
      "text/plain": [
       "1    124724\n",
       "Name: rev_id, dtype: int64"
      ]
     },
     "execution_count": 8,
     "metadata": {},
     "output_type": "execute_result"
    },
    {
     "name": "stdout",
     "output_type": "stream",
     "text": [
      "time: 251 ms\n"
     ]
    }
   ],
   "source": [
    "df.drop_duplicates(subset=['rev_id', 'sample'])['rev_id'].value_counts().value_counts()"
   ]
  },
  {
   "cell_type": "code",
   "execution_count": 9,
   "metadata": {
    "collapsed": false
   },
   "outputs": [
    {
     "name": "stdout",
     "output_type": "stream",
     "text": [
      "time: 2.27 ms\n"
     ]
    }
   ],
   "source": [
    "del df.sample_count"
   ]
  },
  {
   "cell_type": "code",
   "execution_count": 10,
   "metadata": {
    "collapsed": false
   },
   "outputs": [
    {
     "name": "stdout",
     "output_type": "stream",
     "text": [
      "# annotations:  1524236\n",
      "time: 1.07 ms\n"
     ]
    }
   ],
   "source": [
    "print('# annotations: ', df.shape[0])"
   ]
  },
  {
   "cell_type": "markdown",
   "metadata": {},
   "source": [
    "### Tidy is_harassment_or_attack column"
   ]
  },
  {
   "cell_type": "code",
   "execution_count": 11,
   "metadata": {
    "collapsed": false
   },
   "outputs": [
    {
     "name": "stdout",
     "output_type": "stream",
     "text": [
      "time: 5.93 s\n"
     ]
    }
   ],
   "source": [
    "df = tidy_labels(df)"
   ]
  },
  {
   "cell_type": "markdown",
   "metadata": {},
   "source": [
    "### Remap aggression score"
   ]
  },
  {
   "cell_type": "code",
   "execution_count": 12,
   "metadata": {
    "collapsed": false
   },
   "outputs": [
    {
     "name": "stdout",
     "output_type": "stream",
     "text": [
      "time: 554 ms\n"
     ]
    }
   ],
   "source": [
    "df['aggression'] = df['aggression_score'].apply(map_aggression_score_to_2class)"
   ]
  },
  {
   "cell_type": "markdown",
   "metadata": {},
   "source": [
    "### Remove answers to test questions"
   ]
  },
  {
   "cell_type": "code",
   "execution_count": 13,
   "metadata": {
    "collapsed": false
   },
   "outputs": [
    {
     "name": "stdout",
     "output_type": "stream",
     "text": [
      "# annotations:  1524236\n",
      "time: 862 ms\n"
     ]
    }
   ],
   "source": [
    "df = df.query('_golden == False')\n",
    "print('# annotations: ', df.shape[0])"
   ]
  },
  {
   "cell_type": "markdown",
   "metadata": {},
   "source": [
    "### Remove annotations where revision could not be read"
   ]
  },
  {
   "cell_type": "code",
   "execution_count": 14,
   "metadata": {
    "collapsed": false
   },
   "outputs": [
    {
     "name": "stdout",
     "output_type": "stream",
     "text": [
      "# annotations:  1510976\n",
      "time: 46.9 s\n"
     ]
    }
   ],
   "source": [
    "# remove all annotations for a revisions where more than 50% of annotators for that revision could not read the comment\n",
    "df = remove_na(df)\n",
    "print('# annotations: ', df.shape[0])"
   ]
  },
  {
   "cell_type": "code",
   "execution_count": 15,
   "metadata": {
    "collapsed": false
   },
   "outputs": [
    {
     "name": "stdout",
     "output_type": "stream",
     "text": [
      "# annotations:  1501494\n",
      "time: 514 ms\n"
     ]
    }
   ],
   "source": [
    "# remove all annotations where the annotator could not read the comment\n",
    "df = df.query('na==False')\n",
    "print('# annotations: ', df.shape[0])"
   ]
  },
  {
   "cell_type": "markdown",
   "metadata": {},
   "source": [
    "### Examine aggression_score or is_harassment_or_attack input"
   ]
  },
  {
   "cell_type": "code",
   "execution_count": 16,
   "metadata": {
    "collapsed": false
   },
   "outputs": [
    {
     "data": {
      "text/plain": [
       " 0.0    1081861\n",
       "-1.0     144269\n",
       " 1.0      92441\n",
       "-3.0      74081\n",
       "-2.0      66210\n",
       " 2.0      29848\n",
       " 3.0      11902\n",
       "NaN         882\n",
       "Name: aggression_score, dtype: int64"
      ]
     },
     "execution_count": 16,
     "metadata": {},
     "output_type": "execute_result"
    },
    {
     "name": "stdout",
     "output_type": "stream",
     "text": [
      "time: 21.3 ms\n"
     ]
    }
   ],
   "source": [
    "df['aggression_score'].value_counts(dropna=False)"
   ]
  },
  {
   "cell_type": "code",
   "execution_count": 17,
   "metadata": {
    "collapsed": false
   },
   "outputs": [
    {
     "data": {
      "text/plain": [
       "not_attack                                            1213696\n",
       "recipient                                              150911\n",
       "other                                                   40457\n",
       "third_party                                             33592\n",
       "recipient\\nthird_party                                  10046\n",
       "other\\nnot_attack                                        9283\n",
       "recipient\\nnot_attack                                    6967\n",
       "quoting                                                  6596\n",
       "recipient\\nthird_party\\nquoting\\nother\\nnot_attack       5969\n",
       "recipient\\nother                                         4408\n",
       "recipient\\nthird_party\\nquoting\\nother                   2504\n",
       "recipient\\nthird_party\\nnot_attack                       2496\n",
       "third_party\\nother                                       1906\n",
       "recipient\\nthird_party\\nother                            1863\n",
       "quoting\\nnot_attack                                      1630\n",
       "recipient\\nthird_party\\nquoting                          1606\n",
       "recipient\\nthird_party\\nquoting\\nnot_attack              1392\n",
       "third_party\\nnot_attack                                  1300\n",
       "quoting\\nother\\nnot_attack                               1230\n",
       "recipient\\nother\\nnot_attack                              830\n",
       "quoting\\nother                                            642\n",
       "third_party\\nquoting                                      610\n",
       "recipient\\nquoting                                        476\n",
       "third_party\\nquoting\\nother                               361\n",
       "recipient\\nquoting\\nnot_attack                            212\n",
       "recipient\\nquoting\\nother                                 129\n",
       "third_party\\nquoting\\nnot_attack                          117\n",
       "third_party\\nother\\nnot_attack                             89\n",
       "recipient\\nthird_party\\nother\\nnot_attack                  66\n",
       "NaN                                                        41\n",
       "third_party\\nquoting\\nother\\nnot_attack                    38\n",
       "recipient\\nquoting\\nother\\nnot_attack                      31\n",
       "Name: is_harassment_or_attack, dtype: int64"
      ]
     },
     "execution_count": 17,
     "metadata": {},
     "output_type": "execute_result"
    },
    {
     "name": "stdout",
     "output_type": "stream",
     "text": [
      "time: 115 ms\n"
     ]
    }
   ],
   "source": [
    "df['is_harassment_or_attack'].value_counts(dropna=False)"
   ]
  },
  {
   "cell_type": "markdown",
   "metadata": {},
   "source": [
    "### Drop NAs in aggression_score or is_harassment_or_attack input"
   ]
  },
  {
   "cell_type": "code",
   "execution_count": 18,
   "metadata": {
    "collapsed": false
   },
   "outputs": [
    {
     "name": "stdout",
     "output_type": "stream",
     "text": [
      "# annotations:  1500571\n",
      "time: 915 ms\n"
     ]
    }
   ],
   "source": [
    "df = df.dropna(subset = ['aggression_score', 'is_harassment_or_attack'])\n",
    "print('# annotations: ', df.shape[0])"
   ]
  },
  {
   "cell_type": "markdown",
   "metadata": {},
   "source": [
    "### Remove ambivalent is_harassment_or_attack annotations\n",
    "\n",
    "An annotations is ambivalent if it was labeled as both an attack and not an attack"
   ]
  },
  {
   "cell_type": "code",
   "execution_count": 19,
   "metadata": {
    "collapsed": false
   },
   "outputs": [
    {
     "name": "stdout",
     "output_type": "stream",
     "text": [
      "# annotations:  1439146\n",
      "time: 5.58 s\n"
     ]
    }
   ],
   "source": [
    "# remove all annotations from users who are ambivalent in 10% or more of revisions\n",
    "# we consider these users unreliable\n",
    "def ambivalent(s):\n",
    "    return 'not_attack' in s and s!= 'not_attack'\n",
    "df['ambivalent'] = df['is_harassment_or_attack'].apply(ambivalent)\n",
    "non_ambivalent_workers = df.groupby('_worker_id', as_index = False)['ambivalent'].mean().query('ambivalent < 0.1')\n",
    "df = df.merge(non_ambivalent_workers[['_worker_id']], how = 'inner', on = '_worker_id')\n",
    "print('# annotations: ', df.shape[0])"
   ]
  },
  {
   "cell_type": "code",
   "execution_count": 20,
   "metadata": {
    "collapsed": false
   },
   "outputs": [
    {
     "name": "stdout",
     "output_type": "stream",
     "text": [
      "# annotations:  1434257\n",
      "time: 2.58 s\n"
     ]
    }
   ],
   "source": [
    "# remove all other ambivalent annotations\n",
    "df = df.query('ambivalent==False')\n",
    "print('# annotations: ', df.shape[0])"
   ]
  },
  {
   "cell_type": "markdown",
   "metadata": {},
   "source": [
    "### Make sure that each rev was only annotated by the same worker once"
   ]
  },
  {
   "cell_type": "code",
   "execution_count": 21,
   "metadata": {
    "collapsed": false
   },
   "outputs": [
    {
     "data": {
      "text/plain": [
       "1    1431503\n",
       "2       1377\n",
       "dtype: int64"
      ]
     },
     "execution_count": 21,
     "metadata": {},
     "output_type": "execute_result"
    },
    {
     "name": "stdout",
     "output_type": "stream",
     "text": [
      "time: 569 ms\n"
     ]
    }
   ],
   "source": [
    "df.groupby(['rev_id', '_worker_id']).size().value_counts()"
   ]
  },
  {
   "cell_type": "code",
   "execution_count": 22,
   "metadata": {
    "collapsed": false
   },
   "outputs": [
    {
     "name": "stdout",
     "output_type": "stream",
     "text": [
      "# annotations:  1432880\n",
      "time: 1.17 s\n"
     ]
    }
   ],
   "source": [
    "df = df.drop_duplicates(subset = ['rev_id', '_worker_id'])\n",
    "print('# annotations: ', df.shape[0])"
   ]
  },
  {
   "cell_type": "markdown",
   "metadata": {},
   "source": [
    "### Filter out annotations for revisions with  duplicated diff content"
   ]
  },
  {
   "cell_type": "code",
   "execution_count": 23,
   "metadata": {
    "collapsed": false
   },
   "outputs": [
    {
     "name": "stdout",
     "output_type": "stream",
     "text": [
      "123633\n",
      "time: 154 ms\n"
     ]
    }
   ],
   "source": [
    "comments = df.drop_duplicates(subset = ['rev_id'])\n",
    "print(comments.shape[0])"
   ]
  },
  {
   "cell_type": "code",
   "execution_count": 24,
   "metadata": {
    "collapsed": false
   },
   "outputs": [
    {
     "name": "stdout",
     "output_type": "stream",
     "text": [
      "120218\n",
      "time: 195 ms\n"
     ]
    }
   ],
   "source": [
    "u_comments = comments.drop_duplicates(subset = ['clean_diff'])\n",
    "print(u_comments.shape[0])"
   ]
  },
  {
   "cell_type": "code",
   "execution_count": 25,
   "metadata": {
    "collapsed": false
   },
   "outputs": [
    {
     "data": {
      "text/html": [
       "<div>\n",
       "<table border=\"1\" class=\"dataframe\">\n",
       "  <thead>\n",
       "    <tr style=\"text-align: right;\">\n",
       "      <th></th>\n",
       "      <th>_aggression_score</th>\n",
       "      <th>_channel</th>\n",
       "      <th>_city</th>\n",
       "      <th>_country</th>\n",
       "      <th>_created_at</th>\n",
       "      <th>_golden</th>\n",
       "      <th>_id</th>\n",
       "      <th>_ip</th>\n",
       "      <th>_is_harassment_or_attack</th>\n",
       "      <th>_missed</th>\n",
       "      <th>...</th>\n",
       "      <th>user_id</th>\n",
       "      <th>user_text</th>\n",
       "      <th>not_attack</th>\n",
       "      <th>other</th>\n",
       "      <th>quoting</th>\n",
       "      <th>recipient</th>\n",
       "      <th>third_party</th>\n",
       "      <th>attack</th>\n",
       "      <th>aggression</th>\n",
       "      <th>ambivalent</th>\n",
       "    </tr>\n",
       "  </thead>\n",
       "  <tbody>\n",
       "    <tr>\n",
       "      <th>825</th>\n",
       "      <td>NaN</td>\n",
       "      <td>neodev</td>\n",
       "      <td>Belgrade</td>\n",
       "      <td>SRB</td>\n",
       "      <td>4/20/2016 14:37:26</td>\n",
       "      <td>False</td>\n",
       "      <td>1965035223</td>\n",
       "      <td>109.92.158.251</td>\n",
       "      <td>NaN</td>\n",
       "      <td>NaN</td>\n",
       "      <td>...</td>\n",
       "      <td>20335199.0</td>\n",
       "      <td>Linkiscool99</td>\n",
       "      <td>1.0</td>\n",
       "      <td>0.0</td>\n",
       "      <td>0.0</td>\n",
       "      <td>0.0</td>\n",
       "      <td>0.0</td>\n",
       "      <td>0.0</td>\n",
       "      <td>0.0</td>\n",
       "      <td>False</td>\n",
       "    </tr>\n",
       "    <tr>\n",
       "      <th>1316</th>\n",
       "      <td>NaN</td>\n",
       "      <td>clixsense</td>\n",
       "      <td>Rio De Janeiro</td>\n",
       "      <td>BRA</td>\n",
       "      <td>5/25/2016 17:40:23</td>\n",
       "      <td>False</td>\n",
       "      <td>1999580751</td>\n",
       "      <td>186.221.107.247</td>\n",
       "      <td>NaN</td>\n",
       "      <td>NaN</td>\n",
       "      <td>...</td>\n",
       "      <td>9897.0</td>\n",
       "      <td>Kwekubo</td>\n",
       "      <td>1.0</td>\n",
       "      <td>0.0</td>\n",
       "      <td>0.0</td>\n",
       "      <td>0.0</td>\n",
       "      <td>0.0</td>\n",
       "      <td>0.0</td>\n",
       "      <td>0.0</td>\n",
       "      <td>False</td>\n",
       "    </tr>\n",
       "    <tr>\n",
       "      <th>1551</th>\n",
       "      <td>NaN</td>\n",
       "      <td>clixsense</td>\n",
       "      <td>Rio De Janeiro</td>\n",
       "      <td>BRA</td>\n",
       "      <td>5/8/2016 13:47:38</td>\n",
       "      <td>False</td>\n",
       "      <td>1979100431</td>\n",
       "      <td>186.221.148.47</td>\n",
       "      <td>NaN</td>\n",
       "      <td>NaN</td>\n",
       "      <td>...</td>\n",
       "      <td>11496785.0</td>\n",
       "      <td>M-m-moot</td>\n",
       "      <td>1.0</td>\n",
       "      <td>0.0</td>\n",
       "      <td>0.0</td>\n",
       "      <td>0.0</td>\n",
       "      <td>0.0</td>\n",
       "      <td>0.0</td>\n",
       "      <td>0.0</td>\n",
       "      <td>False</td>\n",
       "    </tr>\n",
       "    <tr>\n",
       "      <th>3103</th>\n",
       "      <td>NaN</td>\n",
       "      <td>neodev</td>\n",
       "      <td>Cairo</td>\n",
       "      <td>EGY</td>\n",
       "      <td>4/21/2016 10:51:20</td>\n",
       "      <td>False</td>\n",
       "      <td>1965872978</td>\n",
       "      <td>197.44.120.129</td>\n",
       "      <td>NaN</td>\n",
       "      <td>NaN</td>\n",
       "      <td>...</td>\n",
       "      <td>10928492.0</td>\n",
       "      <td>Horse Manure Again</td>\n",
       "      <td>0.0</td>\n",
       "      <td>1.0</td>\n",
       "      <td>0.0</td>\n",
       "      <td>0.0</td>\n",
       "      <td>0.0</td>\n",
       "      <td>1.0</td>\n",
       "      <td>1.0</td>\n",
       "      <td>False</td>\n",
       "    </tr>\n",
       "    <tr>\n",
       "      <th>3754</th>\n",
       "      <td>NaN</td>\n",
       "      <td>neodev</td>\n",
       "      <td>Belgrade</td>\n",
       "      <td>SRB</td>\n",
       "      <td>5/8/2016 14:57:10</td>\n",
       "      <td>False</td>\n",
       "      <td>1979194169</td>\n",
       "      <td>77.46.214.221</td>\n",
       "      <td>NaN</td>\n",
       "      <td>NaN</td>\n",
       "      <td>...</td>\n",
       "      <td>16328760.0</td>\n",
       "      <td>DavisJune</td>\n",
       "      <td>1.0</td>\n",
       "      <td>0.0</td>\n",
       "      <td>0.0</td>\n",
       "      <td>0.0</td>\n",
       "      <td>0.0</td>\n",
       "      <td>0.0</td>\n",
       "      <td>0.0</td>\n",
       "      <td>False</td>\n",
       "    </tr>\n",
       "  </tbody>\n",
       "</table>\n",
       "<p>5 rows × 52 columns</p>\n",
       "</div>"
      ],
      "text/plain": [
       "      _aggression_score   _channel           _city _country  \\\n",
       "825                 NaN     neodev        Belgrade      SRB   \n",
       "1316                NaN  clixsense  Rio De Janeiro      BRA   \n",
       "1551                NaN  clixsense  Rio De Janeiro      BRA   \n",
       "3103                NaN     neodev           Cairo      EGY   \n",
       "3754                NaN     neodev        Belgrade      SRB   \n",
       "\n",
       "             _created_at _golden         _id              _ip  \\\n",
       "825   4/20/2016 14:37:26   False  1965035223   109.92.158.251   \n",
       "1316  5/25/2016 17:40:23   False  1999580751  186.221.107.247   \n",
       "1551   5/8/2016 13:47:38   False  1979100431   186.221.148.47   \n",
       "3103  4/21/2016 10:51:20   False  1965872978   197.44.120.129   \n",
       "3754   5/8/2016 14:57:10   False  1979194169    77.46.214.221   \n",
       "\n",
       "      _is_harassment_or_attack  _missed     ...         user_id  \\\n",
       "825                        NaN      NaN     ...      20335199.0   \n",
       "1316                       NaN      NaN     ...          9897.0   \n",
       "1551                       NaN      NaN     ...      11496785.0   \n",
       "3103                       NaN      NaN     ...      10928492.0   \n",
       "3754                       NaN      NaN     ...      16328760.0   \n",
       "\n",
       "               user_text not_attack other  quoting  recipient  third_party  \\\n",
       "825         Linkiscool99        1.0   0.0      0.0        0.0          0.0   \n",
       "1316             Kwekubo        1.0   0.0      0.0        0.0          0.0   \n",
       "1551            M-m-moot        1.0   0.0      0.0        0.0          0.0   \n",
       "3103  Horse Manure Again        0.0   1.0      0.0        0.0          0.0   \n",
       "3754           DavisJune        1.0   0.0      0.0        0.0          0.0   \n",
       "\n",
       "      attack  aggression  ambivalent  \n",
       "825      0.0         0.0       False  \n",
       "1316     0.0         0.0       False  \n",
       "1551     0.0         0.0       False  \n",
       "3103     1.0         1.0       False  \n",
       "3754     0.0         0.0       False  \n",
       "\n",
       "[5 rows x 52 columns]"
      ]
     },
     "execution_count": 25,
     "metadata": {},
     "output_type": "execute_result"
    },
    {
     "name": "stdout",
     "output_type": "stream",
     "text": [
      "time: 90.6 ms\n"
     ]
    }
   ],
   "source": [
    "comments[comments.duplicated(subset = ['clean_diff'])].head(5)"
   ]
  },
  {
   "cell_type": "code",
   "execution_count": 26,
   "metadata": {
    "collapsed": false
   },
   "outputs": [
    {
     "name": "stdout",
     "output_type": "stream",
     "text": [
      "# annotations:  1395983\n",
      "time: 2.96 s\n"
     ]
    }
   ],
   "source": [
    "df = df.merge(u_comments[['rev_id']], how = 'inner', on = 'rev_id')\n",
    "print('# annotations: ', df.shape[0])"
   ]
  },
  {
   "cell_type": "markdown",
   "metadata": {},
   "source": [
    "### Check that labels are not None"
   ]
  },
  {
   "cell_type": "code",
   "execution_count": 27,
   "metadata": {
    "collapsed": false
   },
   "outputs": [
    {
     "data": {
      "text/plain": [
       "0.0    1240903\n",
       "1.0     155080\n",
       "Name: recipient, dtype: int64"
      ]
     },
     "execution_count": 27,
     "metadata": {},
     "output_type": "execute_result"
    },
    {
     "name": "stdout",
     "output_type": "stream",
     "text": [
      "time: 18.8 ms\n"
     ]
    }
   ],
   "source": [
    "df['recipient'].value_counts(dropna=False)"
   ]
  },
  {
   "cell_type": "code",
   "execution_count": 28,
   "metadata": {
    "collapsed": false
   },
   "outputs": [
    {
     "data": {
      "text/plain": [
       "0.0    1163956\n",
       "1.0     232027\n",
       "Name: attack, dtype: int64"
      ]
     },
     "execution_count": 28,
     "metadata": {},
     "output_type": "execute_result"
    },
    {
     "name": "stdout",
     "output_type": "stream",
     "text": [
      "time: 14.2 ms\n"
     ]
    }
   ],
   "source": [
    "df['attack'].value_counts(dropna=False)"
   ]
  },
  {
   "cell_type": "code",
   "execution_count": 29,
   "metadata": {
    "collapsed": false
   },
   "outputs": [
    {
     "data": {
      "text/plain": [
       "0.0    1141434\n",
       "1.0     254549\n",
       "Name: aggression, dtype: int64"
      ]
     },
     "execution_count": 29,
     "metadata": {},
     "output_type": "execute_result"
    },
    {
     "name": "stdout",
     "output_type": "stream",
     "text": [
      "time: 15.3 ms\n"
     ]
    }
   ],
   "source": [
    "df['aggression'].value_counts(dropna=False)"
   ]
  },
  {
   "cell_type": "markdown",
   "metadata": {},
   "source": [
    "### Remove annotations from all revisions that were annotated less than 8 times"
   ]
  },
  {
   "cell_type": "code",
   "execution_count": 30,
   "metadata": {
    "collapsed": false
   },
   "outputs": [
    {
     "name": "stdout",
     "output_type": "stream",
     "text": [
      "time: 41.2 ms\n"
     ]
    }
   ],
   "source": [
    "counts = df['rev_id'].value_counts().to_frame()\n",
    "counts.columns = ['n']\n",
    "counts['rev_id'] = counts.index"
   ]
  },
  {
   "cell_type": "code",
   "execution_count": 31,
   "metadata": {
    "collapsed": false
   },
   "outputs": [
    {
     "data": {
      "text/plain": [
       "(120218, 2)"
      ]
     },
     "execution_count": 31,
     "metadata": {},
     "output_type": "execute_result"
    },
    {
     "name": "stdout",
     "output_type": "stream",
     "text": [
      "time: 1.82 ms\n"
     ]
    }
   ],
   "source": [
    "counts.shape"
   ]
  },
  {
   "cell_type": "code",
   "execution_count": 32,
   "metadata": {
    "collapsed": false
   },
   "outputs": [
    {
     "data": {
      "text/plain": [
       "10    56283\n",
       "9     29208\n",
       "8      7469\n",
       "19     6907\n",
       "20     6190\n",
       "Name: n, dtype: int64"
      ]
     },
     "execution_count": 32,
     "metadata": {},
     "output_type": "execute_result"
    },
    {
     "name": "stdout",
     "output_type": "stream",
     "text": [
      "time: 3.79 ms\n"
     ]
    }
   ],
   "source": [
    "counts['n'].value_counts().head()"
   ]
  },
  {
   "cell_type": "code",
   "execution_count": 33,
   "metadata": {
    "collapsed": false
   },
   "outputs": [
    {
     "name": "stdout",
     "output_type": "stream",
     "text": [
      "time: 11.2 ms\n"
     ]
    }
   ],
   "source": [
    "counts_enough = counts.query(\"n>=8\")"
   ]
  },
  {
   "cell_type": "code",
   "execution_count": 34,
   "metadata": {
    "collapsed": false
   },
   "outputs": [
    {
     "data": {
      "text/plain": [
       "(116179, 2)"
      ]
     },
     "execution_count": 34,
     "metadata": {},
     "output_type": "execute_result"
    },
    {
     "name": "stdout",
     "output_type": "stream",
     "text": [
      "time: 2.07 ms\n"
     ]
    }
   ],
   "source": [
    "counts_enough.shape"
   ]
  },
  {
   "cell_type": "code",
   "execution_count": 35,
   "metadata": {
    "collapsed": false
   },
   "outputs": [
    {
     "name": "stdout",
     "output_type": "stream",
     "text": [
      "# annotations:  1368958\n",
      "time: 1.05 s\n"
     ]
    }
   ],
   "source": [
    "df = df.merge(counts_enough[['rev_id']], how = 'inner', on = 'rev_id')\n",
    "print('# annotations: ', df.shape[0])"
   ]
  },
  {
   "cell_type": "markdown",
   "metadata": {},
   "source": [
    "### Discard nuisance columns"
   ]
  },
  {
   "cell_type": "code",
   "execution_count": 50,
   "metadata": {
    "collapsed": false
   },
   "outputs": [
    {
     "data": {
      "text/plain": [
       "Index(['_aggression_score', '_channel', '_city', '_country', '_created_at',\n",
       "       '_golden', '_id', '_ip', '_is_harassment_or_attack', '_missed', '_na',\n",
       "       '_region', '_started_at', '_tainted', '_trust', '_unit_id',\n",
       "       '_worker_id', 'aggression_score', 'aggression_score_gold',\n",
       "       'aggression_score_gold_reason', 'block_actions', 'block_params',\n",
       "       'block_reasons', 'block_timestamps', 'clean_diff', 'diff',\n",
       "       'insert_only', 'is_harassment_or_attack',\n",
       "       'is_harassment_or_attack_gold', 'is_harassment_or_attack_gold_reason',\n",
       "       'na', 'na_gold', 'na_gold_reason', 'ns', 'orig__golden', 'page_id',\n",
       "       'page_title', 'rev_comment', 'rev_id', 'rev_timestamp', 'sample', 'src',\n",
       "       'user_id', 'user_text', 'not_attack', 'other', 'quoting', 'recipient',\n",
       "       'third_party', 'attack', 'aggression', 'ambivalent'],\n",
       "      dtype='object')"
      ]
     },
     "execution_count": 50,
     "metadata": {},
     "output_type": "execute_result"
    },
    {
     "name": "stdout",
     "output_type": "stream",
     "text": [
      "time: 2.36 ms\n"
     ]
    }
   ],
   "source": [
    "df.columns"
   ]
  },
  {
   "cell_type": "code",
   "execution_count": 36,
   "metadata": {
    "collapsed": false
   },
   "outputs": [
    {
     "name": "stdout",
     "output_type": "stream",
     "text": [
      "time: 1.59 s\n"
     ]
    }
   ],
   "source": [
    "cols = ['rev_id', '_worker_id', 'ns', 'sample', 'src','clean_diff', 'diff', 'insert_only', 'page_id',\n",
    "       'page_title', 'rev_comment', 'rev_timestamp', \n",
    "       'user_id', 'user_text', 'not_attack', 'other', 'quoting', 'recipient',\n",
    "       'third_party', 'attack', 'aggression', 'aggression_score']\n",
    "df = df[cols]"
   ]
  },
  {
   "cell_type": "markdown",
   "metadata": {},
   "source": [
    "### Summary Stats"
   ]
  },
  {
   "cell_type": "code",
   "execution_count": 41,
   "metadata": {
    "collapsed": false
   },
   "outputs": [
    {
     "data": {
      "text/plain": [
       "ns       sample \n",
       "article  blocked    351106\n",
       "         random     233073\n",
       "user     blocked    534054\n",
       "         random     250725\n",
       "dtype: int64"
      ]
     },
     "execution_count": 41,
     "metadata": {},
     "output_type": "execute_result"
    },
    {
     "name": "stdout",
     "output_type": "stream",
     "text": [
      "time: 359 ms\n"
     ]
    }
   ],
   "source": [
    "df.groupby(['ns', 'sample']).size()"
   ]
  },
  {
   "cell_type": "code",
   "execution_count": 42,
   "metadata": {
    "collapsed": false
   },
   "outputs": [
    {
     "name": "stdout",
     "output_type": "stream",
     "text": [
      "time: 44.6 s\n"
     ]
    }
   ],
   "source": [
    "df.to_csv('../../data/annotations/clean/annotations.tsv', index=False, sep='\\t')"
   ]
  },
  {
   "cell_type": "code",
   "execution_count": 43,
   "metadata": {
    "collapsed": false
   },
   "outputs": [
    {
     "data": {
      "text/plain": [
       "(1368958, 22)"
      ]
     },
     "execution_count": 43,
     "metadata": {},
     "output_type": "execute_result"
    },
    {
     "name": "stdout",
     "output_type": "stream",
     "text": [
      "time: 14.8 s\n"
     ]
    }
   ],
   "source": [
    "pd.read_csv('../../data/annotations/clean/annotations.tsv', sep='\\t').shape"
   ]
  }
 ],
 "metadata": {
  "anaconda-cloud": {},
  "kernelspec": {
   "display_name": "Python [default]",
   "language": "python",
   "name": "python3"
  },
  "language_info": {
   "codemirror_mode": {
    "name": "ipython",
    "version": 3
   },
   "file_extension": ".py",
   "mimetype": "text/x-python",
   "name": "python",
   "nbconvert_exporter": "python",
   "pygments_lexer": "ipython3",
   "version": "3.5.1"
  }
 },
 "nbformat": 4,
 "nbformat_minor": 0
}
