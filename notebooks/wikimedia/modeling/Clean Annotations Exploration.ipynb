{
 "cells": [
  {
   "cell_type": "code",
   "execution_count": 130,
   "metadata": {
    "collapsed": true
   },
   "outputs": [],
   "source": [
    "import pandas as pd\n",
    "%matplotlib inline\n",
    "import matplotlib.pyplot as plt\n",
    "import numpy as np\n",
    "from baselines import plurality\n"
   ]
  },
  {
   "cell_type": "code",
   "execution_count": 92,
   "metadata": {
    "collapsed": false
   },
   "outputs": [],
   "source": [
    "df = pd.read_csv('../../data/annotations/clean/annotations.tsv', sep='\\t')\n",
    "df.index=df.rev_id"
   ]
  },
  {
   "cell_type": "markdown",
   "metadata": {},
   "source": [
    "### Explore ambivalent `is_harassment_or_attack` labels"
   ]
  },
  {
   "cell_type": "markdown",
   "metadata": {},
   "source": [
    "It is incorrect to give a revision a label an attack label and a not attack label. Lets see how often this occurs and who makes this error."
   ]
  },
  {
   "cell_type": "code",
   "execution_count": 17,
   "metadata": {
    "collapsed": false
   },
   "outputs": [
    {
     "data": {
      "text/plain": [
       "not_attack                                            1029013\n",
       "recipient                                              135358\n",
       "other                                                   34796\n",
       "third_party                                             29702\n",
       "recipient\\nthird_party                                   8988\n",
       "other\\nnot_attack                                        8300\n",
       "recipient\\nnot_attack                                    6326\n",
       "quoting                                                  5733\n",
       "recipient\\nthird_party\\nquoting\\nother\\nnot_attack       5510\n",
       "recipient\\nother                                         3939\n",
       "recipient\\nthird_party\\nnot_attack                       2209\n",
       "recipient\\nthird_party\\nquoting\\nother                   2182\n",
       "third_party\\nother                                       1669\n",
       "recipient\\nthird_party\\nother                            1649\n",
       "quoting\\nnot_attack                                      1427\n",
       "recipient\\nthird_party\\nquoting                          1385\n",
       "third_party\\nnot_attack                                  1110\n",
       "quoting\\nother\\nnot_attack                               1022\n",
       "recipient\\nthird_party\\nquoting\\nnot_attack               969\n",
       "recipient\\nother\\nnot_attack                              744\n",
       "quoting\\nother                                            537\n",
       "third_party\\nquoting                                      494\n",
       "recipient\\nquoting                                        415\n",
       "third_party\\nquoting\\nother                               325\n",
       "recipient\\nquoting\\nnot_attack                            179\n",
       "recipient\\nquoting\\nother                                 108\n",
       "third_party\\nquoting\\nnot_attack                           99\n",
       "third_party\\nother\\nnot_attack                             69\n",
       "recipient\\nthird_party\\nother\\nnot_attack                  59\n",
       "third_party\\nquoting\\nother\\nnot_attack                    35\n",
       "recipient\\nquoting\\nother\\nnot_attack                      19\n",
       "Name: is_harassment_or_attack, dtype: int64"
      ]
     },
     "execution_count": 17,
     "metadata": {},
     "output_type": "execute_result"
    }
   ],
   "source": [
    "df['is_harassment_or_attack'].value_counts(dropna=False)"
   ]
  },
  {
   "cell_type": "code",
   "execution_count": 27,
   "metadata": {
    "collapsed": true
   },
   "outputs": [],
   "source": [
    "def attack_and_not_attack(s):\n",
    "    return 'not_attack' in s and s!= 'not_attack'"
   ]
  },
  {
   "cell_type": "code",
   "execution_count": 44,
   "metadata": {
    "collapsed": false
   },
   "outputs": [
    {
     "data": {
      "text/plain": [
       "33939537    841\n",
       "35210143    785\n",
       "9232361     707\n",
       "13318404    674\n",
       "31317272    666\n",
       "Name: _worker_id, dtype: int64"
      ]
     },
     "execution_count": 44,
     "metadata": {},
     "output_type": "execute_result"
    }
   ],
   "source": [
    "df[df['is_harassment_or_attack'].apply(attack_and_not_attack)]['_worker_id'].value_counts().head()"
   ]
  },
  {
   "cell_type": "markdown",
   "metadata": {},
   "source": [
    "Ok, there are a few users who do this a lot."
   ]
  },
  {
   "cell_type": "code",
   "execution_count": 43,
   "metadata": {
    "collapsed": false
   },
   "outputs": [
    {
     "data": {
      "text/plain": [
       "<matplotlib.text.Text at 0x12e6549b0>"
      ]
     },
     "execution_count": 43,
     "metadata": {},
     "output_type": "execute_result"
    },
    {
     "data": {
      "image/png": "[encoded data removed]",
      "text/plain": [
       "<matplotlib.figure.Figure at 0x12b46e5c0>"
      ]
     },
     "metadata": {},
     "output_type": "display_data"
    }
   ],
   "source": [
    "y = df[df['is_harassment_or_attack'].apply(attack_and_not_attack)]['_worker_id'].value_counts().cumsum()\n",
    "y = y/y.iloc[-1]\n",
    "x = list(range(len(y)))\n",
    "plt.plot(x, y)\n",
    "plt.xlabel('N')\n",
    "plt.ylabel('Fraction of ambivalent labels coming from N users')"
   ]
  },
  {
   "cell_type": "markdown",
   "metadata": {
    "collapsed": true
   },
   "source": [
    "It looks like 90% of ambivalent labels come from 200 users. We might consider dropping all annotations from these users. We can also check what fraction of a users labels are ambivalent and select a threshold based on that."
   ]
  },
  {
   "cell_type": "code",
   "execution_count": 136,
   "metadata": {
    "collapsed": true
   },
   "outputs": [],
   "source": [
    "counts = df[df['is_harassment_or_attack'].apply(attack_and_not_attack)]['_worker_id'].value_counts()\n",
    "fraction = (counts / df['_worker_id'].value_counts()).dropna()\n",
    "d_ambi = pd.DataFrame({'counts': counts, 'fraction':fraction}).sort_values('fraction', ascending=False)\n",
    "d_ambi['N'] = 1\n",
    "d_ambi = d_ambi.groupby('fraction', as_index = False).sum()\n",
    "d_ambi = d_ambi.sort_values('fraction', ascending = False)\n",
    "d_ambi['cum_counts'] = d_ambi['counts'].cumsum() / d_ambi['counts'].sum()\n",
    "d_ambi['cum_N'] = d_ambi['N'].cumsum() / d_ambi['N'].sum()\n",
    "d_ambi['fraction'] = 1 -d_ambi['fraction']"
   ]
  },
  {
   "cell_type": "code",
   "execution_count": 137,
   "metadata": {
    "collapsed": false
   },
   "outputs": [
    {
     "data": {
      "text/html": [
       "<div>\n",
       "<table border=\"1\" class=\"dataframe\">\n",
       "  <thead>\n",
       "    <tr style=\"text-align: right;\">\n",
       "      <th></th>\n",
       "      <th>fraction</th>\n",
       "      <th>counts</th>\n",
       "      <th>N</th>\n",
       "      <th>cum_counts</th>\n",
       "      <th>cum_N</th>\n",
       "    </tr>\n",
       "  </thead>\n",
       "  <tbody>\n",
       "    <tr>\n",
       "      <th>838</th>\n",
       "      <td>0.000000</td>\n",
       "      <td>1953</td>\n",
       "      <td>7</td>\n",
       "      <td>0.069559</td>\n",
       "      <td>0.006233</td>\n",
       "    </tr>\n",
       "    <tr>\n",
       "      <th>837</th>\n",
       "      <td>0.002801</td>\n",
       "      <td>356</td>\n",
       "      <td>1</td>\n",
       "      <td>0.082238</td>\n",
       "      <td>0.007124</td>\n",
       "    </tr>\n",
       "    <tr>\n",
       "      <th>836</th>\n",
       "      <td>0.002817</td>\n",
       "      <td>354</td>\n",
       "      <td>1</td>\n",
       "      <td>0.094846</td>\n",
       "      <td>0.008014</td>\n",
       "    </tr>\n",
       "    <tr>\n",
       "      <th>835</th>\n",
       "      <td>0.002959</td>\n",
       "      <td>674</td>\n",
       "      <td>1</td>\n",
       "      <td>0.118852</td>\n",
       "      <td>0.008905</td>\n",
       "    </tr>\n",
       "    <tr>\n",
       "      <th>834</th>\n",
       "      <td>0.003891</td>\n",
       "      <td>256</td>\n",
       "      <td>1</td>\n",
       "      <td>0.127970</td>\n",
       "      <td>0.009795</td>\n",
       "    </tr>\n",
       "  </tbody>\n",
       "</table>\n",
       "</div>"
      ],
      "text/plain": [
       "     fraction  counts  N  cum_counts     cum_N\n",
       "838  0.000000    1953  7    0.069559  0.006233\n",
       "837  0.002801     356  1    0.082238  0.007124\n",
       "836  0.002817     354  1    0.094846  0.008014\n",
       "835  0.002959     674  1    0.118852  0.008905\n",
       "834  0.003891     256  1    0.127970  0.009795"
      ]
     },
     "execution_count": 137,
     "metadata": {},
     "output_type": "execute_result"
    }
   ],
   "source": [
    "d_ambi.head()"
   ]
  },
  {
   "cell_type": "code",
   "execution_count": 142,
   "metadata": {
    "collapsed": false
   },
   "outputs": [
    {
     "data": {
      "text/plain": [
       "[<matplotlib.lines.Line2D at 0x1195826d8>]"
      ]
     },
     "execution_count": 142,
     "metadata": {},
     "output_type": "execute_result"
    },
    {
     "data": {
      "image/png": "[encoded data removed]",
      "text/plain": [
       "<matplotlib.figure.Figure at 0x1186e2ba8>"
      ]
     },
     "metadata": {},
     "output_type": "display_data"
    }
   ],
   "source": [
    "plt.plot(d_ambi['fraction'], d_ambi['cum_counts'])"
   ]
  },
  {
   "cell_type": "code",
   "execution_count": 143,
   "metadata": {
    "collapsed": false
   },
   "outputs": [
    {
     "data": {
      "text/plain": [
       "[<matplotlib.lines.Line2D at 0x11975d780>]"
      ]
     },
     "execution_count": 143,
     "metadata": {},
     "output_type": "execute_result"
    },
    {
     "data": {
      "image/png": "[encoded data removed]",
      "text/plain": [
       "<matplotlib.figure.Figure at 0x119593828>"
      ]
     },
     "metadata": {},
     "output_type": "display_data"
    }
   ],
   "source": [
    "plt.plot(d_ambi['fraction'], d_ambi['cum_N'])"
   ]
  },
  {
   "cell_type": "code",
   "execution_count": 144,
   "metadata": {
    "collapsed": false
   },
   "outputs": [
    {
     "data": {
      "text/plain": [
       "[<matplotlib.lines.Line2D at 0x11b496358>]"
      ]
     },
     "execution_count": 144,
     "metadata": {},
     "output_type": "execute_result"
    },
    {
     "data": {
      "image/png": "[encoded data removed]",
      "text/plain": [
       "<matplotlib.figure.Figure at 0x1195f4128>"
      ]
     },
     "metadata": {},
     "output_type": "display_data"
    }
   ],
   "source": [
    "plt.plot(d_ambi['cum_N'], d_ambi['cum_counts'])"
   ]
  },
  {
   "cell_type": "markdown",
   "metadata": {},
   "source": [
    "Consider dropping all annotations from users who score 1:5 comments as ambivalent."
   ]
  },
  {
   "cell_type": "markdown",
   "metadata": {},
   "source": [
    "### Explore consistently deviant users"
   ]
  },
  {
   "cell_type": "code",
   "execution_count": 146,
   "metadata": {
    "collapsed": false
   },
   "outputs": [
    {
     "data": {
      "text/plain": [
       "<matplotlib.axes._subplots.AxesSubplot at 0x11bea6b38>"
      ]
     },
     "execution_count": 146,
     "metadata": {},
     "output_type": "execute_result"
    },
    {
     "data": {
      "image/png": "[encoded data removed]",
      "text/plain": [
       "<matplotlib.figure.Figure at 0x11b4c8b38>"
      ]
     },
     "metadata": {},
     "output_type": "display_data"
    }
   ],
   "source": [
    "col = 'recipient'\n",
    "pl = plurality(df[col])\n",
    "df['plurality'] = pl\n",
    "df['deviant'] = df[col] != df['plurality']\n",
    "deviance_scores = df.groupby('_worker_id')['deviant'].mean()\n",
    "deviance_scores.sort_values(ascending = False).hist(bins=100)"
   ]
  },
  {
   "cell_type": "code",
   "execution_count": 147,
   "metadata": {
    "collapsed": false
   },
   "outputs": [
    {
     "data": {
      "text/plain": [
       "<matplotlib.axes._subplots.AxesSubplot at 0x11bd136d8>"
      ]
     },
     "execution_count": 147,
     "metadata": {},
     "output_type": "execute_result"
    },
    {
     "data": {
      "image/png": "[encoded data removed]",
      "text/plain": [
       "<matplotlib.figure.Figure at 0x11b4d8f98>"
      ]
     },
     "metadata": {},
     "output_type": "display_data"
    }
   ],
   "source": [
    "col = 'attack'\n",
    "pl = plurality(df[col])\n",
    "df['plurality'] = pl\n",
    "df['deviant'] = df[col] != df['plurality']\n",
    "deviance_scores = df.groupby('_worker_id')['deviant'].mean()\n",
    "deviance_scores.sort_values(ascending = False).hist(bins=100)"
   ]
  },
  {
   "cell_type": "code",
   "execution_count": 148,
   "metadata": {
    "collapsed": false
   },
   "outputs": [
    {
     "data": {
      "text/plain": [
       "<matplotlib.axes._subplots.AxesSubplot at 0x11c7cc668>"
      ]
     },
     "execution_count": 148,
     "metadata": {},
     "output_type": "execute_result"
    },
    {
     "data": {
      "image/png": "[encoded data removed]",
      "text/plain": [
       "<matplotlib.figure.Figure at 0x11bd1c780>"
      ]
     },
     "metadata": {},
     "output_type": "display_data"
    }
   ],
   "source": [
    "col = 'aggression'\n",
    "pl = plurality(df[col])\n",
    "df['plurality'] = pl\n",
    "df['deviant'] = df[col] != df['plurality']\n",
    "deviance_scores = df.groupby('_worker_id')['deviant'].mean()\n",
    "deviance_scores.sort_values(ascending = False).hist(bins=100)"
   ]
  }
 ],
 "metadata": {
  "kernelspec": {
   "display_name": "Python 3",
   "language": "python",
   "name": "python3"
  },
  "language_info": {
   "codemirror_mode": {
    "name": "ipython",
    "version": 3
   },
   "file_extension": ".py",
   "mimetype": "text/x-python",
   "name": "python",
   "nbconvert_exporter": "python",
   "pygments_lexer": "ipython3",
   "version": "3.5.1"
  }
 },
 "nbformat": 4,
 "nbformat_minor": 0
}
