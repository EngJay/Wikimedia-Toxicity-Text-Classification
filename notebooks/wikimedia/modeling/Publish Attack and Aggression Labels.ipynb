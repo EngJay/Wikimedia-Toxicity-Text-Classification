{
 "cells": [
  {
   "cell_type": "code",
   "execution_count": 1,
   "metadata": {
    "collapsed": false
   },
   "outputs": [],
   "source": [
    "%load_ext autoreload\n",
    "%autoreload 2\n",
    "%matplotlib inline\n",
    "\n",
    "import pandas as pd\n",
    "import os\n",
    "import sys, os\n",
    "sys.path.insert(0, os.path.abspath('..'))\n",
    "import data_generation.diff_utils\n",
    "import data_generation.mwdiff.mwdiffs_to_tsv\n",
    "import numpy as np"
   ]
  },
  {
   "cell_type": "code",
   "execution_count": 2,
   "metadata": {
    "collapsed": false
   },
   "outputs": [
    {
     "data": {
      "text/plain": [
       "(1368958, 24)"
      ]
     },
     "execution_count": 2,
     "metadata": {},
     "output_type": "execute_result"
    }
   ],
   "source": [
    "# load split data\n",
    "out_dir = \"../../data/figshare\"\n",
    "in_dir = \"../../data/annotations/split\"\n",
    "splits = [\"train\", \"dev\", \"test\"]\n",
    "\n",
    "dfs = []\n",
    "for split in splits:\n",
    "    df = pd.read_csv(os.path.join(in_dir, split, 'annotations.tsv'), sep = '\\t')\n",
    "    df['split'] = split\n",
    "    dfs.append(df)\n",
    "df = pd.concat(dfs)\n",
    "df.shape"
   ]
  },
  {
   "cell_type": "code",
   "execution_count": 3,
   "metadata": {
    "collapsed": false
   },
   "outputs": [
    {
     "data": {
      "text/plain": [
       "(1368958, 25)"
      ]
     },
     "execution_count": 3,
     "metadata": {},
     "output_type": "execute_result"
    }
   ],
   "source": [
    "# rename workers\n",
    "df_workers = df[['_worker_id']].drop_duplicates()\n",
    "df_workers['anon_id'] = range(df_workers.shape[0])\n",
    "df = df.merge(df_workers, how = 'inner', on = '_worker_id')\n",
    "\n",
    "df = df.rename(columns={\n",
    "                        'other': 'other_attack',\n",
    "                        'quoting': 'quoting_attack', \n",
    "                        'recipient': 'recipient_attack',\n",
    "                        'third_party': 'third_party_attack'\n",
    "                       })\n",
    "\n",
    "\n",
    "df.shape"
   ]
  },
  {
   "cell_type": "code",
   "execution_count": 5,
   "metadata": {
    "collapsed": false
   },
   "outputs": [],
   "source": [
    "# save worker id mapping\n",
    "df_workers.to_csv(os.path.join( \"../../data/figshare\", 'attack_annotations_worker_id_map.tsv'), sep = '\\t', index = False)\n",
    "df_workers.to_csv(os.path.join( \"../../data/figshare\", 'aggression_annotations_worker_id_map.tsv'), sep = '\\t', index = False)"
   ]
  },
  {
   "cell_type": "code",
   "execution_count": 4,
   "metadata": {
    "collapsed": true
   },
   "outputs": [],
   "source": [
    "# get set of labeled comments\n",
    "df_comments = df.drop_duplicates(subset = ['rev_id']).copy()\n",
    "df_comments['logged_in'] = df_comments['user_id'].notnull()\n",
    "df_comments['year'] = pd.to_datetime(df_comments['rev_timestamp']).apply(lambda x: x.year)"
   ]
  },
  {
   "cell_type": "code",
   "execution_count": 5,
   "metadata": {
    "collapsed": false
   },
   "outputs": [],
   "source": [
    "# fix legacy special token issues\n",
    "df_comments['diff'] = df_comments['diff'].apply(data_generation.mwdiff.mwdiffs_to_tsv.replace_special_chars)\n",
    "\n",
    "df_comments['diff'] = df_comments['diff'].apply(lambda x: x.replace('TAB', 'TAB_TOKEN'))\n",
    "df_comments['diff'] = df_comments['diff'].apply(lambda x: x.replace('NEWLINE', 'NEWLINE_TOKEN'))\n",
    "df_comments['diff'] = df_comments['diff'].apply(lambda x: x.replace('\"', '`'))\n",
    "\n",
    "# apply latest version of clean and filter\n",
    "df_comments = data_generation.diff_utils.clean_and_filter(df_comments)\n",
    "# clean and filter drops some comments, so drop associated labels\n",
    "df = df.merge(df_comments[['rev_id']], how = 'inner', on = 'rev_id' )"
   ]
  },
  {
   "cell_type": "code",
   "execution_count": 6,
   "metadata": {
    "collapsed": false
   },
   "outputs": [
    {
     "data": {
      "text/plain": [
       "Index(['rev_id', '_worker_id', 'ns', 'sample', 'src', 'clean_diff', 'diff',\n",
       "       'insert_only', 'page_id', 'page_title', 'rev_comment', 'rev_timestamp',\n",
       "       'user_id', 'user_text', 'not_attack', 'other_attack', 'quoting_attack',\n",
       "       'recipient_attack', 'third_party_attack', 'attack', 'aggression',\n",
       "       'aggression_score', 'counts', 'split', 'anon_id'],\n",
       "      dtype='object')"
      ]
     },
     "execution_count": 6,
     "metadata": {},
     "output_type": "execute_result"
    }
   ],
   "source": [
    "df.columns"
   ]
  },
  {
   "cell_type": "code",
   "execution_count": 7,
   "metadata": {
    "collapsed": false
   },
   "outputs": [
    {
     "data": {
      "text/plain": [
       "(115864, 7)"
      ]
     },
     "execution_count": 7,
     "metadata": {},
     "output_type": "execute_result"
    }
   ],
   "source": [
    "# rename some columns\n",
    "df_comments = df_comments.rename(columns={\n",
    "                        'clean_diff': 'comment',\n",
    "                        'rev_timestamp': 'timestamp',\n",
    "                       })\n",
    "order = ['rev_id', 'comment', 'year', 'logged_in', 'ns', 'sample', 'split']\n",
    "df_comments = df_comments[order]\n",
    "df_comments = df_comments.sort_values('rev_id')\n",
    "df_comments.shape"
   ]
  },
  {
   "cell_type": "code",
   "execution_count": 15,
   "metadata": {
    "collapsed": false
   },
   "outputs": [],
   "source": [
    "# get set of human labels\n",
    "\n",
    "df_attack_labels = df[['rev_id', 'anon_id', 'quoting_attack',\n",
    "                       'recipient_attack', 'third_party_attack', 'other_attack', 'attack']]\n",
    "\n",
    "df_attack_labels = df_attack_labels.rename(columns={\n",
    "                        'anon_id': 'worker_id',\n",
    "                       })\n",
    "\n",
    "df_attack_labels = df_attack_labels.sort_values('rev_id')\n",
    "\n",
    "\n",
    "df_aggression_labels = df[['rev_id', 'anon_id', 'aggression', 'aggression_score']]\n",
    "\n",
    "df_aggression_labels = df_aggression_labels.rename(columns={\n",
    "                        'anon_id': 'worker_id',\n",
    "                       })\n",
    "\n",
    "df_aggression_labels = df_aggression_labels.sort_values('rev_id')"
   ]
  },
  {
   "cell_type": "code",
   "execution_count": 16,
   "metadata": {
    "collapsed": true
   },
   "outputs": [],
   "source": [
    "# save dfs\n",
    "df_comments.to_csv(os.path.join( \"../../data/figshare\", 'attack_annotated_comments.tsv'), sep = '\\t', index = False)\n",
    "df_comments.to_csv(os.path.join( \"../../data/figshare\", 'aggression_annotated_comments.tsv'), sep = '\\t', index = False)\n",
    "\n",
    "df_attack_labels.to_csv(os.path.join( \"../../data/figshare\", 'attack_annotations.tsv'), sep = '\\t', index = False)\n",
    "df_aggression_labels.to_csv(os.path.join( \"../../data/figshare\", 'aggression_annotations.tsv'), sep = '\\t', index = False)"
   ]
  },
  {
   "cell_type": "code",
   "execution_count": 3,
   "metadata": {
    "collapsed": false
   },
   "outputs": [
    {
     "data": {
      "text/plain": [
       "(115864, 7)"
      ]
     },
     "execution_count": 3,
     "metadata": {},
     "output_type": "execute_result"
    }
   ],
   "source": [
    "pd.read_csv(os.path.join( \"../../data/figshare\", 'attack_annotated_comments.tsv'), sep = '\\t').shape"
   ]
  },
  {
   "cell_type": "code",
   "execution_count": 4,
   "metadata": {
    "collapsed": false
   },
   "outputs": [
    {
     "data": {
      "text/plain": [
       "(115864, 7)"
      ]
     },
     "execution_count": 4,
     "metadata": {},
     "output_type": "execute_result"
    }
   ],
   "source": [
    "pd.read_csv(os.path.join( \"../../data/figshare\", 'attack_annotations.tsv'), sep = '\\t').drop_duplicates(subset = 'rev_id').shape"
   ]
  },
  {
   "cell_type": "code",
   "execution_count": 19,
   "metadata": {
    "collapsed": false
   },
   "outputs": [
    {
     "data": {
      "text/plain": [
       "True     84918\n",
       "False    30946\n",
       "Name: logged_in, dtype: int64"
      ]
     },
     "execution_count": 19,
     "metadata": {},
     "output_type": "execute_result"
    }
   ],
   "source": [
    "df_comments['logged_in'].value_counts()"
   ]
  },
  {
   "cell_type": "code",
   "execution_count": 20,
   "metadata": {
    "collapsed": false
   },
   "outputs": [
    {
     "data": {
      "text/html": [
       "<div>\n",
       "<table border=\"1\" class=\"dataframe\">\n",
       "  <thead>\n",
       "    <tr style=\"text-align: right;\">\n",
       "      <th></th>\n",
       "      <th>rev_id</th>\n",
       "      <th>comment</th>\n",
       "      <th>year</th>\n",
       "      <th>logged_in</th>\n",
       "      <th>ns</th>\n",
       "      <th>sample</th>\n",
       "      <th>split</th>\n",
       "    </tr>\n",
       "  </thead>\n",
       "  <tbody>\n",
       "    <tr>\n",
       "      <th>135608</th>\n",
       "      <td>37675</td>\n",
       "      <td>`-NEWLINE_TOKENThis is not ``creative``.  Thos...</td>\n",
       "      <td>2002</td>\n",
       "      <td>False</td>\n",
       "      <td>article</td>\n",
       "      <td>random</td>\n",
       "      <td>train</td>\n",
       "    </tr>\n",
       "    <tr>\n",
       "      <th>600662</th>\n",
       "      <td>44816</td>\n",
       "      <td>`NEWLINE_TOKENNEWLINE_TOKEN:: the term ``stand...</td>\n",
       "      <td>2002</td>\n",
       "      <td>False</td>\n",
       "      <td>article</td>\n",
       "      <td>random</td>\n",
       "      <td>train</td>\n",
       "    </tr>\n",
       "    <tr>\n",
       "      <th>323593</th>\n",
       "      <td>49851</td>\n",
       "      <td>NEWLINE_TOKENNEWLINE_TOKENTrue or false, the s...</td>\n",
       "      <td>2002</td>\n",
       "      <td>False</td>\n",
       "      <td>article</td>\n",
       "      <td>random</td>\n",
       "      <td>train</td>\n",
       "    </tr>\n",
       "    <tr>\n",
       "      <th>487679</th>\n",
       "      <td>89320</td>\n",
       "      <td>Next, maybe you could work on being less cond...</td>\n",
       "      <td>2002</td>\n",
       "      <td>True</td>\n",
       "      <td>article</td>\n",
       "      <td>random</td>\n",
       "      <td>dev</td>\n",
       "    </tr>\n",
       "    <tr>\n",
       "      <th>126387</th>\n",
       "      <td>93890</td>\n",
       "      <td>This page will need disambiguation.</td>\n",
       "      <td>2002</td>\n",
       "      <td>True</td>\n",
       "      <td>article</td>\n",
       "      <td>random</td>\n",
       "      <td>train</td>\n",
       "    </tr>\n",
       "  </tbody>\n",
       "</table>\n",
       "</div>"
      ],
      "text/plain": [
       "        rev_id                                            comment  year  \\\n",
       "135608   37675  `-NEWLINE_TOKENThis is not ``creative``.  Thos...  2002   \n",
       "600662   44816  `NEWLINE_TOKENNEWLINE_TOKEN:: the term ``stand...  2002   \n",
       "323593   49851  NEWLINE_TOKENNEWLINE_TOKENTrue or false, the s...  2002   \n",
       "487679   89320   Next, maybe you could work on being less cond...  2002   \n",
       "126387   93890               This page will need disambiguation.   2002   \n",
       "\n",
       "       logged_in       ns  sample  split  \n",
       "135608     False  article  random  train  \n",
       "600662     False  article  random  train  \n",
       "323593     False  article  random  train  \n",
       "487679      True  article  random    dev  \n",
       "126387      True  article  random  train  "
      ]
     },
     "execution_count": 20,
     "metadata": {},
     "output_type": "execute_result"
    }
   ],
   "source": [
    "df_comments.head()"
   ]
  },
  {
   "cell_type": "code",
   "execution_count": 21,
   "metadata": {
    "collapsed": false
   },
   "outputs": [
    {
     "data": {
      "text/html": [
       "<div>\n",
       "<table border=\"1\" class=\"dataframe\">\n",
       "  <thead>\n",
       "    <tr style=\"text-align: right;\">\n",
       "      <th></th>\n",
       "      <th>rev_id</th>\n",
       "      <th>worker_id</th>\n",
       "      <th>quoting_attack</th>\n",
       "      <th>recipient_attack</th>\n",
       "      <th>third_party_attack</th>\n",
       "      <th>other_attack</th>\n",
       "      <th>attack</th>\n",
       "    </tr>\n",
       "  </thead>\n",
       "  <tbody>\n",
       "    <tr>\n",
       "      <th>854386</th>\n",
       "      <td>37675</td>\n",
       "      <td>1362</td>\n",
       "      <td>0.0</td>\n",
       "      <td>0.0</td>\n",
       "      <td>0.0</td>\n",
       "      <td>0.0</td>\n",
       "      <td>0.0</td>\n",
       "    </tr>\n",
       "    <tr>\n",
       "      <th>854389</th>\n",
       "      <td>37675</td>\n",
       "      <td>2408</td>\n",
       "      <td>0.0</td>\n",
       "      <td>0.0</td>\n",
       "      <td>0.0</td>\n",
       "      <td>0.0</td>\n",
       "      <td>0.0</td>\n",
       "    </tr>\n",
       "    <tr>\n",
       "      <th>854388</th>\n",
       "      <td>37675</td>\n",
       "      <td>1493</td>\n",
       "      <td>0.0</td>\n",
       "      <td>0.0</td>\n",
       "      <td>0.0</td>\n",
       "      <td>0.0</td>\n",
       "      <td>0.0</td>\n",
       "    </tr>\n",
       "    <tr>\n",
       "      <th>854387</th>\n",
       "      <td>37675</td>\n",
       "      <td>1439</td>\n",
       "      <td>0.0</td>\n",
       "      <td>0.0</td>\n",
       "      <td>0.0</td>\n",
       "      <td>0.0</td>\n",
       "      <td>0.0</td>\n",
       "    </tr>\n",
       "    <tr>\n",
       "      <th>854380</th>\n",
       "      <td>37675</td>\n",
       "      <td>170</td>\n",
       "      <td>0.0</td>\n",
       "      <td>0.0</td>\n",
       "      <td>0.0</td>\n",
       "      <td>0.0</td>\n",
       "      <td>0.0</td>\n",
       "    </tr>\n",
       "  </tbody>\n",
       "</table>\n",
       "</div>"
      ],
      "text/plain": [
       "        rev_id  worker_id  quoting_attack  recipient_attack  \\\n",
       "854386   37675       1362             0.0               0.0   \n",
       "854389   37675       2408             0.0               0.0   \n",
       "854388   37675       1493             0.0               0.0   \n",
       "854387   37675       1439             0.0               0.0   \n",
       "854380   37675        170             0.0               0.0   \n",
       "\n",
       "        third_party_attack  other_attack  attack  \n",
       "854386                 0.0           0.0     0.0  \n",
       "854389                 0.0           0.0     0.0  \n",
       "854388                 0.0           0.0     0.0  \n",
       "854387                 0.0           0.0     0.0  \n",
       "854380                 0.0           0.0     0.0  "
      ]
     },
     "execution_count": 21,
     "metadata": {},
     "output_type": "execute_result"
    }
   ],
   "source": [
    "df_attack_labels.head()"
   ]
  }
 ],
 "metadata": {
  "anaconda-cloud": {},
  "kernelspec": {
   "display_name": "Python [default]",
   "language": "python",
   "name": "python3"
  },
  "language_info": {
   "codemirror_mode": {
    "name": "ipython",
    "version": 3
   },
   "file_extension": ".py",
   "mimetype": "text/x-python",
   "name": "python",
   "nbconvert_exporter": "python",
   "pygments_lexer": "ipython3",
   "version": "3.5.1"
  }
 },
 "nbformat": 4,
 "nbformat_minor": 0
}
