{
 "cells": [
  {
   "cell_type": "code",
   "execution_count": 1,
   "metadata": {
    "collapsed": true
   },
   "outputs": [],
   "source": [
    "import os"
   ]
  },
  {
   "cell_type": "code",
   "execution_count": 2,
   "metadata": {
    "collapsed": true
   },
   "outputs": [],
   "source": [
    "ANNOTATIONS=True\n",
    "BASELINES=True\n",
    "CV_ARCHITECTURES=True\n",
    "EVAL_N_SAVE_MODELS=True\n",
    "APPLY_MODELS=True"
   ]
  },
  {
   "cell_type": "code",
   "execution_count": 3,
   "metadata": {
    "collapsed": false
   },
   "outputs": [],
   "source": [
    "def run_nb(nb):\n",
    "    print('EXECUTING %s' % nb)\n",
    "    ret = os.system(\"jupyter nbconvert --inplace --execute  --ExecutePreprocessor.timeout=-1 %s\" % nb)\n",
    "    print(ret)\n",
    "\n",
    "def run_nbs(nbs):\n",
    "    for nb in nbs:\n",
    "        run_nb(nb)\n",
    "    "
   ]
  },
  {
   "cell_type": "code",
   "execution_count": null,
   "metadata": {
    "collapsed": false
   },
   "outputs": [
    {
     "name": "stdout",
     "output_type": "stream",
     "text": [
      "EXECUTING Clean\\ Annotations.ipynb\n",
      "0\n",
      "EXECUTING Split\\ Annotations.ipynb\n",
      "0\n",
      "EXECUTING Baseline\\ Annotations.ipynb\n",
      "0\n",
      "EXECUTING Annotation\\ Distributions.ipynb\n",
      "0\n",
      "EXECUTING Investigation\\ of\\ Non\\ Recipient\\ Attacks.ipynb\n",
      "0\n"
     ]
    }
   ],
   "source": [
    "annotations = [\n",
    "    'Clean\\ Annotations.ipynb',\n",
    "    'Split\\ Annotations.ipynb',\n",
    "    'Baseline\\ Annotations.ipynb',\n",
    "    'Annotation\\ Distributions.ipynb',\n",
    "    'Investigation\\ of\\ Non\\ Recipient\\ Attacks.ipynb'\n",
    "]\n",
    "\n",
    "if ANNOTATIONS:\n",
    "    run_nbs(annotations)"
   ]
  },
  {
   "cell_type": "code",
   "execution_count": null,
   "metadata": {
    "collapsed": false
   },
   "outputs": [
    {
     "name": "stdout",
     "output_type": "stream",
     "text": [
      "EXECUTING Baselines.ipynb\n"
     ]
    }
   ],
   "source": [
    "if BASELINES:\n",
    "    run_nb('Baselines.ipynb')"
   ]
  },
  {
   "cell_type": "code",
   "execution_count": null,
   "metadata": {
    "collapsed": true
   },
   "outputs": [],
   "source": [
    "# hangs, need to run manually\n",
    "if CV_ARCHITECTURES:\n",
    "    run_nb('cv_architectures.ipynb')"
   ]
  },
  {
   "cell_type": "code",
   "execution_count": null,
   "metadata": {
    "collapsed": true
   },
   "outputs": [],
   "source": [
    "# hangs, need to run manually\n",
    "if EVAL_N_SAVE_MODELS:\n",
    "    run_nb('evan_n_save_models.ipynb')"
   ]
  },
  {
   "cell_type": "code",
   "execution_count": null,
   "metadata": {
    "collapsed": true
   },
   "outputs": [],
   "source": [
    "# hangs, need to run manually\n",
    "if APPLY_MODELS:\n",
    "    run_nb('Apply\\ Models.ipynb')"
   ]
  }
 ],
 "metadata": {
  "kernelspec": {
   "display_name": "Python [default]",
   "language": "python",
   "name": "python3"
  },
  "language_info": {
   "codemirror_mode": {
    "name": "ipython",
    "version": 3
   },
   "file_extension": ".py",
   "mimetype": "text/x-python",
   "name": "python",
   "nbconvert_exporter": "python",
   "pygments_lexer": "ipython3",
   "version": "3.5.1"
  }
 },
 "nbformat": 4,
 "nbformat_minor": 0
}
