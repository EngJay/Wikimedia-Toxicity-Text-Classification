{
 "cells": [
  {
   "cell_type": "code",
   "execution_count": 3,
   "metadata": {
    "collapsed": true
   },
   "outputs": [],
   "source": [
    "import pandas as pd"
   ]
  },
  {
   "cell_type": "code",
   "execution_count": 26,
   "metadata": {
    "collapsed": false
   },
   "outputs": [
    {
     "name": "stdout",
     "output_type": "stream",
     "text": [
      "# of annotations 764050\n"
     ]
    }
   ],
   "source": [
    "# load annotations from train split\n",
    "path = '../../data/annotations/split/train/annotations.tsv'\n",
    "df = pd.read_csv(path, '\\t')\n",
    "df.index = df.rev_id\n",
    "print('# of annotations' , df.shape[0])"
   ]
  },
  {
   "cell_type": "code",
   "execution_count": 27,
   "metadata": {
    "collapsed": false
   },
   "outputs": [
    {
     "name": "stdout",
     "output_type": "stream",
     "text": [
      "# of revs/comments 69708\n"
     ]
    }
   ],
   "source": [
    "#get text for classification\n",
    "comments = df.drop_duplicates(subset='rev_id')['clean_diff']\n",
    "print('# of revs/comments' , comments.shape[0])"
   ]
  },
  {
   "cell_type": "code",
   "execution_count": 28,
   "metadata": {
    "collapsed": false
   },
   "outputs": [
    {
     "data": {
      "text/plain": [
       "rev_id\n",
       "379377106     Social media campaign \\n\\nHi Bod!!!! great to...\n",
       "560366988     General Brotherton \\n\\nHi,\\n\\nAny chance you ...\n",
       "537948       Hi Alex\\n\\nJust thought I ought to mention tha...\n",
       "533417386    \"\\n\\n AfC help desk \\n\\nCould you please take ...\n",
       "74926009     I see you have been experimenting with Wikiped...\n",
       "Name: clean_diff, dtype: object"
      ]
     },
     "execution_count": 28,
     "metadata": {},
     "output_type": "execute_result"
    }
   ],
   "source": [
    "comments.head()"
   ]
  },
  {
   "cell_type": "code",
   "execution_count": null,
   "metadata": {
    "collapsed": true
   },
   "outputs": [],
   "source": [
    "# get annotations for a certain task\n",
    "# valid tasks are 'attack', 'recipient', 'aggression'\n",
    "# note that each comment/revision has multiple annotations"
   ]
  },
  {
   "cell_type": "code",
   "execution_count": 29,
   "metadata": {
    "collapsed": false
   },
   "outputs": [
    {
     "data": {
      "text/plain": [
       "rev_id\n",
       "379377106    0.0\n",
       "379377106    0.0\n",
       "379377106    0.0\n",
       "379377106    0.0\n",
       "379377106    0.0\n",
       "Name: attack, dtype: float64"
      ]
     },
     "execution_count": 29,
     "metadata": {},
     "output_type": "execute_result"
    }
   ],
   "source": [
    "attack_annotations = df['attack'] \n",
    "attack_annotations.head()"
   ]
  },
  {
   "cell_type": "code",
   "execution_count": null,
   "metadata": {
    "collapsed": true
   },
   "outputs": [],
   "source": [
    "# get attack labels\n",
    "# label a comment an attack if more than half the annotations say its an attack"
   ]
  },
  {
   "cell_type": "code",
   "execution_count": 30,
   "metadata": {
    "collapsed": false
   },
   "outputs": [
    {
     "data": {
      "text/plain": [
       "0    61625\n",
       "1     8083\n",
       "Name: attack, dtype: int64"
      ]
     },
     "execution_count": 30,
     "metadata": {},
     "output_type": "execute_result"
    }
   ],
   "source": [
    "attack_labels = (attack_annotations.groupby(attack_annotations.index).mean() > 0.5).astype(int)\n",
    "attack_labels.value_counts()"
   ]
  }
 ],
 "metadata": {
  "kernelspec": {
   "display_name": "Python [default]",
   "language": "python",
   "name": "python3"
  },
  "language_info": {
   "codemirror_mode": {
    "name": "ipython",
    "version": 3
   },
   "file_extension": ".py",
   "mimetype": "text/x-python",
   "name": "python",
   "nbconvert_exporter": "python",
   "pygments_lexer": "ipython3",
   "version": "3.5.1"
  }
 },
 "nbformat": 4,
 "nbformat_minor": 0
}
