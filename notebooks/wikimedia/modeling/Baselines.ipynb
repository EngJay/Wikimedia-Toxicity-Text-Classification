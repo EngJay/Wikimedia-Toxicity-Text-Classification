{
 "cells": [
  {
   "cell_type": "markdown",
   "metadata": {},
   "source": [
    "# Baselines"
   ]
  },
  {
   "cell_type": "code",
   "execution_count": 1,
   "metadata": {
    "collapsed": false
   },
   "outputs": [
    {
     "name": "stderr",
     "output_type": "stream",
     "text": [
      "Using TensorFlow backend.\n"
     ]
    }
   ],
   "source": [
    "%load_ext autoreload\n",
    "%autoreload 2\n",
    "%matplotlib inline\n",
    "%load_ext autotime\n",
    "\n",
    "from baselines import get_annotator_ensemble_baselines_parallel,get_annotator_ensemble_baseline, get_model_baselines_parallel, get_model_baseline\n",
    "from baselines import multi_class_roc_auc, multi_class_spearman\n",
    "from baselines import empirical_dist\n",
    "from ngram import load_comments_and_labels,assemble_data\n",
    "from pprint import pprint\n",
    "import pandas as pd\n",
    "import numpy as np\n",
    "from serialization import load_pipeline\n",
    "import os"
   ]
  },
  {
   "cell_type": "code",
   "execution_count": 2,
   "metadata": {
    "collapsed": false
   },
   "outputs": [
    {
     "name": "stdout",
     "output_type": "stream",
     "text": [
      "time: 2.52 ms\n"
     ]
    }
   ],
   "source": [
    "iters = 25\n",
    "K = 20\n",
    "F = int(K/2)"
   ]
  },
  {
   "cell_type": "code",
   "execution_count": 3,
   "metadata": {
    "collapsed": false
   },
   "outputs": [
    {
     "name": "stdout",
     "output_type": "stream",
     "text": [
      "time: 2.08 s\n"
     ]
    }
   ],
   "source": [
    "annotations = pd.read_csv('../../data/annotations/split/baseline/annotations.tsv', sep='\\t')\n",
    "annotations.index = annotations.rev_id\n",
    "comments = annotations.drop_duplicates('rev_id')['clean_diff']"
   ]
  },
  {
   "cell_type": "code",
   "execution_count": 4,
   "metadata": {
    "collapsed": false
   },
   "outputs": [
    {
     "name": "stdout",
     "output_type": "stream",
     "text": [
      "time: 4.53 ms\n"
     ]
    }
   ],
   "source": [
    "metrics = {'ROC': multi_class_roc_auc, 'spearman':multi_class_spearman}\n",
    "tasks = ['attack'] \n",
    "#tasks = ['attack' 'recipient', 'aggression']\n",
    "annotations_subsets = {'all': annotations} \n",
    "#annotations_subsets = {\n",
    "#    'all': d,\n",
    "#    'blocked' : annotations.query(\"sample=='blocked'\"),\n",
    "#    'random' : annotations.query(\"sample=='random'\")\n",
    "#}"
   ]
  },
  {
   "cell_type": "markdown",
   "metadata": {},
   "source": [
    "### Get annotator ensemble baselines"
   ]
  },
  {
   "cell_type": "code",
   "execution_count": 33,
   "metadata": {
    "collapsed": false
   },
   "outputs": [
    {
     "name": "stdout",
     "output_type": "stream",
     "text": [
      "time: 1.45 ms\n"
     ]
    }
   ],
   "source": [
    "pairs = list(zip(range(1, F+1), range(1, F+1))) + list(zip(range(1, F+1), [F]*F))"
   ]
  },
  {
   "cell_type": "code",
   "execution_count": 34,
   "metadata": {
    "collapsed": false
   },
   "outputs": [
    {
     "name": "stdout",
     "output_type": "stream",
     "text": [
      "time: 1h 59min 17s\n"
     ]
    }
   ],
   "source": [
    "dfs = []\n",
    "\n",
    "for task in tasks:\n",
    "    for annotations_subset_name, annotations_subset in annotations_subsets.items():\n",
    "        task_annotations  = annotations_subset[task]\n",
    "        for metric_name, metric in metrics.items():\n",
    "            args = [[task_annotations, K, empirical_dist, metric, n_t, n_p] for n_t, n_p in pairs] * iters\n",
    "            result = get_annotator_ensemble_baselines_parallel(args)\n",
    "            result['metric'] = metric_name\n",
    "            result['task'] = task\n",
    "            dfs.append(result)\n",
    "ensemble_baseline_results = pd.concat(dfs)\n",
    "ensemble_baseline_results['score'] = ensemble_baseline_results['score'] * 100\n",
    "ensemble_baseline_results = ensemble_baseline_results.groupby(['metric', 'n_p', 'n_t', 'task'])['score'].agg({\"mean\": np.mean, 'std': np.std, 'count': 'count'})\n",
    "pd.DataFrame(ensemble_baseline_results).to_csv('baselines1.csv')"
   ]
  },
  {
   "cell_type": "code",
   "execution_count": 35,
   "metadata": {
    "collapsed": false
   },
   "outputs": [
    {
     "data": {
      "text/html": [
       "<div>\n",
       "<table border=\"1\" class=\"dataframe\">\n",
       "  <thead>\n",
       "    <tr style=\"text-align: right;\">\n",
       "      <th></th>\n",
       "      <th></th>\n",
       "      <th></th>\n",
       "      <th></th>\n",
       "      <th>std</th>\n",
       "      <th>mean</th>\n",
       "      <th>count</th>\n",
       "    </tr>\n",
       "    <tr>\n",
       "      <th>metric</th>\n",
       "      <th>n_p</th>\n",
       "      <th>n_t</th>\n",
       "      <th>task</th>\n",
       "      <th></th>\n",
       "      <th></th>\n",
       "      <th></th>\n",
       "    </tr>\n",
       "  </thead>\n",
       "  <tbody>\n",
       "    <tr>\n",
       "      <th rowspan=\"19\" valign=\"top\">ROC</th>\n",
       "      <th>1</th>\n",
       "      <th>1</th>\n",
       "      <th>attack</th>\n",
       "      <td>0.603945</td>\n",
       "      <td>74.250538</td>\n",
       "      <td>25</td>\n",
       "    </tr>\n",
       "    <tr>\n",
       "      <th>2</th>\n",
       "      <th>2</th>\n",
       "      <th>attack</th>\n",
       "      <td>0.635044</td>\n",
       "      <td>89.430232</td>\n",
       "      <td>25</td>\n",
       "    </tr>\n",
       "    <tr>\n",
       "      <th>3</th>\n",
       "      <th>3</th>\n",
       "      <th>attack</th>\n",
       "      <td>0.465894</td>\n",
       "      <td>90.707681</td>\n",
       "      <td>25</td>\n",
       "    </tr>\n",
       "    <tr>\n",
       "      <th>4</th>\n",
       "      <th>4</th>\n",
       "      <th>attack</th>\n",
       "      <td>0.272224</td>\n",
       "      <td>95.227470</td>\n",
       "      <td>25</td>\n",
       "    </tr>\n",
       "    <tr>\n",
       "      <th>5</th>\n",
       "      <th>5</th>\n",
       "      <th>attack</th>\n",
       "      <td>0.313270</td>\n",
       "      <td>95.335467</td>\n",
       "      <td>25</td>\n",
       "    </tr>\n",
       "    <tr>\n",
       "      <th>6</th>\n",
       "      <th>6</th>\n",
       "      <th>attack</th>\n",
       "      <td>0.290291</td>\n",
       "      <td>97.146305</td>\n",
       "      <td>25</td>\n",
       "    </tr>\n",
       "    <tr>\n",
       "      <th>7</th>\n",
       "      <th>7</th>\n",
       "      <th>attack</th>\n",
       "      <td>0.188060</td>\n",
       "      <td>97.101439</td>\n",
       "      <td>25</td>\n",
       "    </tr>\n",
       "    <tr>\n",
       "      <th>8</th>\n",
       "      <th>8</th>\n",
       "      <th>attack</th>\n",
       "      <td>0.158457</td>\n",
       "      <td>98.096487</td>\n",
       "      <td>25</td>\n",
       "    </tr>\n",
       "    <tr>\n",
       "      <th>9</th>\n",
       "      <th>9</th>\n",
       "      <th>attack</th>\n",
       "      <td>0.189766</td>\n",
       "      <td>98.120313</td>\n",
       "      <td>25</td>\n",
       "    </tr>\n",
       "    <tr>\n",
       "      <th rowspan=\"10\" valign=\"top\">10</th>\n",
       "      <th>1</th>\n",
       "      <th>attack</th>\n",
       "      <td>0.429253</td>\n",
       "      <td>88.545554</td>\n",
       "      <td>25</td>\n",
       "    </tr>\n",
       "    <tr>\n",
       "      <th>2</th>\n",
       "      <th>attack</th>\n",
       "      <td>0.345153</td>\n",
       "      <td>95.862280</td>\n",
       "      <td>25</td>\n",
       "    </tr>\n",
       "    <tr>\n",
       "      <th>3</th>\n",
       "      <th>attack</th>\n",
       "      <td>0.319777</td>\n",
       "      <td>95.499989</td>\n",
       "      <td>25</td>\n",
       "    </tr>\n",
       "    <tr>\n",
       "      <th>4</th>\n",
       "      <th>attack</th>\n",
       "      <td>0.246593</td>\n",
       "      <td>97.316654</td>\n",
       "      <td>25</td>\n",
       "    </tr>\n",
       "    <tr>\n",
       "      <th>5</th>\n",
       "      <th>attack</th>\n",
       "      <td>0.231063</td>\n",
       "      <td>97.130499</td>\n",
       "      <td>25</td>\n",
       "    </tr>\n",
       "    <tr>\n",
       "      <th>6</th>\n",
       "      <th>attack</th>\n",
       "      <td>0.182448</td>\n",
       "      <td>98.055153</td>\n",
       "      <td>25</td>\n",
       "    </tr>\n",
       "    <tr>\n",
       "      <th>7</th>\n",
       "      <th>attack</th>\n",
       "      <td>0.151837</td>\n",
       "      <td>97.817255</td>\n",
       "      <td>25</td>\n",
       "    </tr>\n",
       "    <tr>\n",
       "      <th>8</th>\n",
       "      <th>attack</th>\n",
       "      <td>0.118801</td>\n",
       "      <td>98.375502</td>\n",
       "      <td>25</td>\n",
       "    </tr>\n",
       "    <tr>\n",
       "      <th>9</th>\n",
       "      <th>attack</th>\n",
       "      <td>0.148479</td>\n",
       "      <td>98.242783</td>\n",
       "      <td>25</td>\n",
       "    </tr>\n",
       "    <tr>\n",
       "      <th>10</th>\n",
       "      <th>attack</th>\n",
       "      <td>0.124876</td>\n",
       "      <td>98.532701</td>\n",
       "      <td>50</td>\n",
       "    </tr>\n",
       "    <tr>\n",
       "      <th rowspan=\"19\" valign=\"top\">spearman</th>\n",
       "      <th>1</th>\n",
       "      <th>1</th>\n",
       "      <th>attack</th>\n",
       "      <td>1.014905</td>\n",
       "      <td>48.204331</td>\n",
       "      <td>25</td>\n",
       "    </tr>\n",
       "    <tr>\n",
       "      <th>2</th>\n",
       "      <th>2</th>\n",
       "      <th>attack</th>\n",
       "      <td>0.674873</td>\n",
       "      <td>58.072047</td>\n",
       "      <td>25</td>\n",
       "    </tr>\n",
       "    <tr>\n",
       "      <th>3</th>\n",
       "      <th>3</th>\n",
       "      <th>attack</th>\n",
       "      <td>0.616251</td>\n",
       "      <td>62.270098</td>\n",
       "      <td>25</td>\n",
       "    </tr>\n",
       "    <tr>\n",
       "      <th>4</th>\n",
       "      <th>4</th>\n",
       "      <th>attack</th>\n",
       "      <td>0.565034</td>\n",
       "      <td>64.881500</td>\n",
       "      <td>25</td>\n",
       "    </tr>\n",
       "    <tr>\n",
       "      <th>5</th>\n",
       "      <th>5</th>\n",
       "      <th>attack</th>\n",
       "      <td>0.675606</td>\n",
       "      <td>66.466298</td>\n",
       "      <td>25</td>\n",
       "    </tr>\n",
       "    <tr>\n",
       "      <th>6</th>\n",
       "      <th>6</th>\n",
       "      <th>attack</th>\n",
       "      <td>0.726201</td>\n",
       "      <td>67.698623</td>\n",
       "      <td>25</td>\n",
       "    </tr>\n",
       "    <tr>\n",
       "      <th>7</th>\n",
       "      <th>7</th>\n",
       "      <th>attack</th>\n",
       "      <td>0.551162</td>\n",
       "      <td>68.912229</td>\n",
       "      <td>25</td>\n",
       "    </tr>\n",
       "    <tr>\n",
       "      <th>8</th>\n",
       "      <th>8</th>\n",
       "      <th>attack</th>\n",
       "      <td>0.439214</td>\n",
       "      <td>69.652008</td>\n",
       "      <td>25</td>\n",
       "    </tr>\n",
       "    <tr>\n",
       "      <th>9</th>\n",
       "      <th>9</th>\n",
       "      <th>attack</th>\n",
       "      <td>0.441514</td>\n",
       "      <td>70.511064</td>\n",
       "      <td>25</td>\n",
       "    </tr>\n",
       "    <tr>\n",
       "      <th rowspan=\"10\" valign=\"top\">10</th>\n",
       "      <th>1</th>\n",
       "      <th>attack</th>\n",
       "      <td>0.796424</td>\n",
       "      <td>53.587828</td>\n",
       "      <td>25</td>\n",
       "    </tr>\n",
       "    <tr>\n",
       "      <th>2</th>\n",
       "      <th>attack</th>\n",
       "      <td>0.532865</td>\n",
       "      <td>61.457489</td>\n",
       "      <td>25</td>\n",
       "    </tr>\n",
       "    <tr>\n",
       "      <th>3</th>\n",
       "      <th>attack</th>\n",
       "      <td>0.440277</td>\n",
       "      <td>64.755400</td>\n",
       "      <td>25</td>\n",
       "    </tr>\n",
       "    <tr>\n",
       "      <th>4</th>\n",
       "      <th>attack</th>\n",
       "      <td>0.505699</td>\n",
       "      <td>66.814374</td>\n",
       "      <td>25</td>\n",
       "    </tr>\n",
       "    <tr>\n",
       "      <th>5</th>\n",
       "      <th>attack</th>\n",
       "      <td>0.468124</td>\n",
       "      <td>68.271294</td>\n",
       "      <td>25</td>\n",
       "    </tr>\n",
       "    <tr>\n",
       "      <th>6</th>\n",
       "      <th>attack</th>\n",
       "      <td>0.539926</td>\n",
       "      <td>69.214320</td>\n",
       "      <td>25</td>\n",
       "    </tr>\n",
       "    <tr>\n",
       "      <th>7</th>\n",
       "      <th>attack</th>\n",
       "      <td>0.600601</td>\n",
       "      <td>69.863408</td>\n",
       "      <td>25</td>\n",
       "    </tr>\n",
       "    <tr>\n",
       "      <th>8</th>\n",
       "      <th>attack</th>\n",
       "      <td>0.404351</td>\n",
       "      <td>70.362734</td>\n",
       "      <td>25</td>\n",
       "    </tr>\n",
       "    <tr>\n",
       "      <th>9</th>\n",
       "      <th>attack</th>\n",
       "      <td>0.449219</td>\n",
       "      <td>70.977329</td>\n",
       "      <td>25</td>\n",
       "    </tr>\n",
       "    <tr>\n",
       "      <th>10</th>\n",
       "      <th>attack</th>\n",
       "      <td>0.360211</td>\n",
       "      <td>71.111486</td>\n",
       "      <td>50</td>\n",
       "    </tr>\n",
       "  </tbody>\n",
       "</table>\n",
       "</div>"
      ],
      "text/plain": [
       "                              std       mean  count\n",
       "metric   n_p n_t task                              \n",
       "ROC      1   1   attack  0.603945  74.250538     25\n",
       "         2   2   attack  0.635044  89.430232     25\n",
       "         3   3   attack  0.465894  90.707681     25\n",
       "         4   4   attack  0.272224  95.227470     25\n",
       "         5   5   attack  0.313270  95.335467     25\n",
       "         6   6   attack  0.290291  97.146305     25\n",
       "         7   7   attack  0.188060  97.101439     25\n",
       "         8   8   attack  0.158457  98.096487     25\n",
       "         9   9   attack  0.189766  98.120313     25\n",
       "         10  1   attack  0.429253  88.545554     25\n",
       "             2   attack  0.345153  95.862280     25\n",
       "             3   attack  0.319777  95.499989     25\n",
       "             4   attack  0.246593  97.316654     25\n",
       "             5   attack  0.231063  97.130499     25\n",
       "             6   attack  0.182448  98.055153     25\n",
       "             7   attack  0.151837  97.817255     25\n",
       "             8   attack  0.118801  98.375502     25\n",
       "             9   attack  0.148479  98.242783     25\n",
       "             10  attack  0.124876  98.532701     50\n",
       "spearman 1   1   attack  1.014905  48.204331     25\n",
       "         2   2   attack  0.674873  58.072047     25\n",
       "         3   3   attack  0.616251  62.270098     25\n",
       "         4   4   attack  0.565034  64.881500     25\n",
       "         5   5   attack  0.675606  66.466298     25\n",
       "         6   6   attack  0.726201  67.698623     25\n",
       "         7   7   attack  0.551162  68.912229     25\n",
       "         8   8   attack  0.439214  69.652008     25\n",
       "         9   9   attack  0.441514  70.511064     25\n",
       "         10  1   attack  0.796424  53.587828     25\n",
       "             2   attack  0.532865  61.457489     25\n",
       "             3   attack  0.440277  64.755400     25\n",
       "             4   attack  0.505699  66.814374     25\n",
       "             5   attack  0.468124  68.271294     25\n",
       "             6   attack  0.539926  69.214320     25\n",
       "             7   attack  0.600601  69.863408     25\n",
       "             8   attack  0.404351  70.362734     25\n",
       "             9   attack  0.449219  70.977329     25\n",
       "             10  attack  0.360211  71.111486     50"
      ]
     },
     "execution_count": 35,
     "metadata": {},
     "output_type": "execute_result"
    },
    {
     "name": "stdout",
     "output_type": "stream",
     "text": [
      "time: 70.5 ms\n"
     ]
    }
   ],
   "source": [
    "ensemble_baseline_results"
   ]
  },
  {
   "cell_type": "markdown",
   "metadata": {},
   "source": [
    "### Get model baseline"
   ]
  },
  {
   "cell_type": "code",
   "execution_count": 5,
   "metadata": {
    "collapsed": false
   },
   "outputs": [
    {
     "name": "stdout",
     "output_type": "stream",
     "text": [
      "time: 3min 51s\n"
     ]
    }
   ],
   "source": [
    "dfs = []\n",
    "cv_path = '../../models/attack'\n",
    "model_type = 'linear_char_ed'\n",
    "model_name = 'linear_char_ed_train'\n",
    "\n",
    "for task in tasks:\n",
    "    model = load_pipeline(os.path.join(cv_path,model_type), model_name)\n",
    "    y_baseline_pred = model.predict_proba(comments)\n",
    "    y_baseline_pred = pd.DataFrame(y_baseline_pred,  index = comments.index)\n",
    "\n",
    "    for annotations_subset_name, annotations_subset in annotations_subsets.items():\n",
    "        task_annotations  = annotations_subset[task]\n",
    "        for metric_name, metric in metrics.items():\n",
    "            args = [[y_baseline_pred, task_annotations, K, empirical_dist, metric, F]] * iters\n",
    "            result = get_model_baselines_parallel(args)\n",
    "            result['metric'] = metric_name\n",
    "            result['task'] = task\n",
    "            dfs.append(result)\n",
    "model_baseline_results = pd.concat(dfs)\n",
    "model_baseline_results['score'] = model_baseline_results['score'] * 100\n",
    "model_baseline_results = model_baseline_results.groupby(['metric', 'n_t','task' ])['score'].agg({\"mean\": np.mean, 'std': np.std, 'count': 'count'})\n",
    "pd.DataFrame(model_baseline_results).to_csv('baselines2.csv')"
   ]
  },
  {
   "cell_type": "code",
   "execution_count": 6,
   "metadata": {
    "collapsed": false
   },
   "outputs": [
    {
     "data": {
      "text/html": [
       "<div>\n",
       "<table border=\"1\" class=\"dataframe\">\n",
       "  <thead>\n",
       "    <tr style=\"text-align: right;\">\n",
       "      <th></th>\n",
       "      <th></th>\n",
       "      <th></th>\n",
       "      <th>std</th>\n",
       "      <th>mean</th>\n",
       "      <th>count</th>\n",
       "    </tr>\n",
       "    <tr>\n",
       "      <th>metric</th>\n",
       "      <th>n_t</th>\n",
       "      <th>task</th>\n",
       "      <th></th>\n",
       "      <th></th>\n",
       "      <th></th>\n",
       "    </tr>\n",
       "  </thead>\n",
       "  <tbody>\n",
       "    <tr>\n",
       "      <th>ROC</th>\n",
       "      <th>10</th>\n",
       "      <th>attack</th>\n",
       "      <td>0.143543</td>\n",
       "      <td>97.194932</td>\n",
       "      <td>25</td>\n",
       "    </tr>\n",
       "    <tr>\n",
       "      <th>spearman</th>\n",
       "      <th>10</th>\n",
       "      <th>attack</th>\n",
       "      <td>0.436937</td>\n",
       "      <td>66.019843</td>\n",
       "      <td>25</td>\n",
       "    </tr>\n",
       "  </tbody>\n",
       "</table>\n",
       "</div>"
      ],
      "text/plain": [
       "                          std       mean  count\n",
       "metric   n_t task                              \n",
       "ROC      10  attack  0.143543  97.194932     25\n",
       "spearman 10  attack  0.436937  66.019843     25"
      ]
     },
     "execution_count": 6,
     "metadata": {},
     "output_type": "execute_result"
    },
    {
     "name": "stdout",
     "output_type": "stream",
     "text": [
      "time: 28.9 ms\n"
     ]
    }
   ],
   "source": [
    "model_baseline_results"
   ]
  },
  {
   "cell_type": "code",
   "execution_count": null,
   "metadata": {
    "collapsed": true
   },
   "outputs": [],
   "source": []
  }
 ],
 "metadata": {
  "anaconda-cloud": {},
  "kernelspec": {
   "display_name": "Python [default]",
   "language": "python",
   "name": "python3"
  },
  "language_info": {
   "codemirror_mode": {
    "name": "ipython",
    "version": 3
   },
   "file_extension": ".py",
   "mimetype": "text/x-python",
   "name": "python",
   "nbconvert_exporter": "python",
   "pygments_lexer": "ipython3",
   "version": "3.5.1"
  }
 },
 "nbformat": 4,
 "nbformat_minor": 0
}
