{
 "cells": [
  {
   "cell_type": "code",
   "execution_count": 1,
   "metadata": {
    "collapsed": false
   },
   "outputs": [
    {
     "name": "stderr",
     "output_type": "stream",
     "text": [
      "Using TensorFlow backend.\n"
     ]
    }
   ],
   "source": [
    "%load_ext autoreload\n",
    "%autoreload 2\n",
    "%matplotlib inline\n",
    "%load_ext autotime\n",
    "\n",
    "from baselines import load_comments_and_labels, assemble_data, one_hot\n",
    "from ngram import test_cross,calibration_curve_plotter,two_class_roc_plotter, two_class_precision_recall_plotter\n",
    "from ngram import roc_scorer, spearman_scorer\n",
    "import matplotlib.pyplot as plt\n",
    "import joblib\n",
    "import os\n",
    "from serialization import save_pipeline, load_pipeline\n",
    "import pandas as pd\n",
    "from sklearn.isotonic import IsotonicRegression as IR"
   ]
  },
  {
   "cell_type": "code",
   "execution_count": 7,
   "metadata": {
    "collapsed": false
   },
   "outputs": [
    {
     "name": "stdout",
     "output_type": "stream",
     "text": [
      "time: 5.09 ms\n"
     ]
    }
   ],
   "source": [
    "def save_calibrator(task, model_name, data):\n",
    "    cv_path = '../../models/cv'\n",
    "    results_path = '../../models/%s/%s' % (task, model_name)\n",
    "    if not os.path.exists(results_path):\n",
    "        os.makedirs(results_path)\n",
    "    \n",
    "    #load model\n",
    "    m = load_pipeline(results_path, model_name + \"_train\" )\n",
    "\n",
    "    # train calibrator on dev and test set\n",
    "    # all data comes from data sampled at random\n",
    "    X, y = assemble_data(data, 'comments', 'plurality', splits = ['dev', 'test'], samples = ['random'])\n",
    "    y_pred = m.predict_proba(X)[:,1]\n",
    "    joblib.dump(IR( out_of_bounds = 'clip' ).fit( y_pred, y ), os.path.join(results_path, 'calibrator'))"
   ]
  },
  {
   "cell_type": "code",
   "execution_count": 10,
   "metadata": {
    "collapsed": false
   },
   "outputs": [
    {
     "name": "stdout",
     "output_type": "stream",
     "text": [
      "time: 1.46 ms\n"
     ]
    }
   ],
   "source": [
    "tasks = ['attack', 'recipient', 'aggression']\n",
    "models = ['linear_char_ed', 'mlp_char_ed', 'linear_char_oh', 'mlp_char_oh']"
   ]
  },
  {
   "cell_type": "code",
   "execution_count": 11,
   "metadata": {
    "collapsed": false,
    "scrolled": false
   },
   "outputs": [
    {
     "name": "stdout",
     "output_type": "stream",
     "text": [
      "time: 12min 48s\n"
     ]
    }
   ],
   "source": [
    "for task in tasks:\n",
    "    data = load_comments_and_labels(task)\n",
    "    for model in models:\n",
    "        save_calibrator(task, model, data)"
   ]
  },
  {
   "cell_type": "code",
   "execution_count": null,
   "metadata": {
    "collapsed": true
   },
   "outputs": [],
   "source": []
  }
 ],
 "metadata": {
  "anaconda-cloud": {},
  "kernelspec": {
   "display_name": "Python [default]",
   "language": "python",
   "name": "python3"
  },
  "language_info": {
   "codemirror_mode": {
    "name": "ipython",
    "version": 3
   },
   "file_extension": ".py",
   "mimetype": "text/x-python",
   "name": "python",
   "nbconvert_exporter": "python",
   "pygments_lexer": "ipython3",
   "version": "3.5.1"
  }
 },
 "nbformat": 4,
 "nbformat_minor": 0
}
