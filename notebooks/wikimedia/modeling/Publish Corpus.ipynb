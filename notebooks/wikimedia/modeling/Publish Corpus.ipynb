{
 "cells": [
  {
   "cell_type": "code",
   "execution_count": 4,
   "metadata": {
    "collapsed": false
   },
   "outputs": [
    {
     "name": "stdout",
     "output_type": "stream",
     "text": [
      "The autoreload extension is already loaded. To reload it, use:\n",
      "  %reload_ext autoreload\n",
      "The autotime extension is already loaded. To reload it, use:\n",
      "  %reload_ext autotime\n",
      "time: 9.2 ms\n"
     ]
    }
   ],
   "source": [
    "%load_ext autoreload\n",
    "%autoreload 2\n",
    "%matplotlib inline\n",
    "%load_ext autotime\n",
    "\n",
    "import numpy as np\n",
    "import pandas as pd\n",
    "import joblib\n",
    "\n",
    "import datetime\n",
    "import os\n",
    "import numpy as np\n",
    "import time\n",
    "import multiprocessing as mp\n",
    "import re "
   ]
  },
  {
   "cell_type": "code",
   "execution_count": 7,
   "metadata": {
    "collapsed": false,
    "scrolled": true
   },
   "outputs": [
    {
     "name": "stdout",
     "output_type": "stream",
     "text": [
      "time: 3.37 ms\n"
     ]
    }
   ],
   "source": [
    "nss = [ 'article', 'user']\n",
    "years = range(2001,2016)\n",
    "\n",
    "\n",
    "samples = {}\n",
    "for ns in nss:\n",
    "    for year in years:\n",
    "        ind = os.path.join('../../data/samples', ns, 'clean', 'talk_diff_%d' % year)\n",
    "        outd = 'comments_%s_%d' % (ns, year)\n",
    "        samples[ind] = outd"
   ]
  },
  {
   "cell_type": "code",
   "execution_count": 8,
   "metadata": {
    "collapsed": false
   },
   "outputs": [
    {
     "name": "stdout",
     "output_type": "stream",
     "text": [
      "../../data/samples/article/clean/talk_diff_2009\n",
      "../../data/samples/article/clean/talk_diff_2004\n",
      "../../data/samples/user/clean/talk_diff_2003\n",
      "../../data/samples/user/clean/talk_diff_2004\n",
      "../../data/samples/user/clean/talk_diff_2013\n",
      "../../data/samples/article/clean/talk_diff_2015\n",
      "../../data/samples/user/clean/talk_diff_2011\n",
      "../../data/samples/article/clean/talk_diff_2014\n",
      "../../data/samples/user/clean/talk_diff_2009\n",
      "../../data/samples/user/clean/talk_diff_2015\n",
      "../../data/samples/user/clean/talk_diff_2006\n",
      "../../data/samples/article/clean/talk_diff_2012\n",
      "../../data/samples/article/clean/talk_diff_2013\n",
      "../../data/samples/article/clean/talk_diff_2011\n",
      "../../data/samples/user/clean/talk_diff_2001\n",
      "../../data/samples/user/clean/talk_diff_2012\n",
      "../../data/samples/article/clean/talk_diff_2003\n",
      "../../data/samples/article/clean/talk_diff_2007\n",
      "../../data/samples/article/clean/talk_diff_2002\n",
      "../../data/samples/user/clean/talk_diff_2005\n",
      "../../data/samples/user/clean/talk_diff_2014\n",
      "../../data/samples/article/clean/talk_diff_2006\n",
      "../../data/samples/user/clean/talk_diff_2007\n",
      "../../data/samples/article/clean/talk_diff_2001\n",
      "../../data/samples/article/clean/talk_diff_2010\n",
      "../../data/samples/user/clean/talk_diff_2010\n",
      "../../data/samples/user/clean/talk_diff_2008\n",
      "../../data/samples/user/clean/talk_diff_2002\n",
      "../../data/samples/article/clean/talk_diff_2005\n",
      "../../data/samples/article/clean/talk_diff_2008\n",
      "time: 1h 43min 12s\n"
     ]
    }
   ],
   "source": [
    "for ind, outd in samples.items():\n",
    "    print(ind)\n",
    "    os.system('rm -rf %s' % outd)\n",
    "    os.system('mkdir %s' % outd)\n",
    "    \n",
    "    files = []\n",
    "    for root, dirnames, filenames in os.walk(ind):\n",
    "        for filename in filenames:\n",
    "            if 'chunk' in filename:\n",
    "                files.append(filename)\n",
    "                \n",
    "    for file in files:\n",
    "        df = pd.read_csv(os.path.join(ind, file), sep = '\\t', encoding = 'utf-8')\n",
    "        df = df.rename(columns={'clean_diff': 'comment',\n",
    "                                    'diff': 'raw_comment',\n",
    "                                    'rev_timestamp': 'timestamp',\n",
    "                                   }\n",
    "                          )\n",
    "        order = ['rev_id', 'comment', 'raw_comment', 'timestamp', 'page_id', 'page_title', 'user_id', 'user_text', 'bot', 'admin']\n",
    "        df = df[order]\n",
    "        df.to_csv(os.path.join(outd, file), sep = '\\t', index = False)\n",
    "    \n",
    "    os.chdir('../../data/figshare')\n",
    "    os.system(\"tar -Pzcvf %s.tar.gz %s\" % (outd, outd))\n",
    "    \n",
    "    os.system(\"rm -rf %s\" % outd)\n",
    "        "
   ]
  },
  {
   "cell_type": "code",
   "execution_count": null,
   "metadata": {
    "collapsed": true
   },
   "outputs": [],
   "source": []
  },
  {
   "cell_type": "code",
   "execution_count": null,
   "metadata": {
    "collapsed": true
   },
   "outputs": [],
   "source": []
  }
 ],
 "metadata": {
  "anaconda-cloud": {},
  "kernelspec": {
   "display_name": "Python [default]",
   "language": "python",
   "name": "python3"
  },
  "language_info": {
   "codemirror_mode": {
    "name": "ipython",
    "version": 3
   },
   "file_extension": ".py",
   "mimetype": "text/x-python",
   "name": "python",
   "nbconvert_exporter": "python",
   "pygments_lexer": "ipython3",
   "version": "3.5.1"
  }
 },
 "nbformat": 4,
 "nbformat_minor": 0
}
