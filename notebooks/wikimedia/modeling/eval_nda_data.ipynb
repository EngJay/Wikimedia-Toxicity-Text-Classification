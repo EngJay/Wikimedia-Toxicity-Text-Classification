{
 "cells": [
  {
   "cell_type": "code",
   "execution_count": 96,
   "metadata": {
    "collapsed": false
   },
   "outputs": [
    {
     "name": "stderr",
     "output_type": "stream",
     "text": [
      "Using TensorFlow backend.\n"
     ]
    }
   ],
   "source": [
    "import pandas as pd\n",
    "import os\n",
    "from baselines import remove_na, tidy_labels, map_aggression_score_to_2class, plurality\n",
    "from serialization import load_pipeline\n",
    "from sklearn.metrics import roc_auc_score"
   ]
  },
  {
   "cell_type": "code",
   "execution_count": 46,
   "metadata": {
    "collapsed": true
   },
   "outputs": [],
   "source": [
    "path = '../../data/annotations/raw/nda'"
   ]
  },
  {
   "cell_type": "code",
   "execution_count": 76,
   "metadata": {
    "collapsed": false
   },
   "outputs": [],
   "source": [
    "df_nda_1 = pd.read_csv(os.path.join(path, 'nda_2015_raters_10.csv'))\n",
    "df_nda_2 = pd.read_csv(os.path.join(path, 'nda_onion_layer_5_raters_10.csv'))"
   ]
  },
  {
   "cell_type": "code",
   "execution_count": 77,
   "metadata": {
    "collapsed": true
   },
   "outputs": [],
   "source": [
    "df_nda_.index = df_nda_1.rev_id\n",
    "df_nda_2.index = df_nda_2.rev_id"
   ]
  },
  {
   "cell_type": "code",
   "execution_count": 104,
   "metadata": {
    "collapsed": true
   },
   "outputs": [],
   "source": [
    "# replicate annotations cleaning \n",
    "def clean(df):\n",
    "    df = tidy_labels(df)\n",
    "    \n",
    "    df['aggression'] = df['aggression_score'].apply(map_aggression_score_to_2class)\n",
    "    \n",
    "    df = df.query('_golden == False')\n",
    "    \n",
    "    df = remove_na(df)\n",
    "    df = df.query('na==False')\n",
    "    df = df.dropna(subset = ['aggression_score', 'is_harassment_or_attack'])\n",
    "    \n",
    "    def ambivalent(s):\n",
    "        return 'not_attack' in s and s!= 'not_attack'\n",
    "    df['ambivalent'] = df['is_harassment_or_attack'].apply(ambivalent)\n",
    "    non_ambivalent_workers = df.groupby('_worker_id', as_index = False)['ambivalent'].mean().query('ambivalent < 0.1')\n",
    "    df = df.merge(non_ambivalent_workers[['_worker_id']], how = 'inner', on = '_worker_id')\n",
    "    df = df.query('ambivalent==False')\n",
    "    \n",
    "    df = df.drop_duplicates(subset = ['rev_id', '_worker_id'])\n",
    "    \n",
    "    comments = df.drop_duplicates(subset = ['rev_id'])\n",
    "    u_comments = comments.drop_duplicates(subset = ['clean_diff'])\n",
    "    df = df.merge(u_comments[['rev_id']], how = 'inner', on = 'rev_id')\n",
    "    \n",
    "    counts = df['rev_id'].value_counts().to_frame()\n",
    "    counts.columns = ['n']\n",
    "    counts['rev_id'] = counts.index\n",
    "    counts_enough = counts.query(\"n>=8\")\n",
    "    df = df.merge(counts_enough[['rev_id']], how = 'inner', on = 'rev_id')\n",
    "    \n",
    "    return df"
   ]
  },
  {
   "cell_type": "code",
   "execution_count": 79,
   "metadata": {
    "collapsed": false
   },
   "outputs": [],
   "source": [
    "df_nda_1_clean = clean(df_nda_1)\n",
    "df_nda_2_clean = clean(df_nda_2)"
   ]
  },
  {
   "cell_type": "code",
   "execution_count": 83,
   "metadata": {
    "collapsed": false
   },
   "outputs": [],
   "source": [
    "df_nda_1_clean.index = df_nda_1_clean.rev_id\n",
    "df_nda_2_clean.index = df_nda_2_clean.rev_id"
   ]
  },
  {
   "cell_type": "code",
   "execution_count": 84,
   "metadata": {
    "collapsed": false
   },
   "outputs": [
    {
     "name": "stdout",
     "output_type": "stream",
     "text": [
      "(100000, 41)\n",
      "(75597, 42)\n"
     ]
    }
   ],
   "source": [
    "print(df_nda_1.shape)\n",
    "print(df_nda_1_clean.shape)"
   ]
  },
  {
   "cell_type": "code",
   "execution_count": 85,
   "metadata": {
    "collapsed": false
   },
   "outputs": [
    {
     "name": "stdout",
     "output_type": "stream",
     "text": [
      "(100444, 41)\n",
      "(72862, 42)\n"
     ]
    }
   ],
   "source": [
    "print(df_nda_2.shape)\n",
    "print(df_nda_2_clean.shape)"
   ]
  },
  {
   "cell_type": "code",
   "execution_count": 106,
   "metadata": {
    "collapsed": true
   },
   "outputs": [],
   "source": [
    "tasks = ['attack', 'aggression', 'recipient']\n",
    "models = ['linear_tfidf', 'edp_tfidf']"
   ]
  },
  {
   "cell_type": "code",
   "execution_count": 111,
   "metadata": {
    "collapsed": false
   },
   "outputs": [
    {
     "name": "stdout",
     "output_type": "stream",
     "text": [
      "Task: linear_tfidf Model: attack: Data: random ROC: 0.954\n",
      "Task: linear_tfidf Model: attack: Data: blocked ROC: 0.961\n",
      "\n",
      "\n",
      "7922/7922 [==============================] - 0s     \n",
      "Task: edp_tfidf Model: attack: Data: random ROC: 0.957\n",
      "Task: edp_tfidf Model: attack: Data: blocked ROC: 0.964\n",
      "\n",
      "\n",
      "Task: linear_tfidf Model: aggression: Data: random ROC: 0.964\n",
      "Task: linear_tfidf Model: aggression: Data: blocked ROC: 0.961\n",
      "\n",
      "\n",
      "7922/7922 [==============================] - 0s     \n",
      "Task: edp_tfidf Model: aggression: Data: random ROC: 0.967\n",
      "Task: edp_tfidf Model: aggression: Data: blocked ROC: 0.966\n",
      "\n",
      "\n",
      "Task: linear_tfidf Model: recipient: Data: random ROC: 0.992\n",
      "Task: linear_tfidf Model: recipient: Data: blocked ROC: 0.949\n",
      "\n",
      "\n",
      "8109/8109 [==============================] - 0s     \n",
      "7922/7922 [==============================] - 0s     \n",
      "Task: edp_tfidf Model: recipient: Data: random ROC: 0.995\n",
      "Task: edp_tfidf Model: recipient: Data: blocked ROC: 0.957\n",
      "\n",
      "\n"
     ]
    }
   ],
   "source": [
    "for task in tasks:\n",
    "    for model_name in models:\n",
    "        labels_1 = plurality(df_nda_1_clean[task]).sort_index()\n",
    "        labels_2 = plurality(df_nda_2_clean[task]).sort_index()\n",
    "        comments_1 = df_nda_1_clean.drop_duplicates(subset=['rev_id'])['clean_diff'].sort_index()\n",
    "        comments_2 = df_nda_2_clean.drop_duplicates(subset=['rev_id'])['clean_diff'].sort_index()\n",
    "        model = load_pipeline('../../models/%s/%s' % (task, model_name), model_name)\n",
    "        roc_1 = roc_auc_score(labels_1, model.predict_proba(comments_1)[:, 1])\n",
    "        roc_2= roc_auc_score(labels_2, model.predict_proba(comments_2)[:, 1])\n",
    "        print('Task: %s Model: %s: Data: random ROC: %0.3f' % (model_name, task, roc_1))\n",
    "        print('Task: %s Model: %s: Data: blocked ROC: %0.3f' % (model_name, task, roc_2))\n",
    "        print('\\n')"
   ]
  },
  {
   "cell_type": "code",
   "execution_count": null,
   "metadata": {
    "collapsed": true
   },
   "outputs": [],
   "source": []
  }
 ],
 "metadata": {
  "kernelspec": {
   "display_name": "Python [default]",
   "language": "python",
   "name": "python3"
  },
  "language_info": {
   "codemirror_mode": {
    "name": "ipython",
    "version": 3
   },
   "file_extension": ".py",
   "mimetype": "text/x-python",
   "name": "python",
   "nbconvert_exporter": "python",
   "pygments_lexer": "ipython3",
   "version": "3.5.1"
  }
 },
 "nbformat": 4,
 "nbformat_minor": 0
}
