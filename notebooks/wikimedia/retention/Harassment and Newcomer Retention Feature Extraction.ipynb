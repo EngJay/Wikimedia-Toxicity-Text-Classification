{
 "cells": [
  {
   "cell_type": "code",
   "execution_count": 1,
   "metadata": {
    "collapsed": true
   },
   "outputs": [],
   "source": [
    "% matplotlib inline\n",
    "import pandas as pd\n",
    "from dateutil.relativedelta import relativedelta\n",
    "import statsmodels.formula.api as sm\n",
    "import requests\n",
    "import pickle\n",
    "from user_object import User"
   ]
  },
  {
   "cell_type": "markdown",
   "metadata": {},
   "source": [
    "### Feature extraction\n",
    "\n",
    "Our measures of user activity over a time span include:\n",
    "1. number of edits in all namespaces\n",
    "2. number of days active (a user is active on a day if they make at least on edit in any namespace)\n",
    "3. number of edit sessions (an edit session is a sequence of edits without a gap of 60 minutes or more)\n",
    "4. indicator of whether the user made at least one edit in any namespace\n",
    "\n",
    "\n",
    "Our measures of harassment received/made over a time span are:\n",
    "1. number of a comments received/made that classifier `clf` scored above `threshold`\n",
    "2. number of a comments received/made that scored above `threshold` for any of our 3 harassment classifers\n",
    "4. indicator of whether the user received/made at least one comment that scored above `threshold` for any of our 3 harassment classifiers\n",
    "\n",
    "\n",
    "We also gather:\n",
    "1. each users gender\n",
    "2. and the number of user warnings the editor received\n",
    "\n",
    "As mentioned above we, gather activity and harassment features for newcomers in timespan t1 and see how they correlate with activity features in timespan t2.\n",
    "\n",
    "In the following analysis, the two time spans we are interested in are the first and second month after user registration."
   ]
  },
  {
   "cell_type": "code",
   "execution_count": 2,
   "metadata": {
    "collapsed": false
   },
   "outputs": [],
   "source": [
    "def select_month_since_start(user,  activity, t):\n",
    "    start = user.first_edit_day + relativedelta(months=(t-1))\n",
    "    stop = user.first_edit_day + relativedelta(months= t)\n",
    "    activity = activity[activity['timestamp'] < stop]\n",
    "    activity = activity[activity['timestamp'] >= start]\n",
    "    return activity\n",
    "\n",
    "def count_edits(user, t):\n",
    "    activity = user.df_activity\n",
    "    if activity is None:\n",
    "        return 0\n",
    "    activity = select_month_since_start(user,  activity, t)\n",
    "    return activity['n_revisions'].sum()\n",
    "\n",
    "def count_ns0_revisions(user, t):\n",
    "    activity = user.df_activity\n",
    "    if activity is None:\n",
    "        return 0\n",
    "    activity = select_month_since_start(user,  activity, t)\n",
    "    activity = activity.query(\"ns=='0'\")\n",
    "    return activity['n_revisions'].sum()\n",
    "\n",
    "\n",
    "def count_days_active(user, t):\n",
    "    activity = user.df_activity\n",
    "    if user.df_activity is None:\n",
    "        return 0\n",
    "    activity = select_month_since_start(user,  activity, t)\n",
    "    return len(activity.timestamp.unique())\n",
    "\n",
    "def count_score_received_above_threshold(user, score, threshold, t):\n",
    "    if user.df_comments_to is None:\n",
    "        return 0\n",
    "    \n",
    "    comments = user.df_comments_to\n",
    "    comments = select_month_since_start(user,  comments, t)\n",
    "    return (comments[score] > threshold).sum()\n",
    "\n",
    "def count_score_made_above_threshold(user, score, threshold, t):\n",
    "    if user.df_comments_from is None:\n",
    "        return 0\n",
    "    \n",
    "    comments = user.df_comments_from\n",
    "    comments = select_month_since_start(user,  comments, t)\n",
    "    return (comments[score] > threshold).sum()\n",
    "\n",
    "def is_female(u):\n",
    "    return int(u.gender == 'female')\n",
    "\n",
    "def is_male(u):\n",
    "    return int(u.gender == 'male')\n",
    "\n",
    "def count_warnings_received(user, t):\n",
    "    warnings = user.df_uw\n",
    "    if warnings is None:\n",
    "        return 0\n",
    "    warnings = select_month_since_start(user, warnings, t)\n",
    "    return len(warnings)\n",
    "\n",
    "def count_fraction_of_ns0_revisions_x(user, x, t):\n",
    "    \n",
    "    if user.df_activity is None:\n",
    "        return 0\n",
    "    \n",
    "    activity = user.df_activity.query(\"ns=='0'\")\n",
    "    activity = select_month_since_start(user,  activity, t)\n",
    "        \n",
    "    if activity['n_revisions'].sum() < 1:\n",
    "        return 0\n",
    "    \n",
    "    return  float(activity[x].sum()) / activity['n_revisions'].sum()\n"
   ]
  },
  {
   "cell_type": "code",
   "execution_count": 3,
   "metadata": {
    "collapsed": false
   },
   "outputs": [],
   "source": [
    "feature_map = {\n",
    "    'first_edit_day' : lambda u: u.first_edit_day,\n",
    "    'm1_num_ns0_edits' : lambda u: count_ns0_revisions(u, 1),\n",
    "    'user_id' : lambda u : u.user_id,\n",
    "    'is_female' : is_female,\n",
    "    'is_male' : is_male,\n",
    "    'has_gender' : lambda u: int(is_female(u) or is_male(u)),\n",
    "    'm1_num_edits' : lambda u: count_edits(u, 1) ,\n",
    "    'm2_num_edits' : lambda u: count_edits(u, 2),\n",
    "    'm1_num_days_active' : lambda u: count_days_active(u, 1),\n",
    "    'm2_num_days_active' : lambda u: count_days_active(u, 2),\n",
    "    'm1_num_warnings_recieved' : lambda u: count_warnings_received(u, 1),\n",
    "    'm1_fraction_ns0_deleted' : lambda u: count_fraction_of_ns0_revisions_x(u, 'n_deleted_revisions', 1) ,\n",
    "    'm1_fraction_ns0_reverted' : lambda u: count_fraction_of_ns0_revisions_x(u, 'n_identity_reverted_revisions', 1) ,\n",
    "    'm1_fraction_ns0_productive' : lambda u:  count_fraction_of_ns0_revisions_x(u, 'n_productive_revisions', 1) ,\n",
    "    'm1_active' : lambda u: int(count_edits(u, 1) > 0),\n",
    "    'm2_active' : lambda u: int(count_edits(u, 2) > 0),\n",
    "\n",
    "}\n",
    "\n",
    "        \n",
    "        \n",
    "feature_map['m1_num_%s_received_%.3f' % ('aggression', 0.01)] = lambda u: count_score_received_above_threshold(u, 'pred_%s_score' % 'aggression',  0.01, 1)\n",
    "feature_map['m1_num_%s_made_%.3f' % ('aggression', 0.01)] = lambda u: count_score_made_above_threshold(u,  'pred_%s_score' % 'aggression',  0.01, 1)\n",
    "feature_map['m1_num_%s_received_%.3f' % ('aggression', 0.425)] = lambda u: count_score_received_above_threshold(u, 'pred_%s_score' % 'aggression',  0.425, 1)\n",
    "feature_map['m1_num_%s_made_%.3f' % ('aggression', 0.425)] = lambda u: count_score_made_above_threshold(u,  'pred_%s_score' % 'aggression',  0.425, 1)\n",
    "feature_map['m1_num_%s_received_%.3f' % ('aggression', 0.75)] = lambda u: count_score_received_above_threshold(u, 'pred_%s_score' % 'aggression',  0.75, 1)\n",
    "feature_map['m1_num_%s_made_%.3f' % ('aggression', 0.75)] = lambda u: count_score_made_above_threshold(u,  'pred_%s_score' % 'aggression',  0.75, 1)\n",
    "feature_map['m1_num_%s_received_%.3f' % ('aggression', 0.85)] = lambda u: count_score_received_above_threshold(u, 'pred_%s_score' % 'aggression',  0.85, 1)\n",
    "feature_map['m1_num_%s_made_%.3f' % ('aggression', 0.85)] = lambda u: count_score_made_above_threshold(u,  'pred_%s_score' % 'aggression',  0.85, 1)\n",
    "\n",
    "\n",
    "feature_map['m1_num_%s_received_%.3f' % ('attack', 0.01)] = lambda u: count_score_received_above_threshold(u, 'pred_%s_score' % 'attack',  0.01, 1)\n",
    "feature_map['m1_num_%s_made_%.3f' % ('attack', 0.01)] = lambda u: count_score_made_above_threshold(u,  'pred_%s_score' % 'attack',  0.01, 1)\n",
    "feature_map['m1_num_%s_received_%.3f' % ('attack', 0.425)] = lambda u: count_score_received_above_threshold(u, 'pred_%s_score' % 'attack',  0.425, 1)\n",
    "feature_map['m1_num_%s_made_%.3f' % ('attack', 0.425)] = lambda u: count_score_made_above_threshold(u,  'pred_%s_score' % 'attack',  0.425, 1)\n",
    "feature_map['m1_num_%s_received_%.3f' % ('attack', 0.75)] = lambda u: count_score_received_above_threshold(u, 'pred_%s_score' % 'attack',  0.75, 1)\n",
    "feature_map['m1_num_%s_made_%.3f' % ('attack', 0.75)] = lambda u: count_score_made_above_threshold(u,  'pred_%s_score' % 'attack',  0.75, 1)\n",
    "feature_map['m1_num_%s_received_%.3f' % ('attack', 0.85)] = lambda u: count_score_received_above_threshold(u, 'pred_%s_score' % 'attack',  0.85, 1)\n",
    "feature_map['m1_num_%s_made_%.3f' % ('attack', 0.85)] = lambda u: count_score_made_above_threshold(u,  'pred_%s_score' % 'attack',  0.85, 1)\n",
    "\n",
    "\n",
    "feature_map['m1_num_%s_received_%.3f' % ('toxicity', 0.01)] = lambda u: count_score_received_above_threshold(u, 'pred_%s_score' % 'toxicity',  0.01, 1)\n",
    "feature_map['m1_num_%s_made_%.3f' % ('toxicity', 0.01)] = lambda u: count_score_made_above_threshold(u,  'pred_%s_score' % 'toxicity',  0.01, 1)\n",
    "feature_map['m1_num_%s_received_%.3f' % ('toxicity', 0.425)] = lambda u: count_score_received_above_threshold(u, 'pred_%s_score' % 'toxicity',  0.425, 1)\n",
    "feature_map['m1_num_%s_made_%.3f' % ('toxicity', 0.425)] = lambda u: count_score_made_above_threshold(u,  'pred_%s_score' % 'toxicity',  0.425, 1)\n",
    "feature_map['m1_num_%s_received_%.3f' % ('toxicity', 0.75)] = lambda u: count_score_received_above_threshold(u, 'pred_%s_score' % 'toxicity',  0.75, 1)\n",
    "feature_map['m1_num_%s_made_%.3f' % ('toxicity', 0.75)] = lambda u: count_score_made_above_threshold(u,  'pred_%s_score' % 'toxicity',  0.75, 1)\n",
    "feature_map['m1_num_%s_received_%.3f' % ('toxicity', 0.85)] = lambda u: count_score_received_above_threshold(u, 'pred_%s_score' % 'toxicity',  0.85, 1)\n",
    "feature_map['m1_num_%s_made_%.3f' % ('toxicity', 0.85)] = lambda u: count_score_made_above_threshold(u,  'pred_%s_score' % 'toxicity',  0.85, 1)"
   ]
  },
  {
   "cell_type": "code",
   "execution_count": 4,
   "metadata": {
    "collapsed": true
   },
   "outputs": [],
   "source": [
    "random_user_objects = pickle.load(open(\"../../data/retention/random_user_data.pkl\", \"rb\"))"
   ]
  },
  {
   "cell_type": "code",
   "execution_count": 5,
   "metadata": {
    "collapsed": false
   },
   "outputs": [
    {
     "name": "stdout",
     "output_type": "stream",
     "text": [
      "(100000, 39)\n",
      "100000\n"
     ]
    }
   ],
   "source": [
    "d = {k : [v(u) for u in random_user_objects] for k,v in feature_map.items()}\n",
    "df_features = pd.DataFrame(d)\n",
    "df_features.index = df_features.user_id\n",
    "del df_features['user_id']\n",
    "print(df_features.shape)\n",
    "df_active = df_features.query('m1_active == 1')\n",
    "print(df_active.shape[0])\n",
    "df_active.to_csv(\"../../data/retention/random_user_sample_features.csv\")"
   ]
  },
  {
   "cell_type": "code",
   "execution_count": 6,
   "metadata": {
    "collapsed": true
   },
   "outputs": [],
   "source": [
    "attacked_user_objects = pickle.load(open(\"../../data/retention/attacked_user_data.pkl\", \"rb\"))"
   ]
  },
  {
   "cell_type": "code",
   "execution_count": 7,
   "metadata": {
    "collapsed": false
   },
   "outputs": [
    {
     "name": "stdout",
     "output_type": "stream",
     "text": [
      "(27690, 39)\n",
      "27690\n"
     ]
    }
   ],
   "source": [
    "d = {k : [v(u) for u in attacked_user_objects] for k,v in feature_map.items()}\n",
    "df_features = pd.DataFrame(d)\n",
    "df_features.index = df_features.user_id\n",
    "del df_features['user_id']\n",
    "print(df_features.shape)\n",
    "df_active = df_features.query('m1_active == 1')\n",
    "print(df_active.shape[0])\n",
    "df_active.to_csv(\"../../data/retention/attacked_user_sample_features.csv\")"
   ]
  }
 ],
 "metadata": {
  "anaconda-cloud": {},
  "kernelspec": {
   "display_name": "Python [default]",
   "language": "python",
   "name": "python3"
  },
  "language_info": {
   "codemirror_mode": {
    "name": "ipython",
    "version": 3
   },
   "file_extension": ".py",
   "mimetype": "text/x-python",
   "name": "python",
   "nbconvert_exporter": "python",
   "pygments_lexer": "ipython3",
   "version": "3.5.1"
  }
 },
 "nbformat": 4,
 "nbformat_minor": 0
}
