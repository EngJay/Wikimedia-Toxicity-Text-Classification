{
 "cells": [
  {
   "cell_type": "markdown",
   "metadata": {},
   "source": [
    "# Harassment and Newcomer Retention (Paper)\n",
    "\n",
    "\n",
    "Regression analysis notebook for study of harassment on newcomer retention in Wikipedia. See [research project page](https://meta.wikimedia.org/wiki/Research:Detox/Harassment_and_User_Retention) for an overview."
   ]
  },
  {
   "cell_type": "code",
   "execution_count": 1,
   "metadata": {
    "collapsed": true
   },
   "outputs": [],
   "source": [
    "% matplotlib inline\n",
    "import pandas as pd\n",
    "from dateutil.relativedelta import relativedelta\n",
    "import statsmodels.formula.api as sm\n",
    "import requests\n",
    "from io import StringIO\n",
    "import math\n",
    "import pandas as pd"
   ]
  },
  {
   "cell_type": "markdown",
   "metadata": {},
   "source": [
    "### Load Data and take sample\n",
    "\n",
    "Pick harassment threshold in [0.01, 0.425, 0.75, 0.85]\n",
    "WARNING: seeing some very threshold sensitive results! High thresholds result in harassment having positive impact on t2 activiy. Construct sample that is concatenation of a random sample and and all users who received harassment in t1."
   ]
  },
  {
   "cell_type": "code",
   "execution_count": 2,
   "metadata": {
    "collapsed": true
   },
   "outputs": [],
   "source": [
    "threshold = 0.425"
   ]
  },
  {
   "cell_type": "code",
   "execution_count": 3,
   "metadata": {
    "collapsed": false
   },
   "outputs": [],
   "source": [
    "#Features computes in ./Harassment and Newcomer Retention Data Munging.ipynb\n",
    "df_random = pd.read_csv(\"../../data/retention/random_user_sample_features.csv\")\n",
    "df_attacked = pd.read_csv(\"../../data/retention/attacked_user_sample_features.csv\")"
   ]
  },
  {
   "cell_type": "code",
   "execution_count": 4,
   "metadata": {
    "collapsed": false
   },
   "outputs": [],
   "source": [
    "# include all harassed newcomer in the sample\n",
    "df_reg = pd.concat([df_random, df_attacked[df_attacked['m1_num_attack_received_%.3f' % threshold] > 0]])\n",
    "df_reg = df_reg.drop_duplicates(subset = ['user_id'])"
   ]
  },
  {
   "cell_type": "code",
   "execution_count": 5,
   "metadata": {
    "collapsed": false
   },
   "outputs": [
    {
     "data": {
      "text/plain": [
       "(105492, 40)"
      ]
     },
     "execution_count": 5,
     "metadata": {},
     "output_type": "execute_result"
    }
   ],
   "source": [
    "df_reg.shape"
   ]
  },
  {
   "cell_type": "code",
   "execution_count": 6,
   "metadata": {
    "collapsed": false
   },
   "outputs": [],
   "source": [
    "df_reg['m1_harassment_received'] = (df_reg['m1_num_attack_received_%.3f' % threshold] > 0).apply(int)\n",
    "df_reg['m1_harassment_made'] = (df_reg['m1_num_attack_made_%.3f' % threshold] > 0).apply(int)"
   ]
  },
  {
   "cell_type": "code",
   "execution_count": 7,
   "metadata": {
    "collapsed": false
   },
   "outputs": [
    {
     "data": {
      "text/plain": [
       "0    99943\n",
       "1     5549\n",
       "Name: m1_harassment_received, dtype: int64"
      ]
     },
     "execution_count": 7,
     "metadata": {},
     "output_type": "execute_result"
    }
   ],
   "source": [
    "df_reg['m1_harassment_received'].value_counts()"
   ]
  },
  {
   "cell_type": "code",
   "execution_count": 8,
   "metadata": {
    "collapsed": false
   },
   "outputs": [
    {
     "data": {
      "text/plain": [
       "(105492, 42)"
      ]
     },
     "execution_count": 8,
     "metadata": {},
     "output_type": "execute_result"
    }
   ],
   "source": [
    "df_reg.shape"
   ]
  },
  {
   "cell_type": "code",
   "execution_count": 9,
   "metadata": {
    "collapsed": false
   },
   "outputs": [],
   "source": [
    "column_map = {\n",
    "        'm1_num_days_active': 'm1_days_active',\n",
    "        'm2_num_days_active' : 'm2_days_active',\n",
    "        'm1_harassment_received': 'm1_received_harassment',\n",
    "        'm1_harassment_made': 'm1_made_harassment',\n",
    "        'm1_fraction_ns0_deleted': 'm1_fraction_ns0_deleted',\n",
    "        'm1_fraction_ns0_reverted': 'm1_fraction_ns0_reverted',\n",
    "        'm1_num_warnings_recieved': 'm1_warnings',\n",
    "        }\n",
    "        \n",
    "df_reg = df_reg.rename(columns=column_map)"
   ]
  },
  {
   "cell_type": "markdown",
   "metadata": {},
   "source": [
    "### Regression Analysis"
   ]
  },
  {
   "cell_type": "code",
   "execution_count": 10,
   "metadata": {
    "collapsed": false
   },
   "outputs": [],
   "source": [
    "def regress(df, f, family = 'linear'):\n",
    "    if family == 'linear':\n",
    "        results = sm.ols(formula=f, data=df).fit()\n",
    "        return results.summary().tables[1]\n",
    "\n",
    "    elif family == 'logistic':\n",
    "        results = sm.logit(formula=f, data=df).fit(disp=0)\n",
    "        return results.summary().tables[1]\n",
    "    else:\n",
    "        return\n",
    "    \n",
    "\n",
    "def get_latex_table(results, famiily = 'linear'):\n",
    "    \"\"\"\n",
    "    Mess of a function for turning a statsmodels SimpleTable\n",
    "    into a nice latex table strinf\n",
    "    \"\"\"\n",
    "    \n",
    "    results = pd.read_csv(StringIO(results.as_csv()))\n",
    "    \n",
    "    if family == 'linear':\n",
    "        column_map = {\n",
    "            results.columns[0]: \"\",\n",
    "            '   coef   ' : 'coef',\n",
    "           'P>|t| ': \"p-val\",\n",
    "            '    t    ': \"z-stat\",\n",
    "           ' [95.0% Conf. Int.]': \"95% CI\"\n",
    "        }\n",
    "\n",
    "    elif family == 'logistic':\n",
    "        column_map = {\n",
    "            results.columns[0]: \"\",\n",
    "            '   coef   ' : 'coef',\n",
    "           'P>|z| ': \"p-val\",\n",
    "            '    z    ': \"z-stat\",\n",
    "           ' [95.0% Conf. Int.]': \"95% CI\"\n",
    "        }\n",
    "    else:\n",
    "        return\n",
    "        \n",
    "        \n",
    "    results = results.rename(columns=column_map)\n",
    "    results.index = results[\"\"]\n",
    "    del results[\"\"]\n",
    "    results = results[['coef', \"z-stat\", \"p-val\", \"95% CI\"]]\n",
    "    results['coef'] = results['coef'].apply(lambda x: round(float(x), 2))\n",
    "    results['z-stat'] = results['z-stat'].apply(lambda x: round(float(x), 1))\n",
    "    results['p-val'] = results['p-val'].apply(lambda x: round(float(x), 3))\n",
    "    results['95% CI'] = results['95% CI'].apply(reformat_ci)\n",
    "    header = \"\"\"\n",
    "\\\\begin{table}[h]\n",
    "\\\\begin{center}\n",
    "    \"\"\"\n",
    "    footer = \"\"\"\n",
    "\\\\end{center}\n",
    "\\\\caption{%s}\n",
    "\\\\label{tab:}\n",
    "\\\\end{table}\n",
    "    \"\"\"\n",
    "    f = f.replace(\"_\", \"\\_\").replace(\"~\", \"\\\\texttildelow\\\\\")\n",
    "    latex = header + results.to_latex() + footer % f\n",
    "    print(latex)\n",
    "    return results\n",
    "        \n",
    "    \n",
    "def reformat_ci(s):\n",
    "    ci = s.strip().split()\n",
    "    ci = (round(float(ci[0]), 1), round(float(ci[1]), 1))\n",
    "    return \"[%.1f, %.1f]\" % ci    "
   ]
  },
  {
   "cell_type": "markdown",
   "metadata": {},
   "source": [
    "#### RQ1: Do newcomers in general show reduced activity after experiencing harassment?"
   ]
  },
  {
   "cell_type": "code",
   "execution_count": 11,
   "metadata": {
    "collapsed": false
   },
   "outputs": [
    {
     "data": {
      "text/html": [
       "<table class=\"simpletable\">\n",
       "<tr>\n",
       "             <td></td>               <th>coef</th>     <th>std err</th>      <th>t</th>      <th>P>|t|</th> <th>[95.0% Conf. Int.]</th> \n",
       "</tr>\n",
       "<tr>\n",
       "  <th>Intercept</th>              <td>    0.2052</td> <td>    0.007</td> <td>   31.109</td> <td> 0.000</td> <td>    0.192     0.218</td>\n",
       "</tr>\n",
       "<tr>\n",
       "  <th>m1_received_harassment</th> <td>    2.8905</td> <td>    0.029</td> <td>  100.519</td> <td> 0.000</td> <td>    2.834     2.947</td>\n",
       "</tr>\n",
       "</table>"
      ],
      "text/plain": [
       "<class 'statsmodels.iolib.table.SimpleTable'>"
      ]
     },
     "execution_count": 11,
     "metadata": {},
     "output_type": "execute_result"
    }
   ],
   "source": [
    "f =\"m2_days_active ~ m1_received_harassment\"\n",
    "regress(df_reg, f)"
   ]
  },
  {
   "cell_type": "code",
   "execution_count": 12,
   "metadata": {
    "collapsed": false
   },
   "outputs": [
    {
     "data": {
      "text/html": [
       "<table class=\"simpletable\">\n",
       "<tr>\n",
       "             <td></td>               <th>coef</th>     <th>std err</th>      <th>t</th>      <th>P>|t|</th> <th>[95.0% Conf. Int.]</th> \n",
       "</tr>\n",
       "<tr>\n",
       "  <th>Intercept</th>              <td>   -0.7172</td> <td>    0.005</td> <td> -131.834</td> <td> 0.000</td> <td>   -0.728    -0.706</td>\n",
       "</tr>\n",
       "<tr>\n",
       "  <th>m1_days_active</th>         <td>    0.5945</td> <td>    0.002</td> <td>  326.691</td> <td> 0.000</td> <td>    0.591     0.598</td>\n",
       "</tr>\n",
       "<tr>\n",
       "  <th>m1_received_harassment</th> <td>   -0.3474</td> <td>    0.023</td> <td>  -15.395</td> <td> 0.000</td> <td>   -0.392    -0.303</td>\n",
       "</tr>\n",
       "</table>"
      ],
      "text/plain": [
       "<class 'statsmodels.iolib.table.SimpleTable'>"
      ]
     },
     "execution_count": 12,
     "metadata": {},
     "output_type": "execute_result"
    }
   ],
   "source": [
    "f= \"m2_days_active ~ m1_days_active + m1_received_harassment\"\n",
    "regress(df_reg, f)"
   ]
  },
  {
   "cell_type": "markdown",
   "metadata": {},
   "source": [
    "The first regression shows that newcomers who are harassed in m1 tend to be more active in m2, indicating that harassment does not have a chilling effect on continued newcomer activity. However, this result is an artifact of the group of harassed newcomers being more active in general. After controlling for the level of activity in m1, we see that when comparing users of comparable activity levels in m1, those who get harassed are significantly less active in m2. "
   ]
  },
  {
   "cell_type": "markdown",
   "metadata": {},
   "source": [
    "#### RQ2: Does a newcomer's gender affect how they behave after experiencing harassment?"
   ]
  },
  {
   "cell_type": "code",
   "execution_count": 13,
   "metadata": {
    "collapsed": false
   },
   "outputs": [
    {
     "data": {
      "text/html": [
       "<table class=\"simpletable\">\n",
       "<tr>\n",
       "      <td></td>         <th>coef</th>     <th>std err</th>      <th>z</th>      <th>P>|z|</th> <th>[95.0% Conf. Int.]</th> \n",
       "</tr>\n",
       "<tr>\n",
       "  <th>Intercept</th> <td>   -1.9697</td> <td>    0.055</td> <td>  -35.684</td> <td> 0.000</td> <td>   -2.078    -1.862</td>\n",
       "</tr>\n",
       "<tr>\n",
       "  <th>is_female</th> <td>    0.3866</td> <td>    0.123</td> <td>    3.146</td> <td> 0.002</td> <td>    0.146     0.627</td>\n",
       "</tr>\n",
       "</table>"
      ],
      "text/plain": [
       "<class 'statsmodels.iolib.table.SimpleTable'>"
      ]
     },
     "execution_count": 13,
     "metadata": {},
     "output_type": "execute_result"
    }
   ],
   "source": [
    "f=\"m1_received_harassment ~ is_female\"\n",
    "regress(df_reg.query(\"has_gender == 1\"), f, family = 'logistic')"
   ]
  },
  {
   "cell_type": "code",
   "execution_count": 14,
   "metadata": {
    "collapsed": false
   },
   "outputs": [
    {
     "data": {
      "text/html": [
       "<table class=\"simpletable\">\n",
       "<tr>\n",
       "                  <td></td>                    <th>coef</th>     <th>std err</th>      <th>t</th>      <th>P>|t|</th> <th>[95.0% Conf. Int.]</th> \n",
       "</tr>\n",
       "<tr>\n",
       "  <th>Intercept</th>                        <td>   -0.9389</td> <td>    0.060</td> <td>  -15.626</td> <td> 0.000</td> <td>   -1.057    -0.821</td>\n",
       "</tr>\n",
       "<tr>\n",
       "  <th>m1_days_active</th>                   <td>    0.7568</td> <td>    0.011</td> <td>   66.062</td> <td> 0.000</td> <td>    0.734     0.779</td>\n",
       "</tr>\n",
       "<tr>\n",
       "  <th>m1_received_harassment</th>           <td>   -0.8463</td> <td>    0.218</td> <td>   -3.888</td> <td> 0.000</td> <td>   -1.273    -0.420</td>\n",
       "</tr>\n",
       "<tr>\n",
       "  <th>m1_received_harassment:is_female</th> <td>   -0.7046</td> <td>    0.351</td> <td>   -2.007</td> <td> 0.045</td> <td>   -1.393    -0.016</td>\n",
       "</tr>\n",
       "</table>"
      ],
      "text/plain": [
       "<class 'statsmodels.iolib.table.SimpleTable'>"
      ]
     },
     "execution_count": 14,
     "metadata": {},
     "output_type": "execute_result"
    }
   ],
   "source": [
    "f=\"m2_days_active ~ m1_days_active + m1_received_harassment + m1_received_harassment : is_female\"\n",
    "regress(df_reg.query(\"has_gender == 1\"), f)"
   ]
  },
  {
   "cell_type": "markdown",
   "metadata": {},
   "source": [
    "For our gender analysis, we reduce our sample to the set of users who reported a gender. First off, we observe that newcomers who end up reporting a female gender are more likely to receive harassment in m1. To investigate whether the impact of receiving harassment differs across genders, we ran the same regression as in RQ1, but restricted our analysis to users who supplied a gender and added a interaction term between gender and our measure of harassment in m1. We find that when restricting to users who supplied a gender, we again see that users who received harassment have reduced activity in m2. Inspecting the regression results for the interaction term between harassment and gender indicates that the impact is not significantly different for males and females."
   ]
  },
  {
   "cell_type": "markdown",
   "metadata": {},
   "source": [
    "#### RQ3: How do good faith newcomers behave after experiencing harassment?"
   ]
  },
  {
   "cell_type": "code",
   "execution_count": 15,
   "metadata": {
    "collapsed": false
   },
   "outputs": [
    {
     "data": {
      "text/html": [
       "<table class=\"simpletable\">\n",
       "<tr>\n",
       "                      <td></td>                         <th>coef</th>     <th>std err</th>      <th>t</th>      <th>P>|t|</th> <th>[95.0% Conf. Int.]</th> \n",
       "</tr>\n",
       "<tr>\n",
       "  <th>Intercept</th>                                 <td>   -0.7153</td> <td>    0.005</td> <td> -131.042</td> <td> 0.000</td> <td>   -0.726    -0.705</td>\n",
       "</tr>\n",
       "<tr>\n",
       "  <th>m1_days_active</th>                            <td>    0.5933</td> <td>    0.002</td> <td>  321.065</td> <td> 0.000</td> <td>    0.590     0.597</td>\n",
       "</tr>\n",
       "<tr>\n",
       "  <th>m1_received_harassment</th>                    <td>   -0.2668</td> <td>    0.025</td> <td>  -10.839</td> <td> 0.000</td> <td>   -0.315    -0.219</td>\n",
       "</tr>\n",
       "<tr>\n",
       "  <th>m1_received_harassment:m1_made_harassment</th> <td>    0.2411</td> <td>    0.056</td> <td>    4.294</td> <td> 0.000</td> <td>    0.131     0.351</td>\n",
       "</tr>\n",
       "<tr>\n",
       "  <th>m1_received_harassment:m1_warnings</th>        <td>   -0.1599</td> <td>    0.011</td> <td>  -13.997</td> <td> 0.000</td> <td>   -0.182    -0.138</td>\n",
       "</tr>\n",
       "</table>"
      ],
      "text/plain": [
       "<class 'statsmodels.iolib.table.SimpleTable'>"
      ]
     },
     "execution_count": 15,
     "metadata": {},
     "output_type": "execute_result"
    }
   ],
   "source": [
    "f=\"m2_days_active ~ m1_days_active + m1_received_harassment +  m1_received_harassment : m1_made_harassment + m1_received_harassment : m1_warnings\"\n",
    "regress(df_reg, f)"
   ]
  },
  {
   "cell_type": "markdown",
   "metadata": {},
   "source": [
    "A serious potential confound in our analyses could be that the users who receive harassment are just bad faith newcomers or sock-puppets. They get attacked for their misbehavior and reduce their activity in m2 because they get blocked or because they never intended to stick around past their own attacks. To reduce this confound, we control for whether the user harassed anyone in m1 and for whether they received an user warning of any type. The results show that even users who receive harassment but did not harass anyone or receive a user warning show reduced activity in m2."
   ]
  },
  {
   "cell_type": "markdown",
   "metadata": {},
   "source": [
    "#### RQ4: How does experiencing harassment compare to previously studied barriers to newcomer socialization?\n",
    "\n",
    "[Halfak et al](https://www-users.cs.umn.edu/~halfak/publications/The_Rise_and_Decline/halfaker13rise-preprint.pdf) examine how user warnings and deletions and reverts correlate with newcomer retention. Here we add those features and see how they compare to measure of harassment."
   ]
  },
  {
   "cell_type": "code",
   "execution_count": 16,
   "metadata": {
    "collapsed": false
   },
   "outputs": [
    {
     "data": {
      "text/html": [
       "<table class=\"simpletable\">\n",
       "<tr>\n",
       "              <td></td>                <th>coef</th>     <th>std err</th>      <th>t</th>      <th>P>|t|</th> <th>[95.0% Conf. Int.]</th> \n",
       "</tr>\n",
       "<tr>\n",
       "  <th>Intercept</th>                <td>   -0.7493</td> <td>    0.009</td> <td>  -80.887</td> <td> 0.000</td> <td>   -0.767    -0.731</td>\n",
       "</tr>\n",
       "<tr>\n",
       "  <th>m1_days_active</th>           <td>    0.5965</td> <td>    0.002</td> <td>  300.840</td> <td> 0.000</td> <td>    0.593     0.600</td>\n",
       "</tr>\n",
       "<tr>\n",
       "  <th>m1_fraction_ns0_deleted</th>  <td>   -0.0926</td> <td>    0.036</td> <td>   -2.543</td> <td> 0.011</td> <td>   -0.164    -0.021</td>\n",
       "</tr>\n",
       "<tr>\n",
       "  <th>m1_fraction_ns0_reverted</th> <td>   -0.0579</td> <td>    0.015</td> <td>   -3.832</td> <td> 0.000</td> <td>   -0.088    -0.028</td>\n",
       "</tr>\n",
       "</table>"
      ],
      "text/plain": [
       "<class 'statsmodels.iolib.table.SimpleTable'>"
      ]
     },
     "execution_count": 16,
     "metadata": {},
     "output_type": "execute_result"
    }
   ],
   "source": [
    "f = \"m2_days_active ~ m1_days_active +  m1_fraction_ns0_deleted + m1_fraction_ns0_reverted \"\n",
    "regress(df_reg.query(\"m1_num_ns0_edits > 0\"), f)"
   ]
  },
  {
   "cell_type": "code",
   "execution_count": 17,
   "metadata": {
    "collapsed": false
   },
   "outputs": [
    {
     "data": {
      "text/html": [
       "<table class=\"simpletable\">\n",
       "<tr>\n",
       "              <td></td>                <th>coef</th>     <th>std err</th>      <th>t</th>      <th>P>|t|</th> <th>[95.0% Conf. Int.]</th> \n",
       "</tr>\n",
       "<tr>\n",
       "  <th>Intercept</th>                <td>   -0.7628</td> <td>    0.009</td> <td>  -81.987</td> <td> 0.000</td> <td>   -0.781    -0.745</td>\n",
       "</tr>\n",
       "<tr>\n",
       "  <th>m1_days_active</th>           <td>    0.6130</td> <td>    0.002</td> <td>  269.827</td> <td> 0.000</td> <td>    0.609     0.617</td>\n",
       "</tr>\n",
       "<tr>\n",
       "  <th>m1_received_harassment</th>   <td>   -0.3963</td> <td>    0.031</td> <td>  -12.589</td> <td> 0.000</td> <td>   -0.458    -0.335</td>\n",
       "</tr>\n",
       "<tr>\n",
       "  <th>m1_warnings</th>              <td>   -0.0872</td> <td>    0.007</td> <td>  -12.498</td> <td> 0.000</td> <td>   -0.101    -0.073</td>\n",
       "</tr>\n",
       "<tr>\n",
       "  <th>m1_fraction_ns0_deleted</th>  <td>   -0.0807</td> <td>    0.036</td> <td>   -2.223</td> <td> 0.026</td> <td>   -0.152    -0.010</td>\n",
       "</tr>\n",
       "<tr>\n",
       "  <th>m1_fraction_ns0_reverted</th> <td>    0.0340</td> <td>    0.016</td> <td>    2.111</td> <td> 0.035</td> <td>    0.002     0.066</td>\n",
       "</tr>\n",
       "</table>"
      ],
      "text/plain": [
       "<class 'statsmodels.iolib.table.SimpleTable'>"
      ]
     },
     "execution_count": 17,
     "metadata": {},
     "output_type": "execute_result"
    }
   ],
   "source": [
    "f = \"m2_days_active ~ m1_days_active + m1_received_harassment + m1_warnings +  m1_fraction_ns0_deleted + m1_fraction_ns0_reverted \"\n",
    "regress(df_reg.query(\"m1_num_ns0_edits > 0\"), f)"
   ]
  },
  {
   "cell_type": "markdown",
   "metadata": {},
   "source": [
    "WIP: Receiving harassment is worse for a newcomer than receiving 11 warning messages or having all their first months work deleted or reverted."
   ]
  }
 ],
 "metadata": {
  "anaconda-cloud": {},
  "kernelspec": {
   "display_name": "Python [default]",
   "language": "python",
   "name": "python3"
  },
  "language_info": {
   "codemirror_mode": {
    "name": "ipython",
    "version": 3
   },
   "file_extension": ".py",
   "mimetype": "text/x-python",
   "name": "python",
   "nbconvert_exporter": "python",
   "pygments_lexer": "ipython3",
   "version": "3.5.1"
  }
 },
 "nbformat": 4,
 "nbformat_minor": 0
}
