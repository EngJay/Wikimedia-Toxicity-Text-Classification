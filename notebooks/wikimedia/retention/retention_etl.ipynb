{
 "cells": [
  {
   "cell_type": "code",
   "execution_count": 1,
   "metadata": {
    "collapsed": false
   },
   "outputs": [],
   "source": [
    "%load_ext autoreload\n",
    "%autoreload 2\n",
    "%matplotlib inline\n",
    "import warnings\n",
    "warnings.filterwarnings('ignore')\n",
    "import pandas as pd\n",
    "from db_utils import query_hive_ssh\n",
    "import re\n",
    "import copy\n",
    "import time\n",
    "import numpy as np\n",
    "import os\n"
   ]
  },
  {
   "cell_type": "code",
   "execution_count": 5,
   "metadata": {
    "collapsed": false
   },
   "outputs": [],
   "source": [
    "def transfer_table(params, dry = False):\n",
    "    hdfs_path = '/user/hive/warehouse/%(db)s.db/%(table)s' % params\n",
    "    stat2_path = '/home/ellery/detox/data/retention/%(name)s' % params\n",
    "    local_path = '/Users/ellerywulczyn/detox/data/retention/%(name)s/' % params\n",
    "    \n",
    "\n",
    "    if not dry:\n",
    "        # transfer from HDFS to stat2\n",
    "        cmd = \"ssh stat1002.eqiad.wmnet 'rm -rf %s'\" % stat2_path\n",
    "        print(os.system(cmd))\n",
    "        cmd = \"ssh stat1002.eqiad.wmnet 'hadoop fs -copyToLocal %s %s '\" % (hdfs_path, stat2_path)\n",
    "        print(os.system(cmd))\n",
    "        #transfer from stat2 to local\n",
    "        cmd = 'rm -rf %s' % local_path\n",
    "        print(os.system(cmd))\n",
    "        cmd = 'rsync -avz  stat1002.eqiad.wmnet:%s/* %s' % (stat2_path, local_path)\n",
    "        os.system(cmd)\n",
    "        \n",
    "        \n",
    "    dfs = []\n",
    "\n",
    "    for filename in os.listdir(local_path):\n",
    "        try:\n",
    "            dfs.append(pd.read_csv(os.path.join(local_path,filename), sep = '\\t', header = None))\n",
    "        except:\n",
    "            print(\"Error reading: \", os.path.join(local_path,filename))\n",
    "\n",
    "    df = pd.concat(dfs)\n",
    "    df.columns = params['columns']\n",
    "\n",
    "    df.to_csv(local_path[:-1] + '.tsv', sep ='\\t', index = False)"
   ]
  },
  {
   "cell_type": "code",
   "execution_count": 6,
   "metadata": {
    "collapsed": false
   },
   "outputs": [],
   "source": [
    "params = {\n",
    "        'db': 'enwiki',\n",
    "        'table':'daily_revision_counts',\n",
    "        'name': 'daily_revision_counts',\n",
    "        'columns': ['user_id','day','ns', 'n_revisions', 'n_deleted_revisions', 'n_identity_reverted_revisions', 'n_productive_revisions']\n",
    "    }\n",
    "transfer_table(params, dry = True)"
   ]
  },
  {
   "cell_type": "code",
   "execution_count": 7,
   "metadata": {
    "collapsed": false
   },
   "outputs": [
    {
     "name": "stdout",
     "output_type": "stream",
     "text": [
      "0\n",
      "0\n",
      "0\n"
     ]
    }
   ],
   "source": [
    "params = {\n",
    "        'db': 'enwiki',\n",
    "        'table':'user_first_edit',\n",
    "        'name': 'user_start',\n",
    "        'columns': ['user_id', 'first_edit_day']\n",
    "    }\n",
    "transfer_table(params, dry = False)"
   ]
  },
  {
   "cell_type": "code",
   "execution_count": 10,
   "metadata": {
    "collapsed": false
   },
   "outputs": [
    {
     "name": "stdout",
     "output_type": "stream",
     "text": [
      "0\n",
      "0\n",
      "0\n",
      "Error reading:  /Users/ellerywulczyn/detox/data/retention/user_id_to_names/000131_0\n",
      "Error reading:  /Users/ellerywulczyn/detox/data/retention/user_id_to_names/000900_0\n"
     ]
    }
   ],
   "source": [
    "params = {\n",
    "        'db': 'enwiki',\n",
    "        'table':'user_id_to_names',\n",
    "        'name': 'user_id_to_names',\n",
    "        'columns': ['user_id', 'user_text']\n",
    "    }\n",
    "transfer_table(params, dry = False)"
   ]
  },
  {
   "cell_type": "code",
   "execution_count": null,
   "metadata": {
    "collapsed": false
   },
   "outputs": [],
   "source": [
    "params = {\n",
    "        'db': 'enwiki',\n",
    "        'table':'user_warnings',\n",
    "        'name': 'user_warnings',\n",
    "        'columns': [\n",
    "                    'rev_id',\n",
    "                    'page_id',\n",
    "                    'page_title',\n",
    "                    'rev_timestamp',\n",
    "                    'user_id',\n",
    "                    'user_text',\n",
    "                    'bot',\n",
    "                    'admin',\n",
    "                    'ns',\n",
    "                    'year',\n",
    "                    'type',\n",
    "                    'level',\n",
    "                    ]\n",
    "    }\n",
    "transfer_table(params, dry = False)"
   ]
  }
 ],
 "metadata": {
  "anaconda-cloud": {},
  "kernelspec": {
   "display_name": "Python [default]",
   "language": "python",
   "name": "python3"
  },
  "language_info": {
   "codemirror_mode": {
    "name": "ipython",
    "version": 3
   },
   "file_extension": ".py",
   "mimetype": "text/x-python",
   "name": "python",
   "nbconvert_exporter": "python",
   "pygments_lexer": "ipython3",
   "version": "3.5.1"
  }
 },
 "nbformat": 4,
 "nbformat_minor": 0
}
