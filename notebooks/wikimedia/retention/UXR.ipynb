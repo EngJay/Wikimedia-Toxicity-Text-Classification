{
 "cells": [
  {
   "cell_type": "code",
   "execution_count": 1,
   "metadata": {
    "collapsed": true
   },
   "outputs": [],
   "source": [
    "import pickle\n",
    "import pandas as pd\n",
    "from user_object import User"
   ]
  },
  {
   "cell_type": "code",
   "execution_count": 2,
   "metadata": {
    "collapsed": false
   },
   "outputs": [],
   "source": [
    "user_objects = pickle.load( open(\"../../data/retention/newcomer_sample_pickle.pkl\", \"rb\"))\n",
    "user_objects = {u.user_text:u for u in user_objects}"
   ]
  },
  {
   "cell_type": "code",
   "execution_count": 3,
   "metadata": {
    "collapsed": true
   },
   "outputs": [],
   "source": [
    "cols = ['user_text', 'registration_day', 't1_harassment_received', 't1_harassment_made', 't1_num_days_active', 't2_num_days_active']\n",
    "df_reg = pd.read_csv(\"../../data/retention/newcomer_sample_features.csv\")[cols]"
   ]
  },
  {
   "cell_type": "code",
   "execution_count": 4,
   "metadata": {
    "collapsed": false
   },
   "outputs": [],
   "source": [
    "df_blocked = pd.read_csv(\"../../data/misc/blocked_user.tsv\", sep = \"\\t\")\n",
    "df_blocked.columns = [c.split(\".\")[1] for c in df_blocked.columns]\n",
    "df_blocked = df_blocked.drop_duplicates('user_text')"
   ]
  },
  {
   "cell_type": "code",
   "execution_count": 5,
   "metadata": {
    "collapsed": false
   },
   "outputs": [],
   "source": [
    "df_reg.index = df_reg.user_text\n",
    "df_blocked.index = df_blocked.user_text"
   ]
  },
  {
   "cell_type": "code",
   "execution_count": 6,
   "metadata": {
    "collapsed": false
   },
   "outputs": [],
   "source": [
    "df_reg['blocked_timestamps'] = df_blocked['timestamps'].apply(lambda x: x.replace(\"PIPE\", \"  |  \"))\n",
    "df_blocked['blocked'] = 1\n",
    "df_reg['blocked'] = df_blocked['blocked']\n",
    "df_reg['blocked'] = df_reg['blocked'].fillna(0)"
   ]
  },
  {
   "cell_type": "code",
   "execution_count": 10,
   "metadata": {
    "collapsed": true
   },
   "outputs": [],
   "source": [
    "from dateutil.relativedelta import relativedelta\n",
    "\n",
    "def select_month_since_registration(user,  activity, t):\n",
    "    start = user.registration_day + relativedelta(months=(t-1))\n",
    "    stop = user.registration_day + relativedelta(months= t)\n",
    "    activity = activity[activity['timestamp'] < stop]\n",
    "    activity = activity[activity['timestamp'] >= start]\n",
    "    return activity\n",
    "\n",
    "def comments_received_above_threshold(user, score, threshold, t):\n",
    "    if user.df_comments_received is None:\n",
    "        return None\n",
    "    \n",
    "    comments = user.df_comments_received\n",
    "    comments['timestamp'] = pd.to_datetime(comments['timestamp'])\n",
    "\n",
    "    comments = select_month_since_registration(user,  comments, t)\n",
    "    comments = comments.query(\"%s > %f\" % (score, threshold))\n",
    "    \n",
    "    if comments.shape[0] < 1:\n",
    "        return None\n",
    "    \n",
    "    s = \"From User:\" + comments['user_text'].apply(str) + \" at \" + comments['timestamp'].apply(str) + \" with score \" + comments[score].apply(lambda x: \"%.2f\" % x)\n",
    "    return \"  |  \".join(s)\n",
    "    \n",
    "\n",
    "def comments_made_above_threshold(user, score, threshold, t):\n",
    "    if user.df_comments_made is None:\n",
    "        return None\n",
    "    \n",
    "    comments = user.df_comments_made\n",
    "    comments['timestamp'] = pd.to_datetime(comments['timestamp'])\n",
    "\n",
    "    comments = select_month_since_registration(user,  comments, t)\n",
    "    comments = comments.query(\"%s > %f\" % (score, threshold))\n",
    "    \n",
    "    if comments.shape[0] < 1:\n",
    "        return None\n",
    "\n",
    "    s = \"To User:\" + comments['page_title'].apply(str) + \" at \" + comments['timestamp'].apply(str) + \" with score \" + comments[score].apply(lambda x: \"%.2f\" % x)\n",
    "    return \"  |  \".join(s)"
   ]
  },
  {
   "cell_type": "code",
   "execution_count": 11,
   "metadata": {
    "collapsed": false
   },
   "outputs": [],
   "source": [
    "threshold = 0.425\n",
    "models = ['attack', 'aggression', 'toxicity']\n",
    "t = 1\n",
    "\n",
    "for model in models:\n",
    "    score = 'pred_%s_score' % model\n",
    "    col = \"%s_comments_made\" % model\n",
    "    df_reg[col] = pd.Series({str(k) : comments_made_above_threshold(v, score, threshold, t) for k, v in user_objects.items()})\n",
    "    col = \"%s_comments_received\" % model\n",
    "    df_reg[col] = pd.Series({str(k) : comments_received_above_threshold(v, score, threshold, t) for k, v in user_objects.items()})\n"
   ]
  },
  {
   "cell_type": "code",
   "execution_count": 12,
   "metadata": {
    "collapsed": false
   },
   "outputs": [
    {
     "data": {
      "text/html": [
       "<div>\n",
       "<table border=\"1\" class=\"dataframe\">\n",
       "  <thead>\n",
       "    <tr style=\"text-align: right;\">\n",
       "      <th></th>\n",
       "      <th>user_text</th>\n",
       "      <th>registration_day</th>\n",
       "      <th>t1_harassment_received</th>\n",
       "      <th>t1_harassment_made</th>\n",
       "      <th>t1_num_days_active</th>\n",
       "      <th>t2_num_days_active</th>\n",
       "      <th>blocked_timestamps</th>\n",
       "      <th>blocked</th>\n",
       "      <th>attack_comments_made</th>\n",
       "      <th>attack_comments_received</th>\n",
       "      <th>aggression_comments_made</th>\n",
       "      <th>aggression_comments_received</th>\n",
       "      <th>toxicity_comments_made</th>\n",
       "      <th>toxicity_comments_received</th>\n",
       "    </tr>\n",
       "    <tr>\n",
       "      <th>user_text</th>\n",
       "      <th></th>\n",
       "      <th></th>\n",
       "      <th></th>\n",
       "      <th></th>\n",
       "      <th></th>\n",
       "      <th></th>\n",
       "      <th></th>\n",
       "      <th></th>\n",
       "      <th></th>\n",
       "      <th></th>\n",
       "      <th></th>\n",
       "      <th></th>\n",
       "      <th></th>\n",
       "      <th></th>\n",
       "    </tr>\n",
       "  </thead>\n",
       "  <tbody>\n",
       "    <tr>\n",
       "      <th>Chrisclements521</th>\n",
       "      <td>Chrisclements521</td>\n",
       "      <td>2010-10-01</td>\n",
       "      <td>0</td>\n",
       "      <td>0</td>\n",
       "      <td>1</td>\n",
       "      <td>0</td>\n",
       "      <td>NaN</td>\n",
       "      <td>0.0</td>\n",
       "      <td>None</td>\n",
       "      <td>None</td>\n",
       "      <td>None</td>\n",
       "      <td>None</td>\n",
       "      <td>None</td>\n",
       "      <td>None</td>\n",
       "    </tr>\n",
       "    <tr>\n",
       "      <th>Callyloo</th>\n",
       "      <td>Callyloo</td>\n",
       "      <td>2007-11-21</td>\n",
       "      <td>0</td>\n",
       "      <td>0</td>\n",
       "      <td>1</td>\n",
       "      <td>0</td>\n",
       "      <td>NaN</td>\n",
       "      <td>0.0</td>\n",
       "      <td>None</td>\n",
       "      <td>None</td>\n",
       "      <td>None</td>\n",
       "      <td>None</td>\n",
       "      <td>None</td>\n",
       "      <td>None</td>\n",
       "    </tr>\n",
       "    <tr>\n",
       "      <th>Eagleswar262</th>\n",
       "      <td>Eagleswar262</td>\n",
       "      <td>2009-08-04</td>\n",
       "      <td>0</td>\n",
       "      <td>0</td>\n",
       "      <td>1</td>\n",
       "      <td>0</td>\n",
       "      <td>NaN</td>\n",
       "      <td>0.0</td>\n",
       "      <td>None</td>\n",
       "      <td>None</td>\n",
       "      <td>None</td>\n",
       "      <td>None</td>\n",
       "      <td>None</td>\n",
       "      <td>None</td>\n",
       "    </tr>\n",
       "    <tr>\n",
       "      <th>ILY=)L0Li</th>\n",
       "      <td>ILY=)L0Li</td>\n",
       "      <td>2010-04-21</td>\n",
       "      <td>0</td>\n",
       "      <td>0</td>\n",
       "      <td>1</td>\n",
       "      <td>0</td>\n",
       "      <td>NaN</td>\n",
       "      <td>0.0</td>\n",
       "      <td>None</td>\n",
       "      <td>None</td>\n",
       "      <td>None</td>\n",
       "      <td>None</td>\n",
       "      <td>None</td>\n",
       "      <td>None</td>\n",
       "    </tr>\n",
       "    <tr>\n",
       "      <th>Dirtyharry847</th>\n",
       "      <td>Dirtyharry847</td>\n",
       "      <td>2006-05-02</td>\n",
       "      <td>0</td>\n",
       "      <td>0</td>\n",
       "      <td>1</td>\n",
       "      <td>0</td>\n",
       "      <td>NaN</td>\n",
       "      <td>0.0</td>\n",
       "      <td>None</td>\n",
       "      <td>None</td>\n",
       "      <td>None</td>\n",
       "      <td>None</td>\n",
       "      <td>None</td>\n",
       "      <td>None</td>\n",
       "    </tr>\n",
       "  </tbody>\n",
       "</table>\n",
       "</div>"
      ],
      "text/plain": [
       "                         user_text registration_day  t1_harassment_received  \\\n",
       "user_text                                                                     \n",
       "Chrisclements521  Chrisclements521       2010-10-01                       0   \n",
       "Callyloo                  Callyloo       2007-11-21                       0   \n",
       "Eagleswar262          Eagleswar262       2009-08-04                       0   \n",
       "ILY=)L0Li                ILY=)L0Li       2010-04-21                       0   \n",
       "Dirtyharry847        Dirtyharry847       2006-05-02                       0   \n",
       "\n",
       "                  t1_harassment_made  t1_num_days_active  t2_num_days_active  \\\n",
       "user_text                                                                      \n",
       "Chrisclements521                   0                   1                   0   \n",
       "Callyloo                           0                   1                   0   \n",
       "Eagleswar262                       0                   1                   0   \n",
       "ILY=)L0Li                          0                   1                   0   \n",
       "Dirtyharry847                      0                   1                   0   \n",
       "\n",
       "                 blocked_timestamps  blocked attack_comments_made  \\\n",
       "user_text                                                           \n",
       "Chrisclements521                NaN      0.0                 None   \n",
       "Callyloo                        NaN      0.0                 None   \n",
       "Eagleswar262                    NaN      0.0                 None   \n",
       "ILY=)L0Li                       NaN      0.0                 None   \n",
       "Dirtyharry847                   NaN      0.0                 None   \n",
       "\n",
       "                 attack_comments_received aggression_comments_made  \\\n",
       "user_text                                                            \n",
       "Chrisclements521                     None                     None   \n",
       "Callyloo                             None                     None   \n",
       "Eagleswar262                         None                     None   \n",
       "ILY=)L0Li                            None                     None   \n",
       "Dirtyharry847                        None                     None   \n",
       "\n",
       "                 aggression_comments_received toxicity_comments_made  \\\n",
       "user_text                                                              \n",
       "Chrisclements521                         None                   None   \n",
       "Callyloo                                 None                   None   \n",
       "Eagleswar262                             None                   None   \n",
       "ILY=)L0Li                                None                   None   \n",
       "Dirtyharry847                            None                   None   \n",
       "\n",
       "                 toxicity_comments_received  \n",
       "user_text                                    \n",
       "Chrisclements521                       None  \n",
       "Callyloo                               None  \n",
       "Eagleswar262                           None  \n",
       "ILY=)L0Li                              None  \n",
       "Dirtyharry847                          None  "
      ]
     },
     "execution_count": 12,
     "metadata": {},
     "output_type": "execute_result"
    }
   ],
   "source": [
    "df_reg.head()"
   ]
  },
  {
   "cell_type": "code",
   "execution_count": 14,
   "metadata": {
    "collapsed": false
   },
   "outputs": [
    {
     "data": {
      "text/html": [
       "<div>\n",
       "<table border=\"1\" class=\"dataframe\">\n",
       "  <thead>\n",
       "    <tr style=\"text-align: right;\">\n",
       "      <th></th>\n",
       "      <th>user_text</th>\n",
       "      <th>registration_day</th>\n",
       "      <th>t1_harassment_received</th>\n",
       "      <th>t1_harassment_made</th>\n",
       "      <th>t1_num_days_active</th>\n",
       "      <th>t2_num_days_active</th>\n",
       "      <th>blocked_timestamps</th>\n",
       "      <th>blocked</th>\n",
       "      <th>attack_comments_made</th>\n",
       "      <th>attack_comments_received</th>\n",
       "      <th>aggression_comments_made</th>\n",
       "      <th>aggression_comments_received</th>\n",
       "      <th>toxicity_comments_made</th>\n",
       "      <th>toxicity_comments_received</th>\n",
       "    </tr>\n",
       "    <tr>\n",
       "      <th>user_text</th>\n",
       "      <th></th>\n",
       "      <th></th>\n",
       "      <th></th>\n",
       "      <th></th>\n",
       "      <th></th>\n",
       "      <th></th>\n",
       "      <th></th>\n",
       "      <th></th>\n",
       "      <th></th>\n",
       "      <th></th>\n",
       "      <th></th>\n",
       "      <th></th>\n",
       "      <th></th>\n",
       "      <th></th>\n",
       "    </tr>\n",
       "  </thead>\n",
       "  <tbody>\n",
       "    <tr>\n",
       "      <th>Dunno74</th>\n",
       "      <td>Dunno74</td>\n",
       "      <td>2007-06-11</td>\n",
       "      <td>1</td>\n",
       "      <td>0</td>\n",
       "      <td>1</td>\n",
       "      <td>0</td>\n",
       "      <td>NaN</td>\n",
       "      <td>0.0</td>\n",
       "      <td>None</td>\n",
       "      <td>From User:Shawnlandden at 2007-06-18 08:49:14 ...</td>\n",
       "      <td>None</td>\n",
       "      <td>From User:Shawnlandden at 2007-06-18 08:49:14 ...</td>\n",
       "      <td>None</td>\n",
       "      <td>From User:Shawnlandden at 2007-06-18 08:49:14 ...</td>\n",
       "    </tr>\n",
       "    <tr>\n",
       "      <th>StudiesWorld</th>\n",
       "      <td>StudiesWorld</td>\n",
       "      <td>2013-12-17</td>\n",
       "      <td>1</td>\n",
       "      <td>0</td>\n",
       "      <td>26</td>\n",
       "      <td>8</td>\n",
       "      <td>NaN</td>\n",
       "      <td>0.0</td>\n",
       "      <td>None</td>\n",
       "      <td>From User:Missionedit at 2014-01-02 22:20:11 w...</td>\n",
       "      <td>None</td>\n",
       "      <td>From User:Missionedit at 2014-01-02 22:20:11 w...</td>\n",
       "      <td>None</td>\n",
       "      <td>None</td>\n",
       "    </tr>\n",
       "    <tr>\n",
       "      <th>Catieinsightdesigns</th>\n",
       "      <td>Catieinsightdesigns</td>\n",
       "      <td>2015-11-16</td>\n",
       "      <td>1</td>\n",
       "      <td>1</td>\n",
       "      <td>14</td>\n",
       "      <td>0</td>\n",
       "      <td>NaN</td>\n",
       "      <td>0.0</td>\n",
       "      <td>None</td>\n",
       "      <td>From User:Missionedit at 2015-12-10 18:52:32 w...</td>\n",
       "      <td>None</td>\n",
       "      <td>From User:Missionedit at 2015-12-10 18:52:32 w...</td>\n",
       "      <td>To User:Velella at 2015-12-08 16:41:28 with sc...</td>\n",
       "      <td>None</td>\n",
       "    </tr>\n",
       "    <tr>\n",
       "      <th>Kagemaru2022</th>\n",
       "      <td>Kagemaru2022</td>\n",
       "      <td>2015-01-21</td>\n",
       "      <td>1</td>\n",
       "      <td>0</td>\n",
       "      <td>12</td>\n",
       "      <td>0</td>\n",
       "      <td>NaN</td>\n",
       "      <td>0.0</td>\n",
       "      <td>None</td>\n",
       "      <td>From User:ChamithN at 2015-01-23 18:18:29 with...</td>\n",
       "      <td>None</td>\n",
       "      <td>From User:ChamithN at 2015-01-23 18:18:29 with...</td>\n",
       "      <td>None</td>\n",
       "      <td>None</td>\n",
       "    </tr>\n",
       "    <tr>\n",
       "      <th>Cluelesswonder</th>\n",
       "      <td>Cluelesswonder</td>\n",
       "      <td>2014-01-13</td>\n",
       "      <td>1</td>\n",
       "      <td>1</td>\n",
       "      <td>1</td>\n",
       "      <td>0</td>\n",
       "      <td>2014-01-13T18:32:12Z  |  2014-01-13T19:04:58Z</td>\n",
       "      <td>1.0</td>\n",
       "      <td>To User:Cluelesswonder at 2014-01-13 19:31:17 ...</td>\n",
       "      <td>From User:Zad68 at 2014-01-13 19:39:28 with sc...</td>\n",
       "      <td>To User:Cluelesswonder at 2014-01-13 19:31:17 ...</td>\n",
       "      <td>From User:Zad68 at 2014-01-13 19:39:28 with sc...</td>\n",
       "      <td>To User:Cluelesswonder at 2014-01-13 19:31:17 ...</td>\n",
       "      <td>From User:Zad68 at 2014-01-13 19:39:28 with sc...</td>\n",
       "    </tr>\n",
       "  </tbody>\n",
       "</table>\n",
       "</div>"
      ],
      "text/plain": [
       "                               user_text registration_day  \\\n",
       "user_text                                                   \n",
       "Dunno74                          Dunno74       2007-06-11   \n",
       "StudiesWorld                StudiesWorld       2013-12-17   \n",
       "Catieinsightdesigns  Catieinsightdesigns       2015-11-16   \n",
       "Kagemaru2022                Kagemaru2022       2015-01-21   \n",
       "Cluelesswonder            Cluelesswonder       2014-01-13   \n",
       "\n",
       "                     t1_harassment_received  t1_harassment_made  \\\n",
       "user_text                                                         \n",
       "Dunno74                                   1                   0   \n",
       "StudiesWorld                              1                   0   \n",
       "Catieinsightdesigns                       1                   1   \n",
       "Kagemaru2022                              1                   0   \n",
       "Cluelesswonder                            1                   1   \n",
       "\n",
       "                     t1_num_days_active  t2_num_days_active  \\\n",
       "user_text                                                     \n",
       "Dunno74                               1                   0   \n",
       "StudiesWorld                         26                   8   \n",
       "Catieinsightdesigns                  14                   0   \n",
       "Kagemaru2022                         12                   0   \n",
       "Cluelesswonder                        1                   0   \n",
       "\n",
       "                                                blocked_timestamps  blocked  \\\n",
       "user_text                                                                     \n",
       "Dunno74                                                        NaN      0.0   \n",
       "StudiesWorld                                                   NaN      0.0   \n",
       "Catieinsightdesigns                                            NaN      0.0   \n",
       "Kagemaru2022                                                   NaN      0.0   \n",
       "Cluelesswonder       2014-01-13T18:32:12Z  |  2014-01-13T19:04:58Z      1.0   \n",
       "\n",
       "                                                  attack_comments_made  \\\n",
       "user_text                                                                \n",
       "Dunno74                                                           None   \n",
       "StudiesWorld                                                      None   \n",
       "Catieinsightdesigns                                               None   \n",
       "Kagemaru2022                                                      None   \n",
       "Cluelesswonder       To User:Cluelesswonder at 2014-01-13 19:31:17 ...   \n",
       "\n",
       "                                              attack_comments_received  \\\n",
       "user_text                                                                \n",
       "Dunno74              From User:Shawnlandden at 2007-06-18 08:49:14 ...   \n",
       "StudiesWorld         From User:Missionedit at 2014-01-02 22:20:11 w...   \n",
       "Catieinsightdesigns  From User:Missionedit at 2015-12-10 18:52:32 w...   \n",
       "Kagemaru2022         From User:ChamithN at 2015-01-23 18:18:29 with...   \n",
       "Cluelesswonder       From User:Zad68 at 2014-01-13 19:39:28 with sc...   \n",
       "\n",
       "                                              aggression_comments_made  \\\n",
       "user_text                                                                \n",
       "Dunno74                                                           None   \n",
       "StudiesWorld                                                      None   \n",
       "Catieinsightdesigns                                               None   \n",
       "Kagemaru2022                                                      None   \n",
       "Cluelesswonder       To User:Cluelesswonder at 2014-01-13 19:31:17 ...   \n",
       "\n",
       "                                          aggression_comments_received  \\\n",
       "user_text                                                                \n",
       "Dunno74              From User:Shawnlandden at 2007-06-18 08:49:14 ...   \n",
       "StudiesWorld         From User:Missionedit at 2014-01-02 22:20:11 w...   \n",
       "Catieinsightdesigns  From User:Missionedit at 2015-12-10 18:52:32 w...   \n",
       "Kagemaru2022         From User:ChamithN at 2015-01-23 18:18:29 with...   \n",
       "Cluelesswonder       From User:Zad68 at 2014-01-13 19:39:28 with sc...   \n",
       "\n",
       "                                                toxicity_comments_made  \\\n",
       "user_text                                                                \n",
       "Dunno74                                                           None   \n",
       "StudiesWorld                                                      None   \n",
       "Catieinsightdesigns  To User:Velella at 2015-12-08 16:41:28 with sc...   \n",
       "Kagemaru2022                                                      None   \n",
       "Cluelesswonder       To User:Cluelesswonder at 2014-01-13 19:31:17 ...   \n",
       "\n",
       "                                            toxicity_comments_received  \n",
       "user_text                                                               \n",
       "Dunno74              From User:Shawnlandden at 2007-06-18 08:49:14 ...  \n",
       "StudiesWorld                                                      None  \n",
       "Catieinsightdesigns                                               None  \n",
       "Kagemaru2022                                                      None  \n",
       "Cluelesswonder       From User:Zad68 at 2014-01-13 19:39:28 with sc...  "
      ]
     },
     "execution_count": 14,
     "metadata": {},
     "output_type": "execute_result"
    }
   ],
   "source": [
    "df_reg.query(\"t1_harassment_received == 1\").head()"
   ]
  },
  {
   "cell_type": "code",
   "execution_count": 15,
   "metadata": {
    "collapsed": true
   },
   "outputs": [],
   "source": [
    "df_reg.to_csv(\"../../data/retention/uxr.csv\")"
   ]
  },
  {
   "cell_type": "code",
   "execution_count": null,
   "metadata": {
    "collapsed": true
   },
   "outputs": [],
   "source": []
  },
  {
   "cell_type": "code",
   "execution_count": null,
   "metadata": {
    "collapsed": true
   },
   "outputs": [],
   "source": []
  },
  {
   "cell_type": "code",
   "execution_count": null,
   "metadata": {
    "collapsed": false
   },
   "outputs": [],
   "source": [
    "for u, v in user_objects.items():\n",
    "    if v.df_comments_made is not None:\n",
    "        print(u)\n",
    "        break"
   ]
  },
  {
   "cell_type": "code",
   "execution_count": null,
   "metadata": {
    "collapsed": false
   },
   "outputs": [],
   "source": [
    "u = 'Dergbuytioporytderwquarrel'\n",
    "comments =  user_objects[u].df_comments_made"
   ]
  },
  {
   "cell_type": "code",
   "execution_count": null,
   "metadata": {
    "collapsed": false
   },
   "outputs": [],
   "source": [
    "comments"
   ]
  },
  {
   "cell_type": "code",
   "execution_count": null,
   "metadata": {
    "collapsed": false
   },
   "outputs": [],
   "source": [
    "comments_received_above_threshold(user_objects[u], 'pred_aggression_score', 0, 1)"
   ]
  },
  {
   "cell_type": "code",
   "execution_count": null,
   "metadata": {
    "collapsed": false
   },
   "outputs": [],
   "source": [
    "comments_made_above_threshold(user_objects[u], 'pred_aggression_score', 0, 1)"
   ]
  },
  {
   "cell_type": "code",
   "execution_count": null,
   "metadata": {
    "collapsed": true
   },
   "outputs": [],
   "source": []
  }
 ],
 "metadata": {
  "anaconda-cloud": {},
  "kernelspec": {
   "display_name": "Python [default]",
   "language": "python",
   "name": "python3"
  },
  "language_info": {
   "codemirror_mode": {
    "name": "ipython",
    "version": 3
   },
   "file_extension": ".py",
   "mimetype": "text/x-python",
   "name": "python",
   "nbconvert_exporter": "python",
   "pygments_lexer": "ipython3",
   "version": "3.5.1"
  }
 },
 "nbformat": 4,
 "nbformat_minor": 0
}
