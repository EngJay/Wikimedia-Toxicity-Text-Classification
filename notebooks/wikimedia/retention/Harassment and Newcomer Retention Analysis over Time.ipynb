{
 "cells": [
  {
   "cell_type": "markdown",
   "metadata": {},
   "source": [
    "# Harassment and Newcomer Retention over Time\n",
    "\n",
    "In this notebook we investigate how receiving harassment correlates with newcomer activity and retention over Time. For the purposes of this study, our measures of harassment are classifiers over individual discussion comments for personal attacks, aggression and toxicity. These classifiers were developed [in previous work](https://arxiv.org/abs/1610.08914). We will investigate the relationship between harassment and newcomer retention through running regression models that use a measures of editing activity and harassment in time span t1 as independent variables and a measure of harassment in time span t2 as the dependent variable. This will be done for each year from 2011-2015 and we will examine the chronological trend."
   ]
  },
  {
   "cell_type": "code",
   "execution_count": 28,
   "metadata": {
    "collapsed": true
   },
   "outputs": [],
   "source": [
    "% matplotlib inline\n",
    "import pandas as pd\n",
    "from dateutil.relativedelta import relativedelta\n",
    "import statsmodels.formula.api as sm\n",
    "import requests\n",
    "#import seaborn as sns\n",
    "import numpy as np\n",
    "import matplotlib.pyplot as plt"
   ]
  },
  {
   "cell_type": "markdown",
   "metadata": {},
   "source": [
    "### Data Preprocessing\n",
    "\n",
    "In this section, we read the data and split it by year."
   ]
  },
  {
   "cell_type": "code",
   "execution_count": 29,
   "metadata": {
    "collapsed": false
   },
   "outputs": [],
   "source": [
    "df_reg = pd.read_csv(\"../../data/retention/newcomer_sample_features.csv\")"
   ]
  },
  {
   "cell_type": "code",
   "execution_count": 30,
   "metadata": {
    "collapsed": true
   },
   "outputs": [],
   "source": [
    "df_reg['timestamp'] = pd.to_datetime(df_reg['registration_day'], format='%Y-%m-%d')"
   ]
  },
  {
   "cell_type": "code",
   "execution_count": 31,
   "metadata": {
    "collapsed": false
   },
   "outputs": [],
   "source": [
    "df_reg['year'] = df_reg.timestamp.dt.year"
   ]
  },
  {
   "cell_type": "code",
   "execution_count": 32,
   "metadata": {
    "collapsed": false
   },
   "outputs": [],
   "source": [
    "YEARS = list(range(2006, 2016))"
   ]
  },
  {
   "cell_type": "code",
   "execution_count": 33,
   "metadata": {
    "collapsed": false
   },
   "outputs": [],
   "source": [
    "df_by_year = {}\n",
    "for year in YEARS:\n",
    "    df_by_year[year] = df_reg.query('year == %s' % year)"
   ]
  },
  {
   "cell_type": "markdown",
   "metadata": {},
   "source": [
    "### Regression over Time\n",
    "\n",
    "In this section, we analyze how harassment impacts a users activity level as it changes over time."
   ]
  },
  {
   "cell_type": "code",
   "execution_count": 34,
   "metadata": {
    "collapsed": true
   },
   "outputs": [],
   "source": [
    "def regress(df, formula, family = 'linear'):\n",
    "    if family == 'linear':\n",
    "        result = sm.ols(formula=f, data=df).fit()\n",
    "    elif family == 'logistic':\n",
    "        result = sm.logit(formula=f, data=df).fit(disp=0)\n",
    "    else:\n",
    "        print(\"Wrong Family\")\n",
    "    return result"
   ]
  },
  {
   "cell_type": "code",
   "execution_count": 35,
   "metadata": {
    "collapsed": true
   },
   "outputs": [],
   "source": [
    "def get_coeffs_and_ci(df_dict, times, formula, family = 'linear', plot_coeff = 't1_harassment_received'):\n",
    "    reg_coeffs = []\n",
    "    lower_ci = []\n",
    "    upper_ci = []\n",
    "    for t in times:\n",
    "        result = regress(df_dict[t], formula, family)\n",
    "        reg_coeffs.append(result.params[plot_coeff])\n",
    "        lower_ci.append(result.conf_int().loc[plot_coeff, 0])\n",
    "        upper_ci.append(result.conf_int().loc[plot_coeff, 1])\n",
    "    return reg_coeffs, lower_ci, upper_ci"
   ]
  },
  {
   "cell_type": "code",
   "execution_count": 36,
   "metadata": {
    "collapsed": false
   },
   "outputs": [],
   "source": [
    "def plot_coeffs_over_time(times, reg_coeffs, lower_ci, upper_ci):\n",
    "    x = times\n",
    "    y = reg_coeffs\n",
    "    y_err = [np.subtract(y,lower_ci), np.subtract(upper_ci, y)]\n",
    "    plt.errorbar(x,y,y_err)\n",
    "    plt.xlim(times[0] - 1, times[-1] + 1)\n",
    "    plt.ticklabel_format(useOffset=False)"
   ]
  },
  {
   "cell_type": "code",
   "execution_count": 37,
   "metadata": {
    "collapsed": true
   },
   "outputs": [],
   "source": [
    "def plot_formula(df_dict, times, formula, family = 'linear', plot_coeff = 't1_harassment_received'):\n",
    "    reg_coeffs, lower_ci, upper_ci = get_coeffs_and_ci(df_dict, times, formula, family, plot_coeff)\n",
    "    plot_coeffs_over_time(times, reg_coeffs, lower_ci, upper_ci)"
   ]
  },
  {
   "cell_type": "code",
   "execution_count": 38,
   "metadata": {
    "collapsed": false
   },
   "outputs": [
    {
     "data": {
      "image/png": "[encoded data removed]",
      "text/plain": [
       "<matplotlib.figure.Figure at 0x11cc9dd30>"
      ]
     },
     "metadata": {},
     "output_type": "display_data"
    }
   ],
   "source": [
    "f = \"t2_num_days_active ~ t1_num_days_active + t1_harassment_received\"\n",
    "plot_formula(df_by_year, YEARS, f)"
   ]
  },
  {
   "cell_type": "code",
   "execution_count": 39,
   "metadata": {
    "collapsed": false
   },
   "outputs": [],
   "source": [
    "df_gender = {}\n",
    "for k in df_by_year:\n",
    "    df_gender[k] = df_by_year[k].query('has_gender == 1')"
   ]
  },
  {
   "cell_type": "code",
   "execution_count": 40,
   "metadata": {
    "collapsed": false
   },
   "outputs": [
    {
     "data": {
      "image/png": "[encoded data removed]",
      "text/plain": [
       "<matplotlib.figure.Figure at 0x11894f748>"
      ]
     },
     "metadata": {},
     "output_type": "display_data"
    }
   ],
   "source": [
    "f=\"t2_num_days_active ~ t1_num_days_active + is_female\"\n",
    "plot_formula(df_gender, YEARS, f, plot_coeff='is_female')"
   ]
  },
  {
   "cell_type": "code",
   "execution_count": 41,
   "metadata": {
    "collapsed": false
   },
   "outputs": [
    {
     "data": {
      "image/png": "[encoded data removed]",
      "text/plain": [
       "<matplotlib.figure.Figure at 0x11894ff60>"
      ]
     },
     "metadata": {},
     "output_type": "display_data"
    }
   ],
   "source": [
    "f=\"t1_harassment_received ~ is_female\"\n",
    "plot_formula(df_gender, YEARS, f, plot_coeff='is_female')"
   ]
  },
  {
   "cell_type": "code",
   "execution_count": 42,
   "metadata": {
    "collapsed": false
   },
   "outputs": [
    {
     "data": {
      "image/png": "[encoded data removed]",
      "text/plain": [
       "<matplotlib.figure.Figure at 0x1189a8e48>"
      ]
     },
     "metadata": {},
     "output_type": "display_data"
    }
   ],
   "source": [
    "f=\"t1_harassment_received ~ has_gender\"\n",
    "plot_formula(df_by_year, YEARS, f, family = 'logistic', plot_coeff='has_gender')"
   ]
  }
 ],
 "metadata": {
  "anaconda-cloud": {},
  "kernelspec": {
   "display_name": "Python [Root]",
   "language": "python",
   "name": "Python [Root]"
  },
  "language_info": {
   "codemirror_mode": {
    "name": "ipython",
    "version": 3
   },
   "file_extension": ".py",
   "mimetype": "text/x-python",
   "name": "python",
   "nbconvert_exporter": "python",
   "pygments_lexer": "ipython3",
   "version": "3.5.2"
  }
 },
 "nbformat": 4,
 "nbformat_minor": 0
}
