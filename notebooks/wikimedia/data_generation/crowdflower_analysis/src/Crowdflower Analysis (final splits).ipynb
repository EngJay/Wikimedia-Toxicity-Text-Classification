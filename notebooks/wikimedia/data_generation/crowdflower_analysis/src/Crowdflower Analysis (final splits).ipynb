{
 "cells": [
  {
   "cell_type": "code",
   "execution_count": 1,
   "metadata": {
    "collapsed": true
   },
   "outputs": [],
   "source": [
    "%matplotlib inline\n",
    "from __future__ import division\n",
    "import pandas as pd\n",
    "import numpy as np\n",
    "import matplotlib.pyplot as plt\n",
    "import time\n",
    "import datetime\n",
    "from scipy import stats\n",
    "\n",
    "import warnings\n",
    "warnings.filterwarnings('ignore')"
   ]
  },
  {
   "cell_type": "code",
   "execution_count": 2,
   "metadata": {
    "collapsed": true
   },
   "outputs": [],
   "source": [
    "import tabulate"
   ]
  },
  {
   "cell_type": "markdown",
   "metadata": {},
   "source": [
    "### Load and combine the data"
   ]
  },
  {
   "cell_type": "code",
   "execution_count": 3,
   "metadata": {
    "collapsed": true
   },
   "outputs": [],
   "source": [
    "SPLITS = ['train', 'test', 'dev']"
   ]
  },
  {
   "cell_type": "code",
   "execution_count": 4,
   "metadata": {
    "collapsed": true
   },
   "outputs": [],
   "source": [
    "df = {}\n",
    "for split in SPLITS:\n",
    "    df[split] = pd.read_csv('../../../../data/annotations/split/' + split + '/annotations.tsv', sep = '\\t', encoding = 'utf-8')"
   ]
  },
  {
   "cell_type": "code",
   "execution_count": 5,
   "metadata": {
    "collapsed": false
   },
   "outputs": [],
   "source": [
    "combined_df = pd.concat(df.values())"
   ]
  },
  {
   "cell_type": "markdown",
   "metadata": {},
   "source": [
    "### Aggregate the Data"
   ]
  },
  {
   "cell_type": "code",
   "execution_count": 6,
   "metadata": {
    "collapsed": true
   },
   "outputs": [],
   "source": [
    "SOURCES = ['article_blocked', 'article_random', 'user_blocked', 'user_random']"
   ]
  },
  {
   "cell_type": "code",
   "execution_count": 7,
   "metadata": {
    "collapsed": true
   },
   "outputs": [],
   "source": [
    "agg_dict = {'ns': 'first', 'sample': 'first', 'src': 'first', 'recipient': 'mean', \n",
    "            'attack': 'mean', 'aggression': 'mean'}\n",
    "grouped_df = combined_df.groupby('rev_id').agg(agg_dict)"
   ]
  },
  {
   "cell_type": "code",
   "execution_count": 8,
   "metadata": {
    "collapsed": true
   },
   "outputs": [],
   "source": [
    "grouped_source_df = {}\n",
    "for source in SOURCES:\n",
    "    grouped_source_df[source] = grouped_df[grouped_df['src'].str.contains(source)]\n",
    "grouped_source_df['total'] = grouped_df"
   ]
  },
  {
   "cell_type": "markdown",
   "metadata": {},
   "source": [
    "### Compute the values of interest"
   ]
  },
  {
   "cell_type": "code",
   "execution_count": 9,
   "metadata": {
    "collapsed": false
   },
   "outputs": [],
   "source": [
    "number_of_revisions = {k: len(v) for k, v in grouped_source_df.items()}"
   ]
  },
  {
   "cell_type": "code",
   "execution_count": 10,
   "metadata": {
    "collapsed": false
   },
   "outputs": [
    {
     "data": {
      "text/plain": [
       "{'article_blocked': 31421,\n",
       " 'article_random': 19571,\n",
       " 'total': 115737,\n",
       " 'user_blocked': 46705,\n",
       " 'user_random': 18040}"
      ]
     },
     "execution_count": 10,
     "metadata": {},
     "output_type": "execute_result"
    }
   ],
   "source": [
    "number_of_revisions"
   ]
  },
  {
   "cell_type": "code",
   "execution_count": 11,
   "metadata": {
    "collapsed": false
   },
   "outputs": [],
   "source": [
    "# Next compute proportion of aggressive and attacking revisions for each source\n",
    "num = {}\n",
    "perc = {}\n",
    "for term in ['attack', 'aggression']:\n",
    "    num[term] = {}\n",
    "    perc[term] = {}\n",
    "    for source in SOURCES + ['total']:\n",
    "        num[term][source] = len(grouped_source_df[source].query('%s > 0.5' % term))\n",
    "        perc[term][source] = num[term][source]/number_of_revisions[source]"
   ]
  },
  {
   "cell_type": "code",
   "execution_count": 12,
   "metadata": {
    "collapsed": false
   },
   "outputs": [
    {
     "name": "stdout",
     "output_type": "stream",
     "text": [
      "attack\n",
      "{'user_random': 190, 'article_random': 150, 'user_blocked': 11147, 'total': 13575, 'article_blocked': 2088}\n",
      "{'user_random': 0.010532150776053215, 'article_random': 0.00766440141024986, 'user_blocked': 0.23866823680548122, 'total': 0.11729179087068094, 'article_blocked': 0.06645237261703955}\n",
      "aggression\n",
      "{'user_random': 247, 'article_random': 207, 'user_blocked': 11849, 'total': 14760, 'article_blocked': 2457}\n",
      "{'user_random': 0.013691796008869179, 'article_random': 0.010576873946144805, 'user_blocked': 0.2536987474574457, 'total': 0.12753052178646415, 'article_blocked': 0.07819611088125776}\n"
     ]
    }
   ],
   "source": [
    "for term in ['attack', 'aggression']:\n",
    "    print(term)\n",
    "    print(num[term])\n",
    "    print(perc[term])"
   ]
  },
  {
   "cell_type": "markdown",
   "metadata": {},
   "source": [
    "### Inter Annotator Agreement"
   ]
  },
  {
   "cell_type": "code",
   "execution_count": 13,
   "metadata": {
    "collapsed": true
   },
   "outputs": [],
   "source": [
    "dat = combined_df"
   ]
  },
  {
   "cell_type": "code",
   "execution_count": 14,
   "metadata": {
    "collapsed": false
   },
   "outputs": [
    {
     "data": {
      "text/plain": [
       "Index(['rev_id', '_worker_id', 'ns', 'sample', 'src', 'clean_diff', 'diff',\n",
       "       'insert_only', 'page_id', 'page_title', 'rev_comment', 'rev_timestamp',\n",
       "       'user_id', 'user_text', 'not_attack', 'other', 'quoting', 'recipient',\n",
       "       'third_party', 'attack', 'aggression'],\n",
       "      dtype='object')"
      ]
     },
     "execution_count": 14,
     "metadata": {},
     "output_type": "execute_result"
    }
   ],
   "source": [
    "dat.columns"
   ]
  },
  {
   "cell_type": "code",
   "execution_count": 15,
   "metadata": {
    "collapsed": true
   },
   "outputs": [],
   "source": [
    "ATTACK_COLUMNS = ['attack_bool', 'not_attack']\n",
    "dat['attack_bool'] = (dat['attack'] > 0.5).apply(int)\n",
    "dat['not_attack'] = 1-dat['attack_bool']\n",
    "AGGRESSIVE_COLUMNS = ['aggressive_bool', 'not_aggressive']\n",
    "dat['aggressive_bool'] = (dat['aggression'] > 0.5).apply(int)\n",
    "dat['not_aggressive'] = 1-dat['aggressive_bool']"
   ]
  },
  {
   "cell_type": "code",
   "execution_count": 16,
   "metadata": {
    "collapsed": true
   },
   "outputs": [],
   "source": [
    "agg_dict = {'ns': 'first', 'sample': 'first', 'src': 'first', 'recipient': 'mean', \n",
    "            'attack': 'mean', 'aggression': 'mean'}\n",
    "agg_dict.update(dict.fromkeys(ATTACK_COLUMNS, 'sum'))\n",
    "agg_dict.update(dict.fromkeys(AGGRESSIVE_COLUMNS, 'sum'))\n",
    "ia_df  = dat.groupby('rev_id').agg(agg_dict)"
   ]
  },
  {
   "cell_type": "code",
   "execution_count": 17,
   "metadata": {
    "collapsed": true
   },
   "outputs": [],
   "source": [
    "%load_ext autoreload\n",
    "%autoreload 2\n",
    "from krippendorf_alpha import *"
   ]
  },
  {
   "cell_type": "code",
   "execution_count": 18,
   "metadata": {
    "collapsed": false
   },
   "outputs": [
    {
     "name": "stdout",
     "output_type": "stream",
     "text": [
      "Attack: \n",
      "0.451278401328\n",
      "Aggression: \n",
      "0.438842898582\n"
     ]
    }
   ],
   "source": [
    "print('Attack: ')\n",
    "print(Krippendorf_alpha(ia_df, ATTACK_COLUMNS))\n",
    "print('Aggression: ')\n",
    "print(Krippendorf_alpha(ia_df, AGGRESSIVE_COLUMNS))"
   ]
  },
  {
   "cell_type": "code",
   "execution_count": null,
   "metadata": {
    "collapsed": true
   },
   "outputs": [],
   "source": []
  }
 ],
 "metadata": {
  "anaconda-cloud": {},
  "kernelspec": {
   "display_name": "Python [Root]",
   "language": "python",
   "name": "Python [Root]"
  },
  "language_info": {
   "codemirror_mode": {
    "name": "ipython",
    "version": 3
   },
   "file_extension": ".py",
   "mimetype": "text/x-python",
   "name": "python",
   "nbconvert_exporter": "python",
   "pygments_lexer": "ipython3",
   "version": "3.5.2"
  }
 },
 "nbformat": 4,
 "nbformat_minor": 0
}
