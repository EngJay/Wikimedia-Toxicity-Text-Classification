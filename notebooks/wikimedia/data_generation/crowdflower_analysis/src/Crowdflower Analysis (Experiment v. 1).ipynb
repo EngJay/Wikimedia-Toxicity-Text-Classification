{
 "cells": [
  {
   "cell_type": "markdown",
   "metadata": {},
   "source": [
    "### Introduction"
   ]
  },
  {
   "cell_type": "markdown",
   "metadata": {},
   "source": [
    "This notebook compares the annotated results of the \"blocked\" vs. \"random\" dataset of wikipedia talk pages. The \"blocked\" dataset consists of the few last comments before a user is blocked for personal harassment. The \"random\" dataset randomly samples all of the wikipedia talk page revisions. Both of these datasets are cleaned and filtered to remove common administrator messages. These datasets are annotated via crowdflower to measure friendliness, aggressiveness and whether the comment constitutes a personal attack. Below we plot a histogram of the results, pull out a few comments to examine, and compute inter-annotator agreement.\n",
    "\n",
    "On Crowdflower, each revision is rated 7 times. The raters are given three questions:\n",
    "\n",
    "1. Is this comment not English or not human readable?\n",
    "    * Column 'na'\n",
    "2. How aggressive or friendly is the tone of this comment? \n",
    "    * Column 'how_aggressive_or_friendly_is_the_tone_of_this_comment'\n",
    "    * Ranges from 1 (Friendly) to 7 (Aggressive)\n",
    "3. Is this an example of harassment or a personal attack?\n",
    "    * Column 'is_harassment_or_attack'"
   ]
  },
  {
   "cell_type": "markdown",
   "metadata": {},
   "source": [
    "### Loading packages and data"
   ]
  },
  {
   "cell_type": "code",
   "execution_count": 1,
   "metadata": {
    "collapsed": false
   },
   "outputs": [],
   "source": [
    "%matplotlib inline\n",
    "from __future__ import division\n",
    "import pandas as pd\n",
    "import numpy as np\n",
    "import matplotlib.pyplot as plt"
   ]
  },
  {
   "cell_type": "code",
   "execution_count": 2,
   "metadata": {
    "collapsed": false
   },
   "outputs": [],
   "source": [
    "pd.set_option('display.width', 1000)\n",
    "pd.set_option('display.max_colwidth', 1000)"
   ]
  },
  {
   "cell_type": "code",
   "execution_count": 3,
   "metadata": {
    "collapsed": false
   },
   "outputs": [],
   "source": [
    "# Download data from google drive (Respect Eng / Wiki Collab): wikipdia data/v2_annotated\n",
    "blocked_dat = pd.read_csv('../data/annotated_1k_no_admin_blocked_user_post_sample.csv')\n",
    "random_dat = pd.read_csv('../data/annotated_1k_no_admin_post_sample.csv')"
   ]
  },
  {
   "cell_type": "code",
   "execution_count": 4,
   "metadata": {
    "collapsed": true
   },
   "outputs": [],
   "source": [
    "# Removing irrelevant differing columns\n",
    "del blocked_dat['na_gold']\n",
    "del random_dat['unnamed_0']"
   ]
  },
  {
   "cell_type": "code",
   "execution_count": 5,
   "metadata": {
    "collapsed": true
   },
   "outputs": [],
   "source": [
    "blocked_dat['dat_type'] = 'blocked'\n",
    "random_dat['dat_type'] = 'random'"
   ]
  },
  {
   "cell_type": "code",
   "execution_count": 6,
   "metadata": {
    "collapsed": false
   },
   "outputs": [
    {
     "data": {
      "text/plain": [
       "True"
      ]
     },
     "execution_count": 6,
     "metadata": {},
     "output_type": "execute_result"
    }
   ],
   "source": [
    "# Do both arrays now have the same columns?\n",
    "(random_dat.columns == blocked_dat.columns).all()"
   ]
  },
  {
   "cell_type": "code",
   "execution_count": 7,
   "metadata": {
    "collapsed": false
   },
   "outputs": [],
   "source": [
    "dat = pd.concat([blocked_dat, random_dat])"
   ]
  },
  {
   "cell_type": "code",
   "execution_count": 8,
   "metadata": {
    "collapsed": false
   },
   "outputs": [],
   "source": [
    "# Remove test questions\n",
    "dat = dat[dat['_golden'] == False]"
   ]
  },
  {
   "cell_type": "code",
   "execution_count": 9,
   "metadata": {
    "collapsed": false
   },
   "outputs": [],
   "source": [
    "# Replace missing data with 'False'\n",
    "dat = dat.replace(np.nan, False, regex=True)"
   ]
  },
  {
   "cell_type": "code",
   "execution_count": 10,
   "metadata": {
    "collapsed": true
   },
   "outputs": [],
   "source": [
    "# Reshape the data for later analysis\n",
    "def create_column_of_counts_from_nums(df, col):\n",
    "    return df.apply(lambda x: int(col) == x)"
   ]
  },
  {
   "cell_type": "code",
   "execution_count": 11,
   "metadata": {
    "collapsed": true
   },
   "outputs": [],
   "source": [
    "aggressive_columns = ['1', '2', '3', '4', '5', '6', '7']"
   ]
  },
  {
   "cell_type": "code",
   "execution_count": 12,
   "metadata": {
    "collapsed": true
   },
   "outputs": [],
   "source": [
    "for col in aggressive_columns:\n",
    "    dat[col] = create_column_of_counts_from_nums(dat['how_aggressive_or_friendly_is_the_tone_of_this_comment'], col)"
   ]
  },
  {
   "cell_type": "code",
   "execution_count": 13,
   "metadata": {
    "collapsed": true
   },
   "outputs": [],
   "source": [
    "blocked_columns = ['0','1']"
   ]
  },
  {
   "cell_type": "code",
   "execution_count": 14,
   "metadata": {
    "collapsed": false
   },
   "outputs": [],
   "source": [
    "for col in blocked_columns:\n",
    "    dat['blocked_'+col] = create_column_of_counts_from_nums(dat['is_harassment_or_attack'], col)"
   ]
  },
  {
   "cell_type": "code",
   "execution_count": 15,
   "metadata": {
    "collapsed": true
   },
   "outputs": [],
   "source": [
    "blocked_columns = ['blocked_0','blocked_1']"
   ]
  },
  {
   "cell_type": "code",
   "execution_count": 16,
   "metadata": {
    "collapsed": true
   },
   "outputs": [],
   "source": [
    "# Group the data\n",
    "agg_dict = dict.fromkeys(aggressive_columns, 'sum')\n",
    "agg_dict.update(dict.fromkeys(blocked_columns, 'sum'))\n",
    "agg_dict.update({'clean_diff': 'first', 'is_harassment_or_attack': 'mean', \n",
    "                                           'how_aggressive_or_friendly_is_the_tone_of_this_comment': 'mean', 'na': 'mean'})\n",
    "grouped_dat = dat.groupby(['dat_type','rev_id'], as_index=False).agg(agg_dict)"
   ]
  },
  {
   "cell_type": "code",
   "execution_count": 17,
   "metadata": {
    "collapsed": false
   },
   "outputs": [],
   "source": [
    "# Get rid of data which the majority thinks is not in English or not readable\n",
    "grouped_dat = grouped_dat[grouped_dat['na'] < 0.5]"
   ]
  },
  {
   "cell_type": "markdown",
   "metadata": {},
   "source": [
    "### Plot histogram of average ratings by comment"
   ]
  },
  {
   "cell_type": "markdown",
   "metadata": {},
   "source": [
    "For each revision, we take the average of all the ratings by level of harassment. The histogram of these averages for both the blocked and random dataset are displayed below. We notice that the blocked dataset has a significantly higher proportion of attacking comments (approximately 20%)."
   ]
  },
  {
   "cell_type": "code",
   "execution_count": 18,
   "metadata": {
    "collapsed": false
   },
   "outputs": [],
   "source": [
    "def hist_comments(df, bins, dat_type, plot_by, title):\n",
    "    sliced_array = df[df['dat_type'] == dat_type][[plot_by]]\n",
    "    weights = np.ones_like(sliced_array)/len(sliced_array)\n",
    "    sliced_array.plot.hist(bins = bins, legend = False, title = title, weights=weights)\n",
    "    plt.ylabel('Proportion')\n",
    "    plt.xlabel('Average Score')"
   ]
  },
  {
   "cell_type": "code",
   "execution_count": 19,
   "metadata": {
    "collapsed": false
   },
   "outputs": [
    {
     "data": {
      "text/plain": [
       "<matplotlib.figure.Figure at 0x10c9ac8d0>"
      ]
     },
     "metadata": {},
     "output_type": "display_data"
    },
    {
     "data": {
      "image/png": "[encoded data removed]",
      "text/plain": [
       "<matplotlib.figure.Figure at 0x10c125290>"
      ]
     },
     "metadata": {},
     "output_type": "display_data"
    },
    {
     "data": {
      "image/png": "[encoded data removed]",
      "text/plain": [
       "<matplotlib.figure.Figure at 0x10cc26390>"
      ]
     },
     "metadata": {},
     "output_type": "display_data"
    }
   ],
   "source": [
    "plt.figure()\n",
    "bins = np.linspace(0,1,11)\n",
    "hist_comments(grouped_dat, bins, 'blocked', 'is_harassment_or_attack', 'Average Harassment Rating for Blocked Data')\n",
    "hist_comments(grouped_dat, bins, 'random', 'is_harassment_or_attack', 'Average Harassment Rating for Random Data')"
   ]
  },
  {
   "cell_type": "markdown",
   "metadata": {},
   "source": [
    "For each revision, we take the average of all the ratings by level of friendliness/aggressiveness. The histogram of these averages for both the blocked and random dataset are displayed below. We notice that the blocked dataset has a more even distribution of aggressiveness scores."
   ]
  },
  {
   "cell_type": "code",
   "execution_count": 20,
   "metadata": {
    "collapsed": false
   },
   "outputs": [
    {
     "data": {
      "text/plain": [
       "<matplotlib.figure.Figure at 0x10bf0b290>"
      ]
     },
     "metadata": {},
     "output_type": "display_data"
    },
    {
     "data": {
      "image/png": "[encoded data removed]",
      "text/plain": [
       "<matplotlib.figure.Figure at 0x10cd17890>"
      ]
     },
     "metadata": {},
     "output_type": "display_data"
    },
    {
     "data": {
      "image/png": "[encoded data removed]",
      "text/plain": [
       "<matplotlib.figure.Figure at 0x10cc494d0>"
      ]
     },
     "metadata": {},
     "output_type": "display_data"
    }
   ],
   "source": [
    "bins = np.linspace(1,7,61)\n",
    "plt.figure()\n",
    "hist_comments(grouped_dat, bins, 'blocked', 'how_aggressive_or_friendly_is_the_tone_of_this_comment', \n",
    "              'Average Aggressiveness Rating for Blocked Data')\n",
    "hist_comments(grouped_dat, bins, 'random', 'how_aggressive_or_friendly_is_the_tone_of_this_comment', \n",
    "              'Average Aggressiveness Rating for Random Data')"
   ]
  },
  {
   "cell_type": "markdown",
   "metadata": {},
   "source": [
    "### Selected harassing and aggressive comments by quartile"
   ]
  },
  {
   "cell_type": "markdown",
   "metadata": {},
   "source": [
    "We look at a sample of revisions whose average aggressive score falls into various quantiles. This allows us to subjectively evaluate the quality of the questions that we are asking on Crowdflower. This slicing is done on the aggregate of both the blocked and random dataset."
   ]
  },
  {
   "cell_type": "code",
   "execution_count": 21,
   "metadata": {
    "collapsed": false
   },
   "outputs": [],
   "source": [
    "def sorted_comments(df, sort_by, is_ascending, quartile, num, dat_type = None):\n",
    "    if dat_type:\n",
    "        sub_df = df[df['dat_type'] == dat_type]\n",
    "    else:\n",
    "        sub_df = df\n",
    "    n = sub_df.shape[0]\n",
    "    start_index = int(quartile*n)\n",
    "    if dat_type:\n",
    "        return sub_df[['clean_diff', 'is_harassment_or_attack', \n",
    "            'how_aggressive_or_friendly_is_the_tone_of_this_comment']].sort_values(\n",
    "            by=sort_by, ascending = is_ascending)[start_index:start_index + num]\n",
    "    return df[['clean_diff', 'dat_type', 'is_harassment_or_attack', \n",
    "        'how_aggressive_or_friendly_is_the_tone_of_this_comment']].sort_values(\n",
    "        by=sort_by, ascending = is_ascending)[start_index:start_index + num]"
   ]
  },
  {
   "cell_type": "markdown",
   "metadata": {},
   "source": [
    "Most harassing comments in aggregated dataset"
   ]
  },
  {
   "cell_type": "code",
   "execution_count": 22,
   "metadata": {
    "collapsed": false,
    "scrolled": true
   },
   "outputs": [
    {
     "data": {
      "text/html": [
       "<div>\n",
       "<table border=\"1\" class=\"dataframe\">\n",
       "  <thead>\n",
       "    <tr style=\"text-align: right;\">\n",
       "      <th></th>\n",
       "      <th>clean_diff</th>\n",
       "      <th>dat_type</th>\n",
       "      <th>is_harassment_or_attack</th>\n",
       "      <th>how_aggressive_or_friendly_is_the_tone_of_this_comment</th>\n",
       "    </tr>\n",
       "  </thead>\n",
       "  <tbody>\n",
       "    <tr>\n",
       "      <th>133</th>\n",
       "      <td>, oh shit, stop making warnings, motherfucker, also, fuck you.</td>\n",
       "      <td>blocked</td>\n",
       "      <td>1</td>\n",
       "      <td>6.571429</td>\n",
       "    </tr>\n",
       "    <tr>\n",
       "      <th>409</th>\n",
       "      <td>I wanted to let you know that Tymon.r. is a stupid moron.</td>\n",
       "      <td>blocked</td>\n",
       "      <td>1</td>\n",
       "      <td>5.285714</td>\n",
       "    </tr>\n",
       "    <tr>\n",
       "      <th>552</th>\n",
       "      <td>Are you fucking serious? Again, what Hume have you read? Go fuck yourself, ignoramus. Stop trolling and spamming my talk page and spend the time actually getting an education and reading a book on philosophy for once in your life before you continue to make pointless, masturbatory edits on pages well beyond your comprehension. Please share, what is your interest i Hume beyond being a thorn in my side?</td>\n",
       "      <td>blocked</td>\n",
       "      <td>1</td>\n",
       "      <td>6.571429</td>\n",
       "    </tr>\n",
       "    <tr>\n",
       "      <th>866</th>\n",
       "      <td>you bitch why didn't you block kew gardens he also went past the 3 revert fucking rule god man</td>\n",
       "      <td>blocked</td>\n",
       "      <td>1</td>\n",
       "      <td>6.000000</td>\n",
       "    </tr>\n",
       "    <tr>\n",
       "      <th>744</th>\n",
       "      <td>Hahahaha!!! \\n\\nFuck you! You are a Chinese pig!</td>\n",
       "      <td>blocked</td>\n",
       "      <td>1</td>\n",
       "      <td>6.857143</td>\n",
       "    </tr>\n",
       "  </tbody>\n",
       "</table>\n",
       "</div>"
      ],
      "text/plain": [
       "                                                                                                                                                                                                                                                                                                                                                                                                                  clean_diff dat_type  is_harassment_or_attack  how_aggressive_or_friendly_is_the_tone_of_this_comment\n",
       "133                                                                                                                                                                                                                                                                                                                                                        , oh shit, stop making warnings, motherfucker, also, fuck you.     blocked                        1                                                6.571429\n",
       "409                                                                                                                                                                                                                                                                                                                                                                I wanted to let you know that Tymon.r. is a stupid moron.  blocked                        1                                                5.285714\n",
       "552  Are you fucking serious? Again, what Hume have you read? Go fuck yourself, ignoramus. Stop trolling and spamming my talk page and spend the time actually getting an education and reading a book on philosophy for once in your life before you continue to make pointless, masturbatory edits on pages well beyond your comprehension. Please share, what is your interest i Hume beyond being a thorn in my side?     blocked                        1                                                6.571429\n",
       "866                                                                                                                                                                                                                                                                                                                           you bitch why didn't you block kew gardens he also went past the 3 revert fucking rule god man  blocked                        1                                                6.000000\n",
       "744                                                                                                                                                                                                                                                                                                                                                                         Hahahaha!!! \\n\\nFuck you! You are a Chinese pig!  blocked                        1                                                6.857143"
      ]
     },
     "execution_count": 22,
     "metadata": {},
     "output_type": "execute_result"
    }
   ],
   "source": [
    "sorted_comments(grouped_dat, 'is_harassment_or_attack', False, 0, 5)"
   ]
  },
  {
   "cell_type": "markdown",
   "metadata": {},
   "source": [
    "Most aggressive comments in aggregated dataset"
   ]
  },
  {
   "cell_type": "code",
   "execution_count": 23,
   "metadata": {
    "collapsed": false,
    "scrolled": true
   },
   "outputs": [
    {
     "data": {
      "text/html": [
       "<div>\n",
       "<table border=\"1\" class=\"dataframe\">\n",
       "  <thead>\n",
       "    <tr style=\"text-align: right;\">\n",
       "      <th></th>\n",
       "      <th>clean_diff</th>\n",
       "      <th>dat_type</th>\n",
       "      <th>is_harassment_or_attack</th>\n",
       "      <th>how_aggressive_or_friendly_is_the_tone_of_this_comment</th>\n",
       "    </tr>\n",
       "  </thead>\n",
       "  <tbody>\n",
       "    <tr>\n",
       "      <th>743</th>\n",
       "      <td>Hahahaha!!! \\n\\nFuck you! You are a Chinese pig!</td>\n",
       "      <td>blocked</td>\n",
       "      <td>1</td>\n",
       "      <td>7.000000</td>\n",
       "    </tr>\n",
       "    <tr>\n",
       "      <th>471</th>\n",
       "      <td>Hey fucking pig \\n\\nHey fucking pig-of-a-bully; I'll fuck off sure, but after you fuck out from Wikipedia completely you fucking bitch.</td>\n",
       "      <td>blocked</td>\n",
       "      <td>1</td>\n",
       "      <td>6.857143</td>\n",
       "    </tr>\n",
       "    <tr>\n",
       "      <th>747</th>\n",
       "      <td>Fuck you!!!You are a pig!</td>\n",
       "      <td>blocked</td>\n",
       "      <td>1</td>\n",
       "      <td>6.857143</td>\n",
       "    </tr>\n",
       "    <tr>\n",
       "      <th>744</th>\n",
       "      <td>Hahahaha!!! \\n\\nFuck you! You are a Chinese pig!</td>\n",
       "      <td>blocked</td>\n",
       "      <td>1</td>\n",
       "      <td>6.857143</td>\n",
       "    </tr>\n",
       "    <tr>\n",
       "      <th>404</th>\n",
       "      <td>Sucker \\n\\nYou suck the di*k of chicken fuc*ers.</td>\n",
       "      <td>blocked</td>\n",
       "      <td>1</td>\n",
       "      <td>6.857143</td>\n",
       "    </tr>\n",
       "  </tbody>\n",
       "</table>\n",
       "</div>"
      ],
      "text/plain": [
       "                                                                                                                                   clean_diff dat_type  is_harassment_or_attack  how_aggressive_or_friendly_is_the_tone_of_this_comment\n",
       "743                                                                                          Hahahaha!!! \\n\\nFuck you! You are a Chinese pig!  blocked                        1                                                7.000000\n",
       "471   Hey fucking pig \\n\\nHey fucking pig-of-a-bully; I'll fuck off sure, but after you fuck out from Wikipedia completely you fucking bitch.  blocked                        1                                                6.857143\n",
       "747                                                                                                                 Fuck you!!!You are a pig!  blocked                        1                                                6.857143\n",
       "744                                                                                          Hahahaha!!! \\n\\nFuck you! You are a Chinese pig!  blocked                        1                                                6.857143\n",
       "404                                                                                          Sucker \\n\\nYou suck the di*k of chicken fuc*ers.  blocked                        1                                                6.857143"
      ]
     },
     "execution_count": 23,
     "metadata": {},
     "output_type": "execute_result"
    }
   ],
   "source": [
    "sorted_comments(grouped_dat, 'how_aggressive_or_friendly_is_the_tone_of_this_comment', False, 0, 5)"
   ]
  },
  {
   "cell_type": "markdown",
   "metadata": {},
   "source": [
    "Median aggressive comments in aggregated dataset"
   ]
  },
  {
   "cell_type": "code",
   "execution_count": 24,
   "metadata": {
    "collapsed": false,
    "scrolled": true
   },
   "outputs": [
    {
     "data": {
      "text/html": [
       "<div>\n",
       "<table border=\"1\" class=\"dataframe\">\n",
       "  <thead>\n",
       "    <tr style=\"text-align: right;\">\n",
       "      <th></th>\n",
       "      <th>clean_diff</th>\n",
       "      <th>dat_type</th>\n",
       "      <th>is_harassment_or_attack</th>\n",
       "      <th>how_aggressive_or_friendly_is_the_tone_of_this_comment</th>\n",
       "    </tr>\n",
       "  </thead>\n",
       "  <tbody>\n",
       "    <tr>\n",
       "      <th>1891</th>\n",
       "      <td>Legacies of the Ancient World</td>\n",
       "      <td>random</td>\n",
       "      <td>0.000000</td>\n",
       "      <td>3.857143</td>\n",
       "    </tr>\n",
       "    <tr>\n",
       "      <th>606</th>\n",
       "      <td>That may be, but at least I do not edit the pages of Wikipedia articles when I am unable to name a single work the author has wrote.</td>\n",
       "      <td>blocked</td>\n",
       "      <td>0.142857</td>\n",
       "      <td>3.857143</td>\n",
       "    </tr>\n",
       "    <tr>\n",
       "      <th>400</th>\n",
       "      <td>Sounds an excellent idea to me, I would especially like amnesty on The Graceful Slick's talk page. Leave my modifications up forever and I will certainly be bored. 81.158.98.246  01:47, 31 May 2015 (UTC)</td>\n",
       "      <td>blocked</td>\n",
       "      <td>0.000000</td>\n",
       "      <td>3.857143</td>\n",
       "    </tr>\n",
       "    <tr>\n",
       "      <th>1289</th>\n",
       "      <td>Message from  Alwoodley</td>\n",
       "      <td>random</td>\n",
       "      <td>0.000000</td>\n",
       "      <td>3.857143</td>\n",
       "    </tr>\n",
       "    <tr>\n",
       "      <th>1709</th>\n",
       "      <td>i like wwe this is what is latest brock vs seth at battleground</td>\n",
       "      <td>random</td>\n",
       "      <td>0.000000</td>\n",
       "      <td>3.857143</td>\n",
       "    </tr>\n",
       "  </tbody>\n",
       "</table>\n",
       "</div>"
      ],
      "text/plain": [
       "                                                                                                                                                                                                       clean_diff dat_type  is_harassment_or_attack  how_aggressive_or_friendly_is_the_tone_of_this_comment\n",
       "1891                                                                                                                                                                                Legacies of the Ancient World   random                 0.000000                                                3.857143\n",
       "606                                                                       That may be, but at least I do not edit the pages of Wikipedia articles when I am unable to name a single work the author has wrote.     blocked                 0.142857                                                3.857143\n",
       "400   Sounds an excellent idea to me, I would especially like amnesty on The Graceful Slick's talk page. Leave my modifications up forever and I will certainly be bored. 81.158.98.246  01:47, 31 May 2015 (UTC)  blocked                 0.000000                                                3.857143\n",
       "1289                                                                                                                                                                                      Message from  Alwoodley   random                 0.000000                                                3.857143\n",
       "1709                                                                                                                                              i like wwe this is what is latest brock vs seth at battleground   random                 0.000000                                                3.857143"
      ]
     },
     "execution_count": 24,
     "metadata": {},
     "output_type": "execute_result"
    }
   ],
   "source": [
    "sorted_comments(grouped_dat, 'how_aggressive_or_friendly_is_the_tone_of_this_comment', False, 0.5, 5)"
   ]
  },
  {
   "cell_type": "markdown",
   "metadata": {},
   "source": [
    "Least aggressive comments in aggregated dataset"
   ]
  },
  {
   "cell_type": "code",
   "execution_count": 25,
   "metadata": {
    "collapsed": false,
    "scrolled": true
   },
   "outputs": [
    {
     "data": {
      "text/html": [
       "<div>\n",
       "<table border=\"1\" class=\"dataframe\">\n",
       "  <thead>\n",
       "    <tr style=\"text-align: right;\">\n",
       "      <th></th>\n",
       "      <th>clean_diff</th>\n",
       "      <th>dat_type</th>\n",
       "      <th>is_harassment_or_attack</th>\n",
       "      <th>how_aggressive_or_friendly_is_the_tone_of_this_comment</th>\n",
       "    </tr>\n",
       "  </thead>\n",
       "  <tbody>\n",
       "    <tr>\n",
       "      <th>298</th>\n",
       "      <td>Merci Beaucoup \\n\\nA very kind thank you, Geraldine.</td>\n",
       "      <td>blocked</td>\n",
       "      <td>0</td>\n",
       "      <td>1.428571</td>\n",
       "    </tr>\n",
       "    <tr>\n",
       "      <th>1196</th>\n",
       "      <td>You are most gracious and kind, thank you. \\n\\nThank you. Much appreciated. I should like to take you up on inquiries at a later date, though I am most grateful for your offer today.:0)))</td>\n",
       "      <td>random</td>\n",
       "      <td>0</td>\n",
       "      <td>1.428571</td>\n",
       "    </tr>\n",
       "    <tr>\n",
       "      <th>1191</th>\n",
       "      <td>Thank you very much! Cheers!</td>\n",
       "      <td>random</td>\n",
       "      <td>0</td>\n",
       "      <td>1.428571</td>\n",
       "    </tr>\n",
       "    <tr>\n",
       "      <th>336</th>\n",
       "      <td>(UTC)\\nInserting citations\\nHi Ariel,\\n\\nhere is the code now:\\n http://angielittlefield.com/ebooks/TomThomsonTorontoNeighbourhoods.pdf Indeed, Thomson painted a number of watercolours between 1904 and 1909.http://www.tomthomsoncatalogue.org/catalogue/index.php?pageNum=0 \\nokay step one is erase the two cn tags\\n\\nstep two - in front of the http insert thus   step three - athe end of the url ref put this   \\nI will go correct the first one. Then please you try correcting the second one, and I am sure you will go perfect!  The article is shaping up quite well!  Congrats.  Please ask any questions here, and I will answer them for you.  You may also email me from the link at the top of my talk page, or you can also post a note on my talk page.  I am glad to help!  I really enjoy collaborating with other editors! Just ask!   Cheers!       18:39, 27 May 2015</td>\n",
       "      <td>blocked</td>\n",
       "      <td>0</td>\n",
       "      <td>1.571429</td>\n",
       "    </tr>\n",
       "    <tr>\n",
       "      <th>38</th>\n",
       "      <td>Such a friendly, helpful and encouraging person (82.132.222.241  )</td>\n",
       "      <td>blocked</td>\n",
       "      <td>0</td>\n",
       "      <td>1.571429</td>\n",
       "    </tr>\n",
       "  </tbody>\n",
       "</table>\n",
       "</div>"
      ],
      "text/plain": [
       "                                                                                                                                                                                                                                                                                                                                                                                                                                                                                                                                                                                                                                                                                                                                                                                                                                                                                              clean_diff dat_type  is_harassment_or_attack  how_aggressive_or_friendly_is_the_tone_of_this_comment\n",
       "298                                                                                                                                                                                                                                                                                                                                                                                                                                                                                                                                                                                                                                                                                                                                                                                                                                                 Merci Beaucoup \\n\\nA very kind thank you, Geraldine.  blocked                        0                                                1.428571\n",
       "1196                                                                                                                                                                                                                                                                                                                                                                                                                                                                                                                                                                                                                                                                                                         You are most gracious and kind, thank you. \\n\\nThank you. Much appreciated. I should like to take you up on inquiries at a later date, though I am most grateful for your offer today.:0)))   random                        0                                                1.428571\n",
       "1191                                                                                                                                                                                                                                                                                                                                                                                                                                                                                                                                                                                                                                                                                                                                                                                                                                                                        Thank you very much! Cheers!   random                        0                                                1.428571\n",
       "336    (UTC)\\nInserting citations\\nHi Ariel,\\n\\nhere is the code now:\\n http://angielittlefield.com/ebooks/TomThomsonTorontoNeighbourhoods.pdf Indeed, Thomson painted a number of watercolours between 1904 and 1909.http://www.tomthomsoncatalogue.org/catalogue/index.php?pageNum=0 \\nokay step one is erase the two cn tags\\n\\nstep two - in front of the http insert thus   step three - athe end of the url ref put this   \\nI will go correct the first one. Then please you try correcting the second one, and I am sure you will go perfect!  The article is shaping up quite well!  Congrats.  Please ask any questions here, and I will answer them for you.  You may also email me from the link at the top of my talk page, or you can also post a note on my talk page.  I am glad to help!  I really enjoy collaborating with other editors! Just ask!   Cheers!       18:39, 27 May 2015  blocked                        0                                                1.571429\n",
       "38                                                                                                                                                                                                                                                                                                                                                                                                                                                                                                                                                                                                                                                                                                                                                                                                                                    Such a friendly, helpful and encouraging person (82.132.222.241  )  blocked                        0                                                1.571429"
      ]
     },
     "execution_count": 25,
     "metadata": {},
     "output_type": "execute_result"
    }
   ],
   "source": [
    "sorted_comments(grouped_dat, 'how_aggressive_or_friendly_is_the_tone_of_this_comment', True, 0, 5)"
   ]
  },
  {
   "cell_type": "markdown",
   "metadata": {},
   "source": [
    "### Selected revisions by multiple questions"
   ]
  },
  {
   "cell_type": "markdown",
   "metadata": {
    "collapsed": true
   },
   "source": [
    "In this section, we examine a selection of revisions by their answer to Question 3 ('Is this an example of harassment or a personal attack?') and sorted by aggression score. Again, this allows us to subjectively evaluate the quality of questions and responses that we obtain from Crowdflower."
   ]
  },
  {
   "cell_type": "code",
   "execution_count": 26,
   "metadata": {
    "collapsed": false
   },
   "outputs": [
    {
     "data": {
      "text/html": [
       "<div>\n",
       "<table border=\"1\" class=\"dataframe\">\n",
       "  <thead>\n",
       "    <tr style=\"text-align: right;\">\n",
       "      <th></th>\n",
       "      <th>clean_diff</th>\n",
       "      <th>dat_type</th>\n",
       "      <th>is_harassment_or_attack</th>\n",
       "      <th>how_aggressive_or_friendly_is_the_tone_of_this_comment</th>\n",
       "    </tr>\n",
       "  </thead>\n",
       "  <tbody>\n",
       "    <tr>\n",
       "      <th>1257</th>\n",
       "      <td>Racist \\n\\nYou are a racist, and the only reason you still exist here is because you are the \"safe\" kind of racist. The kind that isn't white. You also have severe issues with insecurity, as you see the entire world against you and other Chinese, or Asians in general, and therefore you feel the need to constantly lash out at incorrectly perceived white and European \"bias\" and \"pride\" in all sorts of places where it is absent. If you were white and acting the exact same way against anything non-Western and/or non-white, you'd have been banned long ago.</td>\n",
       "      <td>random</td>\n",
       "      <td>0.714286</td>\n",
       "      <td>4.285714</td>\n",
       "    </tr>\n",
       "    <tr>\n",
       "      <th>720</th>\n",
       "      <td>ok... that's fine you can take the U.S out of that part ,but if a device is released the following year or later it is  considered its SUCCESSOR hence why someone would put !st or 2nd etc..because you't have 2 deices be called absolutely the same thing because they're not , they have different hardware , software and spec and its from the same maker and family model hence why its referenced as 1st gen etc etc...so how do you explain apple's devices? lol...the clealy release a new iphone every year and other hardware makers do so as well..the word generation means something or someone of the same family but with newer hardware released or born later..in hardware its usually a yearly thing..but if you prefer a model number which is more specific i'm willing to compromise that, the point is you can't name it the smae thing if its not the same exact product, you have to put something to tell them apart and i don't think its enough to just put a year the said model was released (xxxx), ...</td>\n",
       "      <td>blocked</td>\n",
       "      <td>0.571429</td>\n",
       "      <td>4.428571</td>\n",
       "    </tr>\n",
       "    <tr>\n",
       "      <th>814</th>\n",
       "      <td>It is cute how TheGracefulSlick came over to me in your defense. I guess a lackey will do anything to please their master. It is a shame the user did so because I have seen he has similar interests as you. Looks like you both have made several unnotable articles. Once I read through your pages, I'll turn to his as well. Sorry, as much as this seems impossible to believe, it isn't personal. However, after seeing page after page of irrelevant bands being added to the list of garage rock bands, I couldn't stand it anymore. Oh, by the way, if you slander me by calling me a sockpuppet again, I will report you, and you will be blocked, so choose words carefully if you want to at least comment at deletion pages. Also, if that Slick guy responds at those pages again, I can have you blocked for canvasing. Make sure he gets the memo, you really have a lot to learn about how Wikipedia works. How do you like my new username, I think it is most appropriate. Ta-ta.</td>\n",
       "      <td>blocked</td>\n",
       "      <td>0.571429</td>\n",
       "      <td>4.571429</td>\n",
       "    </tr>\n",
       "    <tr>\n",
       "      <th>489</th>\n",
       "      <td>Oh, sure! That old chestnut… Ah, and to think I was about to ask if you had that idiom in Yankland—you own it!\\nNow, listen up, American worm: I have 614 pages on my watchlist so far. I'd also ask you to keep in mind that I have incredible power.\\nAlso, please, do not misunderstand my keeping out that edit on Juan Cole. It honestly was just that Mediaite (sp?) cannot be considered RS, as well you knew. I am not interested in defending that maggot—\"Let's invade Libya! It will be totally cool!\"—because Cole pronounces himself a person of the Left. If you want to fire reams of criticism into his article, be my guest. Truth told, there is already some embarrassingly precarious synth criticism of him inserted by me. I ought to snip it out, but I just can't find the time, you know?\\nContinuing with Cole: I do think the bit about the \"far right-wing Jews\" is just the usual attempt at smear with antisemitism (he's a critic of Israel, as you know). He, of course, knew this would happen, whi...</td>\n",
       "      <td>blocked</td>\n",
       "      <td>0.571429</td>\n",
       "      <td>4.571429</td>\n",
       "    </tr>\n",
       "    <tr>\n",
       "      <th>434</th>\n",
       "      <td>Guess what \\n\\nThe tories won and IT IS ALL YOUR FAULT.\\n\\nif you had caused this story to dominate the headlines the results would have been entirely different</td>\n",
       "      <td>blocked</td>\n",
       "      <td>0.571429</td>\n",
       "      <td>4.571429</td>\n",
       "    </tr>\n",
       "  </tbody>\n",
       "</table>\n",
       "</div>"
      ],
      "text/plain": [
       "                                                                                                                                                                                                                                                                                                                                                                                                                                                                                                                                                                                                                                                                                                                                                                                                                                                                                                                                                                                                                                   clean_diff  \\\n",
       "1257                                                                                                                                                                                                                                                                                                                                                                                                                                                            Racist \\n\\nYou are a racist, and the only reason you still exist here is because you are the \"safe\" kind of racist. The kind that isn't white. You also have severe issues with insecurity, as you see the entire world against you and other Chinese, or Asians in general, and therefore you feel the need to constantly lash out at incorrectly perceived white and European \"bias\" and \"pride\" in all sorts of places where it is absent. If you were white and acting the exact same way against anything non-Western and/or non-white, you'd have been banned long ago.   \n",
       "720   ok... that's fine you can take the U.S out of that part ,but if a device is released the following year or later it is  considered its SUCCESSOR hence why someone would put !st or 2nd etc..because you't have 2 deices be called absolutely the same thing because they're not , they have different hardware , software and spec and its from the same maker and family model hence why its referenced as 1st gen etc etc...so how do you explain apple's devices? lol...the clealy release a new iphone every year and other hardware makers do so as well..the word generation means something or someone of the same family but with newer hardware released or born later..in hardware its usually a yearly thing..but if you prefer a model number which is more specific i'm willing to compromise that, the point is you can't name it the smae thing if its not the same exact product, you have to put something to tell them apart and i don't think its enough to just put a year the said model was released (xxxx), ...   \n",
       "814                                   It is cute how TheGracefulSlick came over to me in your defense. I guess a lackey will do anything to please their master. It is a shame the user did so because I have seen he has similar interests as you. Looks like you both have made several unnotable articles. Once I read through your pages, I'll turn to his as well. Sorry, as much as this seems impossible to believe, it isn't personal. However, after seeing page after page of irrelevant bands being added to the list of garage rock bands, I couldn't stand it anymore. Oh, by the way, if you slander me by calling me a sockpuppet again, I will report you, and you will be blocked, so choose words carefully if you want to at least comment at deletion pages. Also, if that Slick guy responds at those pages again, I can have you blocked for canvasing. Make sure he gets the memo, you really have a lot to learn about how Wikipedia works. How do you like my new username, I think it is most appropriate. Ta-ta.     \n",
       "489   Oh, sure! That old chestnut… Ah, and to think I was about to ask if you had that idiom in Yankland—you own it!\\nNow, listen up, American worm: I have 614 pages on my watchlist so far. I'd also ask you to keep in mind that I have incredible power.\\nAlso, please, do not misunderstand my keeping out that edit on Juan Cole. It honestly was just that Mediaite (sp?) cannot be considered RS, as well you knew. I am not interested in defending that maggot—\"Let's invade Libya! It will be totally cool!\"—because Cole pronounces himself a person of the Left. If you want to fire reams of criticism into his article, be my guest. Truth told, there is already some embarrassingly precarious synth criticism of him inserted by me. I ought to snip it out, but I just can't find the time, you know?\\nContinuing with Cole: I do think the bit about the \"far right-wing Jews\" is just the usual attempt at smear with antisemitism (he's a critic of Israel, as you know). He, of course, knew this would happen, whi...   \n",
       "434                                                                                                                                                                                                                                                                                                                                                                                                                                                                                                                                                                                                                                                                                                                                                                                                                                                                          Guess what \\n\\nThe tories won and IT IS ALL YOUR FAULT.\\n\\nif you had caused this story to dominate the headlines the results would have been entirely different   \n",
       "\n",
       "     dat_type  is_harassment_or_attack  how_aggressive_or_friendly_is_the_tone_of_this_comment  \n",
       "1257   random                 0.714286                                                4.285714  \n",
       "720   blocked                 0.571429                                                4.428571  \n",
       "814   blocked                 0.571429                                                4.571429  \n",
       "489   blocked                 0.571429                                                4.571429  \n",
       "434   blocked                 0.571429                                                4.571429  "
      ]
     },
     "execution_count": 26,
     "metadata": {},
     "output_type": "execute_result"
    }
   ],
   "source": [
    "# Least aggressive comments that are considered harassment or a personal attack\n",
    "sorted_comments(grouped_dat[grouped_dat['is_harassment_or_attack'] > 0.5], 'how_aggressive_or_friendly_is_the_tone_of_this_comment', True, 0, 5)"
   ]
  },
  {
   "cell_type": "code",
   "execution_count": 27,
   "metadata": {
    "collapsed": false
   },
   "outputs": [
    {
     "data": {
      "text/html": [
       "<div>\n",
       "<table border=\"1\" class=\"dataframe\">\n",
       "  <thead>\n",
       "    <tr style=\"text-align: right;\">\n",
       "      <th></th>\n",
       "      <th>clean_diff</th>\n",
       "      <th>dat_type</th>\n",
       "      <th>is_harassment_or_attack</th>\n",
       "      <th>how_aggressive_or_friendly_is_the_tone_of_this_comment</th>\n",
       "    </tr>\n",
       "  </thead>\n",
       "  <tbody>\n",
       "    <tr>\n",
       "      <th>746</th>\n",
       "      <td>I will fuck the whole wikipedia!!!</td>\n",
       "      <td>blocked</td>\n",
       "      <td>0.428571</td>\n",
       "      <td>6.428571</td>\n",
       "    </tr>\n",
       "    <tr>\n",
       "      <th>618</th>\n",
       "      <td>Which part of this reply did you not understand? Replying when you cast aspersions at me and others is not \"trolling\". Calling this edit \"a transparent attempt to bait me\" is just bizarre. Think again about your definitions of trolling and baiting, please.   ???\\nOr this one: I assume you would claim that \"Political Horseshit not focused on improving the article\" with the edit summary \"Fuck this shit\" is not \"casting aspersions\" (or, indeed, \"trolling\"!) - which is where the problems all began. You'd be wrong.   ???</td>\n",
       "      <td>blocked</td>\n",
       "      <td>0.428571</td>\n",
       "      <td>6.000000</td>\n",
       "    </tr>\n",
       "    <tr>\n",
       "      <th>390</th>\n",
       "      <td>The Graceful Slick....\\nIs non other than an ungraceful dick!81.153.48.177  23:19, 30 May 2015 (UTC)</td>\n",
       "      <td>blocked</td>\n",
       "      <td>0.428571</td>\n",
       "      <td>6.000000</td>\n",
       "    </tr>\n",
       "    <tr>\n",
       "      <th>1228</th>\n",
       "      <td>nigga wut you lying croak dfavors my cousin so fuck u</td>\n",
       "      <td>random</td>\n",
       "      <td>0.428571</td>\n",
       "      <td>5.857143</td>\n",
       "    </tr>\n",
       "    <tr>\n",
       "      <th>619</th>\n",
       "      <td>I don't give a fuck. I just want to point out that responding to you casting aspersions like the above, and your previous comment, and most of your recent comments in fact, is not baiting.</td>\n",
       "      <td>blocked</td>\n",
       "      <td>0.428571</td>\n",
       "      <td>5.714286</td>\n",
       "    </tr>\n",
       "  </tbody>\n",
       "</table>\n",
       "</div>"
      ],
      "text/plain": [
       "                                                                                                                                                                                                                                                                                                                                                                                                                                                                                                                                       clean_diff dat_type  is_harassment_or_attack  how_aggressive_or_friendly_is_the_tone_of_this_comment\n",
       "746                                                                                                                                                                                                                                                                                                                                                                                                                                                                                                            I will fuck the whole wikipedia!!!  blocked                 0.428571                                                6.428571\n",
       "618   Which part of this reply did you not understand? Replying when you cast aspersions at me and others is not \"trolling\". Calling this edit \"a transparent attempt to bait me\" is just bizarre. Think again about your definitions of trolling and baiting, please.   ???\\nOr this one: I assume you would claim that \"Political Horseshit not focused on improving the article\" with the edit summary \"Fuck this shit\" is not \"casting aspersions\" (or, indeed, \"trolling\"!) - which is where the problems all began. You'd be wrong.   ???    blocked                 0.428571                                                6.000000\n",
       "390                                                                                                                                                                                                                                                                                                                                                                                                                                          The Graceful Slick....\\nIs non other than an ungraceful dick!81.153.48.177  23:19, 30 May 2015 (UTC)  blocked                 0.428571                                                6.000000\n",
       "1228                                                                                                                                                                                                                                                                                                                                                                                                                                                                                        nigga wut you lying croak dfavors my cousin so fuck u   random                 0.428571                                                5.857143\n",
       "619                                                                                                                                                                                                                                                                                                                                               I don't give a fuck. I just want to point out that responding to you casting aspersions like the above, and your previous comment, and most of your recent comments in fact, is not baiting.     blocked                 0.428571                                                5.714286"
      ]
     },
     "execution_count": 27,
     "metadata": {},
     "output_type": "execute_result"
    }
   ],
   "source": [
    "# Most aggressive comments that are NOT considered harassment or a personal attack\n",
    "sorted_comments(grouped_dat[grouped_dat['is_harassment_or_attack'] < 0.5], 'how_aggressive_or_friendly_is_the_tone_of_this_comment', False, 0, 5)"
   ]
  },
  {
   "cell_type": "markdown",
   "metadata": {
    "collapsed": true
   },
   "source": [
    "### Inter-Annotator Agreement"
   ]
  },
  {
   "cell_type": "markdown",
   "metadata": {},
   "source": [
    "Below, we compute the Krippendorf's Alpha, which is a measure of the inter-annotator agreement of our Crowdflower responses. We achieve an Alpha value of 0.489 on our dataset, which is relatively low. We have since decided to reframe our questions and have achieved a higher Alpha score (see Experiment v. 2)."
   ]
  },
  {
   "cell_type": "code",
   "execution_count": 28,
   "metadata": {
    "collapsed": true
   },
   "outputs": [],
   "source": [
    "def add_row_to_coincidence(o, row, columns):\n",
    "    m_u = row.sum(1)\n",
    "    for i in columns:\n",
    "        for j in columns:\n",
    "            if i == j:\n",
    "                o[i][j] = o[i][j] + row[i]*(row[i]-1)/(m_u-1)\n",
    "            else:\n",
    "                o[i][j] = o[i][j] + row[i]*row[j]/(m_u-1)\n",
    "    return o"
   ]
  },
  {
   "cell_type": "code",
   "execution_count": 29,
   "metadata": {
    "collapsed": true
   },
   "outputs": [],
   "source": [
    "def make_coincidence_matrix(df, columns):\n",
    "    df = df[columns]\n",
    "    n = df.shape[0]\n",
    "    num_cols = len(columns)\n",
    "    o = pd.DataFrame(np.zeros((num_cols,num_cols)), index = columns, columns=columns)\n",
    "    for i in xrange(n):\n",
    "        o = add_row_to_coincidence(o, df[i:i+1], columns)\n",
    "    return o"
   ]
  },
  {
   "cell_type": "code",
   "execution_count": 30,
   "metadata": {
    "collapsed": true
   },
   "outputs": [],
   "source": [
    "def binary_distance(i,j):\n",
    "    return i!=j\n",
    "\n",
    "def interval_distance(i,j):\n",
    "    return (int(i)-int(j))**2"
   ]
  },
  {
   "cell_type": "code",
   "execution_count": 31,
   "metadata": {
    "collapsed": true
   },
   "outputs": [],
   "source": [
    "def e(n, i, j):\n",
    "    if i == j:\n",
    "        return n[i]*(n[i]-1)/sum(n)-1\n",
    "    else:\n",
    "        return n[i]*n[j]/sum(n)-1\n",
    "\n",
    "def D_e(o, columns, distance):\n",
    "    n = o.sum(1)\n",
    "    output = 0\n",
    "    for i in columns:\n",
    "        for j in columns:\n",
    "            output = output + e(n,i,j)*distance(i,j)\n",
    "    return output\n",
    "\n",
    "def D_o(o, columns, distance):\n",
    "    output = 0\n",
    "    for i in columns:\n",
    "        for j in columns:\n",
    "            output = output + o[i][j]*distance(i,j)\n",
    "    return output"
   ]
  },
  {
   "cell_type": "code",
   "execution_count": 32,
   "metadata": {
    "collapsed": true
   },
   "outputs": [],
   "source": [
    "def Krippendorf_alpha(df, columns, distance = binary_distance, o = None):\n",
    "    if o is None:\n",
    "        o = make_coincidence_matrix(df, columns)\n",
    "    d_o = D_o(o, columns, distance)\n",
    "    d_e = D_e(o, columns, distance)\n",
    "    return (1 - d_o/d_e)"
   ]
  },
  {
   "cell_type": "code",
   "execution_count": 33,
   "metadata": {
    "collapsed": true
   },
   "outputs": [],
   "source": [
    "df = grouped_dat[grouped_dat['dat_type'] == 'blocked']"
   ]
  },
  {
   "cell_type": "code",
   "execution_count": 34,
   "metadata": {
    "collapsed": false
   },
   "outputs": [
    {
     "data": {
      "text/plain": [
       "0.4886315361459096"
      ]
     },
     "execution_count": 34,
     "metadata": {},
     "output_type": "execute_result"
    }
   ],
   "source": [
    "Krippendorf_alpha(df, aggressive_columns, distance = interval_distance)"
   ]
  },
  {
   "cell_type": "code",
   "execution_count": 35,
   "metadata": {
    "collapsed": false
   },
   "outputs": [
    {
     "data": {
      "text/plain": [
       "0.40970574161297302"
      ]
     },
     "execution_count": 35,
     "metadata": {},
     "output_type": "execute_result"
    }
   ],
   "source": [
    "Krippendorf_alpha(df, blocked_columns)"
   ]
  },
  {
   "cell_type": "code",
   "execution_count": 36,
   "metadata": {
    "collapsed": true
   },
   "outputs": [],
   "source": [
    "df = grouped_dat[grouped_dat['dat_type'] == 'random']"
   ]
  },
  {
   "cell_type": "code",
   "execution_count": 37,
   "metadata": {
    "collapsed": false
   },
   "outputs": [
    {
     "data": {
      "text/plain": [
       "0.30144840760255176"
      ]
     },
     "execution_count": 37,
     "metadata": {},
     "output_type": "execute_result"
    }
   ],
   "source": [
    "Krippendorf_alpha(df, aggressive_columns, distance = interval_distance)"
   ]
  },
  {
   "cell_type": "code",
   "execution_count": 38,
   "metadata": {
    "collapsed": false
   },
   "outputs": [
    {
     "data": {
      "text/plain": [
       "0.19031696568901457"
      ]
     },
     "execution_count": 38,
     "metadata": {},
     "output_type": "execute_result"
    }
   ],
   "source": [
    "Krippendorf_alpha(df, blocked_columns)"
   ]
  }
 ],
 "metadata": {
  "kernelspec": {
   "display_name": "Python 2",
   "language": "python",
   "name": "python2"
  },
  "language_info": {
   "codemirror_mode": {
    "name": "ipython",
    "version": 2
   },
   "file_extension": ".py",
   "mimetype": "text/x-python",
   "name": "python",
   "nbconvert_exporter": "python",
   "pygments_lexer": "ipython2",
   "version": "2.7.11"
  }
 },
 "nbformat": 4,
 "nbformat_minor": 0
}
