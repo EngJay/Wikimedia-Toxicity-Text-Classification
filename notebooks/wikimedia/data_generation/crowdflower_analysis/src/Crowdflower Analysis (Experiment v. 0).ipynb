{
 "cells": [
  {
   "cell_type": "markdown",
   "metadata": {},
   "source": [
    "### Introduction"
   ]
  },
  {
   "cell_type": "markdown",
   "metadata": {},
   "source": [
    "This notebook is an analysis of the Crowdflower labels of 1000 random revisions of Wikipedia talk pages. This dataset has been cleaned and filtered to remove common administrator messages. These datasets are annotated via crowdflower to measure friendliness, aggressiveness and whether the comment constitutes a personal attack. \n",
    "\n",
    "On Crowdflower, each revision is rated 7 times. The raters are given two questions:\n",
    "\n",
    "1. How aggressive or friendly is the tone of this comment?\n",
    "    * Ranges from ‘Very Aggressive’ (2) to ‘Very Friendly’ (-2)\n",
    "    * Includes an ‘N/A’ value for comments that aren’t in English or human-readable.\n",
    "2. Is this an example of harassment or a personal attack?\n",
    "    * Values are ‘Yes’ (1), ‘No’ (0), and ‘N/A’ (‘N/A’)\n",
    "\n",
    "\n",
    "Below, we plot histograms of the units by average rating of each of the questions, examine quantiles of answers, and compute inter-annotator agreement."
   ]
  },
  {
   "cell_type": "markdown",
   "metadata": {},
   "source": [
    "### Loading packages and data"
   ]
  },
  {
   "cell_type": "code",
   "execution_count": 1,
   "metadata": {
    "collapsed": false
   },
   "outputs": [],
   "source": [
    "%matplotlib inline\n",
    "from __future__ import division\n",
    "import pandas as pd\n",
    "import numpy as np\n",
    "import matplotlib.pyplot as plt"
   ]
  },
  {
   "cell_type": "code",
   "execution_count": 2,
   "metadata": {
    "collapsed": false
   },
   "outputs": [],
   "source": [
    "pd.set_option('display.max_colwidth', 1000)"
   ]
  },
  {
   "cell_type": "code",
   "execution_count": 3,
   "metadata": {
    "collapsed": false
   },
   "outputs": [],
   "source": [
    "# Download data from google drive (Respect Eng / Wiki Collab): wikipdia data/v0_annotated\n",
    "dat = pd.read_csv('../data/experiment-0.csv')"
   ]
  },
  {
   "cell_type": "code",
   "execution_count": 4,
   "metadata": {
    "collapsed": false
   },
   "outputs": [],
   "source": [
    "# Remove test questions\n",
    "dat = dat[dat['_golden'] == False]"
   ]
  },
  {
   "cell_type": "code",
   "execution_count": 7,
   "metadata": {
    "collapsed": true
   },
   "outputs": [],
   "source": [
    "dat['num_aggressive_na'] = np.isnan(dat['how_aggressive_or_friendly'])\n",
    "dat['num_attack_na'] = np.isnan(dat['is_harassment_or_attack'])"
   ]
  },
  {
   "cell_type": "code",
   "execution_count": 8,
   "metadata": {
    "collapsed": false
   },
   "outputs": [],
   "source": [
    "def create_column_of_counts_from_nums(df, col):\n",
    "    return df.apply(lambda x: int(col) == x)"
   ]
  },
  {
   "cell_type": "code",
   "execution_count": 9,
   "metadata": {
    "collapsed": true
   },
   "outputs": [],
   "source": [
    "aggressive_columns = ['-2', '-1', '0', '1', '2']"
   ]
  },
  {
   "cell_type": "code",
   "execution_count": 10,
   "metadata": {
    "collapsed": false
   },
   "outputs": [],
   "source": [
    "for col in aggressive_columns:\n",
    "    dat[col] = create_column_of_counts_from_nums(dat['how_aggressive_or_friendly'], col)"
   ]
  },
  {
   "cell_type": "code",
   "execution_count": 11,
   "metadata": {
    "collapsed": false
   },
   "outputs": [],
   "source": [
    "dat['not_attack_1'] = 1 - dat['is_harassment_or_attack']\n",
    "dat['not_attack_0'] = dat['is_harassment_or_attack']"
   ]
  },
  {
   "cell_type": "code",
   "execution_count": 12,
   "metadata": {
    "collapsed": false
   },
   "outputs": [],
   "source": [
    "# Group the data\n",
    "agg_dict = dict.fromkeys(aggressive_columns, 'sum')\n",
    "agg_dict.update({'clean_diff': 'first', 'num_aggressive_na': 'sum', 'num_attack_na': 'sum',\n",
    "                 '_id':'count', 'not_attack_0':'sum', 'not_attack_1': 'sum'})\n",
    "grouped_dat = dat.groupby(['rev_id'], as_index=False).agg(agg_dict)"
   ]
  },
  {
   "cell_type": "code",
   "execution_count": 13,
   "metadata": {
    "collapsed": false
   },
   "outputs": [],
   "source": [
    "# Get rid of data which the majority thinks is not in English or not readable\n",
    "grouped_dat = grouped_dat[(grouped_dat['num_aggressive_na'] <= grouped_dat['_id']/2) & (grouped_dat['num_attack_na'] <= grouped_dat['_id']/2)]"
   ]
  },
  {
   "cell_type": "code",
   "execution_count": 14,
   "metadata": {
    "collapsed": true
   },
   "outputs": [],
   "source": [
    "def compute_aggression_score(x, cols):\n",
    "    n = 0\n",
    "    s = 0\n",
    "    for col in cols:\n",
    "        s = s + x[col]*int(col)\n",
    "        n = n + x[col]\n",
    "    return s/n"
   ]
  },
  {
   "cell_type": "code",
   "execution_count": 15,
   "metadata": {
    "collapsed": false
   },
   "outputs": [],
   "source": [
    "grouped_dat['aggression_score'] = grouped_dat[aggressive_columns].dot([-2,-1,0,1,2])/grouped_dat['_id']"
   ]
  },
  {
   "cell_type": "code",
   "execution_count": 16,
   "metadata": {
    "collapsed": false
   },
   "outputs": [],
   "source": [
    "grouped_dat['attack_score'] = grouped_dat['not_attack_0']/grouped_dat['_id']"
   ]
  },
  {
   "cell_type": "markdown",
   "metadata": {},
   "source": [
    "### Plot histogram of average ratings by revision"
   ]
  },
  {
   "cell_type": "markdown",
   "metadata": {},
   "source": [
    "For each revision, we take the average of all the ratings by level of friendliness/aggressiveness and for each of the answers to Question 3. The histograms of these averages is displayed below."
   ]
  },
  {
   "cell_type": "code",
   "execution_count": 17,
   "metadata": {
    "collapsed": false
   },
   "outputs": [],
   "source": [
    "def hist_comments(df, bins, plot_by, title):\n",
    "    plt.figure()\n",
    "    sliced_array = df[[plot_by]]\n",
    "    weights = np.ones_like(sliced_array)/len(sliced_array)\n",
    "    sliced_array.plot.hist(bins = bins, legend = False, title = title, weights=weights)\n",
    "    plt.ylabel('Proportion')\n",
    "    plt.xlabel('Average Score')"
   ]
  },
  {
   "cell_type": "code",
   "execution_count": 35,
   "metadata": {
    "collapsed": false
   },
   "outputs": [
    {
     "data": {
      "text/plain": [
       "<matplotlib.figure.Figure at 0x10ce22ed0>"
      ]
     },
     "metadata": {},
     "output_type": "display_data"
    },
    {
     "data": {
      "image/png": "[encoded data removed]",
      "text/plain": [
       "<matplotlib.figure.Figure at 0x10d623690>"
      ]
     },
     "metadata": {},
     "output_type": "display_data"
    }
   ],
   "source": [
    "bins = np.linspace(-3,3,11)\n",
    "hist_comments(grouped_dat, bins, 'aggression_score', 'Average Aggressiveness Rating')"
   ]
  },
  {
   "cell_type": "code",
   "execution_count": 37,
   "metadata": {
    "collapsed": false
   },
   "outputs": [
    {
     "data": {
      "text/plain": [
       "<matplotlib.figure.Figure at 0x10ce22e90>"
      ]
     },
     "metadata": {},
     "output_type": "display_data"
    },
    {
     "data": {
      "image/png": "[encoded data removed]",
      "text/plain": [
       "<matplotlib.figure.Figure at 0x10c747e10>"
      ]
     },
     "metadata": {},
     "output_type": "display_data"
    }
   ],
   "source": [
    "bins = np.linspace(0,1,9)\n",
    "for col in ['attack_score']:\n",
    "    hist_comments(grouped_dat, bins, col, 'Average Attack Rating')"
   ]
  },
  {
   "cell_type": "markdown",
   "metadata": {},
   "source": [
    "### Selected harassing and aggressive revisions by quartile"
   ]
  },
  {
   "cell_type": "markdown",
   "metadata": {},
   "source": [
    "We look at a sample of revisions whose average aggressive score falls into various quantiles. This allows us to subjectively evaluate the quality of the questions that we are asking on Crowdflower."
   ]
  },
  {
   "cell_type": "code",
   "execution_count": 22,
   "metadata": {
    "collapsed": false
   },
   "outputs": [],
   "source": [
    "def sorted_comments(df, sort_by, quartile, num, is_ascending = True):\n",
    "    n = df.shape[0]\n",
    "    start_index = int(quartile*n)\n",
    "    return df[['clean_diff', 'aggression_score', 'attack_score']].sort_values(\n",
    "        by=sort_by, ascending = is_ascending)[start_index:start_index + num]"
   ]
  },
  {
   "cell_type": "code",
   "execution_count": 23,
   "metadata": {
    "collapsed": false,
    "scrolled": true
   },
   "outputs": [
    {
     "data": {
      "text/html": [
       "<div>\n",
       "<table border=\"1\" class=\"dataframe\">\n",
       "  <thead>\n",
       "    <tr style=\"text-align: right;\">\n",
       "      <th></th>\n",
       "      <th>clean_diff</th>\n",
       "      <th>aggression_score</th>\n",
       "      <th>attack_score</th>\n",
       "    </tr>\n",
       "  </thead>\n",
       "  <tbody>\n",
       "    <tr>\n",
       "      <th>877</th>\n",
       "      <td>Thanks so much for your friendly welcome User:WillKomen. I can't wait to start editing! Ciaoyen (talk) 17:30, 15 October 2015 (UTC)</td>\n",
       "      <td>-1.142857</td>\n",
       "      <td>0</td>\n",
       "    </tr>\n",
       "    <tr>\n",
       "      <th>500</th>\n",
       "      <td>Welcome!\\n\\nHello, Sameer yousef khan, and welcome to Wikipedia! Thank you for your contributions. I hope you like the place and decide to stay. Unfortunately, one or more of your edits to the page :Rohit Shetty have not conformed to Wikipedia's verifiability policy, and may be removed if they have not yet been. Wikipedia articles should refer only to facts and interpretations that have been stated in print or on reputable websites or other forms of media. Always remember to provide a reliable source for quotations and for any material that is likely to be challenged, or it may be removed. Wikipedia also has a related policy against including original research in articles. Additionally, all new biographies of living people must contain at least one reliable source.\\n\\nIf you are stuck and looking for help, please see the guide for citing sources or come to the new contributors' help page, where experienced Wikipedians can answer any queries you have! Here are a few other good links...</td>\n",
       "      <td>-1.142857</td>\n",
       "      <td>0</td>\n",
       "    </tr>\n",
       "    <tr>\n",
       "      <th>290</th>\n",
       "      <td>Barnstar of Awesome\\n 300px|link= Barnstar of Awesome You are hereby awarded the Barnstar of Awesome for your amazing work adding published reliable sources, neutral and relevant information, clear formatting and beautiful images to the Wikipedia Adventure article on Earth. Keep up the stellar job you're doing. Yay you!\\n--GaiaGirl86 (talk)</td>\n",
       "      <td>-1.142857</td>\n",
       "      <td>0</td>\n",
       "    </tr>\n",
       "    <tr>\n",
       "      <th>50</th>\n",
       "      <td>Thanks so much for your friendly welcome User:WillKomen. I can't wait to start editing! Quincy101 (talk) 22:21, 30 March 2014 (UTC)</td>\n",
       "      <td>-1.142857</td>\n",
       "      <td>0</td>\n",
       "    </tr>\n",
       "    <tr>\n",
       "      <th>316</th>\n",
       "      <td>Welcome! \\n\\nHello, Thomasabardin, and welcome to Wikipedia! Thank you for your contributions. I hope you like the place and decide to stay. Unfortunately, one or more of the pages you created, such as Castle Key, may not conform to some of Wikipedia's guidelines, and may not be retained. \\n\\nThere's a page about creating articles you may want to read called Your first article. If you are stuck, and looking for help, please come to the Teahouse, where experienced Wikipedians can answer any queries you have! Or, you can just type  on this page, followed by your question, and someone will show up shortly to answer your questions. Here are a few other good links for newcomers:\\n Starting an article\\n Your first article\\n Contributing to Wikipedia\\n Biographies of living persons\\n How to write a great article\\n The five pillars of Wikipedia\\n Help pages\\n Tutorial\\nI hope you enjoy editing here and being a Wikipedian! Please sign your name on talk pages using four tildes (~~~~); this ...</td>\n",
       "      <td>-1.000000</td>\n",
       "      <td>0</td>\n",
       "    </tr>\n",
       "  </tbody>\n",
       "</table>\n",
       "</div>"
      ],
      "text/plain": [
       "                                                                                                                                                                                                                                                                                                                                                                                                                                                                                                                                                                                                                                                                                                                                                                                                                                                                                                                                                                                                                                  clean_diff  \\\n",
       "877                                                                                                                                                                                                                                                                                                                                                                                                                                                                                                                                                                                                                                                                                                                                                                                                                                                                                                      Thanks so much for your friendly welcome User:WillKomen. I can't wait to start editing! Ciaoyen (talk) 17:30, 15 October 2015 (UTC)   \n",
       "500  Welcome!\\n\\nHello, Sameer yousef khan, and welcome to Wikipedia! Thank you for your contributions. I hope you like the place and decide to stay. Unfortunately, one or more of your edits to the page :Rohit Shetty have not conformed to Wikipedia's verifiability policy, and may be removed if they have not yet been. Wikipedia articles should refer only to facts and interpretations that have been stated in print or on reputable websites or other forms of media. Always remember to provide a reliable source for quotations and for any material that is likely to be challenged, or it may be removed. Wikipedia also has a related policy against including original research in articles. Additionally, all new biographies of living people must contain at least one reliable source.\\n\\nIf you are stuck and looking for help, please see the guide for citing sources or come to the new contributors' help page, where experienced Wikipedians can answer any queries you have! Here are a few other good links...   \n",
       "290                                                                                                                                                                                                                                                                                                                                                                                                                                                                                                                                                                                                                                                                                  Barnstar of Awesome\\n 300px|link= Barnstar of Awesome You are hereby awarded the Barnstar of Awesome for your amazing work adding published reliable sources, neutral and relevant information, clear formatting and beautiful images to the Wikipedia Adventure article on Earth. Keep up the stellar job you're doing. Yay you!\\n--GaiaGirl86 (talk)    \n",
       "50                                                                                                                                                                                                                                                                                                                                                                                                                                                                                                                                                                                                                                                                                                                                                                                                                                                                                                       Thanks so much for your friendly welcome User:WillKomen. I can't wait to start editing! Quincy101 (talk) 22:21, 30 March 2014 (UTC)   \n",
       "316   Welcome! \\n\\nHello, Thomasabardin, and welcome to Wikipedia! Thank you for your contributions. I hope you like the place and decide to stay. Unfortunately, one or more of the pages you created, such as Castle Key, may not conform to some of Wikipedia's guidelines, and may not be retained. \\n\\nThere's a page about creating articles you may want to read called Your first article. If you are stuck, and looking for help, please come to the Teahouse, where experienced Wikipedians can answer any queries you have! Or, you can just type  on this page, followed by your question, and someone will show up shortly to answer your questions. Here are a few other good links for newcomers:\\n Starting an article\\n Your first article\\n Contributing to Wikipedia\\n Biographies of living persons\\n How to write a great article\\n The five pillars of Wikipedia\\n Help pages\\n Tutorial\\nI hope you enjoy editing here and being a Wikipedian! Please sign your name on talk pages using four tildes (~~~~); this ...   \n",
       "\n",
       "     aggression_score  attack_score  \n",
       "877         -1.142857             0  \n",
       "500         -1.142857             0  \n",
       "290         -1.142857             0  \n",
       "50          -1.142857             0  \n",
       "316         -1.000000             0  "
      ]
     },
     "execution_count": 23,
     "metadata": {},
     "output_type": "execute_result"
    }
   ],
   "source": [
    "# Least aggressive comments\n",
    "sorted_comments(grouped_dat, 'aggression_score', 0, 5)"
   ]
  },
  {
   "cell_type": "code",
   "execution_count": 24,
   "metadata": {
    "collapsed": false
   },
   "outputs": [
    {
     "data": {
      "text/html": [
       "<div>\n",
       "<table border=\"1\" class=\"dataframe\">\n",
       "  <thead>\n",
       "    <tr style=\"text-align: right;\">\n",
       "      <th></th>\n",
       "      <th>clean_diff</th>\n",
       "      <th>aggression_score</th>\n",
       "      <th>attack_score</th>\n",
       "    </tr>\n",
       "  </thead>\n",
       "  <tbody>\n",
       "    <tr>\n",
       "      <th>849</th>\n",
       "      <td>25px|alt=Information icon Hello, I'm Materialscientist. I noticed that you made an edit concerning content related to a living (or recently deceased) person, but you didn't support your changes with a citation to a reliable source, so I removed it. Wikipedia has a very strict policy concerning how we write about living people, so please help us keep such articles accurate and clear. If you think I made a mistake, or if you have any questions, you can leave me a message on my talk page. Thank you!  Materialscientist (talk) 03:39, 3 October 2015 (UTC)</td>\n",
       "      <td>0</td>\n",
       "      <td>0</td>\n",
       "    </tr>\n",
       "    <tr>\n",
       "      <th>850</th>\n",
       "      <td>You should open an SPI if you suspect socking. And it's probably in your best interest to provide edit summaries and/or a note on the talk page lest an admin who's not paying attention decides it's a standard edit war and blocks you both. --NeilN talk to me 04:09, 3 October 2015 (UTC)</td>\n",
       "      <td>0</td>\n",
       "      <td>0</td>\n",
       "    </tr>\n",
       "    <tr>\n",
       "      <th>819</th>\n",
       "      <td>Not if you can't demonstrate with reliable and neutral sources that they actually exist. George Custer's Sabre (talk) 17:47, 10 September 2015 (UTC)</td>\n",
       "      <td>0</td>\n",
       "      <td>0</td>\n",
       "    </tr>\n",
       "    <tr>\n",
       "      <th>650</th>\n",
       "      <td>Oh! Iam so sorry, Its here Ekta Kaul's Biography]. --Roshan014Talk 15:59, 23 May 2015 (UTC)</td>\n",
       "      <td>0</td>\n",
       "      <td>0</td>\n",
       "    </tr>\n",
       "    <tr>\n",
       "      <th>654</th>\n",
       "      <td>Speedy deletion nomination of :Mitchell (Mitch) Melvin Forte III\\n48px|left|alt=|link=\\n\\nA tag has been placed on :Mitchell (Mitch) Melvin Forte III requesting that it be speedily deleted from Wikipedia. This has been done under section A7 of the criteria for speedy deletion, because the article appears to be about a person or group of people, but it does not indicate how or why the subject is important or significant: that is, why an article about that subject should be included in an encyclopedia. Under the criteria for speedy deletion, such articles may be deleted at any time. Please read more about what is generally accepted as notable. \\n\\nIf you think this page should not be deleted for this reason, you may contest the nomination by visiting the page and clicking the button labelled \"Click here to contest this speedy deletion\". This will give you the opportunity to explain why you believe the page should not be deleted. However, be aware that once a page is tagged for speedy...</td>\n",
       "      <td>0</td>\n",
       "      <td>0</td>\n",
       "    </tr>\n",
       "  </tbody>\n",
       "</table>\n",
       "</div>"
      ],
      "text/plain": [
       "                                                                                                                                                                                                                                                                                                                                                                                                                                                                                                                                                                                                                                                                                                                                                                                                                                                                                                                                                                                                                                  clean_diff  \\\n",
       "849                                                                                                                                                                                                                                                                                                                                                                                                                                                              25px|alt=Information icon Hello, I'm Materialscientist. I noticed that you made an edit concerning content related to a living (or recently deceased) person, but you didn't support your changes with a citation to a reliable source, so I removed it. Wikipedia has a very strict policy concerning how we write about living people, so please help us keep such articles accurate and clear. If you think I made a mistake, or if you have any questions, you can leave me a message on my talk page. Thank you!  Materialscientist (talk) 03:39, 3 October 2015 (UTC)   \n",
       "850                                                                                                                                                                                                                                                                                                                                                                                                                                                                                                                                                                                                                                                                                                                                            You should open an SPI if you suspect socking. And it's probably in your best interest to provide edit summaries and/or a note on the talk page lest an admin who's not paying attention decides it's a standard edit war and blocks you both. --NeilN talk to me 04:09, 3 October 2015 (UTC)   \n",
       "819                                                                                                                                                                                                                                                                                                                                                                                                                                                                                                                                                                                                                                                                                                                                                                                                                                                                                     Not if you can't demonstrate with reliable and neutral sources that they actually exist. George Custer's Sabre (talk) 17:47, 10 September 2015 (UTC)   \n",
       "650                                                                                                                                                                                                                                                                                                                                                                                                                                                                                                                                                                                                                                                                                                                                                                                                                                                                                                                                              Oh! Iam so sorry, Its here Ekta Kaul's Biography]. --Roshan014Talk 15:59, 23 May 2015 (UTC)   \n",
       "654  Speedy deletion nomination of :Mitchell (Mitch) Melvin Forte III\\n48px|left|alt=|link=\\n\\nA tag has been placed on :Mitchell (Mitch) Melvin Forte III requesting that it be speedily deleted from Wikipedia. This has been done under section A7 of the criteria for speedy deletion, because the article appears to be about a person or group of people, but it does not indicate how or why the subject is important or significant: that is, why an article about that subject should be included in an encyclopedia. Under the criteria for speedy deletion, such articles may be deleted at any time. Please read more about what is generally accepted as notable. \\n\\nIf you think this page should not be deleted for this reason, you may contest the nomination by visiting the page and clicking the button labelled \"Click here to contest this speedy deletion\". This will give you the opportunity to explain why you believe the page should not be deleted. However, be aware that once a page is tagged for speedy...   \n",
       "\n",
       "     aggression_score  attack_score  \n",
       "849                 0             0  \n",
       "850                 0             0  \n",
       "819                 0             0  \n",
       "650                 0             0  \n",
       "654                 0             0  "
      ]
     },
     "execution_count": 24,
     "metadata": {},
     "output_type": "execute_result"
    }
   ],
   "source": [
    "# Median aggressive comments\n",
    "sorted_comments(grouped_dat, 'aggression_score', 0.5, 5)"
   ]
  },
  {
   "cell_type": "code",
   "execution_count": 25,
   "metadata": {
    "collapsed": false,
    "scrolled": true
   },
   "outputs": [
    {
     "data": {
      "text/html": [
       "<div>\n",
       "<table border=\"1\" class=\"dataframe\">\n",
       "  <thead>\n",
       "    <tr style=\"text-align: right;\">\n",
       "      <th></th>\n",
       "      <th>clean_diff</th>\n",
       "      <th>aggression_score</th>\n",
       "      <th>attack_score</th>\n",
       "    </tr>\n",
       "  </thead>\n",
       "  <tbody>\n",
       "    <tr>\n",
       "      <th>636</th>\n",
       "      <td>im sick and tired of wikis bullshit, le tme live my life. this is americe bitch</td>\n",
       "      <td>1.142857</td>\n",
       "      <td>0.142857</td>\n",
       "    </tr>\n",
       "    <tr>\n",
       "      <th>627</th>\n",
       "      <td>What are you doing?? \\n\\nThe info you added does. not. reference. a. source. That's bad, bad, bad! Does anyone know even where this freakin' came from????  --Taggy McTaggerstein (talk)</td>\n",
       "      <td>1.000000</td>\n",
       "      <td>0.285714</td>\n",
       "    </tr>\n",
       "    <tr>\n",
       "      <th>607</th>\n",
       "      <td>That is bullshit. You can request the \"right to vanish\". Perhaps you should read your own EULA occasionally. Typical fascists.\\nJusthereforthefun (talk) 19:51, 24 April 2015 (UTC)</td>\n",
       "      <td>1.000000</td>\n",
       "      <td>0.285714</td>\n",
       "    </tr>\n",
       "    <tr>\n",
       "      <th>763</th>\n",
       "      <td>Shut your mouth and stop talking. good boy</td>\n",
       "      <td>1.000000</td>\n",
       "      <td>0.714286</td>\n",
       "    </tr>\n",
       "    <tr>\n",
       "      <th>380</th>\n",
       "      <td>non free image removal \\n\\nI see you dive-bombing the Graphics Workshop again removing non-free images leaving blank spots in your wake for others to fix or figure out. I would kindly ask that you don't be a dick and instead swap the offending image with {{GLNF|image.jpg}}. You might know the rules but often others don't. Being a dick about it isn't the most helpful way to go about fixing the problem. Of course one may say I'm trying to fix your problem by being a dick, but sometimes that's all someone being a dick understands. – JBarta (talk) 16:37, 10 November 2014 (UTC)</td>\n",
       "      <td>0.857143</td>\n",
       "      <td>0.428571</td>\n",
       "    </tr>\n",
       "  </tbody>\n",
       "</table>\n",
       "</div>"
      ],
      "text/plain": [
       "                                                                                                                                                                                                                                                                                                                                                                                                                                                                                                                                                                                               clean_diff  \\\n",
       "636                                                                                                                                                                                                                                                                                                                                                                                                                                                                                                                       im sick and tired of wikis bullshit, le tme live my life. this is americe bitch   \n",
       "627                                                                                                                                                                                                                                                                                                                                                                                                             What are you doing?? \\n\\nThe info you added does. not. reference. a. source. That's bad, bad, bad! Does anyone know even where this freakin' came from????  --Taggy McTaggerstein (talk)    \n",
       "607                                                                                                                                                                                                                                                                                                                                                                                                                   That is bullshit. You can request the \"right to vanish\". Perhaps you should read your own EULA occasionally. Typical fascists.\\nJusthereforthefun (talk) 19:51, 24 April 2015 (UTC)   \n",
       "763                                                                                                                                                                                                                                                                                                                                                                                                                                                                                                                                                            Shut your mouth and stop talking. good boy   \n",
       "380   non free image removal \\n\\nI see you dive-bombing the Graphics Workshop again removing non-free images leaving blank spots in your wake for others to fix or figure out. I would kindly ask that you don't be a dick and instead swap the offending image with {{GLNF|image.jpg}}. You might know the rules but often others don't. Being a dick about it isn't the most helpful way to go about fixing the problem. Of course one may say I'm trying to fix your problem by being a dick, but sometimes that's all someone being a dick understands. – JBarta (talk) 16:37, 10 November 2014 (UTC)   \n",
       "\n",
       "     aggression_score  attack_score  \n",
       "636          1.142857      0.142857  \n",
       "627          1.000000      0.285714  \n",
       "607          1.000000      0.285714  \n",
       "763          1.000000      0.714286  \n",
       "380          0.857143      0.428571  "
      ]
     },
     "execution_count": 25,
     "metadata": {},
     "output_type": "execute_result"
    }
   ],
   "source": [
    "# Most aggressive comments\n",
    "sorted_comments(grouped_dat, 'aggression_score', 0, 5, False)"
   ]
  },
  {
   "cell_type": "markdown",
   "metadata": {
    "collapsed": true
   },
   "source": [
    "### Inter-Annotator Agreement"
   ]
  },
  {
   "cell_type": "markdown",
   "metadata": {},
   "source": [
    "Below, we compute the Krippendorf's Alpha, which is a measure of the inter-annotator agreement of our Crowdflower responses. We achieve an Alpha value of 0.668 on our dataset, which is a relatively good level of inter-annotator agreement for this type of subjective inquiry."
   ]
  },
  {
   "cell_type": "code",
   "execution_count": 26,
   "metadata": {
    "collapsed": true
   },
   "outputs": [],
   "source": [
    "def add_row_to_coincidence(o, row, columns):\n",
    "    m_u = row.sum(1)\n",
    "    for i in columns:\n",
    "        for j in columns:\n",
    "            if i == j:\n",
    "                o[i][j] = o[i][j] + row[i]*(row[i]-1)/(m_u-1)\n",
    "            else:\n",
    "                o[i][j] = o[i][j] + row[i]*row[j]/(m_u-1)\n",
    "    return o"
   ]
  },
  {
   "cell_type": "code",
   "execution_count": 27,
   "metadata": {
    "collapsed": false
   },
   "outputs": [],
   "source": [
    "def make_coincidence_matrix(df, columns):\n",
    "    df = df[columns]\n",
    "    n = df.shape[0]\n",
    "    num_cols = len(columns)\n",
    "    o = pd.DataFrame(np.zeros((num_cols,num_cols)), index = columns, columns=columns)\n",
    "    for i in xrange(n):\n",
    "        o = add_row_to_coincidence(o, df[i:i+1], columns)\n",
    "    return o"
   ]
  },
  {
   "cell_type": "code",
   "execution_count": 28,
   "metadata": {
    "collapsed": true
   },
   "outputs": [],
   "source": [
    "def binary_distance(i,j):\n",
    "    return i!=j\n",
    "\n",
    "def interval_distance(i,j):\n",
    "    return (int(i)-int(j))**2"
   ]
  },
  {
   "cell_type": "code",
   "execution_count": 29,
   "metadata": {
    "collapsed": true
   },
   "outputs": [],
   "source": [
    "def e(n, i, j):\n",
    "    if i == j:\n",
    "        return n[i]*(n[i]-1)/sum(n)-1\n",
    "    else:\n",
    "        return n[i]*n[j]/sum(n)-1\n",
    "\n",
    "def D_e(o, columns, distance):\n",
    "    n = o.sum(1)\n",
    "    output = 0\n",
    "    for i in columns:\n",
    "        for j in columns:\n",
    "            output = output + e(n,i,j)*distance(i,j)\n",
    "    return output\n",
    "\n",
    "def D_o(o, columns, distance):\n",
    "    output = 0\n",
    "    for i in columns:\n",
    "        for j in columns:\n",
    "            output = output + o[i][j]*distance(i,j)\n",
    "    return output"
   ]
  },
  {
   "cell_type": "code",
   "execution_count": 30,
   "metadata": {
    "collapsed": true
   },
   "outputs": [],
   "source": [
    "def Krippendorf_alpha(df, columns, distance = binary_distance, o = None):\n",
    "    if o is None:\n",
    "        o = make_coincidence_matrix(df, columns)\n",
    "    d_o = D_o(o, columns, distance)\n",
    "    d_e = D_e(o, columns, distance)\n",
    "    return (1 - d_o/d_e)"
   ]
  },
  {
   "cell_type": "code",
   "execution_count": 38,
   "metadata": {
    "collapsed": false,
    "scrolled": true
   },
   "outputs": [
    {
     "name": "stdout",
     "output_type": "stream",
     "text": [
      "Krippendorf's Alpha (aggressiveness): \n"
     ]
    },
    {
     "data": {
      "text/plain": [
       "0.22295691536658335"
      ]
     },
     "execution_count": 38,
     "metadata": {},
     "output_type": "execute_result"
    }
   ],
   "source": [
    "print \"Krippendorf's Alpha (aggressiveness): \"\n",
    "Krippendorf_alpha(grouped_dat, aggressive_columns, distance = interval_distance)"
   ]
  },
  {
   "cell_type": "code",
   "execution_count": 39,
   "metadata": {
    "collapsed": false
   },
   "outputs": [
    {
     "name": "stdout",
     "output_type": "stream",
     "text": [
      "Krippendorf's Alpha (attack): \n"
     ]
    },
    {
     "data": {
      "text/plain": [
       "0.062529240139161946"
      ]
     },
     "execution_count": 39,
     "metadata": {},
     "output_type": "execute_result"
    }
   ],
   "source": [
    "print \"Krippendorf's Alpha (attack): \"\n",
    "Krippendorf_alpha(grouped_dat, ['not_attack_0', 'not_attack_1'])"
   ]
  }
 ],
 "metadata": {
  "kernelspec": {
   "display_name": "Python 2",
   "language": "python",
   "name": "python2"
  },
  "language_info": {
   "codemirror_mode": {
    "name": "ipython",
    "version": 2
   },
   "file_extension": ".py",
   "mimetype": "text/x-python",
   "name": "python",
   "nbconvert_exporter": "python",
   "pygments_lexer": "ipython2",
   "version": "2.7.11"
  }
 },
 "nbformat": 4,
 "nbformat_minor": 0
}
