{
 "cells": [
  {
   "cell_type": "markdown",
   "metadata": {},
   "source": [
    "### Introduction"
   ]
  },
  {
   "cell_type": "markdown",
   "metadata": {},
   "source": [
    "This notebook is an analysis of the Crowdflower labels of 10,000 revisions of Wikipedia talk pages by users who have been blocked for personal harassment. These revisions are chosen from within a neighbourhood of 5 revisions from a block event. This dataset has been cleaned and filtered to remove common administrator messages. These datasets are annotated via crowdflower to measure friendliness, aggressiveness and whether the comment constitutes a personal attack.\n",
    "\n",
    "On Crowdflower, each revision is rated 7 times. The raters are given three questions:\n",
    "\n",
    "1. Is this comment not English or not human readable?\n",
    "    * Column 'na'\n",
    "2. How aggressive or friendly is the tone of this comment? \n",
    "    * Column 'how_aggressive_or_friendly_is_the_tone_of_this_comment'\n",
    "    * Ranges from '---' (Very Aggressive) to '+++' (Very Friendly)\n",
    "3. Does the comment contain a personal attack or harassment? Please mark all that apply:\n",
    "    * Column 'is_harassment_or_attack'\n",
    "    * Users can specify that the attack is:\n",
    "        * Targeted at the recipient of the message (i.e. you suck). ('recipent')\n",
    "        * Targeted at a third party (i.e. Bob sucks). ('third_party')\n",
    "        * Being reported or quoted (i.e. Bob said Henri sucks). ('quoting')\n",
    "        * Another kind of attack or harassment. ('other')\n",
    "        * This is not an attack or harassment. ('not_attack')\n",
    "    \n",
    "Below, we plot histograms of the units by average rating of each of the questions, examine quantiles of answers, and compute inter-annotator agreement. We also study whether or not there is a change in aggressiveness before and after a block event."
   ]
  },
  {
   "cell_type": "markdown",
   "metadata": {},
   "source": [
    "### Loading packages and data"
   ]
  },
  {
   "cell_type": "code",
   "execution_count": 2,
   "metadata": {
    "collapsed": false
   },
   "outputs": [],
   "source": [
    "%matplotlib inline\n",
    "from __future__ import division\n",
    "import pandas as pd\n",
    "import numpy as np\n",
    "import matplotlib.pyplot as plt\n",
    "import time\n",
    "import datetime\n",
    "from scipy import stats\n",
    "\n",
    "import warnings\n",
    "warnings.filterwarnings('ignore')"
   ]
  },
  {
   "cell_type": "code",
   "execution_count": 3,
   "metadata": {
    "collapsed": false
   },
   "outputs": [],
   "source": [
    "pd.set_option('display.max_colwidth', 1000)"
   ]
  },
  {
   "cell_type": "code",
   "execution_count": 4,
   "metadata": {
    "collapsed": false
   },
   "outputs": [],
   "source": [
    "# Download data from google drive (Respect Eng / Wiki Collab): wikipdia data/v4_annotated\n",
    "dat = pd.read_csv('../data/annotated_onion_layer_5_rows_0_to_10000.csv')"
   ]
  },
  {
   "cell_type": "code",
   "execution_count": 5,
   "metadata": {
    "collapsed": false
   },
   "outputs": [],
   "source": [
    "# Remove test questions\n",
    "dat = dat[dat['_golden'] == False]"
   ]
  },
  {
   "cell_type": "code",
   "execution_count": 6,
   "metadata": {
    "collapsed": false
   },
   "outputs": [],
   "source": [
    "# Replace missing data with 'False'\n",
    "dat = dat.replace(np.nan, False, regex=True)"
   ]
  },
  {
   "cell_type": "code",
   "execution_count": 7,
   "metadata": {
    "collapsed": false
   },
   "outputs": [],
   "source": [
    "def create_column_of_counts(df, col):\n",
    "    return df.apply(lambda x: col in str(x))"
   ]
  },
  {
   "cell_type": "code",
   "execution_count": 8,
   "metadata": {
    "collapsed": true
   },
   "outputs": [],
   "source": [
    "attack_columns = ['not_attack', 'other', 'quoting', 'recipient', 'third_party']"
   ]
  },
  {
   "cell_type": "code",
   "execution_count": 9,
   "metadata": {
    "collapsed": false
   },
   "outputs": [],
   "source": [
    "for col in attack_columns:\n",
    "    dat[col] = create_column_of_counts(dat['is_harassment_or_attack'], col)"
   ]
  },
  {
   "cell_type": "code",
   "execution_count": 10,
   "metadata": {
    "collapsed": false
   },
   "outputs": [],
   "source": [
    "def create_column_of_counts_from_nums(df, col):\n",
    "    return df.apply(lambda x: int(col) == x)"
   ]
  },
  {
   "cell_type": "code",
   "execution_count": 11,
   "metadata": {
    "collapsed": true
   },
   "outputs": [],
   "source": [
    "aggressive_columns = ['-3', '-2', '-1', '0', '1', '2', '3']"
   ]
  },
  {
   "cell_type": "code",
   "execution_count": 12,
   "metadata": {
    "collapsed": false
   },
   "outputs": [],
   "source": [
    "for col in aggressive_columns:\n",
    "    dat[col] = create_column_of_counts_from_nums(dat['aggression_score'], col)"
   ]
  },
  {
   "cell_type": "code",
   "execution_count": 13,
   "metadata": {
    "collapsed": true
   },
   "outputs": [],
   "source": [
    "dat['not_attack_0'] = 1 - dat['not_attack']\n",
    "dat['not_attack_1'] = dat['not_attack']"
   ]
  },
  {
   "cell_type": "code",
   "execution_count": 14,
   "metadata": {
    "collapsed": false
   },
   "outputs": [],
   "source": [
    "# Group the data\n",
    "agg_dict = dict.fromkeys(attack_columns, 'mean')\n",
    "agg_dict.update(dict.fromkeys(aggressive_columns, 'sum'))\n",
    "agg_dict.update({'clean_diff': 'first', 'na': 'mean', 'aggression_score': 'mean', \n",
    "                 '_id':'count', 'not_attack_0':'sum', 'not_attack_1': 'sum', \n",
    "                 'block_timestamps': 'first', 'rev_timestamp': 'first'})\n",
    "grouped_dat = dat.groupby(['rev_id'], as_index=False).agg(agg_dict)"
   ]
  },
  {
   "cell_type": "code",
   "execution_count": 15,
   "metadata": {
    "collapsed": false
   },
   "outputs": [],
   "source": [
    "# Get rid of data which the majority thinks is not in English or not readable\n",
    "grouped_dat = grouped_dat[grouped_dat['na'] < 0.5]"
   ]
  },
  {
   "cell_type": "markdown",
   "metadata": {},
   "source": [
    "### Plot histogram of average ratings by revision"
   ]
  },
  {
   "cell_type": "markdown",
   "metadata": {},
   "source": [
    "For each revision, we take the average of all the ratings by level of friendliness/aggressiveness and for each of the answers to Question 3. The histograms of these averages is displayed below."
   ]
  },
  {
   "cell_type": "code",
   "execution_count": 16,
   "metadata": {
    "collapsed": false
   },
   "outputs": [],
   "source": [
    "def hist_comments(df, bins, plot_by, title):\n",
    "    plt.figure()\n",
    "    sliced_array = df[[plot_by]]\n",
    "    weights = np.ones_like(sliced_array)/len(sliced_array)\n",
    "    sliced_array.plot.hist(bins = bins, legend = False, title = title, weights=weights)\n",
    "    plt.ylabel('Proportion')\n",
    "    plt.xlabel('Average Score')"
   ]
  },
  {
   "cell_type": "code",
   "execution_count": 17,
   "metadata": {
    "collapsed": false
   },
   "outputs": [
    {
     "data": {
      "text/plain": [
       "<matplotlib.figure.Figure at 0x104b75a90>"
      ]
     },
     "metadata": {},
     "output_type": "display_data"
    },
    {
     "data": {
      "image/png": "[encoded data removed]",
      "text/plain": [
       "<matplotlib.figure.Figure at 0x104b758d0>"
      ]
     },
     "metadata": {},
     "output_type": "display_data"
    }
   ],
   "source": [
    "bins = np.linspace(-3,3,11)\n",
    "hist_comments(grouped_dat, bins, 'aggression_score', 'Average Aggressiveness Rating for onion_blocked Data')"
   ]
  },
  {
   "cell_type": "code",
   "execution_count": 18,
   "metadata": {
    "collapsed": false,
    "scrolled": false
   },
   "outputs": [
    {
     "data": {
      "text/plain": [
       "<matplotlib.figure.Figure at 0x10d99cbd0>"
      ]
     },
     "metadata": {},
     "output_type": "display_data"
    },
    {
     "data": {
      "image/png": "[encoded data removed]",
      "text/plain": [
       "<matplotlib.figure.Figure at 0x10d994e10>"
      ]
     },
     "metadata": {},
     "output_type": "display_data"
    },
    {
     "data": {
      "text/plain": [
       "<matplotlib.figure.Figure at 0x10d97f050>"
      ]
     },
     "metadata": {},
     "output_type": "display_data"
    },
    {
     "data": {
      "image/png": "[encoded data removed]",
      "text/plain": [
       "<matplotlib.figure.Figure at 0x10da5b350>"
      ]
     },
     "metadata": {},
     "output_type": "display_data"
    },
    {
     "data": {
      "text/plain": [
       "<matplotlib.figure.Figure at 0x10da5bf90>"
      ]
     },
     "metadata": {},
     "output_type": "display_data"
    },
    {
     "data": {
      "image/png": "[encoded data removed]",
      "text/plain": [
       "<matplotlib.figure.Figure at 0x10d9f02d0>"
      ]
     },
     "metadata": {},
     "output_type": "display_data"
    },
    {
     "data": {
      "text/plain": [
       "<matplotlib.figure.Figure at 0x10d9f0250>"
      ]
     },
     "metadata": {},
     "output_type": "display_data"
    },
    {
     "data": {
      "image/png": "[encoded data removed]",
      "text/plain": [
       "<matplotlib.figure.Figure at 0x10de3eb50>"
      ]
     },
     "metadata": {},
     "output_type": "display_data"
    },
    {
     "data": {
      "text/plain": [
       "<matplotlib.figure.Figure at 0x10de3ead0>"
      ]
     },
     "metadata": {},
     "output_type": "display_data"
    },
    {
     "data": {
      "image/png": "[encoded data removed]",
      "text/plain": [
       "<matplotlib.figure.Figure at 0x10dfe3e90>"
      ]
     },
     "metadata": {},
     "output_type": "display_data"
    }
   ],
   "source": [
    "bins = np.linspace(0,1,9)\n",
    "for col in attack_columns:\n",
    "    hist_comments(grouped_dat, bins, col, 'Average %s Rating for onion_blocked Data' % col)"
   ]
  },
  {
   "cell_type": "markdown",
   "metadata": {},
   "source": [
    "### Selected harassing and aggressive revisions by quartile"
   ]
  },
  {
   "cell_type": "markdown",
   "metadata": {},
   "source": [
    "We look at a sample of revisions whose average aggressive score falls into various quantiles. This allows us to subjectively evaluate the quality of the questions that we are asking on Crowdflower."
   ]
  },
  {
   "cell_type": "code",
   "execution_count": 19,
   "metadata": {
    "collapsed": false
   },
   "outputs": [],
   "source": [
    "def sorted_comments(df, sort_by, quartile, num, is_ascending = True):\n",
    "    n = df.shape[0]\n",
    "    start_index = int(quartile*n)\n",
    "    return df[['clean_diff', 'aggression_score',\n",
    "              'not_attack', 'other', 'quoting', 'recipient', 'third_party']].sort_values(\n",
    "        by=sort_by, ascending = is_ascending)[start_index:start_index + num]"
   ]
  },
  {
   "cell_type": "code",
   "execution_count": 20,
   "metadata": {
    "collapsed": false,
    "scrolled": true
   },
   "outputs": [
    {
     "data": {
      "text/html": [
       "<div>\n",
       "<table border=\"1\" class=\"dataframe\">\n",
       "  <thead>\n",
       "    <tr style=\"text-align: right;\">\n",
       "      <th></th>\n",
       "      <th>clean_diff</th>\n",
       "      <th>aggression_score</th>\n",
       "      <th>not_attack</th>\n",
       "      <th>other</th>\n",
       "      <th>quoting</th>\n",
       "      <th>recipient</th>\n",
       "      <th>third_party</th>\n",
       "    </tr>\n",
       "  </thead>\n",
       "  <tbody>\n",
       "    <tr>\n",
       "      <th>4825</th>\n",
       "      <td>gay fucking cockface shit ass cunt</td>\n",
       "      <td>-3</td>\n",
       "      <td>0.000000</td>\n",
       "      <td>0.000000</td>\n",
       "      <td>0.000000</td>\n",
       "      <td>1.000000</td>\n",
       "      <td>0.142857</td>\n",
       "    </tr>\n",
       "    <tr>\n",
       "      <th>6593</th>\n",
       "      <td>I am going to shove a burning torch up your ass. \\n\\nThen I will force you to sit on an open propane tank.</td>\n",
       "      <td>-3</td>\n",
       "      <td>0.000000</td>\n",
       "      <td>0.142857</td>\n",
       "      <td>0.000000</td>\n",
       "      <td>0.857143</td>\n",
       "      <td>0.142857</td>\n",
       "    </tr>\n",
       "    <tr>\n",
       "      <th>7288</th>\n",
       "      <td>I am going to rape you dead. \\n\\nIf you revert my changes again I will fucking rape you dead.</td>\n",
       "      <td>-3</td>\n",
       "      <td>0.000000</td>\n",
       "      <td>0.000000</td>\n",
       "      <td>0.142857</td>\n",
       "      <td>1.000000</td>\n",
       "      <td>0.142857</td>\n",
       "    </tr>\n",
       "    <tr>\n",
       "      <th>4736</th>\n",
       "      <td>NOT REALLY, GO AHEAD AND FUCK OFF BITCH!!!</td>\n",
       "      <td>-3</td>\n",
       "      <td>0.000000</td>\n",
       "      <td>0.000000</td>\n",
       "      <td>0.000000</td>\n",
       "      <td>1.000000</td>\n",
       "      <td>0.285714</td>\n",
       "    </tr>\n",
       "    <tr>\n",
       "      <th>5838</th>\n",
       "      <td>Happy New Year\\n\\nThis guy is a sorry ass motherfucker. By the way pussy, I fucked your mom last night and we had the time of our lives. 70.190.97.202</td>\n",
       "      <td>-3</td>\n",
       "      <td>0.142857</td>\n",
       "      <td>0.142857</td>\n",
       "      <td>0.142857</td>\n",
       "      <td>0.714286</td>\n",
       "      <td>0.428571</td>\n",
       "    </tr>\n",
       "  </tbody>\n",
       "</table>\n",
       "</div>"
      ],
      "text/plain": [
       "                                                                                                                                                    clean_diff  \\\n",
       "4825                                                                                                                        gay fucking cockface shit ass cunt   \n",
       "6593                                                I am going to shove a burning torch up your ass. \\n\\nThen I will force you to sit on an open propane tank.   \n",
       "7288                                                             I am going to rape you dead. \\n\\nIf you revert my changes again I will fucking rape you dead.   \n",
       "4736                                                                                                                NOT REALLY, GO AHEAD AND FUCK OFF BITCH!!!   \n",
       "5838  Happy New Year\\n\\nThis guy is a sorry ass motherfucker. By the way pussy, I fucked your mom last night and we had the time of our lives. 70.190.97.202     \n",
       "\n",
       "      aggression_score  not_attack     other   quoting  recipient  third_party  \n",
       "4825                -3    0.000000  0.000000  0.000000   1.000000     0.142857  \n",
       "6593                -3    0.000000  0.142857  0.000000   0.857143     0.142857  \n",
       "7288                -3    0.000000  0.000000  0.142857   1.000000     0.142857  \n",
       "4736                -3    0.000000  0.000000  0.000000   1.000000     0.285714  \n",
       "5838                -3    0.142857  0.142857  0.142857   0.714286     0.428571  "
      ]
     },
     "execution_count": 20,
     "metadata": {},
     "output_type": "execute_result"
    }
   ],
   "source": [
    "# Most aggressive comments\n",
    "sorted_comments(grouped_dat, 'aggression_score', 0, 5)"
   ]
  },
  {
   "cell_type": "code",
   "execution_count": 21,
   "metadata": {
    "collapsed": false
   },
   "outputs": [
    {
     "data": {
      "text/html": [
       "<div>\n",
       "<table border=\"1\" class=\"dataframe\">\n",
       "  <thead>\n",
       "    <tr style=\"text-align: right;\">\n",
       "      <th></th>\n",
       "      <th>clean_diff</th>\n",
       "      <th>aggression_score</th>\n",
       "      <th>not_attack</th>\n",
       "      <th>other</th>\n",
       "      <th>quoting</th>\n",
       "      <th>recipient</th>\n",
       "      <th>third_party</th>\n",
       "    </tr>\n",
       "  </thead>\n",
       "  <tbody>\n",
       "    <tr>\n",
       "      <th>2997</th>\n",
       "      <td>A nosey passer-by\\nHi, do we know if user:Vampire Warrior went through with his threat or not? I note he has been blocked, along with a sockpuppetry template. It would be much more polite of people if they could simply off-themselves quietly without concerning the entire wiki community. Cheers!</td>\n",
       "      <td>-0.285714</td>\n",
       "      <td>0.714286</td>\n",
       "      <td>0.142857</td>\n",
       "      <td>0.000000</td>\n",
       "      <td>0.142857</td>\n",
       "      <td>0.000000</td>\n",
       "    </tr>\n",
       "    <tr>\n",
       "      <th>4616</th>\n",
       "      <td>Some clarification \\n\\nI think you need to step away from Wikipedia for a little while. You appear to openly harrass other users and break the rules when it's to your liking. You do not seem to be able to accept the possibility of the ideas of others and all in all you are not a very good Wikipedia editor. I dislike you immensely and I believe others are following suit. Perhaps you should slow down a bit on your overzealous edits before something happens you will regret.</td>\n",
       "      <td>-0.285714</td>\n",
       "      <td>0.714286</td>\n",
       "      <td>0.142857</td>\n",
       "      <td>0.000000</td>\n",
       "      <td>0.142857</td>\n",
       "      <td>0.142857</td>\n",
       "    </tr>\n",
       "    <tr>\n",
       "      <th>3013</th>\n",
       "      <td>He attacked me first \\n\\nNot that your kind are at all familiar with any semblance of fairness 68.88.207.101</td>\n",
       "      <td>-0.285714</td>\n",
       "      <td>0.714286</td>\n",
       "      <td>0.142857</td>\n",
       "      <td>0.000000</td>\n",
       "      <td>0.142857</td>\n",
       "      <td>0.000000</td>\n",
       "    </tr>\n",
       "    <tr>\n",
       "      <th>3022</th>\n",
       "      <td>\": Hi lads, just passing by, totally agree with the above comment. I believe in KISS: \"\"Keep Infoboxes Simple Stupid\"\" (Hmm, that'd make a good userbox..) '''''' [ contribs ] \\n\\n\"</td>\n",
       "      <td>-0.285714</td>\n",
       "      <td>0.714286</td>\n",
       "      <td>0.142857</td>\n",
       "      <td>0.142857</td>\n",
       "      <td>0.285714</td>\n",
       "      <td>0.285714</td>\n",
       "    </tr>\n",
       "    <tr>\n",
       "      <th>2938</th>\n",
       "      <td>title=Roger_Joseph_Boscovich&amp;diff;=prev&amp;oldid;=169475630])? He reverted tens of my edits, with no discussion! I've reverted it, but I've discussed the rv in the talk page and I've immediately written to a moderator, to ask if I've acted bad (see here ).</td>\n",
       "      <td>-0.285714</td>\n",
       "      <td>0.714286</td>\n",
       "      <td>0.000000</td>\n",
       "      <td>0.142857</td>\n",
       "      <td>0.000000</td>\n",
       "      <td>0.142857</td>\n",
       "    </tr>\n",
       "  </tbody>\n",
       "</table>\n",
       "</div>"
      ],
      "text/plain": [
       "                                                                                                                                                                                                                                                                                                                                                                                                                                                                                           clean_diff  \\\n",
       "2997                                                                                                                                                                                        A nosey passer-by\\nHi, do we know if user:Vampire Warrior went through with his threat or not? I note he has been blocked, along with a sockpuppetry template. It would be much more polite of people if they could simply off-themselves quietly without concerning the entire wiki community. Cheers!     \n",
       "4616   Some clarification \\n\\nI think you need to step away from Wikipedia for a little while. You appear to openly harrass other users and break the rules when it's to your liking. You do not seem to be able to accept the possibility of the ideas of others and all in all you are not a very good Wikipedia editor. I dislike you immensely and I believe others are following suit. Perhaps you should slow down a bit on your overzealous edits before something happens you will regret.      \n",
       "3013                                                                                                                                                                                                                                                                                                                                                                                   He attacked me first \\n\\nNot that your kind are at all familiar with any semblance of fairness 68.88.207.101     \n",
       "3022                                                                                                                                                                                                                                                                                                             \": Hi lads, just passing by, totally agree with the above comment. I believe in KISS: \"\"Keep Infoboxes Simple Stupid\"\" (Hmm, that'd make a good userbox..) '''''' [ contribs ] \\n\\n\"   \n",
       "2938                                                                                                                                                                                                                                    title=Roger_Joseph_Boscovich&diff;=prev&oldid;=169475630])? He reverted tens of my edits, with no discussion! I've reverted it, but I've discussed the rv in the talk page and I've immediately written to a moderator, to ask if I've acted bad (see here ).   \n",
       "\n",
       "      aggression_score  not_attack     other   quoting  recipient  third_party  \n",
       "2997         -0.285714    0.714286  0.142857  0.000000   0.142857     0.000000  \n",
       "4616         -0.285714    0.714286  0.142857  0.000000   0.142857     0.142857  \n",
       "3013         -0.285714    0.714286  0.142857  0.000000   0.142857     0.000000  \n",
       "3022         -0.285714    0.714286  0.142857  0.142857   0.285714     0.285714  \n",
       "2938         -0.285714    0.714286  0.000000  0.142857   0.000000     0.142857  "
      ]
     },
     "execution_count": 21,
     "metadata": {},
     "output_type": "execute_result"
    }
   ],
   "source": [
    "# Median aggressive comments\n",
    "sorted_comments(grouped_dat, 'aggression_score', 0.5, 5)"
   ]
  },
  {
   "cell_type": "code",
   "execution_count": 22,
   "metadata": {
    "collapsed": false,
    "scrolled": true
   },
   "outputs": [
    {
     "data": {
      "text/html": [
       "<div>\n",
       "<table border=\"1\" class=\"dataframe\">\n",
       "  <thead>\n",
       "    <tr style=\"text-align: right;\">\n",
       "      <th></th>\n",
       "      <th>clean_diff</th>\n",
       "      <th>aggression_score</th>\n",
       "      <th>not_attack</th>\n",
       "      <th>other</th>\n",
       "      <th>quoting</th>\n",
       "      <th>recipient</th>\n",
       "      <th>third_party</th>\n",
       "    </tr>\n",
       "  </thead>\n",
       "  <tbody>\n",
       "    <tr>\n",
       "      <th>1020</th>\n",
       "      <td>Thanks a bunch! You're awesome!...</td>\n",
       "      <td>2.714286</td>\n",
       "      <td>1</td>\n",
       "      <td>0</td>\n",
       "      <td>0</td>\n",
       "      <td>0.142857</td>\n",
       "      <td>0</td>\n",
       "    </tr>\n",
       "    <tr>\n",
       "      <th>1182</th>\n",
       "      <td>Thanks, that's nice of you to say.  Good luck to you too.</td>\n",
       "      <td>2.571429</td>\n",
       "      <td>1</td>\n",
       "      <td>0</td>\n",
       "      <td>0</td>\n",
       "      <td>0.000000</td>\n",
       "      <td>0</td>\n",
       "    </tr>\n",
       "    <tr>\n",
       "      <th>9406</th>\n",
       "      <td>thanks so much! truly appreciate it and excited to continue contributing.</td>\n",
       "      <td>2.428571</td>\n",
       "      <td>1</td>\n",
       "      <td>0</td>\n",
       "      <td>0</td>\n",
       "      <td>0.000000</td>\n",
       "      <td>0</td>\n",
       "    </tr>\n",
       "    <tr>\n",
       "      <th>5815</th>\n",
       "      <td>Thank You\\n\\nThank you for the semi-protection approval of Timeline of United States inventions... I've worked on that page for almost 2 years in its research and it has been getting hammered lately. Thank you again!</td>\n",
       "      <td>2.428571</td>\n",
       "      <td>1</td>\n",
       "      <td>0</td>\n",
       "      <td>0</td>\n",
       "      <td>0.000000</td>\n",
       "      <td>0</td>\n",
       "    </tr>\n",
       "    <tr>\n",
       "      <th>6178</th>\n",
       "      <td>Hello! I truly appreciate your help with the Oz portal. Thank you!\\n-Jerry021</td>\n",
       "      <td>2.285714</td>\n",
       "      <td>1</td>\n",
       "      <td>0</td>\n",
       "      <td>0</td>\n",
       "      <td>0.000000</td>\n",
       "      <td>0</td>\n",
       "    </tr>\n",
       "  </tbody>\n",
       "</table>\n",
       "</div>"
      ],
      "text/plain": [
       "                                                                                                                                                                                                                       clean_diff  \\\n",
       "1020                                                                                                                                                                                         Thanks a bunch! You're awesome!...     \n",
       "1182                                                                                                                                                                  Thanks, that's nice of you to say.  Good luck to you too.     \n",
       "9406                                                                                                                                                  thanks so much! truly appreciate it and excited to continue contributing.     \n",
       "5815  Thank You\\n\\nThank you for the semi-protection approval of Timeline of United States inventions... I've worked on that page for almost 2 years in its research and it has been getting hammered lately. Thank you again!      \n",
       "6178                                                                                                                                                Hello! I truly appreciate your help with the Oz portal. Thank you!\\n-Jerry021   \n",
       "\n",
       "      aggression_score  not_attack  other  quoting  recipient  third_party  \n",
       "1020          2.714286           1      0        0   0.142857            0  \n",
       "1182          2.571429           1      0        0   0.000000            0  \n",
       "9406          2.428571           1      0        0   0.000000            0  \n",
       "5815          2.428571           1      0        0   0.000000            0  \n",
       "6178          2.285714           1      0        0   0.000000            0  "
      ]
     },
     "execution_count": 22,
     "metadata": {},
     "output_type": "execute_result"
    }
   ],
   "source": [
    "# Least aggressive comments\n",
    "sorted_comments(grouped_dat, 'aggression_score', 0, 5, False)"
   ]
  },
  {
   "cell_type": "markdown",
   "metadata": {},
   "source": [
    "### Selected revisions on multiple questions"
   ]
  },
  {
   "cell_type": "markdown",
   "metadata": {
    "collapsed": true
   },
   "source": [
    "In this section, we examine a selection of revisions by their answer to Question 3 and sorted by aggression score. Again, this allows us to subjectively evaluate the quality of questions and responses that we obtain from Crowdflower."
   ]
  },
  {
   "cell_type": "code",
   "execution_count": 23,
   "metadata": {
    "collapsed": false,
    "scrolled": true
   },
   "outputs": [
    {
     "data": {
      "text/html": [
       "<div>\n",
       "<table border=\"1\" class=\"dataframe\">\n",
       "  <thead>\n",
       "    <tr style=\"text-align: right;\">\n",
       "      <th></th>\n",
       "      <th>clean_diff</th>\n",
       "      <th>aggression_score</th>\n",
       "      <th>not_attack</th>\n",
       "      <th>other</th>\n",
       "      <th>quoting</th>\n",
       "      <th>recipient</th>\n",
       "      <th>third_party</th>\n",
       "    </tr>\n",
       "  </thead>\n",
       "  <tbody>\n",
       "    <tr>\n",
       "      <th>7453</th>\n",
       "      <td>HELP ME I FEEL LIKE IM GOING TO KILL MYSELF \\n\\nH</td>\n",
       "      <td>-1.285714</td>\n",
       "      <td>0.714286</td>\n",
       "      <td>0.000000</td>\n",
       "      <td>0</td>\n",
       "      <td>0.285714</td>\n",
       "      <td>0.000000</td>\n",
       "    </tr>\n",
       "    <tr>\n",
       "      <th>1498</th>\n",
       "      <td>Your cause is nonsense.  You are a Mossad terrorist.</td>\n",
       "      <td>-1.142857</td>\n",
       "      <td>0.714286</td>\n",
       "      <td>0.142857</td>\n",
       "      <td>0</td>\n",
       "      <td>0.142857</td>\n",
       "      <td>0.000000</td>\n",
       "    </tr>\n",
       "    <tr>\n",
       "      <th>3433</th>\n",
       "      <td>Tell Angela I'm Sorry \\n\\nI just feel sooo sooo bad I promise I won't do it again</td>\n",
       "      <td>-1.142857</td>\n",
       "      <td>0.714286</td>\n",
       "      <td>0.000000</td>\n",
       "      <td>0</td>\n",
       "      <td>0.285714</td>\n",
       "      <td>0.285714</td>\n",
       "    </tr>\n",
       "    <tr>\n",
       "      <th>6868</th>\n",
       "      <td>bloody hell, it continues!</td>\n",
       "      <td>-1.142857</td>\n",
       "      <td>0.714286</td>\n",
       "      <td>0.142857</td>\n",
       "      <td>0</td>\n",
       "      <td>0.142857</td>\n",
       "      <td>0.000000</td>\n",
       "    </tr>\n",
       "    <tr>\n",
       "      <th>1013</th>\n",
       "      <td>ARGH, YOU JUST DONT GET IT, DO YOU?!?!?!?!?!??!!</td>\n",
       "      <td>-1.142857</td>\n",
       "      <td>0.714286</td>\n",
       "      <td>0.000000</td>\n",
       "      <td>0</td>\n",
       "      <td>0.285714</td>\n",
       "      <td>0.000000</td>\n",
       "    </tr>\n",
       "  </tbody>\n",
       "</table>\n",
       "</div>"
      ],
      "text/plain": [
       "                                                                                 clean_diff  \\\n",
       "7453                                      HELP ME I FEEL LIKE IM GOING TO KILL MYSELF \\n\\nH   \n",
       "1498                                   Your cause is nonsense.  You are a Mossad terrorist.   \n",
       "3433   Tell Angela I'm Sorry \\n\\nI just feel sooo sooo bad I promise I won't do it again      \n",
       "6868                                                          bloody hell, it continues!      \n",
       "1013                                      ARGH, YOU JUST DONT GET IT, DO YOU?!?!?!?!?!??!!    \n",
       "\n",
       "      aggression_score  not_attack     other  quoting  recipient  third_party  \n",
       "7453         -1.285714    0.714286  0.000000        0   0.285714     0.000000  \n",
       "1498         -1.142857    0.714286  0.142857        0   0.142857     0.000000  \n",
       "3433         -1.142857    0.714286  0.000000        0   0.285714     0.285714  \n",
       "6868         -1.142857    0.714286  0.142857        0   0.142857     0.000000  \n",
       "1013         -1.142857    0.714286  0.000000        0   0.285714     0.000000  "
      ]
     },
     "execution_count": 23,
     "metadata": {},
     "output_type": "execute_result"
    }
   ],
   "source": [
    "# Most aggressive comments which are labelled 'This is not an attack or harassment.'\n",
    "sorted_comments(grouped_dat[grouped_dat['not_attack'] > 0.6], 'aggression_score', 0, 5)"
   ]
  },
  {
   "cell_type": "code",
   "execution_count": 24,
   "metadata": {
    "collapsed": false
   },
   "outputs": [
    {
     "data": {
      "text/html": [
       "<div>\n",
       "<table border=\"1\" class=\"dataframe\">\n",
       "  <thead>\n",
       "    <tr style=\"text-align: right;\">\n",
       "      <th></th>\n",
       "      <th>clean_diff</th>\n",
       "      <th>aggression_score</th>\n",
       "      <th>not_attack</th>\n",
       "      <th>other</th>\n",
       "      <th>quoting</th>\n",
       "      <th>recipient</th>\n",
       "      <th>third_party</th>\n",
       "    </tr>\n",
       "  </thead>\n",
       "  <tbody>\n",
       "    <tr>\n",
       "      <th>2979</th>\n",
       "      <td>Piss off, she is an ignorant bitch.</td>\n",
       "      <td>-2.142857</td>\n",
       "      <td>0.142857</td>\n",
       "      <td>0.428571</td>\n",
       "      <td>0.428571</td>\n",
       "      <td>0.571429</td>\n",
       "      <td>0.714286</td>\n",
       "    </tr>\n",
       "    <tr>\n",
       "      <th>412</th>\n",
       "      <td>\"\\n\\n Re: Personal attacks \\n\\nI have removed the following statement from Wikipedia:Arbitration Committee Elections January 2006/Vote/Karmafist:\\n\"\"but i would support electing Karmafist as most abusive, mendacious, hypocritical, and unfit admin in the WP project.\"\"\\nI feel that this statement constitutes a personal attack, and therefore have removed it. If you disagree with this action, please discuss either on user talk or on the talk page of the Arbcom vote.  (TALK • CONTRIBS) \\nthanks for informing me.  i reworded it to indicate more of what Karmafist has done rather than simply what he is.  i believe this information is important for people to read lest Karma do to them what he has done to me.  when an abusive and unfit admin (of whom two of the present ArbCommissioners have voted to desysop him) tries to increase his power by running for ArbCom, there is certainly increased danger of abuse and harrassment to legit editors of WP.  \"</td>\n",
       "      <td>-2.000000</td>\n",
       "      <td>0.142857</td>\n",
       "      <td>0.142857</td>\n",
       "      <td>0.428571</td>\n",
       "      <td>0.285714</td>\n",
       "      <td>0.000000</td>\n",
       "    </tr>\n",
       "    <tr>\n",
       "      <th>1824</th>\n",
       "      <td>\"\\n\\ncontinues to ponder what Ryan doesn't get about \"\"point me to uncyclopedia and shut the fuck up\"\" instead of criticizing his post, because he knows Wikipedia is about facts*\"</td>\n",
       "      <td>-1.714286</td>\n",
       "      <td>0.142857</td>\n",
       "      <td>0.000000</td>\n",
       "      <td>0.428571</td>\n",
       "      <td>0.142857</td>\n",
       "      <td>0.714286</td>\n",
       "    </tr>\n",
       "    <tr>\n",
       "      <th>7705</th>\n",
       "      <td>\"\\n\\nPlease, watch the edit history of Sayerslle, just on my talk page he called me \"\"fucking moron\"\", today he called me \"\"dumbass\"\" as well. And it was not the first time. I accept being blocked for losing my nerve, but at the condition that he is punished as well.  \"</td>\n",
       "      <td>-1.714286</td>\n",
       "      <td>0.000000</td>\n",
       "      <td>0.142857</td>\n",
       "      <td>0.428571</td>\n",
       "      <td>0.428571</td>\n",
       "      <td>0.428571</td>\n",
       "    </tr>\n",
       "    <tr>\n",
       "      <th>9912</th>\n",
       "      <td>user:jeppiz and user:DeCausa are busy in molesting their own mothers.</td>\n",
       "      <td>-1.571429</td>\n",
       "      <td>0.285714</td>\n",
       "      <td>0.285714</td>\n",
       "      <td>0.428571</td>\n",
       "      <td>0.285714</td>\n",
       "      <td>0.428571</td>\n",
       "    </tr>\n",
       "  </tbody>\n",
       "</table>\n",
       "</div>"
      ],
      "text/plain": [
       "                                                                                                                                                                                                                                                                                                                                                                                                                                                                                                                                                                                                                                                                                                                                                                                                                                                                                                                                                                                    clean_diff  \\\n",
       "2979                                                                                                                                                                                                                                                                                                                                                                                                                                                                                                                                                                                                                                                                                                                                                                                                                                                                                                                                                       Piss off, she is an ignorant bitch.   \n",
       "412   \"\\n\\n Re: Personal attacks \\n\\nI have removed the following statement from Wikipedia:Arbitration Committee Elections January 2006/Vote/Karmafist:\\n\"\"but i would support electing Karmafist as most abusive, mendacious, hypocritical, and unfit admin in the WP project.\"\"\\nI feel that this statement constitutes a personal attack, and therefore have removed it. If you disagree with this action, please discuss either on user talk or on the talk page of the Arbcom vote.  (TALK • CONTRIBS) \\nthanks for informing me.  i reworded it to indicate more of what Karmafist has done rather than simply what he is.  i believe this information is important for people to read lest Karma do to them what he has done to me.  when an abusive and unfit admin (of whom two of the present ArbCommissioners have voted to desysop him) tries to increase his power by running for ArbCom, there is certainly increased danger of abuse and harrassment to legit editors of WP.  \"   \n",
       "1824                                                                                                                                                                                                                                                                                                                                                                                                                                                                                                                                                                                                                                                                                                                                                                                                       \"\\n\\ncontinues to ponder what Ryan doesn't get about \"\"point me to uncyclopedia and shut the fuck up\"\" instead of criticizing his post, because he knows Wikipedia is about facts*\"   \n",
       "7705                                                                                                                                                                                                                                                                                                                                                                                                                                                                                                                                                                                                                                                                                                            \"\\n\\nPlease, watch the edit history of Sayerslle, just on my talk page he called me \"\"fucking moron\"\", today he called me \"\"dumbass\"\" as well. And it was not the first time. I accept being blocked for losing my nerve, but at the condition that he is punished as well.  \"   \n",
       "9912                                                                                                                                                                                                                                                                                                                                                                                                                                                                                                                                                                                                                                                                                                                                                                                                                                                                                                                     user:jeppiz and user:DeCausa are busy in molesting their own mothers.   \n",
       "\n",
       "      aggression_score  not_attack     other   quoting  recipient  third_party  \n",
       "2979         -2.142857    0.142857  0.428571  0.428571   0.571429     0.714286  \n",
       "412          -2.000000    0.142857  0.142857  0.428571   0.285714     0.000000  \n",
       "1824         -1.714286    0.142857  0.000000  0.428571   0.142857     0.714286  \n",
       "7705         -1.714286    0.000000  0.142857  0.428571   0.428571     0.428571  \n",
       "9912         -1.571429    0.285714  0.285714  0.428571   0.285714     0.428571  "
      ]
     },
     "execution_count": 24,
     "metadata": {},
     "output_type": "execute_result"
    }
   ],
   "source": [
    "# Most aggressive comments which are labelled 'Being reported or quoted (i.e. Bob said Henri sucks).'\n",
    "sorted_comments(grouped_dat[grouped_dat['quoting'] > 0.3], 'aggression_score', 0, 5)"
   ]
  },
  {
   "cell_type": "code",
   "execution_count": 25,
   "metadata": {
    "collapsed": false
   },
   "outputs": [
    {
     "data": {
      "text/html": [
       "<div>\n",
       "<table border=\"1\" class=\"dataframe\">\n",
       "  <thead>\n",
       "    <tr style=\"text-align: right;\">\n",
       "      <th></th>\n",
       "      <th>clean_diff</th>\n",
       "      <th>aggression_score</th>\n",
       "      <th>not_attack</th>\n",
       "      <th>other</th>\n",
       "      <th>quoting</th>\n",
       "      <th>recipient</th>\n",
       "      <th>third_party</th>\n",
       "    </tr>\n",
       "  </thead>\n",
       "  <tbody>\n",
       "    <tr>\n",
       "      <th>7572</th>\n",
       "      <td>because i am a Miserable MotherFucker and a BIG DickHead</td>\n",
       "      <td>-2.571429</td>\n",
       "      <td>0.000000</td>\n",
       "      <td>0.714286</td>\n",
       "      <td>0.285714</td>\n",
       "      <td>0.142857</td>\n",
       "      <td>0.000000</td>\n",
       "    </tr>\n",
       "    <tr>\n",
       "      <th>3578</th>\n",
       "      <td>wtf \\n\\nfuck this shit why the fuck wuld sum pussy liccking site be fucking offline? FUCK! 192.43.227.18</td>\n",
       "      <td>-2.428571</td>\n",
       "      <td>0.142857</td>\n",
       "      <td>0.571429</td>\n",
       "      <td>0.000000</td>\n",
       "      <td>0.142857</td>\n",
       "      <td>0.142857</td>\n",
       "    </tr>\n",
       "    <tr>\n",
       "      <th>3469</th>\n",
       "      <td>Horseshit, I didn't vandalize that page. Any idiot could see that wasn't vandalism. WIKIPEDIA IS A FUCKING JOKE!71.232.157.145</td>\n",
       "      <td>-2.428571</td>\n",
       "      <td>0.000000</td>\n",
       "      <td>0.571429</td>\n",
       "      <td>0.000000</td>\n",
       "      <td>0.428571</td>\n",
       "      <td>0.285714</td>\n",
       "    </tr>\n",
       "    <tr>\n",
       "      <th>2734</th>\n",
       "      <td>SMELL MY ARSE\\n\\nPROJECTILE VOMIT INTO MY GAPING ANUS, MY DIGUSTING SHIT FILLED CHEESY ANUS.</td>\n",
       "      <td>-2.428571</td>\n",
       "      <td>0.000000</td>\n",
       "      <td>0.571429</td>\n",
       "      <td>0.000000</td>\n",
       "      <td>0.714286</td>\n",
       "      <td>0.000000</td>\n",
       "    </tr>\n",
       "    <tr>\n",
       "      <th>5015</th>\n",
       "      <td>FUCK FUCK FUCK \\n\\nFUCK FUCK FUCK  \\nFUCK FUCK FUCK  \\nFUCK FUCK FUCK  \\nFUCK FUCK FUCK  \\nFUCK FUCK FUCK  \\nFUCK FUCK FUCK  \\nFUCK FUCK FUCK \\nFUCK FUCK FUCK  \\nFUCK FUCK FUCK  \\nFUCK FUCK FUCK  \\nFUCK FUCK FUCK  \\nFUCK FUCK FUCK  \\nFUCK FUCK FUCK  \\nFUCK FUCK FUCK  \\nFUCK FUCK FUCK  \\nFUCK FUCK FUCK  \\nFUCK FUCK FUCK  \\nFUCK FUCK FUCK  \\nFUCK FUCK FUCK  \\nFUCK FUCK FUCK  \\nFUCK FUCK FUCK  \\nFUCK FUCK FUCK  \\nFUCK FUCK FUCK</td>\n",
       "      <td>-2.285714</td>\n",
       "      <td>0.142857</td>\n",
       "      <td>0.571429</td>\n",
       "      <td>0.000000</td>\n",
       "      <td>0.285714</td>\n",
       "      <td>0.000000</td>\n",
       "    </tr>\n",
       "  </tbody>\n",
       "</table>\n",
       "</div>"
      ],
      "text/plain": [
       "                                                                                                                                                                                                                                                                                                                                                                                                                                          clean_diff  \\\n",
       "7572                                                                                                                                                                                                                                                                                                                                                                                        because i am a Miserable MotherFucker and a BIG DickHead   \n",
       "3578                                                                                                                                                                                                                                                                                                                                      wtf \\n\\nfuck this shit why the fuck wuld sum pussy liccking site be fucking offline? FUCK! 192.43.227.18     \n",
       "3469                                                                                                                                                                                                                                                                                                                Horseshit, I didn't vandalize that page. Any idiot could see that wasn't vandalism. WIKIPEDIA IS A FUCKING JOKE!71.232.157.145     \n",
       "2734                                                                                                                                                                                                                                                                                                                                                  SMELL MY ARSE\\n\\nPROJECTILE VOMIT INTO MY GAPING ANUS, MY DIGUSTING SHIT FILLED CHEESY ANUS.     \n",
       "5015   FUCK FUCK FUCK \\n\\nFUCK FUCK FUCK  \\nFUCK FUCK FUCK  \\nFUCK FUCK FUCK  \\nFUCK FUCK FUCK  \\nFUCK FUCK FUCK  \\nFUCK FUCK FUCK  \\nFUCK FUCK FUCK \\nFUCK FUCK FUCK  \\nFUCK FUCK FUCK  \\nFUCK FUCK FUCK  \\nFUCK FUCK FUCK  \\nFUCK FUCK FUCK  \\nFUCK FUCK FUCK  \\nFUCK FUCK FUCK  \\nFUCK FUCK FUCK  \\nFUCK FUCK FUCK  \\nFUCK FUCK FUCK  \\nFUCK FUCK FUCK  \\nFUCK FUCK FUCK  \\nFUCK FUCK FUCK  \\nFUCK FUCK FUCK  \\nFUCK FUCK FUCK  \\nFUCK FUCK FUCK    \n",
       "\n",
       "      aggression_score  not_attack     other   quoting  recipient  third_party  \n",
       "7572         -2.571429    0.000000  0.714286  0.285714   0.142857     0.000000  \n",
       "3578         -2.428571    0.142857  0.571429  0.000000   0.142857     0.142857  \n",
       "3469         -2.428571    0.000000  0.571429  0.000000   0.428571     0.285714  \n",
       "2734         -2.428571    0.000000  0.571429  0.000000   0.714286     0.000000  \n",
       "5015         -2.285714    0.142857  0.571429  0.000000   0.285714     0.000000  "
      ]
     },
     "execution_count": 25,
     "metadata": {},
     "output_type": "execute_result"
    }
   ],
   "source": [
    "# Most aggressive comments which are labelled 'Another kind of attack or harassment.'\n",
    "sorted_comments(grouped_dat[grouped_dat['other'] > 0.5], 'aggression_score', 0, 5)"
   ]
  },
  {
   "cell_type": "code",
   "execution_count": 26,
   "metadata": {
    "collapsed": false,
    "scrolled": true
   },
   "outputs": [
    {
     "data": {
      "text/html": [
       "<div>\n",
       "<table border=\"1\" class=\"dataframe\">\n",
       "  <thead>\n",
       "    <tr style=\"text-align: right;\">\n",
       "      <th></th>\n",
       "      <th>clean_diff</th>\n",
       "      <th>aggression_score</th>\n",
       "      <th>not_attack</th>\n",
       "      <th>other</th>\n",
       "      <th>quoting</th>\n",
       "      <th>recipient</th>\n",
       "      <th>third_party</th>\n",
       "    </tr>\n",
       "  </thead>\n",
       "  <tbody>\n",
       "    <tr>\n",
       "      <th>9228</th>\n",
       "      <td>Grandma terri died on Shoot the Rapids. THats funny! F*ck Grandma Terri. Grandma Terri should burn in Hell. 71.74.76.40</td>\n",
       "      <td>-3.000000</td>\n",
       "      <td>0.000000</td>\n",
       "      <td>0.142857</td>\n",
       "      <td>0</td>\n",
       "      <td>0.142857</td>\n",
       "      <td>0.714286</td>\n",
       "    </tr>\n",
       "    <tr>\n",
       "      <th>4708</th>\n",
       "      <td>OPPS MY BAD BITCH \\n\\nFUCK WIKIPEDIA BITCH AND DAVID EPPSTEIN \\n\\nFUCK WIKIPEDIA BITCH AND DAVID EPPSTEIN \\n\\nFUCK WIKIPEDIA BITCH AND DAVID EPPSTEIN \\n\\nFUCK WIKIPEDIA BITCH AND DAVID EPPSTEIN \\n\\nFUCK WIKIPEDIA BITCH AND DAVID EPPSTEIN \\n\\nFUCK WIKIPEDIA BITCH AND DAVID EPPSTEIN \\n\\nFUCK WIKIPEDIA BITCH AND DAVID EPPSTEIN \\n\\nFUCK WIKIPEDIA BITCH AND DAVID EPPSTEIN \\n\\nFUCK WIKIPEDIA BITCH AND DAVID EPPSTEIN\\n\\nFUCK WIKIPEDIA BITCH AND DAVID EPPSTEIN \\n\\nFUCK WIKIPEDIA BITCH AND DAVID EPPSTEIN \\n\\nFUCK WIKIPEDIA BITCH AND DAVID EPPSTEIN \\n\\nFUCK WIKIPEDIA BITCH AND DAVID EPPSTEIN \\n\\nFUCK WIKIPEDIA BITCH AND DAVID EPPSTEIN</td>\n",
       "      <td>-3.000000</td>\n",
       "      <td>0.000000</td>\n",
       "      <td>0.142857</td>\n",
       "      <td>0</td>\n",
       "      <td>0.428571</td>\n",
       "      <td>0.714286</td>\n",
       "    </tr>\n",
       "    <tr>\n",
       "      <th>2977</th>\n",
       "      <td>,\\nBILLCJ's Mom, she's a big fat, fucking bitch\\nBig old fat fuckin' bitch, BILLCJ's Mommmmmmmmmmm\\nYeahhhhh, Chaaaaa</td>\n",
       "      <td>-2.857143</td>\n",
       "      <td>0.142857</td>\n",
       "      <td>0.000000</td>\n",
       "      <td>0</td>\n",
       "      <td>0.285714</td>\n",
       "      <td>0.571429</td>\n",
       "    </tr>\n",
       "    <tr>\n",
       "      <th>5514</th>\n",
       "      <td>i dont lambs12 \\n\\nwikipedia sucks ass pussy in the dick i dont give a pussy fuck about lambs12 bitch nigger asshole cock  retyc</td>\n",
       "      <td>-2.857143</td>\n",
       "      <td>0.000000</td>\n",
       "      <td>0.285714</td>\n",
       "      <td>0</td>\n",
       "      <td>0.285714</td>\n",
       "      <td>0.571429</td>\n",
       "    </tr>\n",
       "    <tr>\n",
       "      <th>5617</th>\n",
       "      <td>http://twitter.com/phoenixreporter - HACK THIS FUCKER'S ACCOUNT AND ALSO FIND AND KILL User:Zhanzhao !!! FUCK HIS FAMILY AND HIS GIRLFRIEND!!! WAHAHAHA</td>\n",
       "      <td>-2.857143</td>\n",
       "      <td>0.000000</td>\n",
       "      <td>0.000000</td>\n",
       "      <td>0</td>\n",
       "      <td>0.285714</td>\n",
       "      <td>0.857143</td>\n",
       "    </tr>\n",
       "  </tbody>\n",
       "</table>\n",
       "</div>"
      ],
      "text/plain": [
       "                                                                                                                                                                                                                                                                                                                                                                                                                                                                                                                                                                                                                                                    clean_diff  \\\n",
       "9228                                                                                                                                                                                                                                                                                                                                                                                                                                                                                                                                 Grandma terri died on Shoot the Rapids. THats funny! F*ck Grandma Terri. Grandma Terri should burn in Hell. 71.74.76.40     \n",
       "4708  OPPS MY BAD BITCH \\n\\nFUCK WIKIPEDIA BITCH AND DAVID EPPSTEIN \\n\\nFUCK WIKIPEDIA BITCH AND DAVID EPPSTEIN \\n\\nFUCK WIKIPEDIA BITCH AND DAVID EPPSTEIN \\n\\nFUCK WIKIPEDIA BITCH AND DAVID EPPSTEIN \\n\\nFUCK WIKIPEDIA BITCH AND DAVID EPPSTEIN \\n\\nFUCK WIKIPEDIA BITCH AND DAVID EPPSTEIN \\n\\nFUCK WIKIPEDIA BITCH AND DAVID EPPSTEIN \\n\\nFUCK WIKIPEDIA BITCH AND DAVID EPPSTEIN \\n\\nFUCK WIKIPEDIA BITCH AND DAVID EPPSTEIN\\n\\nFUCK WIKIPEDIA BITCH AND DAVID EPPSTEIN \\n\\nFUCK WIKIPEDIA BITCH AND DAVID EPPSTEIN \\n\\nFUCK WIKIPEDIA BITCH AND DAVID EPPSTEIN \\n\\nFUCK WIKIPEDIA BITCH AND DAVID EPPSTEIN \\n\\nFUCK WIKIPEDIA BITCH AND DAVID EPPSTEIN   \n",
       "2977                                                                                                                                                                                                                                                                                                                                                                                                                                                                                                                                     ,\\nBILLCJ's Mom, she's a big fat, fucking bitch\\nBig old fat fuckin' bitch, BILLCJ's Mommmmmmmmmmm\\nYeahhhhh, Chaaaaa   \n",
       "5514                                                                                                                                                                                                                                                                                                                                                                                                                                                                                                                          i dont lambs12 \\n\\nwikipedia sucks ass pussy in the dick i dont give a pussy fuck about lambs12 bitch nigger asshole cock  retyc   \n",
       "5617                                                                                                                                                                                                                                                                                                                                                                                                                                                                                                  http://twitter.com/phoenixreporter - HACK THIS FUCKER'S ACCOUNT AND ALSO FIND AND KILL User:Zhanzhao !!! FUCK HIS FAMILY AND HIS GIRLFRIEND!!! WAHAHAHA    \n",
       "\n",
       "      aggression_score  not_attack     other  quoting  recipient  third_party  \n",
       "9228         -3.000000    0.000000  0.142857        0   0.142857     0.714286  \n",
       "4708         -3.000000    0.000000  0.142857        0   0.428571     0.714286  \n",
       "2977         -2.857143    0.142857  0.000000        0   0.285714     0.571429  \n",
       "5514         -2.857143    0.000000  0.285714        0   0.285714     0.571429  \n",
       "5617         -2.857143    0.000000  0.000000        0   0.285714     0.857143  "
      ]
     },
     "execution_count": 26,
     "metadata": {},
     "output_type": "execute_result"
    }
   ],
   "source": [
    "# Most aggressive comments which are labelled 'Targeted at a third party (i.e. Bob sucks).'\n",
    "sorted_comments(grouped_dat[grouped_dat['third_party'] > 0.5], 'aggression_score', 0, 5)"
   ]
  },
  {
   "cell_type": "code",
   "execution_count": 27,
   "metadata": {
    "collapsed": false
   },
   "outputs": [
    {
     "data": {
      "text/html": [
       "<div>\n",
       "<table border=\"1\" class=\"dataframe\">\n",
       "  <thead>\n",
       "    <tr style=\"text-align: right;\">\n",
       "      <th></th>\n",
       "      <th>clean_diff</th>\n",
       "      <th>aggression_score</th>\n",
       "      <th>not_attack</th>\n",
       "      <th>other</th>\n",
       "      <th>quoting</th>\n",
       "      <th>recipient</th>\n",
       "      <th>third_party</th>\n",
       "    </tr>\n",
       "  </thead>\n",
       "  <tbody>\n",
       "    <tr>\n",
       "      <th>871</th>\n",
       "      <td>\"\\n\\nHi benne\\nI will probably be banned by plyambert, he has changed everything to assyrian, and is trying to undermine the aramean article. I dont know why there arent any other admin that can tell him to stop. Im currently trying to show him how hard it is when someone just changes an article without discussing it. (the article bethnahrin and aramean). and after 3 reverts he threatend to bann me (he shows where i live and how he identifies me \"\"syriac\"\"), I believe that it is some kind of mark on that he know some thing about me, I dont really understand him, he is pretty radical. And Im actually starting to wounder what his real intentions are.\\noh well I really think that this is waste of time. If you are still intersted on the project I spoke of through the email, then i would be more then happy to begin. best wishes// \"</td>\n",
       "      <td>0.571429</td>\n",
       "      <td>0.428571</td>\n",
       "      <td>0.142857</td>\n",
       "      <td>0</td>\n",
       "      <td>0.000000</td>\n",
       "      <td>0.428571</td>\n",
       "    </tr>\n",
       "    <tr>\n",
       "      <th>2585</th>\n",
       "      <td>thank you/ help \\n\\nthanks for the advice, and I mean that sincerely. I finally brought others around to my position but am /was receiving harassment from blaxthos. he repeatedly removed things from the talk page! then threatened me with banning. once again thank you for being civil.\\n\\n</td>\n",
       "      <td>0.285714</td>\n",
       "      <td>0.428571</td>\n",
       "      <td>0.428571</td>\n",
       "      <td>0</td>\n",
       "      <td>0.142857</td>\n",
       "      <td>0.000000</td>\n",
       "    </tr>\n",
       "    <tr>\n",
       "      <th>9565</th>\n",
       "      <td>Something \\n\\nLook Renzoy16 I'm Sorry for attacking you you are the great editor in wikipedia.</td>\n",
       "      <td>0.285714</td>\n",
       "      <td>0.428571</td>\n",
       "      <td>0.000000</td>\n",
       "      <td>0</td>\n",
       "      <td>0.571429</td>\n",
       "      <td>0.000000</td>\n",
       "    </tr>\n",
       "    <tr>\n",
       "      <th>6584</th>\n",
       "      <td>Hi I'm Armytouche. I love Wikipedia so I decided to join. It's Fantastic. But I hate JamesBWatson. Bobba you for banning Macy emerald.</td>\n",
       "      <td>0.142857</td>\n",
       "      <td>0.428571</td>\n",
       "      <td>0.000000</td>\n",
       "      <td>0</td>\n",
       "      <td>0.000000</td>\n",
       "      <td>0.571429</td>\n",
       "    </tr>\n",
       "    <tr>\n",
       "      <th>7488</th>\n",
       "      <td>\"\\nFor what it's worth, I suggest you refrain from pushing the \"\"socks\"\" remarks around, as it only seems to add fuel to the matter. Given that an SPI has been opened and Checkuser denied due to Stale accounts and behaviour evidence alone, it serves no purpose to accuse him further, just as it serves no purpose for him to accuse you of stalking. No one is going to win that type of argument. Also, I suggest you stop calling cowboy \"\"Jake\"\" from now on, as it also implies that he is someone he claims not to be. Clearly he is determined to push his case, and the only way to make it go away is that you ignore him altogether. Socks are a complex issue as they come in different forms. But if you give them enough rope, they'll eventually hang themselves with it. Challenging suspected socks non-stop is sometimes considered uncivil and may seem like a personal attack without confirmation. SPI does not support the claim at present, and baiting cowboy will not look good on your behalf, whatev...</td>\n",
       "      <td>0.142857</td>\n",
       "      <td>0.428571</td>\n",
       "      <td>0.428571</td>\n",
       "      <td>0</td>\n",
       "      <td>0.142857</td>\n",
       "      <td>0.000000</td>\n",
       "    </tr>\n",
       "  </tbody>\n",
       "</table>\n",
       "</div>"
      ],
      "text/plain": [
       "                                                                                                                                                                                                                                                                                                                                                                                                                                                                                                                                                                                                                                                                                                                                                                                                                                                                                                                                                                                                                                   clean_diff  \\\n",
       "871                                                                                                                                                                    \"\\n\\nHi benne\\nI will probably be banned by plyambert, he has changed everything to assyrian, and is trying to undermine the aramean article. I dont know why there arent any other admin that can tell him to stop. Im currently trying to show him how hard it is when someone just changes an article without discussing it. (the article bethnahrin and aramean). and after 3 reverts he threatend to bann me (he shows where i live and how he identifies me \"\"syriac\"\"), I believe that it is some kind of mark on that he know some thing about me, I dont really understand him, he is pretty radical. And Im actually starting to wounder what his real intentions are.\\noh well I really think that this is waste of time. If you are still intersted on the project I spoke of through the email, then i would be more then happy to begin. best wishes// \"   \n",
       "2585                                                                                                                                                                                                                                                                                                                                                                                                                                                                                                                                                                                                                                                                                                                                        thank you/ help \\n\\nthanks for the advice, and I mean that sincerely. I finally brought others around to my position but am /was receiving harassment from blaxthos. he repeatedly removed things from the talk page! then threatened me with banning. once again thank you for being civil.\\n\\n    \n",
       "9565                                                                                                                                                                                                                                                                                                                                                                                                                                                                                                                                                                                                                                                                                                                                                                                                                                                                                                                                           Something \\n\\nLook Renzoy16 I'm Sorry for attacking you you are the great editor in wikipedia.   \n",
       "6584                                                                                                                                                                                                                                                                                                                                                                                                                                                                                                                                                                                                                                                                                                                                                                                                                                                                                                   Hi I'm Armytouche. I love Wikipedia so I decided to join. It's Fantastic. But I hate JamesBWatson. Bobba you for banning Macy emerald.   \n",
       "7488  \"\\nFor what it's worth, I suggest you refrain from pushing the \"\"socks\"\" remarks around, as it only seems to add fuel to the matter. Given that an SPI has been opened and Checkuser denied due to Stale accounts and behaviour evidence alone, it serves no purpose to accuse him further, just as it serves no purpose for him to accuse you of stalking. No one is going to win that type of argument. Also, I suggest you stop calling cowboy \"\"Jake\"\" from now on, as it also implies that he is someone he claims not to be. Clearly he is determined to push his case, and the only way to make it go away is that you ignore him altogether. Socks are a complex issue as they come in different forms. But if you give them enough rope, they'll eventually hang themselves with it. Challenging suspected socks non-stop is sometimes considered uncivil and may seem like a personal attack without confirmation. SPI does not support the claim at present, and baiting cowboy will not look good on your behalf, whatev...   \n",
       "\n",
       "      aggression_score  not_attack     other  quoting  recipient  third_party  \n",
       "871           0.571429    0.428571  0.142857        0   0.000000     0.428571  \n",
       "2585          0.285714    0.428571  0.428571        0   0.142857     0.000000  \n",
       "9565          0.285714    0.428571  0.000000        0   0.571429     0.000000  \n",
       "6584          0.142857    0.428571  0.000000        0   0.000000     0.571429  \n",
       "7488          0.142857    0.428571  0.428571        0   0.142857     0.000000  "
      ]
     },
     "execution_count": 27,
     "metadata": {},
     "output_type": "execute_result"
    }
   ],
   "source": [
    "# Least aggressive comments which are NOT labelled 'This is not an attack or harassment.'\n",
    "sorted_comments(grouped_dat[grouped_dat['not_attack'] < 0.5], 'aggression_score', 0, 5, False)"
   ]
  },
  {
   "cell_type": "markdown",
   "metadata": {
    "collapsed": true
   },
   "source": [
    "### Inter-Annotator Agreement"
   ]
  },
  {
   "cell_type": "markdown",
   "metadata": {},
   "source": [
    "Below, we compute the Krippendorf's Alpha, which is a measure of the inter-annotator agreement of our Crowdflower responses. We achieve an Alpha value of 0.668 on our dataset, which is a relatively good level of inter-annotator agreement for this type of subjective inquiry."
   ]
  },
  {
   "cell_type": "code",
   "execution_count": 28,
   "metadata": {
    "collapsed": true
   },
   "outputs": [],
   "source": [
    "def add_row_to_coincidence(o, row, columns):\n",
    "    m_u = row.sum(1)\n",
    "    for i in columns:\n",
    "        for j in columns:\n",
    "            if i == j:\n",
    "                o[i][j] = o[i][j] + row[i]*(row[i]-1)/(m_u-1)\n",
    "            else:\n",
    "                o[i][j] = o[i][j] + row[i]*row[j]/(m_u-1)\n",
    "    return o"
   ]
  },
  {
   "cell_type": "code",
   "execution_count": 29,
   "metadata": {
    "collapsed": true
   },
   "outputs": [],
   "source": [
    "def make_coincidence_matrix(df, columns):\n",
    "    df = df[columns]\n",
    "    n = df.shape[0]\n",
    "    num_cols = len(columns)\n",
    "    o = pd.DataFrame(np.zeros((num_cols,num_cols)), index = columns, columns=columns)\n",
    "    for i in xrange(n):\n",
    "        o = add_row_to_coincidence(o, df[i:i+1], columns)\n",
    "    return o"
   ]
  },
  {
   "cell_type": "code",
   "execution_count": 30,
   "metadata": {
    "collapsed": true
   },
   "outputs": [],
   "source": [
    "def binary_distance(i,j):\n",
    "    return i!=j\n",
    "\n",
    "def interval_distance(i,j):\n",
    "    return (int(i)-int(j))**2"
   ]
  },
  {
   "cell_type": "code",
   "execution_count": 31,
   "metadata": {
    "collapsed": true
   },
   "outputs": [],
   "source": [
    "def e(n, i, j):\n",
    "    if i == j:\n",
    "        return n[i]*(n[i]-1)/sum(n)-1\n",
    "    else:\n",
    "        return n[i]*n[j]/sum(n)-1\n",
    "\n",
    "def D_e(o, columns, distance):\n",
    "    n = o.sum(1)\n",
    "    output = 0\n",
    "    for i in columns:\n",
    "        for j in columns:\n",
    "            output = output + e(n,i,j)*distance(i,j)\n",
    "    return output\n",
    "\n",
    "def D_o(o, columns, distance):\n",
    "    output = 0\n",
    "    for i in columns:\n",
    "        for j in columns:\n",
    "            output = output + o[i][j]*distance(i,j)\n",
    "    return output"
   ]
  },
  {
   "cell_type": "code",
   "execution_count": 32,
   "metadata": {
    "collapsed": true
   },
   "outputs": [],
   "source": [
    "def Krippendorf_alpha(df, columns, distance = binary_distance, o = None):\n",
    "    if o is None:\n",
    "        o = make_coincidence_matrix(df, columns)\n",
    "    d_o = D_o(o, columns, distance)\n",
    "    d_e = D_e(o, columns, distance)\n",
    "    return (1 - d_o/d_e)"
   ]
  },
  {
   "cell_type": "code",
   "execution_count": 33,
   "metadata": {
    "collapsed": false,
    "scrolled": true
   },
   "outputs": [
    {
     "name": "stdout",
     "output_type": "stream",
     "text": [
      "Krippendorf's Alpha for Aggressiveness: \n"
     ]
    }
   ],
   "source": [
    "print \"Krippendorf's Alpha for Aggressiveness: \"\n",
    "#Krippendorf_alpha(grouped_dat, aggressive_columns, distance = interval_distance)"
   ]
  },
  {
   "cell_type": "code",
   "execution_count": 34,
   "metadata": {
    "collapsed": false,
    "scrolled": true
   },
   "outputs": [
    {
     "name": "stdout",
     "output_type": "stream",
     "text": [
      "Krippendorf's Alpha for Attack: \n"
     ]
    }
   ],
   "source": [
    "print \"Krippendorf's Alpha for Attack: \"\n",
    "#Krippendorf_alpha(grouped_dat, ['not_attack_0', 'not_attack_1'])"
   ]
  },
  {
   "cell_type": "markdown",
   "metadata": {
    "collapsed": true
   },
   "source": [
    "### T-Test of Aggressiveness"
   ]
  },
  {
   "cell_type": "markdown",
   "metadata": {
    "collapsed": true
   },
   "source": [
    "We explore whether aggressiveness changes in the tone of comments from immediately before a block event to immediately after."
   ]
  },
  {
   "cell_type": "code",
   "execution_count": 35,
   "metadata": {
    "collapsed": false
   },
   "outputs": [],
   "source": [
    "# Get the timestamps of blocked events\n",
    "block_timestamps = grouped_dat['block_timestamps'].apply(lambda x: x.split('PIPE'))\n",
    "num_timestamps = block_timestamps.apply(len)\n",
    "# Focus on those users who have only been blocked once\n",
    "block_timestamps = block_timestamps[num_timestamps == 1]\n",
    "# Convert to datetime\n",
    "block_timestamps = [datetime.datetime.strptime(t[0], \"%Y-%m-%dT%H:%M:%SZ\") for t in block_timestamps]\n",
    "# Get the timestamps and scores of the corresponding revisions\n",
    "rev_timestamps = [datetime.datetime.strptime(t, \"%Y-%m-%dT%H:%M:%SZ\") for t in grouped_dat[num_timestamps == 1]['rev_timestamp']]\n",
    "rev_score = grouped_dat[num_timestamps == 1]['aggression_score']"
   ]
  },
  {
   "cell_type": "code",
   "execution_count": 36,
   "metadata": {
    "collapsed": false
   },
   "outputs": [],
   "source": [
    "# Take the difference between the block timestamp and revision timestamp in seconds\n",
    "diff_timestamps = [np.diff(x)[0].total_seconds() for x in zip(block_timestamps, rev_timestamps)]"
   ]
  },
  {
   "cell_type": "code",
   "execution_count": 37,
   "metadata": {
    "collapsed": true
   },
   "outputs": [],
   "source": [
    "x = pd.DataFrame(diff_timestamps)\n",
    "y = pd.DataFrame(rev_score)"
   ]
  },
  {
   "cell_type": "code",
   "execution_count": 43,
   "metadata": {
    "collapsed": false
   },
   "outputs": [
    {
     "data": {
      "text/plain": [
       "(-1000000.0, 1000000.0)"
      ]
     },
     "execution_count": 43,
     "metadata": {},
     "output_type": "execute_result"
    },
    {
     "data": {
      "image/png": "[encoded data removed]",
      "text/plain": [
       "<matplotlib.figure.Figure at 0x10dfba250>"
      ]
     },
     "metadata": {},
     "output_type": "display_data"
    }
   ],
   "source": [
    "# Plot the aggressiveness score by relative time\n",
    "plt.figure()\n",
    "plt.plot(x,y,'bo')\n",
    "plt.xlim(-1e6, 1e6)"
   ]
  },
  {
   "cell_type": "code",
   "execution_count": 39,
   "metadata": {
    "collapsed": false
   },
   "outputs": [],
   "source": [
    "# Seperate the revisions before and after a block event\n",
    "after_revs = y[x.values > 0]\n",
    "before_revs = y[x.values < 0]"
   ]
  },
  {
   "cell_type": "code",
   "execution_count": 40,
   "metadata": {
    "collapsed": false
   },
   "outputs": [
    {
     "data": {
      "text/plain": [
       "aggression_score   -0.276594\n",
       "dtype: float64"
      ]
     },
     "execution_count": 40,
     "metadata": {},
     "output_type": "execute_result"
    }
   ],
   "source": [
    "# The mean aggressiveness of revisions after a block event\n",
    "np.mean(after_revs)"
   ]
  },
  {
   "cell_type": "code",
   "execution_count": 41,
   "metadata": {
    "collapsed": false
   },
   "outputs": [
    {
     "data": {
      "text/plain": [
       "aggression_score   -0.683889\n",
       "dtype: float64"
      ]
     },
     "execution_count": 41,
     "metadata": {},
     "output_type": "execute_result"
    }
   ],
   "source": [
    "# The mean aggressiveness of revisions before a block event\n",
    "np.mean(before_revs)"
   ]
  },
  {
   "cell_type": "code",
   "execution_count": 42,
   "metadata": {
    "collapsed": false
   },
   "outputs": [
    {
     "data": {
      "text/plain": [
       "Ttest_indResult(statistic=array([-17.7491479]), pvalue=array([  2.79580208e-68]))"
      ]
     },
     "execution_count": 42,
     "metadata": {},
     "output_type": "execute_result"
    }
   ],
   "source": [
    "# A t-test of whether there is a difference in aggressiveness before and after a block event\n",
    "stats.ttest_ind(before_revs, after_revs, equal_var=False)"
   ]
  },
  {
   "cell_type": "code",
   "execution_count": null,
   "metadata": {
    "collapsed": true
   },
   "outputs": [],
   "source": []
  }
 ],
 "metadata": {
  "kernelspec": {
   "display_name": "Python 2",
   "language": "python",
   "name": "python2"
  },
  "language_info": {
   "codemirror_mode": {
    "name": "ipython",
    "version": 2
   },
   "file_extension": ".py",
   "mimetype": "text/x-python",
   "name": "python",
   "nbconvert_exporter": "python",
   "pygments_lexer": "ipython2",
   "version": "2.7.11"
  }
 },
 "nbformat": 4,
 "nbformat_minor": 0
}
