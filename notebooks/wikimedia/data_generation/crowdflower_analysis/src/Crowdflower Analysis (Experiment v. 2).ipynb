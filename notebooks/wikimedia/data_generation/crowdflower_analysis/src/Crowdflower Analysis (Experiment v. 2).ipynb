{
 "cells": [
  {
   "cell_type": "markdown",
   "metadata": {},
   "source": [
    "### Introduction"
   ]
  },
  {
   "cell_type": "markdown",
   "metadata": {},
   "source": [
    "This notebook is an analysis of the Crowdflower labels of 1000 revisions of Wikipedia talk pages by users who have been blocked for personal harassment. This dataset has been cleaned and filtered to remove common administrator messages. These datasets are annotated via crowdflower to measure friendliness, aggressiveness and whether the comment constitutes a personal attack. \n",
    "\n",
    "On Crowdflower, each revision is rated 7 times. The raters are given three questions:\n",
    "\n",
    "1. Is this comment not English or not human readable?\n",
    "    * Column 'na'\n",
    "2. How aggressive or friendly is the tone of this comment? \n",
    "    * Column 'how_aggressive_or_friendly_is_the_tone_of_this_comment'\n",
    "    * Ranges from '---' (Very Aggressive) to '+++' (Very Friendly)\n",
    "3. Does the comment contain a personal attack or harassment? Please mark all that apply:\n",
    "    * Column 'is_harassment_or_attack'\n",
    "    * Users can specify that the attack is:\n",
    "        * Targeted at the recipient of the message (i.e. you suck). ('recipent')\n",
    "        * Targeted at a third party (i.e. Bob sucks). ('third_party')\n",
    "        * Being reported or quoted (i.e. Bob said Henri sucks). ('quoting')\n",
    "        * Another kind of attack or harassment. ('other')\n",
    "        * This is not an attack or harassment. ('not_attack')\n",
    "    \n",
    "Below, we plot histograms of the units by average rating of each of the questions, examine quantiles of answers, and compute inter-annotator agreement."
   ]
  },
  {
   "cell_type": "markdown",
   "metadata": {},
   "source": [
    "### Loading packages and data"
   ]
  },
  {
   "cell_type": "code",
   "execution_count": 56,
   "metadata": {
    "collapsed": false
   },
   "outputs": [],
   "source": [
    "%matplotlib inline\n",
    "from __future__ import division\n",
    "import pandas as pd\n",
    "import numpy as np\n",
    "import matplotlib.pyplot as plt"
   ]
  },
  {
   "cell_type": "code",
   "execution_count": 57,
   "metadata": {
    "collapsed": false
   },
   "outputs": [],
   "source": [
    "pd.set_option('display.max_colwidth', 1000)"
   ]
  },
  {
   "cell_type": "code",
   "execution_count": 58,
   "metadata": {
    "collapsed": false
   },
   "outputs": [],
   "source": [
    "# Download data from google drive (Respect Eng / Wiki Collab): wikipdia data/v2_annotated\n",
    "dat = pd.read_csv('../data/exp2_annotated_1k_no_admin_blocked_user_post_sample.csv')"
   ]
  },
  {
   "cell_type": "code",
   "execution_count": 59,
   "metadata": {
    "collapsed": false
   },
   "outputs": [],
   "source": [
    "# Remove test questions\n",
    "dat = dat[dat['_golden'] == False]"
   ]
  },
  {
   "cell_type": "code",
   "execution_count": 60,
   "metadata": {
    "collapsed": false
   },
   "outputs": [],
   "source": [
    "# Replace missing data with 'False'\n",
    "dat = dat.replace(np.nan, False, regex=True)"
   ]
  },
  {
   "cell_type": "code",
   "execution_count": 61,
   "metadata": {
    "collapsed": false
   },
   "outputs": [],
   "source": [
    "#Translate the values from \n",
    "#how_aggressive_or_friendly_is_the_tone_of_this_comment into numbers\n",
    "def translate_how_aggressive_to_num(score):\n",
    "    str_to_num = {'+++ Very Friendly': 3,\n",
    "                  '++': 2,\n",
    "                  '+': 1,\n",
    "                  'Neutral': 0,\n",
    "                  '-': -1,\n",
    "                  '--': -2,\n",
    "                  '--- Very Aggressive (including passive aggression)': -3}\n",
    "    if score:\n",
    "        return str_to_num[score]\n",
    "    else:\n",
    "        return np.nan"
   ]
  },
  {
   "cell_type": "code",
   "execution_count": 62,
   "metadata": {
    "collapsed": true
   },
   "outputs": [],
   "source": [
    "# We reshape the answers for future analysis\n",
    "dat['aggression_score'] = dat['how_aggressive_or_friendly_is_the_tone_of_this_comment'].apply(translate_how_aggressive_to_num)"
   ]
  },
  {
   "cell_type": "code",
   "execution_count": 63,
   "metadata": {
    "collapsed": false
   },
   "outputs": [],
   "source": [
    "def create_column_of_counts(df, col):\n",
    "    return df.apply(lambda x: col in str(x))"
   ]
  },
  {
   "cell_type": "code",
   "execution_count": 64,
   "metadata": {
    "collapsed": true
   },
   "outputs": [],
   "source": [
    "attack_columns = ['not_attack', 'other', 'quoting', 'recipient', 'third_party']"
   ]
  },
  {
   "cell_type": "code",
   "execution_count": 65,
   "metadata": {
    "collapsed": false
   },
   "outputs": [],
   "source": [
    "for col in attack_columns:\n",
    "    dat[col] = create_column_of_counts(dat['is_harassment_or_attack'], col)"
   ]
  },
  {
   "cell_type": "code",
   "execution_count": 66,
   "metadata": {
    "collapsed": false
   },
   "outputs": [],
   "source": [
    "def create_column_of_counts_from_nums(df, col):\n",
    "    return df.apply(lambda x: int(col) == x)"
   ]
  },
  {
   "cell_type": "code",
   "execution_count": 67,
   "metadata": {
    "collapsed": true
   },
   "outputs": [],
   "source": [
    "aggressive_columns = ['-3', '-2', '-1', '0', '1', '2', '3']"
   ]
  },
  {
   "cell_type": "code",
   "execution_count": 68,
   "metadata": {
    "collapsed": false
   },
   "outputs": [],
   "source": [
    "for col in aggressive_columns:\n",
    "    dat[col] = create_column_of_counts_from_nums(dat['aggression_score'], col)"
   ]
  },
  {
   "cell_type": "code",
   "execution_count": 69,
   "metadata": {
    "collapsed": false
   },
   "outputs": [],
   "source": [
    "dat['not_attack_0'] = 1 - dat['not_attack']\n",
    "dat['not_attack_1'] = dat['not_attack']"
   ]
  },
  {
   "cell_type": "code",
   "execution_count": 71,
   "metadata": {
    "collapsed": false
   },
   "outputs": [],
   "source": [
    "# Group the data\n",
    "agg_dict = dict.fromkeys(attack_columns, 'mean')\n",
    "agg_dict.update(dict.fromkeys(aggressive_columns, 'sum'))\n",
    "agg_dict.update({'clean_diff': 'first', 'na': 'mean', 'aggression_score': 'mean', \n",
    "                 '_id':'count', 'not_attack_0':'sum', 'not_attack_1': 'sum'})\n",
    "grouped_dat = dat.groupby(['rev_id'], as_index=False).agg(agg_dict)"
   ]
  },
  {
   "cell_type": "code",
   "execution_count": 73,
   "metadata": {
    "collapsed": false
   },
   "outputs": [],
   "source": [
    "# Get rid of data which the majority thinks is not in English or not readable\n",
    "grouped_dat = grouped_dat[grouped_dat['na'] < 0.5]"
   ]
  },
  {
   "cell_type": "markdown",
   "metadata": {},
   "source": [
    "### Plot histogram of average ratings by revision"
   ]
  },
  {
   "cell_type": "markdown",
   "metadata": {},
   "source": [
    "For each revision, we take the average of all the ratings by level of friendliness/aggressiveness and for each of the answers to Question 3. The histograms of these averages is displayed below."
   ]
  },
  {
   "cell_type": "code",
   "execution_count": 74,
   "metadata": {
    "collapsed": false
   },
   "outputs": [],
   "source": [
    "def hist_comments(df, bins, plot_by, title):\n",
    "    plt.figure()\n",
    "    sliced_array = df[[plot_by]]\n",
    "    weights = np.ones_like(sliced_array)/len(sliced_array)\n",
    "    sliced_array.plot.hist(bins = bins, legend = False, title = title, weights=weights)\n",
    "    plt.ylabel('Proportion')\n",
    "    plt.xlabel('Average Score')"
   ]
  },
  {
   "cell_type": "code",
   "execution_count": 75,
   "metadata": {
    "collapsed": false
   },
   "outputs": [
    {
     "data": {
      "text/plain": [
       "<matplotlib.figure.Figure at 0x103b71cd0>"
      ]
     },
     "metadata": {},
     "output_type": "display_data"
    },
    {
     "data": {
      "image/png": "[encoded data removed]",
      "text/plain": [
       "<matplotlib.figure.Figure at 0x103b71bd0>"
      ]
     },
     "metadata": {},
     "output_type": "display_data"
    }
   ],
   "source": [
    "bins = np.linspace(-3,3,11)\n",
    "hist_comments(grouped_dat, bins, 'aggression_score', 'Average Aggressiveness Rating for Blocked Data')"
   ]
  },
  {
   "cell_type": "code",
   "execution_count": 76,
   "metadata": {
    "collapsed": false
   },
   "outputs": [
    {
     "data": {
      "text/plain": [
       "<matplotlib.figure.Figure at 0x10ca98c90>"
      ]
     },
     "metadata": {},
     "output_type": "display_data"
    },
    {
     "data": {
      "image/png": "[encoded data removed]",
      "text/plain": [
       "<matplotlib.figure.Figure at 0x10bf7f1d0>"
      ]
     },
     "metadata": {},
     "output_type": "display_data"
    },
    {
     "data": {
      "text/plain": [
       "<matplotlib.figure.Figure at 0x10ca98fd0>"
      ]
     },
     "metadata": {},
     "output_type": "display_data"
    },
    {
     "data": {
      "image/png": "[encoded data removed]",
      "text/plain": [
       "<matplotlib.figure.Figure at 0x10c9daf50>"
      ]
     },
     "metadata": {},
     "output_type": "display_data"
    },
    {
     "data": {
      "text/plain": [
       "<matplotlib.figure.Figure at 0x10c9e6cd0>"
      ]
     },
     "metadata": {},
     "output_type": "display_data"
    },
    {
     "data": {
      "image/png": "[encoded data removed]",
      "text/plain": [
       "<matplotlib.figure.Figure at 0x10fbe8190>"
      ]
     },
     "metadata": {},
     "output_type": "display_data"
    },
    {
     "data": {
      "text/plain": [
       "<matplotlib.figure.Figure at 0x10fbe80d0>"
      ]
     },
     "metadata": {},
     "output_type": "display_data"
    },
    {
     "data": {
      "image/png": "[encoded data removed]",
      "text/plain": [
       "<matplotlib.figure.Figure at 0x10fba9450>"
      ]
     },
     "metadata": {},
     "output_type": "display_data"
    },
    {
     "data": {
      "text/plain": [
       "<matplotlib.figure.Figure at 0x10fb882d0>"
      ]
     },
     "metadata": {},
     "output_type": "display_data"
    },
    {
     "data": {
      "image/png": "[encoded data removed]",
      "text/plain": [
       "<matplotlib.figure.Figure at 0x10c46c350>"
      ]
     },
     "metadata": {},
     "output_type": "display_data"
    }
   ],
   "source": [
    "bins = np.linspace(0,1,9)\n",
    "for col in attack_columns:\n",
    "    hist_comments(grouped_dat, bins, col, 'Average %s Rating' % col)"
   ]
  },
  {
   "cell_type": "markdown",
   "metadata": {},
   "source": [
    "### Selected harassing and aggressive revisions by quartile"
   ]
  },
  {
   "cell_type": "markdown",
   "metadata": {},
   "source": [
    "We look at a sample of revisions whose average aggressive score falls into various quantiles. This allows us to subjectively evaluate the quality of the questions that we are asking on Crowdflower."
   ]
  },
  {
   "cell_type": "code",
   "execution_count": 77,
   "metadata": {
    "collapsed": false
   },
   "outputs": [],
   "source": [
    "def sorted_comments(df, sort_by, quartile, num, is_ascending = True):\n",
    "    n = df.shape[0]\n",
    "    start_index = int(quartile*n)\n",
    "    return df[['clean_diff', 'aggression_score',\n",
    "              'not_attack', 'other', 'quoting', 'recipient', 'third_party']].sort_values(\n",
    "        by=sort_by, ascending = is_ascending)[start_index:start_index + num]"
   ]
  },
  {
   "cell_type": "code",
   "execution_count": 78,
   "metadata": {
    "collapsed": false,
    "scrolled": true
   },
   "outputs": [
    {
     "data": {
      "text/html": [
       "<div>\n",
       "<table border=\"1\" class=\"dataframe\">\n",
       "  <thead>\n",
       "    <tr style=\"text-align: right;\">\n",
       "      <th></th>\n",
       "      <th>clean_diff</th>\n",
       "      <th>aggression_score</th>\n",
       "      <th>not_attack</th>\n",
       "      <th>other</th>\n",
       "      <th>quoting</th>\n",
       "      <th>recipient</th>\n",
       "      <th>third_party</th>\n",
       "    </tr>\n",
       "  </thead>\n",
       "  <tbody>\n",
       "    <tr>\n",
       "      <th>492</th>\n",
       "      <td>Fucking left-wing bastard \\n\\nYou left-wing liberalist bastards are enemies of a free and righteous world and ought to be banned!</td>\n",
       "      <td>-3</td>\n",
       "      <td>0</td>\n",
       "      <td>0.142857</td>\n",
       "      <td>0</td>\n",
       "      <td>1.000000</td>\n",
       "      <td>0.000000</td>\n",
       "    </tr>\n",
       "    <tr>\n",
       "      <th>737</th>\n",
       "      <td>Hum! \\n\\nFuck you! You are a person worse than pigs or dogs!</td>\n",
       "      <td>-3</td>\n",
       "      <td>0</td>\n",
       "      <td>0.000000</td>\n",
       "      <td>0</td>\n",
       "      <td>1.000000</td>\n",
       "      <td>0.000000</td>\n",
       "    </tr>\n",
       "    <tr>\n",
       "      <th>520</th>\n",
       "      <td>Renzoy16 ! Shut The Fuck Up</td>\n",
       "      <td>-3</td>\n",
       "      <td>0</td>\n",
       "      <td>0.000000</td>\n",
       "      <td>0</td>\n",
       "      <td>0.857143</td>\n",
       "      <td>0.142857</td>\n",
       "    </tr>\n",
       "    <tr>\n",
       "      <th>818</th>\n",
       "      <td>su:)ck my ba:)lls you fa:)g:)got \\n\\nloser</td>\n",
       "      <td>-3</td>\n",
       "      <td>0</td>\n",
       "      <td>0.142857</td>\n",
       "      <td>0</td>\n",
       "      <td>0.857143</td>\n",
       "      <td>0.000000</td>\n",
       "    </tr>\n",
       "    <tr>\n",
       "      <th>681</th>\n",
       "      <td>You fascit Nazi! You socialist bastard! You filthy Hippy! \\n\\nYou dare touch my edits again and I'll go to where you live and kick your ass in person. It shouldn't be hard to find. Communes smell worse than slaughter houses. I make edits. I don't vandilaze. Get off your high horse.</td>\n",
       "      <td>-3</td>\n",
       "      <td>0</td>\n",
       "      <td>0.000000</td>\n",
       "      <td>0</td>\n",
       "      <td>1.000000</td>\n",
       "      <td>0.000000</td>\n",
       "    </tr>\n",
       "  </tbody>\n",
       "</table>\n",
       "</div>"
      ],
      "text/plain": [
       "                                                                                                                                                                                                                                                                                      clean_diff  \\\n",
       "492                                                                                                                                                         Fucking left-wing bastard \\n\\nYou left-wing liberalist bastards are enemies of a free and righteous world and ought to be banned!      \n",
       "737                                                                                                                                                                                                                                 Hum! \\n\\nFuck you! You are a person worse than pigs or dogs!   \n",
       "520                                                                                                                                                                                                                                                                  Renzoy16 ! Shut The Fuck Up   \n",
       "818                                                                                                                                                                                                                                                   su:)ck my ba:)lls you fa:)g:)got \\n\\nloser   \n",
       "681   You fascit Nazi! You socialist bastard! You filthy Hippy! \\n\\nYou dare touch my edits again and I'll go to where you live and kick your ass in person. It shouldn't be hard to find. Communes smell worse than slaughter houses. I make edits. I don't vandilaze. Get off your high horse.   \n",
       "\n",
       "     aggression_score  not_attack     other  quoting  recipient  third_party  \n",
       "492                -3           0  0.142857        0   1.000000     0.000000  \n",
       "737                -3           0  0.000000        0   1.000000     0.000000  \n",
       "520                -3           0  0.000000        0   0.857143     0.142857  \n",
       "818                -3           0  0.142857        0   0.857143     0.000000  \n",
       "681                -3           0  0.000000        0   1.000000     0.000000  "
      ]
     },
     "execution_count": 78,
     "metadata": {},
     "output_type": "execute_result"
    }
   ],
   "source": [
    "# Most aggressive comments\n",
    "sorted_comments(grouped_dat, 'aggression_score', 0, 5)"
   ]
  },
  {
   "cell_type": "code",
   "execution_count": 79,
   "metadata": {
    "collapsed": false
   },
   "outputs": [
    {
     "data": {
      "text/html": [
       "<div>\n",
       "<table border=\"1\" class=\"dataframe\">\n",
       "  <thead>\n",
       "    <tr style=\"text-align: right;\">\n",
       "      <th></th>\n",
       "      <th>clean_diff</th>\n",
       "      <th>aggression_score</th>\n",
       "      <th>not_attack</th>\n",
       "      <th>other</th>\n",
       "      <th>quoting</th>\n",
       "      <th>recipient</th>\n",
       "      <th>third_party</th>\n",
       "    </tr>\n",
       "  </thead>\n",
       "  <tbody>\n",
       "    <tr>\n",
       "      <th>570</th>\n",
       "      <td>In that case, I'll revert to the comments I made before I noticed he was blocked. The Dissident Aggressor</td>\n",
       "      <td>-0.428571</td>\n",
       "      <td>0.714286</td>\n",
       "      <td>0.285714</td>\n",
       "      <td>0</td>\n",
       "      <td>0.000000</td>\n",
       "      <td>0.142857</td>\n",
       "    </tr>\n",
       "    <tr>\n",
       "      <th>957</th>\n",
       "      <td>Warning \\n\\nInstead of warning me, can you look a little closer at what went on?\\n\\nI spent a consider time improving an article. He and two other authors came about and replaced a 99% EXACT duplicate of content which actuall remained in topic,\\n\\nAll I had done was paragraphize it.\\n\\nOf course, I removed it.\\n\\nYou can see it here under the section 'History' as plain as day.\\n\\nHe then attacked me claiming I was edit warring. \\n\\n Where is the sense in that?\\n What is the benefit in duplicating content?\\n How did it improve the article or encourage involvement?\\n\\nTherefore I asked him to remove and erase the bad mark so it is not used again me but he refuses, and now runs to you.\\n\\nDo you think this is correct, or do you think you are just being manipulated?\\n\\nAgain, I ask you, what is the benefit to the Wikipedia or its readers to have duplicate and badly composed content?\\n\\nThank you.</td>\n",
       "      <td>-0.428571</td>\n",
       "      <td>0.428571</td>\n",
       "      <td>0.000000</td>\n",
       "      <td>0</td>\n",
       "      <td>0.571429</td>\n",
       "      <td>0.142857</td>\n",
       "    </tr>\n",
       "    <tr>\n",
       "      <th>567</th>\n",
       "      <td>The Dissident Aggressor</td>\n",
       "      <td>-0.428571</td>\n",
       "      <td>0.428571</td>\n",
       "      <td>0.142857</td>\n",
       "      <td>0</td>\n",
       "      <td>0.000000</td>\n",
       "      <td>0.428571</td>\n",
       "    </tr>\n",
       "    <tr>\n",
       "      <th>117</th>\n",
       "      <td>\"This is because it means reading walls of text and endless discussion. It is tantamount to a strategy and unfair advantage.\" - he used exactly that tactic himself; so many times on boards, talkpages, and on the article talkpage; and drowned his own RfC about a merge re his similarly-biased/clueless Indo-Canadian titles.  A lot of those \"55,956 words\" were his, all being obstinate and obstructive and working hard to reject sources or facts not to his liking/bias.  And that tactic is described in certain passage of WP:POV fork.\\n\\nthe grossly overpadded Vancouver section that he is now POV forking is full of junk/trivia and off-topic content and UNDUE, he was only adding content IMO to try to justify the split; I've found tons of repetitions, loads of bad writing, abuse of sources and SYNTH and more.  And you say \"be concise\" - when there's so much wrong all at once and I try to lay it out and show what's wrong with it, it's \"too long to read\".  So, apparently, is the NPOV policy an...</td>\n",
       "      <td>-0.428571</td>\n",
       "      <td>0.571429</td>\n",
       "      <td>0.142857</td>\n",
       "      <td>0</td>\n",
       "      <td>0.142857</td>\n",
       "      <td>0.285714</td>\n",
       "    </tr>\n",
       "    <tr>\n",
       "      <th>595</th>\n",
       "      <td>didn't try to explain his \"refugee crisis\" edit on the talk page after multiple undo's. Only later came up with a source that substantiates nothing. The IP 37.76.11.111 was me (I did not care to log in for a mere undo) but not 37.76.42.195. It's not only me in Hungary interested in AND AFFECTED DIRECTLY by this crisis who think in the same way about it. Furthermore i would like to COMPLAIN ABOUT THE CLEAR BIAS of  towards The New York Times bordering on BRAND BUILDING:  not cites almost EXCLUSIVELY The NYT, but insist on MENTIONING IT BY NAME in the lead section of the article.</td>\n",
       "      <td>-0.428571</td>\n",
       "      <td>0.714286</td>\n",
       "      <td>0.142857</td>\n",
       "      <td>0</td>\n",
       "      <td>0.142857</td>\n",
       "      <td>0.000000</td>\n",
       "    </tr>\n",
       "  </tbody>\n",
       "</table>\n",
       "</div>"
      ],
      "text/plain": [
       "                                                                                                                                                                                                                                                                                                                                                                                                                                                                                                                                                                                                                                                                                                                                                                                                                                                                                                                                                                                                                                  clean_diff  \\\n",
       "570                                                                                                                                                                                                                                                                                                                                                                                                                                                                                                                                                                                                                                                                                                                                                                                                                                                                                                                               In that case, I'll revert to the comments I made before I noticed he was blocked. The Dissident Aggressor    \n",
       "957                                                                                             Warning \\n\\nInstead of warning me, can you look a little closer at what went on?\\n\\nI spent a consider time improving an article. He and two other authors came about and replaced a 99% EXACT duplicate of content which actuall remained in topic,\\n\\nAll I had done was paragraphize it.\\n\\nOf course, I removed it.\\n\\nYou can see it here under the section 'History' as plain as day.\\n\\nHe then attacked me claiming I was edit warring. \\n\\n Where is the sense in that?\\n What is the benefit in duplicating content?\\n How did it improve the article or encourage involvement?\\n\\nTherefore I asked him to remove and erase the bad mark so it is not used again me but he refuses, and now runs to you.\\n\\nDo you think this is correct, or do you think you are just being manipulated?\\n\\nAgain, I ask you, what is the benefit to the Wikipedia or its readers to have duplicate and badly composed content?\\n\\nThank you.      \n",
       "567                                                                                                                                                                                                                                                                                                                                                                                                                                                                                                                                                                                                                                                                                                                                                                                                                                                                                                                                                                                                                 The Dissident Aggressor    \n",
       "117  \"This is because it means reading walls of text and endless discussion. It is tantamount to a strategy and unfair advantage.\" - he used exactly that tactic himself; so many times on boards, talkpages, and on the article talkpage; and drowned his own RfC about a merge re his similarly-biased/clueless Indo-Canadian titles.  A lot of those \"55,956 words\" were his, all being obstinate and obstructive and working hard to reject sources or facts not to his liking/bias.  And that tactic is described in certain passage of WP:POV fork.\\n\\nthe grossly overpadded Vancouver section that he is now POV forking is full of junk/trivia and off-topic content and UNDUE, he was only adding content IMO to try to justify the split; I've found tons of repetitions, loads of bad writing, abuse of sources and SYNTH and more.  And you say \"be concise\" - when there's so much wrong all at once and I try to lay it out and show what's wrong with it, it's \"too long to read\".  So, apparently, is the NPOV policy an...   \n",
       "595                                                                                                                                                                                                                                                                                                                                                                                                                              didn't try to explain his \"refugee crisis\" edit on the talk page after multiple undo's. Only later came up with a source that substantiates nothing. The IP 37.76.11.111 was me (I did not care to log in for a mere undo) but not 37.76.42.195. It's not only me in Hungary interested in AND AFFECTED DIRECTLY by this crisis who think in the same way about it. Furthermore i would like to COMPLAIN ABOUT THE CLEAR BIAS of  towards The New York Times bordering on BRAND BUILDING:  not cites almost EXCLUSIVELY The NYT, but insist on MENTIONING IT BY NAME in the lead section of the article.      \n",
       "\n",
       "     aggression_score  not_attack     other  quoting  recipient  third_party  \n",
       "570         -0.428571    0.714286  0.285714        0   0.000000     0.142857  \n",
       "957         -0.428571    0.428571  0.000000        0   0.571429     0.142857  \n",
       "567         -0.428571    0.428571  0.142857        0   0.000000     0.428571  \n",
       "117         -0.428571    0.571429  0.142857        0   0.142857     0.285714  \n",
       "595         -0.428571    0.714286  0.142857        0   0.142857     0.000000  "
      ]
     },
     "execution_count": 79,
     "metadata": {},
     "output_type": "execute_result"
    }
   ],
   "source": [
    "# Median aggressive comments\n",
    "sorted_comments(grouped_dat, 'aggression_score', 0.5, 5)"
   ]
  },
  {
   "cell_type": "code",
   "execution_count": 80,
   "metadata": {
    "collapsed": false,
    "scrolled": true
   },
   "outputs": [
    {
     "data": {
      "text/html": [
       "<div>\n",
       "<table border=\"1\" class=\"dataframe\">\n",
       "  <thead>\n",
       "    <tr style=\"text-align: right;\">\n",
       "      <th></th>\n",
       "      <th>clean_diff</th>\n",
       "      <th>aggression_score</th>\n",
       "      <th>not_attack</th>\n",
       "      <th>other</th>\n",
       "      <th>quoting</th>\n",
       "      <th>recipient</th>\n",
       "      <th>third_party</th>\n",
       "    </tr>\n",
       "  </thead>\n",
       "  <tbody>\n",
       "    <tr>\n",
       "      <th>852</th>\n",
       "      <td>Thank you so much! Many blessings for you,  and your family the Christmas season!</td>\n",
       "      <td>2.857143</td>\n",
       "      <td>1</td>\n",
       "      <td>0</td>\n",
       "      <td>0</td>\n",
       "      <td>0</td>\n",
       "      <td>0</td>\n",
       "    </tr>\n",
       "    <tr>\n",
       "      <th>39</th>\n",
       "      <td>Such a friendly, helpful and encouraging person (82.132.222.241  )</td>\n",
       "      <td>2.285714</td>\n",
       "      <td>1</td>\n",
       "      <td>0</td>\n",
       "      <td>0</td>\n",
       "      <td>0</td>\n",
       "      <td>0</td>\n",
       "    </tr>\n",
       "    <tr>\n",
       "      <th>340</th>\n",
       "      <td>Thanks so much for your help and advice!   Cheers!       02:31, 28 May 2015 (UTC)</td>\n",
       "      <td>2.285714</td>\n",
       "      <td>1</td>\n",
       "      <td>0</td>\n",
       "      <td>0</td>\n",
       "      <td>0</td>\n",
       "      <td>0</td>\n",
       "    </tr>\n",
       "    <tr>\n",
       "      <th>298</th>\n",
       "      <td>Merci Beaucoup \\n\\nA very kind thank you, Geraldine.</td>\n",
       "      <td>2.285714</td>\n",
       "      <td>1</td>\n",
       "      <td>0</td>\n",
       "      <td>0</td>\n",
       "      <td>0</td>\n",
       "      <td>0</td>\n",
       "    </tr>\n",
       "    <tr>\n",
       "      <th>432</th>\n",
       "      <td>Hello Machan! \\n\\n  My Pleasure It's my pleasure to corporate with you ion your modest work in safeguarding the Sinhalese culture and ethics. Talk to me anytime.  Summon</td>\n",
       "      <td>2.142857</td>\n",
       "      <td>1</td>\n",
       "      <td>0</td>\n",
       "      <td>0</td>\n",
       "      <td>0</td>\n",
       "      <td>0</td>\n",
       "    </tr>\n",
       "  </tbody>\n",
       "</table>\n",
       "</div>"
      ],
      "text/plain": [
       "                                                                                                                                                                      clean_diff  \\\n",
       "852                                                                                         Thank you so much! Many blessings for you,  and your family the Christmas season!      \n",
       "39                                                                                                            Such a friendly, helpful and encouraging person (82.132.222.241  )   \n",
       "340                                                                                            Thanks so much for your help and advice!   Cheers!       02:31, 28 May 2015 (UTC)   \n",
       "298                                                                                                                         Merci Beaucoup \\n\\nA very kind thank you, Geraldine.   \n",
       "432   Hello Machan! \\n\\n  My Pleasure It's my pleasure to corporate with you ion your modest work in safeguarding the Sinhalese culture and ethics. Talk to me anytime.  Summon    \n",
       "\n",
       "     aggression_score  not_attack  other  quoting  recipient  third_party  \n",
       "852          2.857143           1      0        0          0            0  \n",
       "39           2.285714           1      0        0          0            0  \n",
       "340          2.285714           1      0        0          0            0  \n",
       "298          2.285714           1      0        0          0            0  \n",
       "432          2.142857           1      0        0          0            0  "
      ]
     },
     "execution_count": 80,
     "metadata": {},
     "output_type": "execute_result"
    }
   ],
   "source": [
    "# Least aggressive comments\n",
    "sorted_comments(grouped_dat, 'aggression_score', 0, 5, False)"
   ]
  },
  {
   "cell_type": "markdown",
   "metadata": {},
   "source": [
    "### Selected revisions on multiple questions"
   ]
  },
  {
   "cell_type": "markdown",
   "metadata": {
    "collapsed": true
   },
   "source": [
    "In this section, we examine a selection of revisions by their answer to Question 3 and sorted by aggression score. Again, this allows us to subjectively evaluate the quality of questions and responses that we obtain from Crowdflower."
   ]
  },
  {
   "cell_type": "code",
   "execution_count": 81,
   "metadata": {
    "collapsed": false,
    "scrolled": true
   },
   "outputs": [
    {
     "data": {
      "text/html": [
       "<div>\n",
       "<table border=\"1\" class=\"dataframe\">\n",
       "  <thead>\n",
       "    <tr style=\"text-align: right;\">\n",
       "      <th></th>\n",
       "      <th>clean_diff</th>\n",
       "      <th>aggression_score</th>\n",
       "      <th>not_attack</th>\n",
       "      <th>other</th>\n",
       "      <th>quoting</th>\n",
       "      <th>recipient</th>\n",
       "      <th>third_party</th>\n",
       "    </tr>\n",
       "  </thead>\n",
       "  <tbody>\n",
       "    <tr>\n",
       "      <th>562</th>\n",
       "      <td>because I'm gay and love to suck cock</td>\n",
       "      <td>-1.500000</td>\n",
       "      <td>0.625000</td>\n",
       "      <td>0.375000</td>\n",
       "      <td>0</td>\n",
       "      <td>0.000000</td>\n",
       "      <td>0.000000</td>\n",
       "    </tr>\n",
       "    <tr>\n",
       "      <th>326</th>\n",
       "      <td>I'M REALLY FUCKING SCARED 86.131.154.229  22:41, 26 May 2015 (UTC)</td>\n",
       "      <td>-1.428571</td>\n",
       "      <td>0.571429</td>\n",
       "      <td>0.285714</td>\n",
       "      <td>0</td>\n",
       "      <td>0.142857</td>\n",
       "      <td>0.000000</td>\n",
       "    </tr>\n",
       "    <tr>\n",
       "      <th>489</th>\n",
       "      <td>Oh, sure! That old chestnut… Ah, and to think I was about to ask if you had that idiom in Yankland—you own it!\\nNow, listen up, American worm: I have 614 pages on my watchlist so far. I'd also ask you to keep in mind that I have incredible power.\\nAlso, please, do not misunderstand my keeping out that edit on Juan Cole. It honestly was just that Mediaite (sp?) cannot be considered RS, as well you knew. I am not interested in defending that maggot—\"Let's invade Libya! It will be totally cool!\"—because Cole pronounces himself a person of the Left. If you want to fire reams of criticism into his article, be my guest. Truth told, there is already some embarrassingly precarious synth criticism of him inserted by me. I ought to snip it out, but I just can't find the time, you know?\\nContinuing with Cole: I do think the bit about the \"far right-wing Jews\" is just the usual attempt at smear with antisemitism (he's a critic of Israel, as you know). He, of course, knew this would happen, whi...</td>\n",
       "      <td>-1.142857</td>\n",
       "      <td>0.571429</td>\n",
       "      <td>0.142857</td>\n",
       "      <td>0</td>\n",
       "      <td>0.428571</td>\n",
       "      <td>0.000000</td>\n",
       "    </tr>\n",
       "    <tr>\n",
       "      <th>541</th>\n",
       "      <td>=The edit goons are at it again\\n\\nPresumably no one else here gets \"citation needed\" tags in their user page, since it is a user page, rather than an encyclopedic article, a distinction an overzealous seems to have failed to grasp. I'd love to see an example of another editor who had their personal user page subjected to such pointless scrutiny. You know, so I can continue to \"assume good faith\" rather than conclude than I've been unfairly targeted and treated once again.</td>\n",
       "      <td>-1.142857</td>\n",
       "      <td>0.571429</td>\n",
       "      <td>0.000000</td>\n",
       "      <td>0</td>\n",
       "      <td>0.000000</td>\n",
       "      <td>0.428571</td>\n",
       "    </tr>\n",
       "    <tr>\n",
       "      <th>34</th>\n",
       "      <td>If you leave me a message here, I will ignore it and delete it. I do not care what you have to say.</td>\n",
       "      <td>-1.142857</td>\n",
       "      <td>0.571429</td>\n",
       "      <td>0.000000</td>\n",
       "      <td>0</td>\n",
       "      <td>0.428571</td>\n",
       "      <td>0.000000</td>\n",
       "    </tr>\n",
       "  </tbody>\n",
       "</table>\n",
       "</div>"
      ],
      "text/plain": [
       "                                                                                                                                                                                                                                                                                                                                                                                                                                                                                                                                                                                                                                                                                                                                                                                                                                                                                                                                                                                                                                  clean_diff  \\\n",
       "562                                                                                                                                                                                                                                                                                                                                                                                                                                                                                                                                                                                                                                                                                                                                                                                                                                                                                                                                                                                                    because I'm gay and love to suck cock   \n",
       "326                                                                                                                                                                                                                                                                                                                                                                                                                                                                                                                                                                                                                                                                                                                                                                                                                                                                                                                                                                       I'M REALLY FUCKING SCARED 86.131.154.229  22:41, 26 May 2015 (UTC)   \n",
       "489  Oh, sure! That old chestnut… Ah, and to think I was about to ask if you had that idiom in Yankland—you own it!\\nNow, listen up, American worm: I have 614 pages on my watchlist so far. I'd also ask you to keep in mind that I have incredible power.\\nAlso, please, do not misunderstand my keeping out that edit on Juan Cole. It honestly was just that Mediaite (sp?) cannot be considered RS, as well you knew. I am not interested in defending that maggot—\"Let's invade Libya! It will be totally cool!\"—because Cole pronounces himself a person of the Left. If you want to fire reams of criticism into his article, be my guest. Truth told, there is already some embarrassingly precarious synth criticism of him inserted by me. I ought to snip it out, but I just can't find the time, you know?\\nContinuing with Cole: I do think the bit about the \"far right-wing Jews\" is just the usual attempt at smear with antisemitism (he's a critic of Israel, as you know). He, of course, knew this would happen, whi...   \n",
       "541                                                                                                                                                                                                                                                                                                                                                                                                                                                                                                                                         =The edit goons are at it again\\n\\nPresumably no one else here gets \"citation needed\" tags in their user page, since it is a user page, rather than an encyclopedic article, a distinction an overzealous seems to have failed to grasp. I'd love to see an example of another editor who had their personal user page subjected to such pointless scrutiny. You know, so I can continue to \"assume good faith\" rather than conclude than I've been unfairly targeted and treated once again.      \n",
       "34                                                                                                                                                                                                                                                                                                                                                                                                                                                                                                                                                                                                                                                                                                                                                                                                                                                                                                                                       If you leave me a message here, I will ignore it and delete it. I do not care what you have to say.   \n",
       "\n",
       "     aggression_score  not_attack     other  quoting  recipient  third_party  \n",
       "562         -1.500000    0.625000  0.375000        0   0.000000     0.000000  \n",
       "326         -1.428571    0.571429  0.285714        0   0.142857     0.000000  \n",
       "489         -1.142857    0.571429  0.142857        0   0.428571     0.000000  \n",
       "541         -1.142857    0.571429  0.000000        0   0.000000     0.428571  \n",
       "34          -1.142857    0.571429  0.000000        0   0.428571     0.000000  "
      ]
     },
     "execution_count": 81,
     "metadata": {},
     "output_type": "execute_result"
    }
   ],
   "source": [
    "# Most aggressive comments which are labelled 'This is not an attack or harassment.'\n",
    "sorted_comments(grouped_dat[grouped_dat['not_attack'] > 0.5], 'aggression_score', 0, 5)"
   ]
  },
  {
   "cell_type": "code",
   "execution_count": 82,
   "metadata": {
    "collapsed": false
   },
   "outputs": [
    {
     "data": {
      "text/html": [
       "<div>\n",
       "<table border=\"1\" class=\"dataframe\">\n",
       "  <thead>\n",
       "    <tr style=\"text-align: right;\">\n",
       "      <th></th>\n",
       "      <th>clean_diff</th>\n",
       "      <th>aggression_score</th>\n",
       "      <th>not_attack</th>\n",
       "      <th>other</th>\n",
       "      <th>quoting</th>\n",
       "      <th>recipient</th>\n",
       "      <th>third_party</th>\n",
       "    </tr>\n",
       "  </thead>\n",
       "  <tbody>\n",
       "    <tr>\n",
       "      <th>714</th>\n",
       "      <td>By the way... \\n\\nI met Eric Corbett in Manchester yesterday  and he called you a twat.  Just thought you should know. 195.89.48.217</td>\n",
       "      <td>-1.000000</td>\n",
       "      <td>0.142857</td>\n",
       "      <td>0</td>\n",
       "      <td>0.428571</td>\n",
       "      <td>0.428571</td>\n",
       "      <td>0.000000</td>\n",
       "    </tr>\n",
       "    <tr>\n",
       "      <th>713</th>\n",
       "      <td>Guess what... \\n\\nI met Cassianto yesterday in London and he called you a twat.  Just thought you should know. 195.89.48.217</td>\n",
       "      <td>-0.714286</td>\n",
       "      <td>0.142857</td>\n",
       "      <td>0</td>\n",
       "      <td>0.571429</td>\n",
       "      <td>0.142857</td>\n",
       "      <td>0.142857</td>\n",
       "    </tr>\n",
       "  </tbody>\n",
       "</table>\n",
       "</div>"
      ],
      "text/plain": [
       "                                                                                                                                  clean_diff  \\\n",
       "714   By the way... \\n\\nI met Eric Corbett in Manchester yesterday  and he called you a twat.  Just thought you should know. 195.89.48.217     \n",
       "713           Guess what... \\n\\nI met Cassianto yesterday in London and he called you a twat.  Just thought you should know. 195.89.48.217     \n",
       "\n",
       "     aggression_score  not_attack  other   quoting  recipient  third_party  \n",
       "714         -1.000000    0.142857      0  0.428571   0.428571     0.000000  \n",
       "713         -0.714286    0.142857      0  0.571429   0.142857     0.142857  "
      ]
     },
     "execution_count": 82,
     "metadata": {},
     "output_type": "execute_result"
    }
   ],
   "source": [
    "# Most aggressive comments which are labelled 'Being reported or quoted (i.e. Bob said Henri sucks).'\n",
    "sorted_comments(grouped_dat[grouped_dat['quoting'] > 0.3], 'aggression_score', 0, 5)"
   ]
  },
  {
   "cell_type": "code",
   "execution_count": 83,
   "metadata": {
    "collapsed": false
   },
   "outputs": [
    {
     "data": {
      "text/html": [
       "<div>\n",
       "<table border=\"1\" class=\"dataframe\">\n",
       "  <thead>\n",
       "    <tr style=\"text-align: right;\">\n",
       "      <th></th>\n",
       "      <th>clean_diff</th>\n",
       "      <th>aggression_score</th>\n",
       "      <th>not_attack</th>\n",
       "      <th>other</th>\n",
       "      <th>quoting</th>\n",
       "      <th>recipient</th>\n",
       "      <th>third_party</th>\n",
       "    </tr>\n",
       "  </thead>\n",
       "  <tbody>\n",
       "    <tr>\n",
       "      <th>746</th>\n",
       "      <td>I will fuck the whole wikipedia!!!</td>\n",
       "      <td>-2.285714</td>\n",
       "      <td>0.000000</td>\n",
       "      <td>0.571429</td>\n",
       "      <td>0.000000</td>\n",
       "      <td>0.285714</td>\n",
       "      <td>0.428571</td>\n",
       "    </tr>\n",
       "    <tr>\n",
       "      <th>450</th>\n",
       "      <td>Hi \\n\\nIm a fucking bitch.\\n\\n50.180.208.181</td>\n",
       "      <td>-2.000000</td>\n",
       "      <td>0.142857</td>\n",
       "      <td>0.714286</td>\n",
       "      <td>0.000000</td>\n",
       "      <td>0.000000</td>\n",
       "      <td>0.142857</td>\n",
       "    </tr>\n",
       "    <tr>\n",
       "      <th>791</th>\n",
       "      <td>White Latin American \\nYou think that I'm stupid, right ?. I already use the discucion of the page White Latin American, and to this day there is still no answers. I know that you and other users have an alliance with the user Bleckter against me, and I will discover, and when I do I will bring to light. I'm watching all.</td>\n",
       "      <td>-2.000000</td>\n",
       "      <td>0.000000</td>\n",
       "      <td>0.571429</td>\n",
       "      <td>0.000000</td>\n",
       "      <td>0.571429</td>\n",
       "      <td>0.142857</td>\n",
       "    </tr>\n",
       "    <tr>\n",
       "      <th>48</th>\n",
       "      <td>and I'm very arrogant, I think my opinion is superior to everyone else's and love to suck dick</td>\n",
       "      <td>-1.857143</td>\n",
       "      <td>0.428571</td>\n",
       "      <td>0.714286</td>\n",
       "      <td>0.000000</td>\n",
       "      <td>0.000000</td>\n",
       "      <td>0.000000</td>\n",
       "    </tr>\n",
       "    <tr>\n",
       "      <th>642</th>\n",
       "      <td>ArbCom draft \\n\\nDoing this here so people don't think I've been ignoring everything that's going on like the spiteful asshole a lot people seem to think I am. Diffs are in short supply at present for the latter half of the dispute, but will be coming soon.\\n\\n*\\n\\nI first encountered Catflap08 on Talk:Kenji Miyazawa. I was reading about an author I like and noticed that the lead described him as a \"nationalist\", despite the cited source not doing so. I removed it and posted a comment explaining my removal on the talk page. At this point I had no idea who had added the epithet, when, or why, and I didn't care. Catflap08 immediately reverted me and replied on the talk page, ignoring my rationale and merely saying that because a source was cited, even though that source didn't verify the claim being made, the claim could not be removed. When I tried discussing on the talk page, he took this content dispute to AN.\\n\\nAfter he was told that article content disputes should be discussed...</td>\n",
       "      <td>-1.857143</td>\n",
       "      <td>0.142857</td>\n",
       "      <td>0.571429</td>\n",
       "      <td>0.142857</td>\n",
       "      <td>0.285714</td>\n",
       "      <td>0.428571</td>\n",
       "    </tr>\n",
       "  </tbody>\n",
       "</table>\n",
       "</div>"
      ],
      "text/plain": [
       "                                                                                                                                                                                                                                                                                                                                                                                                                                                                                                                                                                                                                                                                                                                                                                                                                                                                                                                                                                                                                                  clean_diff  \\\n",
       "746                                                                                                                                                                                                                                                                                                                                                                                                                                                                                                                                                                                                                                                                                                                                                                                                                                                                                                                                                                                                       I will fuck the whole wikipedia!!!   \n",
       "450                                                                                                                                                                                                                                                                                                                                                                                                                                                                                                                                                                                                                                                                                                                                                                                                                                                                                                                                                                                           Hi \\n\\nIm a fucking bitch.\\n\\n50.180.208.181     \n",
       "791                                                                                                                                                                                                                                                                                                                                                                                                                                                                                                                                                                                                                                                                                                   White Latin American \\nYou think that I'm stupid, right ?. I already use the discucion of the page White Latin American, and to this day there is still no answers. I know that you and other users have an alliance with the user Bleckter against me, and I will discover, and when I do I will bring to light. I'm watching all.      \n",
       "48                                                                                                                                                                                                                                                                                                                                                                                                                                                                                                                                                                                                                                                                                                                                                                                                                                                                                                                                            and I'm very arrogant, I think my opinion is superior to everyone else's and love to suck dick   \n",
       "642   ArbCom draft \\n\\nDoing this here so people don't think I've been ignoring everything that's going on like the spiteful asshole a lot people seem to think I am. Diffs are in short supply at present for the latter half of the dispute, but will be coming soon.\\n\\n*\\n\\nI first encountered Catflap08 on Talk:Kenji Miyazawa. I was reading about an author I like and noticed that the lead described him as a \"nationalist\", despite the cited source not doing so. I removed it and posted a comment explaining my removal on the talk page. At this point I had no idea who had added the epithet, when, or why, and I didn't care. Catflap08 immediately reverted me and replied on the talk page, ignoring my rationale and merely saying that because a source was cited, even though that source didn't verify the claim being made, the claim could not be removed. When I tried discussing on the talk page, he took this content dispute to AN.\\n\\nAfter he was told that article content disputes should be discussed...   \n",
       "\n",
       "     aggression_score  not_attack     other   quoting  recipient  third_party  \n",
       "746         -2.285714    0.000000  0.571429  0.000000   0.285714     0.428571  \n",
       "450         -2.000000    0.142857  0.714286  0.000000   0.000000     0.142857  \n",
       "791         -2.000000    0.000000  0.571429  0.000000   0.571429     0.142857  \n",
       "48          -1.857143    0.428571  0.714286  0.000000   0.000000     0.000000  \n",
       "642         -1.857143    0.142857  0.571429  0.142857   0.285714     0.428571  "
      ]
     },
     "execution_count": 83,
     "metadata": {},
     "output_type": "execute_result"
    }
   ],
   "source": [
    "# Most aggressive comments which are labelled 'Another kind of attack or harassment.'\n",
    "sorted_comments(grouped_dat[grouped_dat['other'] > 0.5], 'aggression_score', 0, 5)"
   ]
  },
  {
   "cell_type": "code",
   "execution_count": 84,
   "metadata": {
    "collapsed": false,
    "scrolled": true
   },
   "outputs": [
    {
     "data": {
      "text/html": [
       "<div>\n",
       "<table border=\"1\" class=\"dataframe\">\n",
       "  <thead>\n",
       "    <tr style=\"text-align: right;\">\n",
       "      <th></th>\n",
       "      <th>clean_diff</th>\n",
       "      <th>aggression_score</th>\n",
       "      <th>not_attack</th>\n",
       "      <th>other</th>\n",
       "      <th>quoting</th>\n",
       "      <th>recipient</th>\n",
       "      <th>third_party</th>\n",
       "    </tr>\n",
       "  </thead>\n",
       "  <tbody>\n",
       "    <tr>\n",
       "      <th>768</th>\n",
       "      <td>This user enjoys sucking his father's shaft</td>\n",
       "      <td>-2.857143</td>\n",
       "      <td>0</td>\n",
       "      <td>0.000000</td>\n",
       "      <td>0</td>\n",
       "      <td>0.142857</td>\n",
       "      <td>1.000000</td>\n",
       "    </tr>\n",
       "    <tr>\n",
       "      <th>591</th>\n",
       "      <td>Ronald McDonald is gay and he has a fart fetish \\n\\nRonald McDonald is going to rape you in the ass with his massive penis and then he is going to fart on your face because he is gay 219.127.83.147</td>\n",
       "      <td>-2.714286</td>\n",
       "      <td>0</td>\n",
       "      <td>0.000000</td>\n",
       "      <td>0</td>\n",
       "      <td>0.714286</td>\n",
       "      <td>0.571429</td>\n",
       "    </tr>\n",
       "    <tr>\n",
       "      <th>385</th>\n",
       "      <td>The Graceful Slick....\\nIs non other than an ungraceful dick!81.153.48.177  23:19, 30 May 2015 (UTC)</td>\n",
       "      <td>-2.571429</td>\n",
       "      <td>0</td>\n",
       "      <td>0.142857</td>\n",
       "      <td>0</td>\n",
       "      <td>0.428571</td>\n",
       "      <td>0.571429</td>\n",
       "    </tr>\n",
       "    <tr>\n",
       "      <th>370</th>\n",
       "      <td>The Graceful Slick....\\nIs non other than an ungraceful dick!81.131.78.39  22:55, 30 May 2015 (UTC)</td>\n",
       "      <td>-2.571429</td>\n",
       "      <td>0</td>\n",
       "      <td>0.285714</td>\n",
       "      <td>0</td>\n",
       "      <td>0.285714</td>\n",
       "      <td>0.571429</td>\n",
       "    </tr>\n",
       "    <tr>\n",
       "      <th>311</th>\n",
       "      <td>Verdy_p is a brainless mongoloid with an arrogance stick up his rear end.</td>\n",
       "      <td>-2.571429</td>\n",
       "      <td>0</td>\n",
       "      <td>0.000000</td>\n",
       "      <td>0</td>\n",
       "      <td>0.285714</td>\n",
       "      <td>0.857143</td>\n",
       "    </tr>\n",
       "  </tbody>\n",
       "</table>\n",
       "</div>"
      ],
      "text/plain": [
       "                                                                                                                                                                                                   clean_diff  \\\n",
       "768                                                                                                                                                               This user enjoys sucking his father's shaft   \n",
       "591   Ronald McDonald is gay and he has a fart fetish \\n\\nRonald McDonald is going to rape you in the ass with his massive penis and then he is going to fart on your face because he is gay 219.127.83.147     \n",
       "385                                                                                                      The Graceful Slick....\\nIs non other than an ungraceful dick!81.153.48.177  23:19, 30 May 2015 (UTC)   \n",
       "370                                                                                                       The Graceful Slick....\\nIs non other than an ungraceful dick!81.131.78.39  22:55, 30 May 2015 (UTC)   \n",
       "311                                                                                                                                 Verdy_p is a brainless mongoloid with an arrogance stick up his rear end.   \n",
       "\n",
       "     aggression_score  not_attack     other  quoting  recipient  third_party  \n",
       "768         -2.857143           0  0.000000        0   0.142857     1.000000  \n",
       "591         -2.714286           0  0.000000        0   0.714286     0.571429  \n",
       "385         -2.571429           0  0.142857        0   0.428571     0.571429  \n",
       "370         -2.571429           0  0.285714        0   0.285714     0.571429  \n",
       "311         -2.571429           0  0.000000        0   0.285714     0.857143  "
      ]
     },
     "execution_count": 84,
     "metadata": {},
     "output_type": "execute_result"
    }
   ],
   "source": [
    "# Most aggressive comments which are labelled 'Targeted at a third party (i.e. Bob sucks).'\n",
    "sorted_comments(grouped_dat[grouped_dat['third_party'] > 0.5], 'aggression_score', 0, 5)"
   ]
  },
  {
   "cell_type": "code",
   "execution_count": 85,
   "metadata": {
    "collapsed": false
   },
   "outputs": [
    {
     "data": {
      "text/html": [
       "<div>\n",
       "<table border=\"1\" class=\"dataframe\">\n",
       "  <thead>\n",
       "    <tr style=\"text-align: right;\">\n",
       "      <th></th>\n",
       "      <th>clean_diff</th>\n",
       "      <th>aggression_score</th>\n",
       "      <th>not_attack</th>\n",
       "      <th>other</th>\n",
       "      <th>quoting</th>\n",
       "      <th>recipient</th>\n",
       "      <th>third_party</th>\n",
       "    </tr>\n",
       "  </thead>\n",
       "  <tbody>\n",
       "    <tr>\n",
       "      <th>767</th>\n",
       "      <td>Suspected sockpuppetry \\n\\nI say, do you think that there is some bizarre, yet subtle sockpuppetry going on over there, right at the bottom ?! More likely closer to you than to me, if you get my gist! Anyway, thank you! Ta-ra!</td>\n",
       "      <td>0.142857</td>\n",
       "      <td>0.428571</td>\n",
       "      <td>0.000000</td>\n",
       "      <td>0</td>\n",
       "      <td>0.428571</td>\n",
       "      <td>0.142857</td>\n",
       "    </tr>\n",
       "    <tr>\n",
       "      <th>310</th>\n",
       "      <td>You need to say sorry to all the fellow Wikipedians you offended! 207.62.246.166  22:13, 9 May 2015 (UTC)</td>\n",
       "      <td>-0.142857</td>\n",
       "      <td>0.428571</td>\n",
       "      <td>0.000000</td>\n",
       "      <td>0</td>\n",
       "      <td>0.571429</td>\n",
       "      <td>0.000000</td>\n",
       "    </tr>\n",
       "    <tr>\n",
       "      <th>941</th>\n",
       "      <td>I am sorry Jim but we are not done until the issue is resolved. \\n\\n Already your bogus and erroneous accusation has caused me problems, wasted energy and bad will on other topic. You've been around here long enough to know how the system works.\\n\\n In each of the edits your refer to, the content being replaced by others including yourself was a 99% duplication of what was already and immediately above it. If anyone you should have been accusing the others.\\n\\n So, my position is the same. Apologise for wasting my time and creating this conflict, and erase your bogus and erroneous accusation from my page.\\n\\n Thank you.</td>\n",
       "      <td>-0.285714</td>\n",
       "      <td>0.428571</td>\n",
       "      <td>0.142857</td>\n",
       "      <td>0</td>\n",
       "      <td>0.428571</td>\n",
       "      <td>0.000000</td>\n",
       "    </tr>\n",
       "    <tr>\n",
       "      <th>10</th>\n",
       "      <td>Gourmet\\nYou call it vandalism, I call it a first draft toward a more truthful description of \\nwhy the magazine was closed.  Certainly accepting the claim of Conde Nast as 'truth' is\\nanti-NPOV.\\n\\nIgnoring what is a vital fact, the details of how the magazine was destroyed by hacks, is\\nfar from NPOV.  Please do not revert edits with spurious claims of vandalism.\\n</td>\n",
       "      <td>-0.285714</td>\n",
       "      <td>0.428571</td>\n",
       "      <td>0.000000</td>\n",
       "      <td>0</td>\n",
       "      <td>0.571429</td>\n",
       "      <td>0.000000</td>\n",
       "    </tr>\n",
       "    <tr>\n",
       "      <th>155</th>\n",
       "      <td>Mindless behavior  \\n\\nI would just like to inform you that your information on mindless behavior is invalid. All of it. Prod and roc ain't in there anymore and never will be. Please make sure your facts are valid before you go making changes. You made this \"mindless behavior\" search very inaccurate and its very irritating. \\nThank you. \\n\\n       \\n        Supnigha</td>\n",
       "      <td>-0.285714</td>\n",
       "      <td>0.428571</td>\n",
       "      <td>0.000000</td>\n",
       "      <td>0</td>\n",
       "      <td>0.571429</td>\n",
       "      <td>0.000000</td>\n",
       "    </tr>\n",
       "  </tbody>\n",
       "</table>\n",
       "</div>"
      ],
      "text/plain": [
       "                                                                                                                                                                                                                                                                                                                                                                                                                                                                                                                                                                                                                                                  clean_diff  \\\n",
       "767                                                                                                                                                                                                                                                                                                                                                                                                                   Suspected sockpuppetry \\n\\nI say, do you think that there is some bizarre, yet subtle sockpuppetry going on over there, right at the bottom ?! More likely closer to you than to me, if you get my gist! Anyway, thank you! Ta-ra!       \n",
       "310                                                                                                                                                                                                                                                                                                                                                                                                                                                                                                                                                You need to say sorry to all the fellow Wikipedians you offended! 207.62.246.166  22:13, 9 May 2015 (UTC)   \n",
       "941   I am sorry Jim but we are not done until the issue is resolved. \\n\\n Already your bogus and erroneous accusation has caused me problems, wasted energy and bad will on other topic. You've been around here long enough to know how the system works.\\n\\n In each of the edits your refer to, the content being replaced by others including yourself was a 99% duplication of what was already and immediately above it. If anyone you should have been accusing the others.\\n\\n So, my position is the same. Apologise for wasting my time and creating this conflict, and erase your bogus and erroneous accusation from my page.\\n\\n Thank you.      \n",
       "10                                                                                                                                                                                                                                                                       Gourmet\\nYou call it vandalism, I call it a first draft toward a more truthful description of \\nwhy the magazine was closed.  Certainly accepting the claim of Conde Nast as 'truth' is\\nanti-NPOV.\\n\\nIgnoring what is a vital fact, the details of how the magazine was destroyed by hacks, is\\nfar from NPOV.  Please do not revert edits with spurious claims of vandalism.\\n     \n",
       "155                                                                                                                                                                                                                                                                         Mindless behavior  \\n\\nI would just like to inform you that your information on mindless behavior is invalid. All of it. Prod and roc ain't in there anymore and never will be. Please make sure your facts are valid before you go making changes. You made this \"mindless behavior\" search very inaccurate and its very irritating. \\nThank you. \\n\\n       \\n        Supnigha   \n",
       "\n",
       "     aggression_score  not_attack     other  quoting  recipient  third_party  \n",
       "767          0.142857    0.428571  0.000000        0   0.428571     0.142857  \n",
       "310         -0.142857    0.428571  0.000000        0   0.571429     0.000000  \n",
       "941         -0.285714    0.428571  0.142857        0   0.428571     0.000000  \n",
       "10          -0.285714    0.428571  0.000000        0   0.571429     0.000000  \n",
       "155         -0.285714    0.428571  0.000000        0   0.571429     0.000000  "
      ]
     },
     "execution_count": 85,
     "metadata": {},
     "output_type": "execute_result"
    }
   ],
   "source": [
    "# Least aggressive comments which are NOT labelled 'This is not an attack or harassment.'\n",
    "sorted_comments(grouped_dat[grouped_dat['not_attack'] < 0.5], 'aggression_score', 0, 5, False)"
   ]
  },
  {
   "cell_type": "markdown",
   "metadata": {
    "collapsed": true
   },
   "source": [
    "### Inter-Annotator Agreement"
   ]
  },
  {
   "cell_type": "markdown",
   "metadata": {},
   "source": [
    "Below, we compute the Krippendorf's Alpha, which is a measure of the inter-annotator agreement of our Crowdflower responses. We achieve an Alpha value of 0.668 on our dataset, which is a relatively good level of inter-annotator agreement for this type of subjective inquiry."
   ]
  },
  {
   "cell_type": "code",
   "execution_count": 86,
   "metadata": {
    "collapsed": true
   },
   "outputs": [],
   "source": [
    "def add_row_to_coincidence(o, row, columns):\n",
    "    m_u = row.sum(1)\n",
    "    for i in columns:\n",
    "        for j in columns:\n",
    "            if i == j:\n",
    "                o[i][j] = o[i][j] + row[i]*(row[i]-1)/(m_u-1)\n",
    "            else:\n",
    "                o[i][j] = o[i][j] + row[i]*row[j]/(m_u-1)\n",
    "    return o"
   ]
  },
  {
   "cell_type": "code",
   "execution_count": 87,
   "metadata": {
    "collapsed": false
   },
   "outputs": [],
   "source": [
    "def make_coincidence_matrix(df, columns):\n",
    "    df = df[columns]\n",
    "    n = df.shape[0]\n",
    "    num_cols = len(columns)\n",
    "    o = pd.DataFrame(np.zeros((num_cols,num_cols)), index = columns, columns=columns)\n",
    "    for i in xrange(n):\n",
    "        o = add_row_to_coincidence(o, df[i:i+1], columns)\n",
    "    return o"
   ]
  },
  {
   "cell_type": "code",
   "execution_count": 88,
   "metadata": {
    "collapsed": true
   },
   "outputs": [],
   "source": [
    "def binary_distance(i,j):\n",
    "    return i!=j\n",
    "\n",
    "def interval_distance(i,j):\n",
    "    return (int(i)-int(j))**2"
   ]
  },
  {
   "cell_type": "code",
   "execution_count": 89,
   "metadata": {
    "collapsed": true
   },
   "outputs": [],
   "source": [
    "def e(n, i, j):\n",
    "    if i == j:\n",
    "        return n[i]*(n[i]-1)/sum(n)-1\n",
    "    else:\n",
    "        return n[i]*n[j]/sum(n)-1\n",
    "\n",
    "def D_e(o, columns, distance):\n",
    "    n = o.sum(1)\n",
    "    output = 0\n",
    "    for i in columns:\n",
    "        for j in columns:\n",
    "            output = output + e(n,i,j)*distance(i,j)\n",
    "    return output\n",
    "\n",
    "def D_o(o, columns, distance):\n",
    "    output = 0\n",
    "    for i in columns:\n",
    "        for j in columns:\n",
    "            output = output + o[i][j]*distance(i,j)\n",
    "    return output"
   ]
  },
  {
   "cell_type": "code",
   "execution_count": 90,
   "metadata": {
    "collapsed": true
   },
   "outputs": [],
   "source": [
    "def Krippendorf_alpha(df, columns, distance = binary_distance, o = None):\n",
    "    if o is None:\n",
    "        o = make_coincidence_matrix(df, columns)\n",
    "    d_o = D_o(o, columns, distance)\n",
    "    d_e = D_e(o, columns, distance)\n",
    "    return (1 - d_o/d_e)"
   ]
  },
  {
   "cell_type": "code",
   "execution_count": 91,
   "metadata": {
    "collapsed": false,
    "scrolled": false
   },
   "outputs": [],
   "source": [
    "o = make_coincidence_matrix(grouped_dat, aggressive_columns)"
   ]
  },
  {
   "cell_type": "code",
   "execution_count": 92,
   "metadata": {
    "collapsed": false
   },
   "outputs": [
    {
     "name": "stdout",
     "output_type": "stream",
     "text": [
      "Krippendorf's Alpha: \n"
     ]
    },
    {
     "data": {
      "text/plain": [
       "0.66807203303113294"
      ]
     },
     "execution_count": 92,
     "metadata": {},
     "output_type": "execute_result"
    }
   ],
   "source": [
    "print \"Krippendorf's Alpha: \"\n",
    "Krippendorf_alpha(grouped_dat, aggressive_columns, distance = interval_distance, o = o)"
   ]
  },
  {
   "cell_type": "code",
   "execution_count": 93,
   "metadata": {
    "collapsed": false
   },
   "outputs": [
    {
     "data": {
      "text/plain": [
       "0.53858486537662187"
      ]
     },
     "execution_count": 93,
     "metadata": {},
     "output_type": "execute_result"
    }
   ],
   "source": [
    "Krippendorf_alpha(grouped_dat, ['not_attack_0', 'not_attack_1'])"
   ]
  },
  {
   "cell_type": "code",
   "execution_count": 94,
   "metadata": {
    "collapsed": false,
    "scrolled": true
   },
   "outputs": [
    {
     "data": {
      "text/plain": [
       "Index([u'rev_id', u'third_party', u'not_attack_1', u'not_attack', u'na',\n",
       "       u'quoting', u'aggression_score', u'clean_diff', u'not_attack_0', u'1',\n",
       "       u'0', u'3', u'other', u'-1', u'-3', u'-2', u'2', u'_id', u'recipient'],\n",
       "      dtype='object')"
      ]
     },
     "execution_count": 94,
     "metadata": {},
     "output_type": "execute_result"
    }
   ],
   "source": [
    "grouped_dat.columns"
   ]
  },
  {
   "cell_type": "code",
   "execution_count": 95,
   "metadata": {
    "collapsed": true
   },
   "outputs": [
    {
     "data": {
      "text/plain": [
       "0      0.857143\n",
       "1      1.000000\n",
       "2      1.000000\n",
       "3      0.857143\n",
       "4      0.428571\n",
       "5      0.428571\n",
       "6      1.000000\n",
       "7      1.000000\n",
       "8      1.000000\n",
       "9      1.000000\n",
       "10     0.428571\n",
       "11     0.125000\n",
       "12     1.000000\n",
       "13     0.428571\n",
       "14     0.875000\n",
       "15     0.571429\n",
       "16     0.857143\n",
       "17     1.000000\n",
       "18     1.000000\n",
       "19     1.000000\n",
       "20     0.571429\n",
       "21     0.888889\n",
       "22     0.714286\n",
       "23     0.857143\n",
       "24     1.000000\n",
       "25     1.000000\n",
       "26     0.571429\n",
       "27     1.000000\n",
       "28     0.857143\n",
       "29     1.000000\n",
       "         ...   \n",
       "945    0.285714\n",
       "946    0.714286\n",
       "947    0.857143\n",
       "948    1.000000\n",
       "949    0.428571\n",
       "950    1.000000\n",
       "951    0.714286\n",
       "952    0.285714\n",
       "953    0.250000\n",
       "954    0.714286\n",
       "955    0.571429\n",
       "956    0.500000\n",
       "957    0.428571\n",
       "958    0.714286\n",
       "959    0.714286\n",
       "960    0.571429\n",
       "961    1.000000\n",
       "962    0.857143\n",
       "963    1.000000\n",
       "964    0.857143\n",
       "965    1.000000\n",
       "966    0.285714\n",
       "967    0.285714\n",
       "968    0.714286\n",
       "969    0.000000\n",
       "970    0.142857\n",
       "971    0.000000\n",
       "972    0.000000\n",
       "973    0.000000\n",
       "974    0.714286\n",
       "Name: not_attack, dtype: float64"
      ]
     },
     "execution_count": 95,
     "metadata": {},
     "output_type": "execute_result"
    }
   ],
   "source": [
    "grouped_dat['not_attack']"
   ]
  },
  {
   "cell_type": "code",
   "execution_count": null,
   "metadata": {
    "collapsed": true
   },
   "outputs": [],
   "source": []
  }
 ],
 "metadata": {
  "kernelspec": {
   "display_name": "Python 2",
   "language": "python",
   "name": "python2"
  },
  "language_info": {
   "codemirror_mode": {
    "name": "ipython",
    "version": 2
   },
   "file_extension": ".py",
   "mimetype": "text/x-python",
   "name": "python",
   "nbconvert_exporter": "python",
   "pygments_lexer": "ipython2",
   "version": "2.7.11"
  }
 },
 "nbformat": 4,
 "nbformat_minor": 0
}
