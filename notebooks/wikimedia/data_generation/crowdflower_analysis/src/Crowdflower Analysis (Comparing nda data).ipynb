{
 "cells": [
  {
   "cell_type": "markdown",
   "metadata": {},
   "source": [
    "### Introduction"
   ]
  },
  {
   "cell_type": "markdown",
   "metadata": {},
   "source": [
    "...\n",
    "\n",
    "On Crowdflower, each revision is rated 10 times. The raters are given three questions:\n",
    "\n",
    "1. Is this comment not English or not human readable?\n",
    "    * Column 'na'\n",
    "2. How aggressive or friendly is the tone of this comment? \n",
    "    * Column 'how_aggressive_or_friendly_is_the_tone_of_this_comment'\n",
    "    * Ranges from '---' (Very Aggressive) to '+++' (Very Friendly)\n",
    "3. Does the comment contain a personal attack or harassment? Please mark all that apply:\n",
    "    * Column 'is_harassment_or_attack'\n",
    "    * Users can specify that the attack is:\n",
    "        * Targeted at the recipient of the message (i.e. you suck). ('recipent')\n",
    "        * Targeted at a third party (i.e. Bob sucks). ('third_party')\n",
    "        * Being reported or quoted (i.e. Bob said Henri sucks). ('quoting')\n",
    "        * Another kind of attack or harassment. ('other')\n",
    "        * This is not an attack or harassment. ('not_attack')\n",
    "    \n"
   ]
  },
  {
   "cell_type": "markdown",
   "metadata": {},
   "source": [
    "### Loading packages and data"
   ]
  },
  {
   "cell_type": "code",
   "execution_count": 1,
   "metadata": {
    "collapsed": false
   },
   "outputs": [],
   "source": [
    "%load_ext autoreload\n",
    "%autoreload 2\n",
    "%matplotlib inline\n",
    "from __future__ import division\n",
    "import pandas as pd\n",
    "import numpy as np\n",
    "import matplotlib.pyplot as plt\n",
    "from crowdflower_analysis import *\n",
    "from krippendorf_alpha import *\n",
    "from krippendorf_alpha_grrrr import *"
   ]
  },
  {
   "cell_type": "code",
   "execution_count": 2,
   "metadata": {
    "collapsed": false
   },
   "outputs": [],
   "source": [
    "pd.set_option('display.max_colwidth', 1000)"
   ]
  },
  {
   "cell_type": "code",
   "execution_count": 3,
   "metadata": {
    "collapsed": true
   },
   "outputs": [],
   "source": [
    "dat = pd.read_csv('../../../../data/annotations/nda/nda onion layer 5 raters 10.csv')"
   ]
  },
  {
   "cell_type": "code",
   "execution_count": 4,
   "metadata": {
    "collapsed": false
   },
   "outputs": [],
   "source": [
    "dat = dat[dat['_golden'] == False]\n",
    "# Replace missing data with 'False'\n",
    "dat = dat.replace(np.nan, False, regex=True)\n",
    "attack_columns = ['not_attack', 'other', 'quoting', 'recipient', 'third_party']\n",
    "for col in attack_columns:\n",
    "    dat[col] = create_column_of_counts(dat['is_harassment_or_attack'], col)"
   ]
  },
  {
   "cell_type": "code",
   "execution_count": 5,
   "metadata": {
    "collapsed": false
   },
   "outputs": [],
   "source": [
    "chosen_ids = set(dat['rev_id'].unique()[0:1000])"
   ]
  },
  {
   "cell_type": "code",
   "execution_count": 6,
   "metadata": {
    "collapsed": true
   },
   "outputs": [],
   "source": [
    "sub_dat = dat[dat['rev_id'].apply(lambda x: x in chosen_ids)]"
   ]
  },
  {
   "cell_type": "code",
   "execution_count": 7,
   "metadata": {
    "collapsed": false
   },
   "outputs": [],
   "source": [
    "groups = sub_dat.groupby('_worker_id')"
   ]
  },
  {
   "cell_type": "code",
   "execution_count": 8,
   "metadata": {
    "collapsed": false
   },
   "outputs": [],
   "source": [
    "data = []\n",
    "for g in groups:\n",
    "    df =g[1][['rev_id', 'recipient']]\n",
    "    d ={}\n",
    "    for i, row in df.iterrows():\n",
    "        d[row['rev_id']] = row['recipient']\n",
    "    data.append(d)"
   ]
  },
  {
   "cell_type": "code",
   "execution_count": 9,
   "metadata": {
    "collapsed": false,
    "scrolled": true
   },
   "outputs": [
    {
     "data": {
      "text/plain": [
       "0.45132419296394688"
      ]
     },
     "execution_count": 9,
     "metadata": {},
     "output_type": "execute_result"
    }
   ],
   "source": [
    "krippendorff_alpha(data, metric = nominal_metric)"
   ]
  },
  {
   "cell_type": "code",
   "execution_count": 10,
   "metadata": {
    "collapsed": false
   },
   "outputs": [],
   "source": [
    "cleaned_df = clean_df(sub_dat)"
   ]
  },
  {
   "cell_type": "code",
   "execution_count": 11,
   "metadata": {
    "collapsed": false
   },
   "outputs": [
    {
     "data": {
      "text/plain": [
       "0.47022523695316831"
      ]
     },
     "execution_count": 11,
     "metadata": {},
     "output_type": "execute_result"
    }
   ],
   "source": [
    "Krippendorf_alpha(cleaned_df, ['not_attack_0', 'not_attack_1'])"
   ]
  },
  {
   "cell_type": "code",
   "execution_count": 12,
   "metadata": {
    "collapsed": false
   },
   "outputs": [
    {
     "data": {
      "text/plain": [
       "'\\nfor key in grouped_dat.keys():\\n    print \"Krippendorf\\'s Alpha (aggressiveness) for layer %s: \" % key\\n    print Krippendorf_alpha(grouped_dat[key], aggressive_columns, distance = interval_distance)\\n    print \"Krippendorf\\'s Alpha (attack) for layer %s: \" % key\\n    print Krippendorf_alpha(grouped_dat[key], [\\'not_attack_0\\', \\'not_attack_1\\'])\\n'"
      ]
     },
     "execution_count": 12,
     "metadata": {},
     "output_type": "execute_result"
    }
   ],
   "source": [
    "'''\n",
    "for key in grouped_dat.keys():\n",
    "    print \"Krippendorf's Alpha (aggressiveness) for layer %s: \" % key\n",
    "    print Krippendorf_alpha(grouped_dat[key], aggressive_columns, distance = interval_distance)\n",
    "    print \"Krippendorf's Alpha (attack) for layer %s: \" % key\n",
    "    print Krippendorf_alpha(grouped_dat[key], ['not_attack_0', 'not_attack_1'])\n",
    "'''"
   ]
  }
 ],
 "metadata": {
  "kernelspec": {
   "display_name": "Python 2",
   "language": "python",
   "name": "python2"
  },
  "language_info": {
   "codemirror_mode": {
    "name": "ipython",
    "version": 2
   },
   "file_extension": ".py",
   "mimetype": "text/x-python",
   "name": "python",
   "nbconvert_exporter": "python",
   "pygments_lexer": "ipython2",
   "version": "2.7.12"
  }
 },
 "nbformat": 4,
 "nbformat_minor": 0
}
